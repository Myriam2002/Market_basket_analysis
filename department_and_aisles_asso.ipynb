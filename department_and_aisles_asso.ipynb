{
 "cells": [
  {
   "attachments": {},
   "cell_type": "markdown",
   "metadata": {},
   "source": [
    "# <center>**<span style=\"color:#3f9ae0\">Department and Aisles Association</span>**</center>"
   ]
  },
  {
   "attachments": {},
   "cell_type": "markdown",
   "metadata": {},
   "source": [
    "We are trying to find department and aisles associations. Because we are trying to find the relationships between them."
   ]
  },
  {
   "cell_type": "code",
   "execution_count": 3,
   "metadata": {},
   "outputs": [],
   "source": [
    "import pandas as pd\n",
    "import plotly.express as px\n",
    "from mlxtend.frequent_patterns import fpgrowth\n",
    "from sklearn.preprocessing import OneHotEncoder\n",
    "from mlxtend.preprocessing import TransactionEncoder\n",
    "from mlxtend.frequent_patterns import association_rules\n",
    "from mlxtend.frequent_patterns import apriori\n",
    "import matplotlib.pyplot as plt\n",
    "from pyECLAT import ECLAT\n",
    "import time\n",
    "from pycaret.arules import *\n",
    "import plotly.express as px\n",
    "import numpy as np"
   ]
  },
  {
   "attachments": {},
   "cell_type": "markdown",
   "metadata": {},
   "source": [
    "## <span style=\"color:#6ebdfa\">Transforming the data</span>"
   ]
  },
  {
   "cell_type": "code",
   "execution_count": 4,
   "metadata": {},
   "outputs": [],
   "source": [
    "transaction_aisle = pd.read_csv('tran_aisels.csv')\n",
    "transaction_department = pd.read_csv('tran_department.csv')"
   ]
  },
  {
   "cell_type": "code",
   "execution_count": 5,
   "metadata": {},
   "outputs": [
    {
     "data": {
      "text/html": [
       "<div>\n",
       "<style scoped>\n",
       "    .dataframe tbody tr th:only-of-type {\n",
       "        vertical-align: middle;\n",
       "    }\n",
       "\n",
       "    .dataframe tbody tr th {\n",
       "        vertical-align: top;\n",
       "    }\n",
       "\n",
       "    .dataframe thead th {\n",
       "        text-align: right;\n",
       "    }\n",
       "</style>\n",
       "<table border=\"1\" class=\"dataframe\">\n",
       "  <thead>\n",
       "    <tr style=\"text-align: right;\">\n",
       "      <th></th>\n",
       "      <th>order_id</th>\n",
       "      <th>products</th>\n",
       "    </tr>\n",
       "  </thead>\n",
       "  <tbody>\n",
       "    <tr>\n",
       "      <th>0</th>\n",
       "      <td>3179</td>\n",
       "      <td>water seltzer sparkling water, energy granola ...</td>\n",
       "    </tr>\n",
       "    <tr>\n",
       "      <th>1</th>\n",
       "      <td>9180</td>\n",
       "      <td>other creams cheeses, canned jarred vegetables...</td>\n",
       "    </tr>\n",
       "    <tr>\n",
       "      <th>2</th>\n",
       "      <td>4827</td>\n",
       "      <td>soy lactosefree, fresh fruits, fresh fruits, f...</td>\n",
       "    </tr>\n",
       "    <tr>\n",
       "      <th>3</th>\n",
       "      <td>5933</td>\n",
       "      <td>fresh fruits, fresh fruits, fresh fruits, fres...</td>\n",
       "    </tr>\n",
       "    <tr>\n",
       "      <th>4</th>\n",
       "      <td>2021</td>\n",
       "      <td>fresh fruits, oils vinegars, fresh vegetables,...</td>\n",
       "    </tr>\n",
       "    <tr>\n",
       "      <th>...</th>\n",
       "      <td>...</td>\n",
       "      <td>...</td>\n",
       "    </tr>\n",
       "    <tr>\n",
       "      <th>131204</th>\n",
       "      <td>1271911</td>\n",
       "      <td>candy chocolate, tea</td>\n",
       "    </tr>\n",
       "    <tr>\n",
       "      <th>131205</th>\n",
       "      <td>2694840</td>\n",
       "      <td>fresh fruits, energy granola bars, ice cream i...</td>\n",
       "    </tr>\n",
       "    <tr>\n",
       "      <th>131206</th>\n",
       "      <td>2487952</td>\n",
       "      <td>candy chocolate, eggs, juice nectars, fresh fr...</td>\n",
       "    </tr>\n",
       "    <tr>\n",
       "      <th>131207</th>\n",
       "      <td>1032306</td>\n",
       "      <td>nuts seeds dried fruit, packaged cheese, candy...</td>\n",
       "    </tr>\n",
       "    <tr>\n",
       "      <th>131208</th>\n",
       "      <td>1313098</td>\n",
       "      <td>cookies cakes, water seltzer sparkling water, ...</td>\n",
       "    </tr>\n",
       "  </tbody>\n",
       "</table>\n",
       "<p>131209 rows × 2 columns</p>\n",
       "</div>"
      ],
      "text/plain": [
       "        order_id                                           products\n",
       "0           3179  water seltzer sparkling water, energy granola ...\n",
       "1           9180  other creams cheeses, canned jarred vegetables...\n",
       "2           4827  soy lactosefree, fresh fruits, fresh fruits, f...\n",
       "3           5933  fresh fruits, fresh fruits, fresh fruits, fres...\n",
       "4           2021  fresh fruits, oils vinegars, fresh vegetables,...\n",
       "...          ...                                                ...\n",
       "131204   1271911                               candy chocolate, tea\n",
       "131205   2694840  fresh fruits, energy granola bars, ice cream i...\n",
       "131206   2487952  candy chocolate, eggs, juice nectars, fresh fr...\n",
       "131207   1032306  nuts seeds dried fruit, packaged cheese, candy...\n",
       "131208   1313098  cookies cakes, water seltzer sparkling water, ...\n",
       "\n",
       "[131209 rows x 2 columns]"
      ]
     },
     "execution_count": 5,
     "metadata": {},
     "output_type": "execute_result"
    }
   ],
   "source": [
    "transaction_aisle"
   ]
  },
  {
   "cell_type": "code",
   "execution_count": 6,
   "metadata": {},
   "outputs": [
    {
     "data": {
      "text/html": [
       "<div>\n",
       "<style scoped>\n",
       "    .dataframe tbody tr th:only-of-type {\n",
       "        vertical-align: middle;\n",
       "    }\n",
       "\n",
       "    .dataframe tbody tr th {\n",
       "        vertical-align: top;\n",
       "    }\n",
       "\n",
       "    .dataframe thead th {\n",
       "        text-align: right;\n",
       "    }\n",
       "</style>\n",
       "<table border=\"1\" class=\"dataframe\">\n",
       "  <thead>\n",
       "    <tr style=\"text-align: right;\">\n",
       "      <th></th>\n",
       "      <th>order_id</th>\n",
       "      <th>products</th>\n",
       "    </tr>\n",
       "  </thead>\n",
       "  <tbody>\n",
       "    <tr>\n",
       "      <th>0</th>\n",
       "      <td>3179</td>\n",
       "      <td>beverages, snacks, snacks, beverages, snacks, ...</td>\n",
       "    </tr>\n",
       "    <tr>\n",
       "      <th>1</th>\n",
       "      <td>9180</td>\n",
       "      <td>dairy eggs, canned goods, canned goods</td>\n",
       "    </tr>\n",
       "    <tr>\n",
       "      <th>2</th>\n",
       "      <td>4827</td>\n",
       "      <td>dairy eggs, produce, produce, produce, frozen,...</td>\n",
       "    </tr>\n",
       "    <tr>\n",
       "      <th>3</th>\n",
       "      <td>5933</td>\n",
       "      <td>produce, produce, produce, produce, produce, p...</td>\n",
       "    </tr>\n",
       "    <tr>\n",
       "      <th>4</th>\n",
       "      <td>2021</td>\n",
       "      <td>produce, pantry, produce, produce, produce, da...</td>\n",
       "    </tr>\n",
       "    <tr>\n",
       "      <th>...</th>\n",
       "      <td>...</td>\n",
       "      <td>...</td>\n",
       "    </tr>\n",
       "    <tr>\n",
       "      <th>131204</th>\n",
       "      <td>1271911</td>\n",
       "      <td>snacks, beverages</td>\n",
       "    </tr>\n",
       "    <tr>\n",
       "      <th>131205</th>\n",
       "      <td>2694840</td>\n",
       "      <td>produce, snacks, frozen, frozen, dairy eggs, d...</td>\n",
       "    </tr>\n",
       "    <tr>\n",
       "      <th>131206</th>\n",
       "      <td>2487952</td>\n",
       "      <td>snacks, dairy eggs, beverages, produce, frozen...</td>\n",
       "    </tr>\n",
       "    <tr>\n",
       "      <th>131207</th>\n",
       "      <td>1032306</td>\n",
       "      <td>snacks, dairy eggs, snacks, snacks, produce, d...</td>\n",
       "    </tr>\n",
       "    <tr>\n",
       "      <th>131208</th>\n",
       "      <td>1313098</td>\n",
       "      <td>snacks, beverages, beverages, beverages, bever...</td>\n",
       "    </tr>\n",
       "  </tbody>\n",
       "</table>\n",
       "<p>131209 rows × 2 columns</p>\n",
       "</div>"
      ],
      "text/plain": [
       "        order_id                                           products\n",
       "0           3179  beverages, snacks, snacks, beverages, snacks, ...\n",
       "1           9180             dairy eggs, canned goods, canned goods\n",
       "2           4827  dairy eggs, produce, produce, produce, frozen,...\n",
       "3           5933  produce, produce, produce, produce, produce, p...\n",
       "4           2021  produce, pantry, produce, produce, produce, da...\n",
       "...          ...                                                ...\n",
       "131204   1271911                                  snacks, beverages\n",
       "131205   2694840  produce, snacks, frozen, frozen, dairy eggs, d...\n",
       "131206   2487952  snacks, dairy eggs, beverages, produce, frozen...\n",
       "131207   1032306  snacks, dairy eggs, snacks, snacks, produce, d...\n",
       "131208   1313098  snacks, beverages, beverages, beverages, bever...\n",
       "\n",
       "[131209 rows x 2 columns]"
      ]
     },
     "execution_count": 6,
     "metadata": {},
     "output_type": "execute_result"
    }
   ],
   "source": [
    "transaction_department"
   ]
  },
  {
   "attachments": {},
   "cell_type": "markdown",
   "metadata": {},
   "source": [
    "## <span style=\"color:#6ebdfa\">Association Rules for Aisles</span>"
   ]
  },
  {
   "cell_type": "code",
   "execution_count": 7,
   "metadata": {},
   "outputs": [],
   "source": [
    "# Create an empty list to store the column values\n",
    "column_list = []\n",
    "\n",
    "# Loop over the values in the 'column_name' column and add them to the list\n",
    "for value in transaction_aisle['products']:\n",
    "    my_list = value.split(\",\")\n",
    "    column_list.append(my_list)"
   ]
  },
  {
   "cell_type": "code",
   "execution_count": 8,
   "metadata": {},
   "outputs": [
    {
     "data": {
      "text/html": [
       "<div>\n",
       "<style scoped>\n",
       "    .dataframe tbody tr th:only-of-type {\n",
       "        vertical-align: middle;\n",
       "    }\n",
       "\n",
       "    .dataframe tbody tr th {\n",
       "        vertical-align: top;\n",
       "    }\n",
       "\n",
       "    .dataframe thead th {\n",
       "        text-align: right;\n",
       "    }\n",
       "</style>\n",
       "<table border=\"1\" class=\"dataframe\">\n",
       "  <thead>\n",
       "    <tr style=\"text-align: right;\">\n",
       "      <th></th>\n",
       "      <th>air fresheners candles</th>\n",
       "      <th>asian foods</th>\n",
       "      <th>baby accessories</th>\n",
       "      <th>baby bath body care</th>\n",
       "      <th>baby food formula</th>\n",
       "      <th>bakery desserts</th>\n",
       "      <th>baking ingredients</th>\n",
       "      <th>baking supplies decor</th>\n",
       "      <th>beauty</th>\n",
       "      <th>beers coolers</th>\n",
       "      <th>...</th>\n",
       "      <th>spreads</th>\n",
       "      <th>tea</th>\n",
       "      <th>tofu meat alternatives</th>\n",
       "      <th>tortillas flat bread</th>\n",
       "      <th>trail mix snack mix</th>\n",
       "      <th>trash bags liners</th>\n",
       "      <th>vitamins supplements</th>\n",
       "      <th>water seltzer sparkling water</th>\n",
       "      <th>white wines</th>\n",
       "      <th>yogurt</th>\n",
       "    </tr>\n",
       "  </thead>\n",
       "  <tbody>\n",
       "    <tr>\n",
       "      <th>0</th>\n",
       "      <td>False</td>\n",
       "      <td>False</td>\n",
       "      <td>False</td>\n",
       "      <td>False</td>\n",
       "      <td>False</td>\n",
       "      <td>False</td>\n",
       "      <td>False</td>\n",
       "      <td>False</td>\n",
       "      <td>False</td>\n",
       "      <td>False</td>\n",
       "      <td>...</td>\n",
       "      <td>False</td>\n",
       "      <td>False</td>\n",
       "      <td>False</td>\n",
       "      <td>False</td>\n",
       "      <td>False</td>\n",
       "      <td>False</td>\n",
       "      <td>False</td>\n",
       "      <td>True</td>\n",
       "      <td>False</td>\n",
       "      <td>False</td>\n",
       "    </tr>\n",
       "    <tr>\n",
       "      <th>1</th>\n",
       "      <td>False</td>\n",
       "      <td>False</td>\n",
       "      <td>False</td>\n",
       "      <td>False</td>\n",
       "      <td>False</td>\n",
       "      <td>False</td>\n",
       "      <td>False</td>\n",
       "      <td>False</td>\n",
       "      <td>False</td>\n",
       "      <td>False</td>\n",
       "      <td>...</td>\n",
       "      <td>False</td>\n",
       "      <td>False</td>\n",
       "      <td>False</td>\n",
       "      <td>False</td>\n",
       "      <td>False</td>\n",
       "      <td>False</td>\n",
       "      <td>False</td>\n",
       "      <td>False</td>\n",
       "      <td>False</td>\n",
       "      <td>False</td>\n",
       "    </tr>\n",
       "    <tr>\n",
       "      <th>2</th>\n",
       "      <td>False</td>\n",
       "      <td>False</td>\n",
       "      <td>False</td>\n",
       "      <td>False</td>\n",
       "      <td>False</td>\n",
       "      <td>False</td>\n",
       "      <td>False</td>\n",
       "      <td>False</td>\n",
       "      <td>False</td>\n",
       "      <td>False</td>\n",
       "      <td>...</td>\n",
       "      <td>False</td>\n",
       "      <td>False</td>\n",
       "      <td>False</td>\n",
       "      <td>False</td>\n",
       "      <td>False</td>\n",
       "      <td>False</td>\n",
       "      <td>False</td>\n",
       "      <td>False</td>\n",
       "      <td>False</td>\n",
       "      <td>False</td>\n",
       "    </tr>\n",
       "    <tr>\n",
       "      <th>3</th>\n",
       "      <td>False</td>\n",
       "      <td>False</td>\n",
       "      <td>False</td>\n",
       "      <td>False</td>\n",
       "      <td>False</td>\n",
       "      <td>False</td>\n",
       "      <td>False</td>\n",
       "      <td>False</td>\n",
       "      <td>False</td>\n",
       "      <td>False</td>\n",
       "      <td>...</td>\n",
       "      <td>False</td>\n",
       "      <td>False</td>\n",
       "      <td>False</td>\n",
       "      <td>False</td>\n",
       "      <td>False</td>\n",
       "      <td>False</td>\n",
       "      <td>False</td>\n",
       "      <td>False</td>\n",
       "      <td>False</td>\n",
       "      <td>False</td>\n",
       "    </tr>\n",
       "    <tr>\n",
       "      <th>4</th>\n",
       "      <td>False</td>\n",
       "      <td>False</td>\n",
       "      <td>False</td>\n",
       "      <td>False</td>\n",
       "      <td>False</td>\n",
       "      <td>False</td>\n",
       "      <td>False</td>\n",
       "      <td>False</td>\n",
       "      <td>False</td>\n",
       "      <td>False</td>\n",
       "      <td>...</td>\n",
       "      <td>False</td>\n",
       "      <td>False</td>\n",
       "      <td>False</td>\n",
       "      <td>False</td>\n",
       "      <td>False</td>\n",
       "      <td>False</td>\n",
       "      <td>False</td>\n",
       "      <td>False</td>\n",
       "      <td>False</td>\n",
       "      <td>False</td>\n",
       "    </tr>\n",
       "    <tr>\n",
       "      <th>...</th>\n",
       "      <td>...</td>\n",
       "      <td>...</td>\n",
       "      <td>...</td>\n",
       "      <td>...</td>\n",
       "      <td>...</td>\n",
       "      <td>...</td>\n",
       "      <td>...</td>\n",
       "      <td>...</td>\n",
       "      <td>...</td>\n",
       "      <td>...</td>\n",
       "      <td>...</td>\n",
       "      <td>...</td>\n",
       "      <td>...</td>\n",
       "      <td>...</td>\n",
       "      <td>...</td>\n",
       "      <td>...</td>\n",
       "      <td>...</td>\n",
       "      <td>...</td>\n",
       "      <td>...</td>\n",
       "      <td>...</td>\n",
       "      <td>...</td>\n",
       "    </tr>\n",
       "    <tr>\n",
       "      <th>131204</th>\n",
       "      <td>False</td>\n",
       "      <td>False</td>\n",
       "      <td>False</td>\n",
       "      <td>False</td>\n",
       "      <td>False</td>\n",
       "      <td>False</td>\n",
       "      <td>False</td>\n",
       "      <td>False</td>\n",
       "      <td>False</td>\n",
       "      <td>False</td>\n",
       "      <td>...</td>\n",
       "      <td>False</td>\n",
       "      <td>False</td>\n",
       "      <td>False</td>\n",
       "      <td>False</td>\n",
       "      <td>False</td>\n",
       "      <td>False</td>\n",
       "      <td>False</td>\n",
       "      <td>False</td>\n",
       "      <td>False</td>\n",
       "      <td>False</td>\n",
       "    </tr>\n",
       "    <tr>\n",
       "      <th>131205</th>\n",
       "      <td>False</td>\n",
       "      <td>False</td>\n",
       "      <td>False</td>\n",
       "      <td>False</td>\n",
       "      <td>False</td>\n",
       "      <td>False</td>\n",
       "      <td>False</td>\n",
       "      <td>False</td>\n",
       "      <td>False</td>\n",
       "      <td>False</td>\n",
       "      <td>...</td>\n",
       "      <td>False</td>\n",
       "      <td>False</td>\n",
       "      <td>False</td>\n",
       "      <td>False</td>\n",
       "      <td>False</td>\n",
       "      <td>False</td>\n",
       "      <td>False</td>\n",
       "      <td>False</td>\n",
       "      <td>False</td>\n",
       "      <td>False</td>\n",
       "    </tr>\n",
       "    <tr>\n",
       "      <th>131206</th>\n",
       "      <td>False</td>\n",
       "      <td>False</td>\n",
       "      <td>False</td>\n",
       "      <td>False</td>\n",
       "      <td>False</td>\n",
       "      <td>False</td>\n",
       "      <td>True</td>\n",
       "      <td>False</td>\n",
       "      <td>False</td>\n",
       "      <td>False</td>\n",
       "      <td>...</td>\n",
       "      <td>False</td>\n",
       "      <td>False</td>\n",
       "      <td>False</td>\n",
       "      <td>False</td>\n",
       "      <td>False</td>\n",
       "      <td>False</td>\n",
       "      <td>False</td>\n",
       "      <td>False</td>\n",
       "      <td>False</td>\n",
       "      <td>False</td>\n",
       "    </tr>\n",
       "    <tr>\n",
       "      <th>131207</th>\n",
       "      <td>False</td>\n",
       "      <td>False</td>\n",
       "      <td>False</td>\n",
       "      <td>False</td>\n",
       "      <td>False</td>\n",
       "      <td>False</td>\n",
       "      <td>False</td>\n",
       "      <td>False</td>\n",
       "      <td>False</td>\n",
       "      <td>False</td>\n",
       "      <td>...</td>\n",
       "      <td>False</td>\n",
       "      <td>False</td>\n",
       "      <td>False</td>\n",
       "      <td>False</td>\n",
       "      <td>False</td>\n",
       "      <td>False</td>\n",
       "      <td>False</td>\n",
       "      <td>False</td>\n",
       "      <td>False</td>\n",
       "      <td>False</td>\n",
       "    </tr>\n",
       "    <tr>\n",
       "      <th>131208</th>\n",
       "      <td>False</td>\n",
       "      <td>False</td>\n",
       "      <td>False</td>\n",
       "      <td>False</td>\n",
       "      <td>False</td>\n",
       "      <td>False</td>\n",
       "      <td>False</td>\n",
       "      <td>False</td>\n",
       "      <td>False</td>\n",
       "      <td>False</td>\n",
       "      <td>...</td>\n",
       "      <td>False</td>\n",
       "      <td>False</td>\n",
       "      <td>False</td>\n",
       "      <td>False</td>\n",
       "      <td>False</td>\n",
       "      <td>False</td>\n",
       "      <td>False</td>\n",
       "      <td>False</td>\n",
       "      <td>False</td>\n",
       "      <td>False</td>\n",
       "    </tr>\n",
       "  </tbody>\n",
       "</table>\n",
       "<p>131209 rows × 268 columns</p>\n",
       "</div>"
      ],
      "text/plain": [
       "         air fresheners candles   asian foods   baby accessories  \\\n",
       "0                         False         False              False   \n",
       "1                         False         False              False   \n",
       "2                         False         False              False   \n",
       "3                         False         False              False   \n",
       "4                         False         False              False   \n",
       "...                         ...           ...                ...   \n",
       "131204                    False         False              False   \n",
       "131205                    False         False              False   \n",
       "131206                    False         False              False   \n",
       "131207                    False         False              False   \n",
       "131208                    False         False              False   \n",
       "\n",
       "         baby bath body care   baby food formula   bakery desserts  \\\n",
       "0                      False               False             False   \n",
       "1                      False               False             False   \n",
       "2                      False               False             False   \n",
       "3                      False               False             False   \n",
       "4                      False               False             False   \n",
       "...                      ...                 ...               ...   \n",
       "131204                 False               False             False   \n",
       "131205                 False               False             False   \n",
       "131206                 False               False             False   \n",
       "131207                 False               False             False   \n",
       "131208                 False               False             False   \n",
       "\n",
       "         baking ingredients   baking supplies decor   beauty   beers coolers  \\\n",
       "0                     False                   False    False           False   \n",
       "1                     False                   False    False           False   \n",
       "2                     False                   False    False           False   \n",
       "3                     False                   False    False           False   \n",
       "4                     False                   False    False           False   \n",
       "...                     ...                     ...      ...             ...   \n",
       "131204                False                   False    False           False   \n",
       "131205                False                   False    False           False   \n",
       "131206                 True                   False    False           False   \n",
       "131207                False                   False    False           False   \n",
       "131208                False                   False    False           False   \n",
       "\n",
       "        ...  spreads    tea  tofu meat alternatives  tortillas flat bread  \\\n",
       "0       ...    False  False                   False                 False   \n",
       "1       ...    False  False                   False                 False   \n",
       "2       ...    False  False                   False                 False   \n",
       "3       ...    False  False                   False                 False   \n",
       "4       ...    False  False                   False                 False   \n",
       "...     ...      ...    ...                     ...                   ...   \n",
       "131204  ...    False  False                   False                 False   \n",
       "131205  ...    False  False                   False                 False   \n",
       "131206  ...    False  False                   False                 False   \n",
       "131207  ...    False  False                   False                 False   \n",
       "131208  ...    False  False                   False                 False   \n",
       "\n",
       "        trail mix snack mix  trash bags liners  vitamins supplements  \\\n",
       "0                     False              False                 False   \n",
       "1                     False              False                 False   \n",
       "2                     False              False                 False   \n",
       "3                     False              False                 False   \n",
       "4                     False              False                 False   \n",
       "...                     ...                ...                   ...   \n",
       "131204                False              False                 False   \n",
       "131205                False              False                 False   \n",
       "131206                False              False                 False   \n",
       "131207                False              False                 False   \n",
       "131208                False              False                 False   \n",
       "\n",
       "        water seltzer sparkling water  white wines  yogurt  \n",
       "0                                True        False   False  \n",
       "1                               False        False   False  \n",
       "2                               False        False   False  \n",
       "3                               False        False   False  \n",
       "4                               False        False   False  \n",
       "...                               ...          ...     ...  \n",
       "131204                          False        False   False  \n",
       "131205                          False        False   False  \n",
       "131206                          False        False   False  \n",
       "131207                          False        False   False  \n",
       "131208                          False        False   False  \n",
       "\n",
       "[131209 rows x 268 columns]"
      ]
     },
     "execution_count": 8,
     "metadata": {},
     "output_type": "execute_result"
    }
   ],
   "source": [
    "\n",
    "te = TransactionEncoder()\n",
    "te_ary = te.fit(column_list).transform(column_list)\n",
    "df_ = pd.DataFrame(te_ary, columns=te.columns_)\n",
    "df_"
   ]
  },
  {
   "cell_type": "code",
   "execution_count": 9,
   "metadata": {},
   "outputs": [],
   "source": [
    "df_apriori = apriori(df_, min_support=0.09, use_colnames=True)"
   ]
  },
  {
   "cell_type": "code",
   "execution_count": 10,
   "metadata": {},
   "outputs": [
    {
     "data": {
      "text/html": [
       "<div>\n",
       "<style scoped>\n",
       "    .dataframe tbody tr th:only-of-type {\n",
       "        vertical-align: middle;\n",
       "    }\n",
       "\n",
       "    .dataframe tbody tr th {\n",
       "        vertical-align: top;\n",
       "    }\n",
       "\n",
       "    .dataframe thead th {\n",
       "        text-align: right;\n",
       "    }\n",
       "</style>\n",
       "<table border=\"1\" class=\"dataframe\">\n",
       "  <thead>\n",
       "    <tr style=\"text-align: right;\">\n",
       "      <th></th>\n",
       "      <th>support</th>\n",
       "      <th>itemsets</th>\n",
       "    </tr>\n",
       "  </thead>\n",
       "  <tbody>\n",
       "    <tr>\n",
       "      <th>0</th>\n",
       "      <td>0.147437</td>\n",
       "      <td>( bread)</td>\n",
       "    </tr>\n",
       "    <tr>\n",
       "      <th>1</th>\n",
       "      <td>0.091015</td>\n",
       "      <td>( cereal)</td>\n",
       "    </tr>\n",
       "    <tr>\n",
       "      <th>2</th>\n",
       "      <td>0.165004</td>\n",
       "      <td>( chips pretzels)</td>\n",
       "    </tr>\n",
       "    <tr>\n",
       "      <th>3</th>\n",
       "      <td>0.111928</td>\n",
       "      <td>( crackers)</td>\n",
       "    </tr>\n",
       "    <tr>\n",
       "      <th>4</th>\n",
       "      <td>0.126912</td>\n",
       "      <td>( eggs)</td>\n",
       "    </tr>\n",
       "    <tr>\n",
       "      <th>5</th>\n",
       "      <td>0.095161</td>\n",
       "      <td>( fresh dips tapenades)</td>\n",
       "    </tr>\n",
       "    <tr>\n",
       "      <th>6</th>\n",
       "      <td>0.503426</td>\n",
       "      <td>( fresh fruits)</td>\n",
       "    </tr>\n",
       "    <tr>\n",
       "      <th>7</th>\n",
       "      <td>0.091655</td>\n",
       "      <td>( fresh herbs)</td>\n",
       "    </tr>\n",
       "    <tr>\n",
       "      <th>8</th>\n",
       "      <td>0.430108</td>\n",
       "      <td>( fresh vegetables)</td>\n",
       "    </tr>\n",
       "    <tr>\n",
       "      <th>9</th>\n",
       "      <td>0.120762</td>\n",
       "      <td>( frozen produce)</td>\n",
       "    </tr>\n",
       "    <tr>\n",
       "      <th>10</th>\n",
       "      <td>0.111014</td>\n",
       "      <td>( ice cream ice)</td>\n",
       "    </tr>\n",
       "    <tr>\n",
       "      <th>11</th>\n",
       "      <td>0.101030</td>\n",
       "      <td>( lunch meat)</td>\n",
       "    </tr>\n",
       "    <tr>\n",
       "      <th>12</th>\n",
       "      <td>0.176253</td>\n",
       "      <td>( milk)</td>\n",
       "    </tr>\n",
       "    <tr>\n",
       "      <th>13</th>\n",
       "      <td>0.223925</td>\n",
       "      <td>( packaged cheese)</td>\n",
       "    </tr>\n",
       "    <tr>\n",
       "      <th>14</th>\n",
       "      <td>0.358962</td>\n",
       "      <td>( packaged vegetables fruits)</td>\n",
       "    </tr>\n",
       "    <tr>\n",
       "      <th>15</th>\n",
       "      <td>0.117050</td>\n",
       "      <td>( refrigerated)</td>\n",
       "    </tr>\n",
       "    <tr>\n",
       "      <th>16</th>\n",
       "      <td>0.145859</td>\n",
       "      <td>( soy lactosefree)</td>\n",
       "    </tr>\n",
       "    <tr>\n",
       "      <th>17</th>\n",
       "      <td>0.165393</td>\n",
       "      <td>( water seltzer sparkling water)</td>\n",
       "    </tr>\n",
       "    <tr>\n",
       "      <th>18</th>\n",
       "      <td>0.231417</td>\n",
       "      <td>( yogurt)</td>\n",
       "    </tr>\n",
       "    <tr>\n",
       "      <th>19</th>\n",
       "      <td>0.139457</td>\n",
       "      <td>(fresh fruits)</td>\n",
       "    </tr>\n",
       "    <tr>\n",
       "      <th>20</th>\n",
       "      <td>0.098553</td>\n",
       "      <td>( fresh fruits,  bread)</td>\n",
       "    </tr>\n",
       "    <tr>\n",
       "      <th>21</th>\n",
       "      <td>0.099696</td>\n",
       "      <td>( fresh fruits,  chips pretzels)</td>\n",
       "    </tr>\n",
       "    <tr>\n",
       "      <th>22</th>\n",
       "      <td>0.300292</td>\n",
       "      <td>( fresh vegetables,  fresh fruits)</td>\n",
       "    </tr>\n",
       "    <tr>\n",
       "      <th>23</th>\n",
       "      <td>0.116326</td>\n",
       "      <td>( fresh fruits,  milk)</td>\n",
       "    </tr>\n",
       "    <tr>\n",
       "      <th>24</th>\n",
       "      <td>0.146789</td>\n",
       "      <td>( packaged cheese,  fresh fruits)</td>\n",
       "    </tr>\n",
       "    <tr>\n",
       "      <th>25</th>\n",
       "      <td>0.259784</td>\n",
       "      <td>( packaged vegetables fruits,  fresh fruits)</td>\n",
       "    </tr>\n",
       "    <tr>\n",
       "      <th>26</th>\n",
       "      <td>0.099521</td>\n",
       "      <td>( fresh fruits,  soy lactosefree)</td>\n",
       "    </tr>\n",
       "    <tr>\n",
       "      <th>27</th>\n",
       "      <td>0.095428</td>\n",
       "      <td>( fresh fruits,  water seltzer sparkling water)</td>\n",
       "    </tr>\n",
       "    <tr>\n",
       "      <th>28</th>\n",
       "      <td>0.163137</td>\n",
       "      <td>( fresh fruits,  yogurt)</td>\n",
       "    </tr>\n",
       "    <tr>\n",
       "      <th>29</th>\n",
       "      <td>0.092783</td>\n",
       "      <td>(fresh fruits,  fresh fruits)</td>\n",
       "    </tr>\n",
       "    <tr>\n",
       "      <th>30</th>\n",
       "      <td>0.094574</td>\n",
       "      <td>( fresh vegetables,  milk)</td>\n",
       "    </tr>\n",
       "    <tr>\n",
       "      <th>31</th>\n",
       "      <td>0.135235</td>\n",
       "      <td>( packaged cheese,  fresh vegetables)</td>\n",
       "    </tr>\n",
       "    <tr>\n",
       "      <th>32</th>\n",
       "      <td>0.235723</td>\n",
       "      <td>( packaged vegetables fruits,  fresh vegetables)</td>\n",
       "    </tr>\n",
       "    <tr>\n",
       "      <th>33</th>\n",
       "      <td>0.133520</td>\n",
       "      <td>( fresh vegetables,  yogurt)</td>\n",
       "    </tr>\n",
       "    <tr>\n",
       "      <th>34</th>\n",
       "      <td>0.115762</td>\n",
       "      <td>( packaged vegetables fruits,  packaged cheese)</td>\n",
       "    </tr>\n",
       "    <tr>\n",
       "      <th>35</th>\n",
       "      <td>0.119717</td>\n",
       "      <td>( packaged vegetables fruits,  yogurt)</td>\n",
       "    </tr>\n",
       "    <tr>\n",
       "      <th>36</th>\n",
       "      <td>0.102973</td>\n",
       "      <td>( packaged cheese,  fresh fruits,  fresh veget...</td>\n",
       "    </tr>\n",
       "    <tr>\n",
       "      <th>37</th>\n",
       "      <td>0.185262</td>\n",
       "      <td>( packaged vegetables fruits,  fresh vegetable...</td>\n",
       "    </tr>\n",
       "    <tr>\n",
       "      <th>38</th>\n",
       "      <td>0.108537</td>\n",
       "      <td>( fresh vegetables,  fresh fruits,  yogurt)</td>\n",
       "    </tr>\n",
       "    <tr>\n",
       "      <th>39</th>\n",
       "      <td>0.098065</td>\n",
       "      <td>( packaged vegetables fruits,  fresh fruits,  ...</td>\n",
       "    </tr>\n",
       "  </tbody>\n",
       "</table>\n",
       "</div>"
      ],
      "text/plain": [
       "     support                                           itemsets\n",
       "0   0.147437                                           ( bread)\n",
       "1   0.091015                                          ( cereal)\n",
       "2   0.165004                                  ( chips pretzels)\n",
       "3   0.111928                                        ( crackers)\n",
       "4   0.126912                                            ( eggs)\n",
       "5   0.095161                            ( fresh dips tapenades)\n",
       "6   0.503426                                    ( fresh fruits)\n",
       "7   0.091655                                     ( fresh herbs)\n",
       "8   0.430108                                ( fresh vegetables)\n",
       "9   0.120762                                  ( frozen produce)\n",
       "10  0.111014                                   ( ice cream ice)\n",
       "11  0.101030                                      ( lunch meat)\n",
       "12  0.176253                                            ( milk)\n",
       "13  0.223925                                 ( packaged cheese)\n",
       "14  0.358962                      ( packaged vegetables fruits)\n",
       "15  0.117050                                    ( refrigerated)\n",
       "16  0.145859                                 ( soy lactosefree)\n",
       "17  0.165393                   ( water seltzer sparkling water)\n",
       "18  0.231417                                          ( yogurt)\n",
       "19  0.139457                                     (fresh fruits)\n",
       "20  0.098553                            ( fresh fruits,  bread)\n",
       "21  0.099696                   ( fresh fruits,  chips pretzels)\n",
       "22  0.300292                 ( fresh vegetables,  fresh fruits)\n",
       "23  0.116326                             ( fresh fruits,  milk)\n",
       "24  0.146789                  ( packaged cheese,  fresh fruits)\n",
       "25  0.259784       ( packaged vegetables fruits,  fresh fruits)\n",
       "26  0.099521                  ( fresh fruits,  soy lactosefree)\n",
       "27  0.095428    ( fresh fruits,  water seltzer sparkling water)\n",
       "28  0.163137                           ( fresh fruits,  yogurt)\n",
       "29  0.092783                      (fresh fruits,  fresh fruits)\n",
       "30  0.094574                         ( fresh vegetables,  milk)\n",
       "31  0.135235              ( packaged cheese,  fresh vegetables)\n",
       "32  0.235723   ( packaged vegetables fruits,  fresh vegetables)\n",
       "33  0.133520                       ( fresh vegetables,  yogurt)\n",
       "34  0.115762    ( packaged vegetables fruits,  packaged cheese)\n",
       "35  0.119717             ( packaged vegetables fruits,  yogurt)\n",
       "36  0.102973  ( packaged cheese,  fresh fruits,  fresh veget...\n",
       "37  0.185262  ( packaged vegetables fruits,  fresh vegetable...\n",
       "38  0.108537        ( fresh vegetables,  fresh fruits,  yogurt)\n",
       "39  0.098065  ( packaged vegetables fruits,  fresh fruits,  ..."
      ]
     },
     "execution_count": 10,
     "metadata": {},
     "output_type": "execute_result"
    }
   ],
   "source": [
    "df_apriori"
   ]
  },
  {
   "cell_type": "code",
   "execution_count": 11,
   "metadata": {},
   "outputs": [
    {
     "data": {
      "text/html": [
       "<div>\n",
       "<style scoped>\n",
       "    .dataframe tbody tr th:only-of-type {\n",
       "        vertical-align: middle;\n",
       "    }\n",
       "\n",
       "    .dataframe tbody tr th {\n",
       "        vertical-align: top;\n",
       "    }\n",
       "\n",
       "    .dataframe thead th {\n",
       "        text-align: right;\n",
       "    }\n",
       "</style>\n",
       "<table border=\"1\" class=\"dataframe\">\n",
       "  <thead>\n",
       "    <tr style=\"text-align: right;\">\n",
       "      <th></th>\n",
       "      <th>antecedents</th>\n",
       "      <th>consequents</th>\n",
       "      <th>antecedent support</th>\n",
       "      <th>consequent support</th>\n",
       "      <th>support</th>\n",
       "      <th>confidence</th>\n",
       "      <th>lift</th>\n",
       "      <th>leverage</th>\n",
       "      <th>conviction</th>\n",
       "      <th>zhangs_metric</th>\n",
       "    </tr>\n",
       "  </thead>\n",
       "  <tbody>\n",
       "    <tr>\n",
       "      <th>0</th>\n",
       "      <td>( bread)</td>\n",
       "      <td>( fresh fruits)</td>\n",
       "      <td>0.147437</td>\n",
       "      <td>0.503426</td>\n",
       "      <td>0.098553</td>\n",
       "      <td>0.668441</td>\n",
       "      <td>1.327785</td>\n",
       "      <td>0.024329</td>\n",
       "      <td>1.497697</td>\n",
       "      <td>0.289558</td>\n",
       "    </tr>\n",
       "    <tr>\n",
       "      <th>1</th>\n",
       "      <td>( chips pretzels)</td>\n",
       "      <td>( fresh fruits)</td>\n",
       "      <td>0.165004</td>\n",
       "      <td>0.503426</td>\n",
       "      <td>0.099696</td>\n",
       "      <td>0.604203</td>\n",
       "      <td>1.200183</td>\n",
       "      <td>0.016629</td>\n",
       "      <td>1.254619</td>\n",
       "      <td>0.199754</td>\n",
       "    </tr>\n",
       "    <tr>\n",
       "      <th>2</th>\n",
       "      <td>( fresh vegetables)</td>\n",
       "      <td>( fresh fruits)</td>\n",
       "      <td>0.430108</td>\n",
       "      <td>0.503426</td>\n",
       "      <td>0.300292</td>\n",
       "      <td>0.698178</td>\n",
       "      <td>1.386855</td>\n",
       "      <td>0.083765</td>\n",
       "      <td>1.645257</td>\n",
       "      <td>0.489468</td>\n",
       "    </tr>\n",
       "    <tr>\n",
       "      <th>3</th>\n",
       "      <td>( fresh fruits)</td>\n",
       "      <td>( fresh vegetables)</td>\n",
       "      <td>0.503426</td>\n",
       "      <td>0.430108</td>\n",
       "      <td>0.300292</td>\n",
       "      <td>0.596497</td>\n",
       "      <td>1.386855</td>\n",
       "      <td>0.083765</td>\n",
       "      <td>1.412361</td>\n",
       "      <td>0.561737</td>\n",
       "    </tr>\n",
       "    <tr>\n",
       "      <th>4</th>\n",
       "      <td>( milk)</td>\n",
       "      <td>( fresh fruits)</td>\n",
       "      <td>0.176253</td>\n",
       "      <td>0.503426</td>\n",
       "      <td>0.116326</td>\n",
       "      <td>0.659993</td>\n",
       "      <td>1.311004</td>\n",
       "      <td>0.027595</td>\n",
       "      <td>1.460483</td>\n",
       "      <td>0.287984</td>\n",
       "    </tr>\n",
       "    <tr>\n",
       "      <th>5</th>\n",
       "      <td>( packaged cheese)</td>\n",
       "      <td>( fresh fruits)</td>\n",
       "      <td>0.223925</td>\n",
       "      <td>0.503426</td>\n",
       "      <td>0.146789</td>\n",
       "      <td>0.655526</td>\n",
       "      <td>1.302130</td>\n",
       "      <td>0.034059</td>\n",
       "      <td>1.441542</td>\n",
       "      <td>0.298975</td>\n",
       "    </tr>\n",
       "    <tr>\n",
       "      <th>6</th>\n",
       "      <td>( packaged vegetables fruits)</td>\n",
       "      <td>( fresh fruits)</td>\n",
       "      <td>0.358962</td>\n",
       "      <td>0.503426</td>\n",
       "      <td>0.259784</td>\n",
       "      <td>0.723710</td>\n",
       "      <td>1.437570</td>\n",
       "      <td>0.079073</td>\n",
       "      <td>1.797291</td>\n",
       "      <td>0.474826</td>\n",
       "    </tr>\n",
       "    <tr>\n",
       "      <th>7</th>\n",
       "      <td>( fresh fruits)</td>\n",
       "      <td>( packaged vegetables fruits)</td>\n",
       "      <td>0.503426</td>\n",
       "      <td>0.358962</td>\n",
       "      <td>0.259784</td>\n",
       "      <td>0.516032</td>\n",
       "      <td>1.437570</td>\n",
       "      <td>0.079073</td>\n",
       "      <td>1.324548</td>\n",
       "      <td>0.612963</td>\n",
       "    </tr>\n",
       "    <tr>\n",
       "      <th>8</th>\n",
       "      <td>( soy lactosefree)</td>\n",
       "      <td>( fresh fruits)</td>\n",
       "      <td>0.145859</td>\n",
       "      <td>0.503426</td>\n",
       "      <td>0.099521</td>\n",
       "      <td>0.682307</td>\n",
       "      <td>1.355329</td>\n",
       "      <td>0.026091</td>\n",
       "      <td>1.563065</td>\n",
       "      <td>0.306942</td>\n",
       "    </tr>\n",
       "    <tr>\n",
       "      <th>9</th>\n",
       "      <td>( water seltzer sparkling water)</td>\n",
       "      <td>( fresh fruits)</td>\n",
       "      <td>0.165393</td>\n",
       "      <td>0.503426</td>\n",
       "      <td>0.095428</td>\n",
       "      <td>0.576978</td>\n",
       "      <td>1.146103</td>\n",
       "      <td>0.012165</td>\n",
       "      <td>1.173873</td>\n",
       "      <td>0.152740</td>\n",
       "    </tr>\n",
       "    <tr>\n",
       "      <th>10</th>\n",
       "      <td>( yogurt)</td>\n",
       "      <td>( fresh fruits)</td>\n",
       "      <td>0.231417</td>\n",
       "      <td>0.503426</td>\n",
       "      <td>0.163137</td>\n",
       "      <td>0.704947</td>\n",
       "      <td>1.400299</td>\n",
       "      <td>0.046635</td>\n",
       "      <td>1.682998</td>\n",
       "      <td>0.371940</td>\n",
       "    </tr>\n",
       "    <tr>\n",
       "      <th>11</th>\n",
       "      <td>(fresh fruits)</td>\n",
       "      <td>( fresh fruits)</td>\n",
       "      <td>0.139457</td>\n",
       "      <td>0.503426</td>\n",
       "      <td>0.092783</td>\n",
       "      <td>0.665319</td>\n",
       "      <td>1.321582</td>\n",
       "      <td>0.022577</td>\n",
       "      <td>1.483722</td>\n",
       "      <td>0.282765</td>\n",
       "    </tr>\n",
       "    <tr>\n",
       "      <th>12</th>\n",
       "      <td>( milk)</td>\n",
       "      <td>( fresh vegetables)</td>\n",
       "      <td>0.176253</td>\n",
       "      <td>0.430108</td>\n",
       "      <td>0.094574</td>\n",
       "      <td>0.536582</td>\n",
       "      <td>1.247553</td>\n",
       "      <td>0.018766</td>\n",
       "      <td>1.229759</td>\n",
       "      <td>0.240888</td>\n",
       "    </tr>\n",
       "    <tr>\n",
       "      <th>13</th>\n",
       "      <td>( packaged cheese)</td>\n",
       "      <td>( fresh vegetables)</td>\n",
       "      <td>0.223925</td>\n",
       "      <td>0.430108</td>\n",
       "      <td>0.135235</td>\n",
       "      <td>0.603928</td>\n",
       "      <td>1.404131</td>\n",
       "      <td>0.038923</td>\n",
       "      <td>1.438859</td>\n",
       "      <td>0.370861</td>\n",
       "    </tr>\n",
       "    <tr>\n",
       "      <th>14</th>\n",
       "      <td>( packaged vegetables fruits)</td>\n",
       "      <td>( fresh vegetables)</td>\n",
       "      <td>0.358962</td>\n",
       "      <td>0.430108</td>\n",
       "      <td>0.235723</td>\n",
       "      <td>0.656681</td>\n",
       "      <td>1.526782</td>\n",
       "      <td>0.081331</td>\n",
       "      <td>1.659948</td>\n",
       "      <td>0.538232</td>\n",
       "    </tr>\n",
       "    <tr>\n",
       "      <th>15</th>\n",
       "      <td>( fresh vegetables)</td>\n",
       "      <td>( packaged vegetables fruits)</td>\n",
       "      <td>0.430108</td>\n",
       "      <td>0.358962</td>\n",
       "      <td>0.235723</td>\n",
       "      <td>0.548056</td>\n",
       "      <td>1.526782</td>\n",
       "      <td>0.081331</td>\n",
       "      <td>1.418403</td>\n",
       "      <td>0.605426</td>\n",
       "    </tr>\n",
       "    <tr>\n",
       "      <th>16</th>\n",
       "      <td>( yogurt)</td>\n",
       "      <td>( fresh vegetables)</td>\n",
       "      <td>0.231417</td>\n",
       "      <td>0.430108</td>\n",
       "      <td>0.133520</td>\n",
       "      <td>0.576966</td>\n",
       "      <td>1.341446</td>\n",
       "      <td>0.033986</td>\n",
       "      <td>1.347155</td>\n",
       "      <td>0.331175</td>\n",
       "    </tr>\n",
       "    <tr>\n",
       "      <th>17</th>\n",
       "      <td>( packaged cheese)</td>\n",
       "      <td>( packaged vegetables fruits)</td>\n",
       "      <td>0.223925</td>\n",
       "      <td>0.358962</td>\n",
       "      <td>0.115762</td>\n",
       "      <td>0.516967</td>\n",
       "      <td>1.440173</td>\n",
       "      <td>0.035381</td>\n",
       "      <td>1.327110</td>\n",
       "      <td>0.393826</td>\n",
       "    </tr>\n",
       "    <tr>\n",
       "      <th>18</th>\n",
       "      <td>( yogurt)</td>\n",
       "      <td>( packaged vegetables fruits)</td>\n",
       "      <td>0.231417</td>\n",
       "      <td>0.358962</td>\n",
       "      <td>0.119717</td>\n",
       "      <td>0.517323</td>\n",
       "      <td>1.441165</td>\n",
       "      <td>0.036648</td>\n",
       "      <td>1.328090</td>\n",
       "      <td>0.398288</td>\n",
       "    </tr>\n",
       "    <tr>\n",
       "      <th>19</th>\n",
       "      <td>( packaged cheese,  fresh fruits)</td>\n",
       "      <td>( fresh vegetables)</td>\n",
       "      <td>0.146789</td>\n",
       "      <td>0.430108</td>\n",
       "      <td>0.102973</td>\n",
       "      <td>0.701506</td>\n",
       "      <td>1.631000</td>\n",
       "      <td>0.039838</td>\n",
       "      <td>1.909223</td>\n",
       "      <td>0.453439</td>\n",
       "    </tr>\n",
       "    <tr>\n",
       "      <th>20</th>\n",
       "      <td>( packaged cheese,  fresh vegetables)</td>\n",
       "      <td>( fresh fruits)</td>\n",
       "      <td>0.135235</td>\n",
       "      <td>0.503426</td>\n",
       "      <td>0.102973</td>\n",
       "      <td>0.761440</td>\n",
       "      <td>1.512518</td>\n",
       "      <td>0.034893</td>\n",
       "      <td>2.081553</td>\n",
       "      <td>0.391841</td>\n",
       "    </tr>\n",
       "    <tr>\n",
       "      <th>21</th>\n",
       "      <td>( packaged vegetables fruits,  fresh vegetables)</td>\n",
       "      <td>( fresh fruits)</td>\n",
       "      <td>0.235723</td>\n",
       "      <td>0.503426</td>\n",
       "      <td>0.185262</td>\n",
       "      <td>0.785929</td>\n",
       "      <td>1.561162</td>\n",
       "      <td>0.066593</td>\n",
       "      <td>2.319671</td>\n",
       "      <td>0.470316</td>\n",
       "    </tr>\n",
       "    <tr>\n",
       "      <th>22</th>\n",
       "      <td>( packaged vegetables fruits,  fresh fruits)</td>\n",
       "      <td>( fresh vegetables)</td>\n",
       "      <td>0.259784</td>\n",
       "      <td>0.430108</td>\n",
       "      <td>0.185262</td>\n",
       "      <td>0.713137</td>\n",
       "      <td>1.658044</td>\n",
       "      <td>0.073527</td>\n",
       "      <td>1.986638</td>\n",
       "      <td>0.536167</td>\n",
       "    </tr>\n",
       "    <tr>\n",
       "      <th>23</th>\n",
       "      <td>( fresh vegetables,  fresh fruits)</td>\n",
       "      <td>( packaged vegetables fruits)</td>\n",
       "      <td>0.300292</td>\n",
       "      <td>0.358962</td>\n",
       "      <td>0.185262</td>\n",
       "      <td>0.616939</td>\n",
       "      <td>1.718676</td>\n",
       "      <td>0.077468</td>\n",
       "      <td>1.673461</td>\n",
       "      <td>0.597616</td>\n",
       "    </tr>\n",
       "    <tr>\n",
       "      <th>24</th>\n",
       "      <td>( packaged vegetables fruits)</td>\n",
       "      <td>( fresh vegetables,  fresh fruits)</td>\n",
       "      <td>0.358962</td>\n",
       "      <td>0.300292</td>\n",
       "      <td>0.185262</td>\n",
       "      <td>0.516104</td>\n",
       "      <td>1.718676</td>\n",
       "      <td>0.077468</td>\n",
       "      <td>1.445990</td>\n",
       "      <td>0.652311</td>\n",
       "    </tr>\n",
       "    <tr>\n",
       "      <th>25</th>\n",
       "      <td>( fresh vegetables,  yogurt)</td>\n",
       "      <td>( fresh fruits)</td>\n",
       "      <td>0.133520</td>\n",
       "      <td>0.503426</td>\n",
       "      <td>0.108537</td>\n",
       "      <td>0.812889</td>\n",
       "      <td>1.614714</td>\n",
       "      <td>0.041319</td>\n",
       "      <td>2.653900</td>\n",
       "      <td>0.439358</td>\n",
       "    </tr>\n",
       "    <tr>\n",
       "      <th>26</th>\n",
       "      <td>( fresh fruits,  yogurt)</td>\n",
       "      <td>( fresh vegetables)</td>\n",
       "      <td>0.163137</td>\n",
       "      <td>0.430108</td>\n",
       "      <td>0.108537</td>\n",
       "      <td>0.665312</td>\n",
       "      <td>1.546849</td>\n",
       "      <td>0.038370</td>\n",
       "      <td>1.702756</td>\n",
       "      <td>0.422440</td>\n",
       "    </tr>\n",
       "    <tr>\n",
       "      <th>27</th>\n",
       "      <td>( packaged vegetables fruits,  yogurt)</td>\n",
       "      <td>( fresh fruits)</td>\n",
       "      <td>0.119717</td>\n",
       "      <td>0.503426</td>\n",
       "      <td>0.098065</td>\n",
       "      <td>0.819137</td>\n",
       "      <td>1.627125</td>\n",
       "      <td>0.037796</td>\n",
       "      <td>2.745578</td>\n",
       "      <td>0.437836</td>\n",
       "    </tr>\n",
       "    <tr>\n",
       "      <th>28</th>\n",
       "      <td>( fresh fruits,  yogurt)</td>\n",
       "      <td>( packaged vegetables fruits)</td>\n",
       "      <td>0.163137</td>\n",
       "      <td>0.358962</td>\n",
       "      <td>0.098065</td>\n",
       "      <td>0.601121</td>\n",
       "      <td>1.674611</td>\n",
       "      <td>0.039505</td>\n",
       "      <td>1.607101</td>\n",
       "      <td>0.481377</td>\n",
       "    </tr>\n",
       "  </tbody>\n",
       "</table>\n",
       "</div>"
      ],
      "text/plain": [
       "                                         antecedents  \\\n",
       "0                                           ( bread)   \n",
       "1                                  ( chips pretzels)   \n",
       "2                                ( fresh vegetables)   \n",
       "3                                    ( fresh fruits)   \n",
       "4                                            ( milk)   \n",
       "5                                 ( packaged cheese)   \n",
       "6                      ( packaged vegetables fruits)   \n",
       "7                                    ( fresh fruits)   \n",
       "8                                 ( soy lactosefree)   \n",
       "9                   ( water seltzer sparkling water)   \n",
       "10                                         ( yogurt)   \n",
       "11                                    (fresh fruits)   \n",
       "12                                           ( milk)   \n",
       "13                                ( packaged cheese)   \n",
       "14                     ( packaged vegetables fruits)   \n",
       "15                               ( fresh vegetables)   \n",
       "16                                         ( yogurt)   \n",
       "17                                ( packaged cheese)   \n",
       "18                                         ( yogurt)   \n",
       "19                 ( packaged cheese,  fresh fruits)   \n",
       "20             ( packaged cheese,  fresh vegetables)   \n",
       "21  ( packaged vegetables fruits,  fresh vegetables)   \n",
       "22      ( packaged vegetables fruits,  fresh fruits)   \n",
       "23                ( fresh vegetables,  fresh fruits)   \n",
       "24                     ( packaged vegetables fruits)   \n",
       "25                      ( fresh vegetables,  yogurt)   \n",
       "26                          ( fresh fruits,  yogurt)   \n",
       "27            ( packaged vegetables fruits,  yogurt)   \n",
       "28                          ( fresh fruits,  yogurt)   \n",
       "\n",
       "                           consequents  antecedent support  \\\n",
       "0                      ( fresh fruits)            0.147437   \n",
       "1                      ( fresh fruits)            0.165004   \n",
       "2                      ( fresh fruits)            0.430108   \n",
       "3                  ( fresh vegetables)            0.503426   \n",
       "4                      ( fresh fruits)            0.176253   \n",
       "5                      ( fresh fruits)            0.223925   \n",
       "6                      ( fresh fruits)            0.358962   \n",
       "7        ( packaged vegetables fruits)            0.503426   \n",
       "8                      ( fresh fruits)            0.145859   \n",
       "9                      ( fresh fruits)            0.165393   \n",
       "10                     ( fresh fruits)            0.231417   \n",
       "11                     ( fresh fruits)            0.139457   \n",
       "12                 ( fresh vegetables)            0.176253   \n",
       "13                 ( fresh vegetables)            0.223925   \n",
       "14                 ( fresh vegetables)            0.358962   \n",
       "15       ( packaged vegetables fruits)            0.430108   \n",
       "16                 ( fresh vegetables)            0.231417   \n",
       "17       ( packaged vegetables fruits)            0.223925   \n",
       "18       ( packaged vegetables fruits)            0.231417   \n",
       "19                 ( fresh vegetables)            0.146789   \n",
       "20                     ( fresh fruits)            0.135235   \n",
       "21                     ( fresh fruits)            0.235723   \n",
       "22                 ( fresh vegetables)            0.259784   \n",
       "23       ( packaged vegetables fruits)            0.300292   \n",
       "24  ( fresh vegetables,  fresh fruits)            0.358962   \n",
       "25                     ( fresh fruits)            0.133520   \n",
       "26                 ( fresh vegetables)            0.163137   \n",
       "27                     ( fresh fruits)            0.119717   \n",
       "28       ( packaged vegetables fruits)            0.163137   \n",
       "\n",
       "    consequent support   support  confidence      lift  leverage  conviction  \\\n",
       "0             0.503426  0.098553    0.668441  1.327785  0.024329    1.497697   \n",
       "1             0.503426  0.099696    0.604203  1.200183  0.016629    1.254619   \n",
       "2             0.503426  0.300292    0.698178  1.386855  0.083765    1.645257   \n",
       "3             0.430108  0.300292    0.596497  1.386855  0.083765    1.412361   \n",
       "4             0.503426  0.116326    0.659993  1.311004  0.027595    1.460483   \n",
       "5             0.503426  0.146789    0.655526  1.302130  0.034059    1.441542   \n",
       "6             0.503426  0.259784    0.723710  1.437570  0.079073    1.797291   \n",
       "7             0.358962  0.259784    0.516032  1.437570  0.079073    1.324548   \n",
       "8             0.503426  0.099521    0.682307  1.355329  0.026091    1.563065   \n",
       "9             0.503426  0.095428    0.576978  1.146103  0.012165    1.173873   \n",
       "10            0.503426  0.163137    0.704947  1.400299  0.046635    1.682998   \n",
       "11            0.503426  0.092783    0.665319  1.321582  0.022577    1.483722   \n",
       "12            0.430108  0.094574    0.536582  1.247553  0.018766    1.229759   \n",
       "13            0.430108  0.135235    0.603928  1.404131  0.038923    1.438859   \n",
       "14            0.430108  0.235723    0.656681  1.526782  0.081331    1.659948   \n",
       "15            0.358962  0.235723    0.548056  1.526782  0.081331    1.418403   \n",
       "16            0.430108  0.133520    0.576966  1.341446  0.033986    1.347155   \n",
       "17            0.358962  0.115762    0.516967  1.440173  0.035381    1.327110   \n",
       "18            0.358962  0.119717    0.517323  1.441165  0.036648    1.328090   \n",
       "19            0.430108  0.102973    0.701506  1.631000  0.039838    1.909223   \n",
       "20            0.503426  0.102973    0.761440  1.512518  0.034893    2.081553   \n",
       "21            0.503426  0.185262    0.785929  1.561162  0.066593    2.319671   \n",
       "22            0.430108  0.185262    0.713137  1.658044  0.073527    1.986638   \n",
       "23            0.358962  0.185262    0.616939  1.718676  0.077468    1.673461   \n",
       "24            0.300292  0.185262    0.516104  1.718676  0.077468    1.445990   \n",
       "25            0.503426  0.108537    0.812889  1.614714  0.041319    2.653900   \n",
       "26            0.430108  0.108537    0.665312  1.546849  0.038370    1.702756   \n",
       "27            0.503426  0.098065    0.819137  1.627125  0.037796    2.745578   \n",
       "28            0.358962  0.098065    0.601121  1.674611  0.039505    1.607101   \n",
       "\n",
       "    zhangs_metric  \n",
       "0        0.289558  \n",
       "1        0.199754  \n",
       "2        0.489468  \n",
       "3        0.561737  \n",
       "4        0.287984  \n",
       "5        0.298975  \n",
       "6        0.474826  \n",
       "7        0.612963  \n",
       "8        0.306942  \n",
       "9        0.152740  \n",
       "10       0.371940  \n",
       "11       0.282765  \n",
       "12       0.240888  \n",
       "13       0.370861  \n",
       "14       0.538232  \n",
       "15       0.605426  \n",
       "16       0.331175  \n",
       "17       0.393826  \n",
       "18       0.398288  \n",
       "19       0.453439  \n",
       "20       0.391841  \n",
       "21       0.470316  \n",
       "22       0.536167  \n",
       "23       0.597616  \n",
       "24       0.652311  \n",
       "25       0.439358  \n",
       "26       0.422440  \n",
       "27       0.437836  \n",
       "28       0.481377  "
      ]
     },
     "execution_count": 11,
     "metadata": {},
     "output_type": "execute_result"
    }
   ],
   "source": [
    "rule_APRIORI = association_rules(df_apriori, metric=\"confidence\", min_threshold= 0.5)\n",
    "rule_APRIORI"
   ]
  },
  {
   "cell_type": "code",
   "execution_count": 12,
   "metadata": {},
   "outputs": [
    {
     "data": {
      "text/html": [
       "        <script type=\"text/javascript\">\n",
       "        window.PlotlyConfig = {MathJaxConfig: 'local'};\n",
       "        if (window.MathJax && window.MathJax.Hub && window.MathJax.Hub.Config) {window.MathJax.Hub.Config({SVG: {font: \"STIX-Web\"}});}\n",
       "        if (typeof require !== 'undefined') {\n",
       "        require.undef(\"plotly\");\n",
       "        requirejs.config({\n",
       "            paths: {\n",
       "                'plotly': ['https://cdn.plot.ly/plotly-2.12.1.min']\n",
       "            }\n",
       "        });\n",
       "        require(['plotly'], function(Plotly) {\n",
       "            window._Plotly = Plotly;\n",
       "        });\n",
       "        }\n",
       "        </script>\n",
       "        "
      ]
     },
     "metadata": {},
     "output_type": "display_data"
    },
    {
     "data": {
      "application/vnd.plotly.v1+json": {
       "config": {
        "plotlyServerURL": "https://plot.ly"
       },
       "data": [
        {
         "customdata": [
          [
           " bread",
           " fresh fruits"
          ],
          [
           " chips pretzels",
           " fresh fruits"
          ],
          [
           " fresh vegetables",
           " fresh fruits"
          ],
          [
           " fresh fruits",
           " fresh vegetables"
          ],
          [
           " milk",
           " fresh fruits"
          ],
          [
           " packaged cheese",
           " fresh fruits"
          ],
          [
           " packaged vegetables fruits",
           " fresh fruits"
          ],
          [
           " fresh fruits",
           " packaged vegetables fruits"
          ],
          [
           " soy lactosefree",
           " fresh fruits"
          ],
          [
           " water seltzer sparkling water",
           " fresh fruits"
          ],
          [
           " yogurt",
           " fresh fruits"
          ],
          [
           "fresh fruits",
           " fresh fruits"
          ],
          [
           " milk",
           " fresh vegetables"
          ],
          [
           " packaged cheese",
           " fresh vegetables"
          ],
          [
           " packaged vegetables fruits",
           " fresh vegetables"
          ],
          [
           " fresh vegetables",
           " packaged vegetables fruits"
          ],
          [
           " yogurt",
           " fresh vegetables"
          ],
          [
           " packaged cheese",
           " packaged vegetables fruits"
          ],
          [
           " yogurt",
           " packaged vegetables fruits"
          ],
          [
           " packaged cheese",
           " fresh vegetables"
          ],
          [
           " packaged cheese",
           " fresh fruits"
          ],
          [
           " packaged vegetables fruits",
           " fresh fruits"
          ],
          [
           " packaged vegetables fruits",
           " fresh vegetables"
          ],
          [
           " fresh vegetables",
           " packaged vegetables fruits"
          ],
          [
           " packaged vegetables fruits",
           " fresh vegetables"
          ],
          [
           " fresh vegetables",
           " fresh fruits"
          ],
          [
           " fresh fruits",
           " fresh vegetables"
          ],
          [
           " packaged vegetables fruits",
           " fresh fruits"
          ],
          [
           " fresh fruits",
           " packaged vegetables fruits"
          ]
         ],
         "hovertemplate": "support=%{x}<br>confidence=%{y}<br>antecedents_short=%{text}<br>antecedents=%{customdata[0]}<br>consequents=%{customdata[1]}<br>lift=%{marker.color}<extra></extra>",
         "legendgroup": "",
         "marker": {
          "color": [
           1.3277853760368983,
           1.200183214223704,
           1.3868545446313598,
           1.3868545446313598,
           1.31100360636484,
           1.3021296050034763,
           1.4375695222589944,
           1.4375695222589944,
           1.3553286456110925,
           1.1461033238487366,
           1.400298916818982,
           1.3215821908089966,
           1.2475531438961003,
           1.40413138691606,
           1.5267818339496206,
           1.5267818339496206,
           1.3414457738877839,
           1.440172613764044,
           1.4411654736042323,
           1.6310001572886528,
           1.512517710493884,
           1.5611615719198872,
           1.6580437265545298,
           1.7186756441722522,
           1.7186756441722522,
           1.6147142473361817,
           1.546849445578427,
           1.6271249773578083,
           1.6746112636679813
          ],
          "coloraxis": "coloraxis",
          "opacity": 0.5,
          "symbol": "circle"
         },
         "mode": "markers+text",
         "name": "",
         "orientation": "v",
         "showlegend": false,
         "text": [
          " bread",
          " chips pre",
          " fresh veg",
          " fresh fru",
          " milk",
          " packaged ",
          " packaged ",
          " fresh fru",
          " soy lacto",
          " water sel",
          " yogurt",
          "fresh frui",
          " milk",
          " packaged ",
          " packaged ",
          " fresh veg",
          " yogurt",
          " packaged ",
          " yogurt",
          " packaged ",
          " packaged ",
          " packaged ",
          " packaged ",
          " fresh veg",
          " packaged ",
          " fresh veg",
          " fresh fru",
          " packaged ",
          " fresh fru"
         ],
         "textposition": "top center",
         "type": "scatter",
         "x": [
          0.09855269074529949,
          0.09969590500651632,
          0.3002919007080307,
          0.3002919007080307,
          0.11632586179301725,
          0.14678871114024192,
          0.2597840087189141,
          0.2597840087189141,
          0.09952061215312974,
          0.09542790509797346,
          0.16313667507564267,
          0.09278326944035852,
          0.09457430511626488,
          0.13523462567354375,
          0.23572315923450374,
          0.23572315923450374,
          0.13351980428171847,
          0.11576187609081694,
          0.1197173974346272,
          0.10297311922200458,
          0.10297311922200458,
          0.18526168174439253,
          0.18526168174439253,
          0.18526168174439253,
          0.18526168174439253,
          0.10853676195992652,
          0.10853676195992652,
          0.0980649193271803,
          0.0980649193271803
         ],
         "xaxis": "x",
         "y": [
          0.6684414577410184,
          0.604203233256351,
          0.6981784030903356,
          0.5964968056438671,
          0.6599930813802647,
          0.6555256798611347,
          0.7237096329009108,
          0.516032337178672,
          0.6823074511443201,
          0.5769780194461085,
          0.7049466473455407,
          0.6653186140561811,
          0.5365822018507307,
          0.6039277083829686,
          0.6566806089301259,
          0.5480561363716908,
          0.5769661441180345,
          0.5169667472175896,
          0.5173231458305889,
          0.7015057113187954,
          0.7614404869251578,
          0.7859290633386142,
          0.7131373584462829,
          0.6169386563792797,
          0.5161043758890846,
          0.8128888635196073,
          0.66531184302733,
          0.8191367456073338,
          0.6011212333566924
         ],
         "yaxis": "y"
        }
       ],
       "layout": {
        "coloraxis": {
         "colorbar": {
          "title": {
           "text": "lift"
          }
         },
         "colorscale": [
          [
           0,
           "#0d0887"
          ],
          [
           0.1111111111111111,
           "#46039f"
          ],
          [
           0.2222222222222222,
           "#7201a8"
          ],
          [
           0.3333333333333333,
           "#9c179e"
          ],
          [
           0.4444444444444444,
           "#bd3786"
          ],
          [
           0.5555555555555556,
           "#d8576b"
          ],
          [
           0.6666666666666666,
           "#ed7953"
          ],
          [
           0.7777777777777778,
           "#fb9f3a"
          ],
          [
           0.8888888888888888,
           "#fdca26"
          ],
          [
           1,
           "#f0f921"
          ]
         ]
        },
        "height": 800,
        "legend": {
         "tracegroupgap": 0
        },
        "margin": {
         "t": 60
        },
        "plot_bgcolor": "rgb(240,240,240)",
        "template": {
         "data": {
          "bar": [
           {
            "error_x": {
             "color": "#2a3f5f"
            },
            "error_y": {
             "color": "#2a3f5f"
            },
            "marker": {
             "line": {
              "color": "#E5ECF6",
              "width": 0.5
             },
             "pattern": {
              "fillmode": "overlay",
              "size": 10,
              "solidity": 0.2
             }
            },
            "type": "bar"
           }
          ],
          "barpolar": [
           {
            "marker": {
             "line": {
              "color": "#E5ECF6",
              "width": 0.5
             },
             "pattern": {
              "fillmode": "overlay",
              "size": 10,
              "solidity": 0.2
             }
            },
            "type": "barpolar"
           }
          ],
          "carpet": [
           {
            "aaxis": {
             "endlinecolor": "#2a3f5f",
             "gridcolor": "white",
             "linecolor": "white",
             "minorgridcolor": "white",
             "startlinecolor": "#2a3f5f"
            },
            "baxis": {
             "endlinecolor": "#2a3f5f",
             "gridcolor": "white",
             "linecolor": "white",
             "minorgridcolor": "white",
             "startlinecolor": "#2a3f5f"
            },
            "type": "carpet"
           }
          ],
          "choropleth": [
           {
            "colorbar": {
             "outlinewidth": 0,
             "ticks": ""
            },
            "type": "choropleth"
           }
          ],
          "contour": [
           {
            "colorbar": {
             "outlinewidth": 0,
             "ticks": ""
            },
            "colorscale": [
             [
              0,
              "#0d0887"
             ],
             [
              0.1111111111111111,
              "#46039f"
             ],
             [
              0.2222222222222222,
              "#7201a8"
             ],
             [
              0.3333333333333333,
              "#9c179e"
             ],
             [
              0.4444444444444444,
              "#bd3786"
             ],
             [
              0.5555555555555556,
              "#d8576b"
             ],
             [
              0.6666666666666666,
              "#ed7953"
             ],
             [
              0.7777777777777778,
              "#fb9f3a"
             ],
             [
              0.8888888888888888,
              "#fdca26"
             ],
             [
              1,
              "#f0f921"
             ]
            ],
            "type": "contour"
           }
          ],
          "contourcarpet": [
           {
            "colorbar": {
             "outlinewidth": 0,
             "ticks": ""
            },
            "type": "contourcarpet"
           }
          ],
          "heatmap": [
           {
            "colorbar": {
             "outlinewidth": 0,
             "ticks": ""
            },
            "colorscale": [
             [
              0,
              "#0d0887"
             ],
             [
              0.1111111111111111,
              "#46039f"
             ],
             [
              0.2222222222222222,
              "#7201a8"
             ],
             [
              0.3333333333333333,
              "#9c179e"
             ],
             [
              0.4444444444444444,
              "#bd3786"
             ],
             [
              0.5555555555555556,
              "#d8576b"
             ],
             [
              0.6666666666666666,
              "#ed7953"
             ],
             [
              0.7777777777777778,
              "#fb9f3a"
             ],
             [
              0.8888888888888888,
              "#fdca26"
             ],
             [
              1,
              "#f0f921"
             ]
            ],
            "type": "heatmap"
           }
          ],
          "heatmapgl": [
           {
            "colorbar": {
             "outlinewidth": 0,
             "ticks": ""
            },
            "colorscale": [
             [
              0,
              "#0d0887"
             ],
             [
              0.1111111111111111,
              "#46039f"
             ],
             [
              0.2222222222222222,
              "#7201a8"
             ],
             [
              0.3333333333333333,
              "#9c179e"
             ],
             [
              0.4444444444444444,
              "#bd3786"
             ],
             [
              0.5555555555555556,
              "#d8576b"
             ],
             [
              0.6666666666666666,
              "#ed7953"
             ],
             [
              0.7777777777777778,
              "#fb9f3a"
             ],
             [
              0.8888888888888888,
              "#fdca26"
             ],
             [
              1,
              "#f0f921"
             ]
            ],
            "type": "heatmapgl"
           }
          ],
          "histogram": [
           {
            "marker": {
             "pattern": {
              "fillmode": "overlay",
              "size": 10,
              "solidity": 0.2
             }
            },
            "type": "histogram"
           }
          ],
          "histogram2d": [
           {
            "colorbar": {
             "outlinewidth": 0,
             "ticks": ""
            },
            "colorscale": [
             [
              0,
              "#0d0887"
             ],
             [
              0.1111111111111111,
              "#46039f"
             ],
             [
              0.2222222222222222,
              "#7201a8"
             ],
             [
              0.3333333333333333,
              "#9c179e"
             ],
             [
              0.4444444444444444,
              "#bd3786"
             ],
             [
              0.5555555555555556,
              "#d8576b"
             ],
             [
              0.6666666666666666,
              "#ed7953"
             ],
             [
              0.7777777777777778,
              "#fb9f3a"
             ],
             [
              0.8888888888888888,
              "#fdca26"
             ],
             [
              1,
              "#f0f921"
             ]
            ],
            "type": "histogram2d"
           }
          ],
          "histogram2dcontour": [
           {
            "colorbar": {
             "outlinewidth": 0,
             "ticks": ""
            },
            "colorscale": [
             [
              0,
              "#0d0887"
             ],
             [
              0.1111111111111111,
              "#46039f"
             ],
             [
              0.2222222222222222,
              "#7201a8"
             ],
             [
              0.3333333333333333,
              "#9c179e"
             ],
             [
              0.4444444444444444,
              "#bd3786"
             ],
             [
              0.5555555555555556,
              "#d8576b"
             ],
             [
              0.6666666666666666,
              "#ed7953"
             ],
             [
              0.7777777777777778,
              "#fb9f3a"
             ],
             [
              0.8888888888888888,
              "#fdca26"
             ],
             [
              1,
              "#f0f921"
             ]
            ],
            "type": "histogram2dcontour"
           }
          ],
          "mesh3d": [
           {
            "colorbar": {
             "outlinewidth": 0,
             "ticks": ""
            },
            "type": "mesh3d"
           }
          ],
          "parcoords": [
           {
            "line": {
             "colorbar": {
              "outlinewidth": 0,
              "ticks": ""
             }
            },
            "type": "parcoords"
           }
          ],
          "pie": [
           {
            "automargin": true,
            "type": "pie"
           }
          ],
          "scatter": [
           {
            "fillpattern": {
             "fillmode": "overlay",
             "size": 10,
             "solidity": 0.2
            },
            "type": "scatter"
           }
          ],
          "scatter3d": [
           {
            "line": {
             "colorbar": {
              "outlinewidth": 0,
              "ticks": ""
             }
            },
            "marker": {
             "colorbar": {
              "outlinewidth": 0,
              "ticks": ""
             }
            },
            "type": "scatter3d"
           }
          ],
          "scattercarpet": [
           {
            "marker": {
             "colorbar": {
              "outlinewidth": 0,
              "ticks": ""
             }
            },
            "type": "scattercarpet"
           }
          ],
          "scattergeo": [
           {
            "marker": {
             "colorbar": {
              "outlinewidth": 0,
              "ticks": ""
             }
            },
            "type": "scattergeo"
           }
          ],
          "scattergl": [
           {
            "marker": {
             "colorbar": {
              "outlinewidth": 0,
              "ticks": ""
             }
            },
            "type": "scattergl"
           }
          ],
          "scattermapbox": [
           {
            "marker": {
             "colorbar": {
              "outlinewidth": 0,
              "ticks": ""
             }
            },
            "type": "scattermapbox"
           }
          ],
          "scatterpolar": [
           {
            "marker": {
             "colorbar": {
              "outlinewidth": 0,
              "ticks": ""
             }
            },
            "type": "scatterpolar"
           }
          ],
          "scatterpolargl": [
           {
            "marker": {
             "colorbar": {
              "outlinewidth": 0,
              "ticks": ""
             }
            },
            "type": "scatterpolargl"
           }
          ],
          "scatterternary": [
           {
            "marker": {
             "colorbar": {
              "outlinewidth": 0,
              "ticks": ""
             }
            },
            "type": "scatterternary"
           }
          ],
          "surface": [
           {
            "colorbar": {
             "outlinewidth": 0,
             "ticks": ""
            },
            "colorscale": [
             [
              0,
              "#0d0887"
             ],
             [
              0.1111111111111111,
              "#46039f"
             ],
             [
              0.2222222222222222,
              "#7201a8"
             ],
             [
              0.3333333333333333,
              "#9c179e"
             ],
             [
              0.4444444444444444,
              "#bd3786"
             ],
             [
              0.5555555555555556,
              "#d8576b"
             ],
             [
              0.6666666666666666,
              "#ed7953"
             ],
             [
              0.7777777777777778,
              "#fb9f3a"
             ],
             [
              0.8888888888888888,
              "#fdca26"
             ],
             [
              1,
              "#f0f921"
             ]
            ],
            "type": "surface"
           }
          ],
          "table": [
           {
            "cells": {
             "fill": {
              "color": "#EBF0F8"
             },
             "line": {
              "color": "white"
             }
            },
            "header": {
             "fill": {
              "color": "#C8D4E3"
             },
             "line": {
              "color": "white"
             }
            },
            "type": "table"
           }
          ]
         },
         "layout": {
          "annotationdefaults": {
           "arrowcolor": "#2a3f5f",
           "arrowhead": 0,
           "arrowwidth": 1
          },
          "autotypenumbers": "strict",
          "coloraxis": {
           "colorbar": {
            "outlinewidth": 0,
            "ticks": ""
           }
          },
          "colorscale": {
           "diverging": [
            [
             0,
             "#8e0152"
            ],
            [
             0.1,
             "#c51b7d"
            ],
            [
             0.2,
             "#de77ae"
            ],
            [
             0.3,
             "#f1b6da"
            ],
            [
             0.4,
             "#fde0ef"
            ],
            [
             0.5,
             "#f7f7f7"
            ],
            [
             0.6,
             "#e6f5d0"
            ],
            [
             0.7,
             "#b8e186"
            ],
            [
             0.8,
             "#7fbc41"
            ],
            [
             0.9,
             "#4d9221"
            ],
            [
             1,
             "#276419"
            ]
           ],
           "sequential": [
            [
             0,
             "#0d0887"
            ],
            [
             0.1111111111111111,
             "#46039f"
            ],
            [
             0.2222222222222222,
             "#7201a8"
            ],
            [
             0.3333333333333333,
             "#9c179e"
            ],
            [
             0.4444444444444444,
             "#bd3786"
            ],
            [
             0.5555555555555556,
             "#d8576b"
            ],
            [
             0.6666666666666666,
             "#ed7953"
            ],
            [
             0.7777777777777778,
             "#fb9f3a"
            ],
            [
             0.8888888888888888,
             "#fdca26"
            ],
            [
             1,
             "#f0f921"
            ]
           ],
           "sequentialminus": [
            [
             0,
             "#0d0887"
            ],
            [
             0.1111111111111111,
             "#46039f"
            ],
            [
             0.2222222222222222,
             "#7201a8"
            ],
            [
             0.3333333333333333,
             "#9c179e"
            ],
            [
             0.4444444444444444,
             "#bd3786"
            ],
            [
             0.5555555555555556,
             "#d8576b"
            ],
            [
             0.6666666666666666,
             "#ed7953"
            ],
            [
             0.7777777777777778,
             "#fb9f3a"
            ],
            [
             0.8888888888888888,
             "#fdca26"
            ],
            [
             1,
             "#f0f921"
            ]
           ]
          },
          "colorway": [
           "#636efa",
           "#EF553B",
           "#00cc96",
           "#ab63fa",
           "#FFA15A",
           "#19d3f3",
           "#FF6692",
           "#B6E880",
           "#FF97FF",
           "#FECB52"
          ],
          "font": {
           "color": "#2a3f5f"
          },
          "geo": {
           "bgcolor": "white",
           "lakecolor": "white",
           "landcolor": "#E5ECF6",
           "showlakes": true,
           "showland": true,
           "subunitcolor": "white"
          },
          "hoverlabel": {
           "align": "left"
          },
          "hovermode": "closest",
          "mapbox": {
           "style": "light"
          },
          "paper_bgcolor": "white",
          "plot_bgcolor": "#E5ECF6",
          "polar": {
           "angularaxis": {
            "gridcolor": "white",
            "linecolor": "white",
            "ticks": ""
           },
           "bgcolor": "#E5ECF6",
           "radialaxis": {
            "gridcolor": "white",
            "linecolor": "white",
            "ticks": ""
           }
          },
          "scene": {
           "xaxis": {
            "backgroundcolor": "#E5ECF6",
            "gridcolor": "white",
            "gridwidth": 2,
            "linecolor": "white",
            "showbackground": true,
            "ticks": "",
            "zerolinecolor": "white"
           },
           "yaxis": {
            "backgroundcolor": "#E5ECF6",
            "gridcolor": "white",
            "gridwidth": 2,
            "linecolor": "white",
            "showbackground": true,
            "ticks": "",
            "zerolinecolor": "white"
           },
           "zaxis": {
            "backgroundcolor": "#E5ECF6",
            "gridcolor": "white",
            "gridwidth": 2,
            "linecolor": "white",
            "showbackground": true,
            "ticks": "",
            "zerolinecolor": "white"
           }
          },
          "shapedefaults": {
           "line": {
            "color": "#2a3f5f"
           }
          },
          "ternary": {
           "aaxis": {
            "gridcolor": "white",
            "linecolor": "white",
            "ticks": ""
           },
           "baxis": {
            "gridcolor": "white",
            "linecolor": "white",
            "ticks": ""
           },
           "bgcolor": "#E5ECF6",
           "caxis": {
            "gridcolor": "white",
            "linecolor": "white",
            "ticks": ""
           }
          },
          "title": {
           "x": 0.05
          },
          "xaxis": {
           "automargin": true,
           "gridcolor": "white",
           "linecolor": "white",
           "ticks": "",
           "title": {
            "standoff": 15
           },
           "zerolinecolor": "white",
           "zerolinewidth": 2
          },
          "yaxis": {
           "automargin": true,
           "gridcolor": "white",
           "linecolor": "white",
           "ticks": "",
           "title": {
            "standoff": 15
           },
           "zerolinecolor": "white",
           "zerolinewidth": 2
          }
         }
        },
        "title": {
         "text": "2D Plot of Support, Confidence and Lift"
        },
        "xaxis": {
         "anchor": "y",
         "domain": [
          0,
          1
         ],
         "title": {
          "text": "support"
         },
         "type": "log"
        },
        "yaxis": {
         "anchor": "x",
         "domain": [
          0,
          1
         ],
         "title": {
          "text": "confidence"
         }
        }
       }
      },
      "text/html": [
       "<div>                            <div id=\"6e095e0f-a416-45b5-b2df-6c904fe96108\" class=\"plotly-graph-div\" style=\"height:800px; width:100%;\"></div>            <script type=\"text/javascript\">                require([\"plotly\"], function(Plotly) {                    window.PLOTLYENV=window.PLOTLYENV || {};                                    if (document.getElementById(\"6e095e0f-a416-45b5-b2df-6c904fe96108\")) {                    Plotly.newPlot(                        \"6e095e0f-a416-45b5-b2df-6c904fe96108\",                        [{\"customdata\":[[\" bread\",\" fresh fruits\"],[\" chips pretzels\",\" fresh fruits\"],[\" fresh vegetables\",\" fresh fruits\"],[\" fresh fruits\",\" fresh vegetables\"],[\" milk\",\" fresh fruits\"],[\" packaged cheese\",\" fresh fruits\"],[\" packaged vegetables fruits\",\" fresh fruits\"],[\" fresh fruits\",\" packaged vegetables fruits\"],[\" soy lactosefree\",\" fresh fruits\"],[\" water seltzer sparkling water\",\" fresh fruits\"],[\" yogurt\",\" fresh fruits\"],[\"fresh fruits\",\" fresh fruits\"],[\" milk\",\" fresh vegetables\"],[\" packaged cheese\",\" fresh vegetables\"],[\" packaged vegetables fruits\",\" fresh vegetables\"],[\" fresh vegetables\",\" packaged vegetables fruits\"],[\" yogurt\",\" fresh vegetables\"],[\" packaged cheese\",\" packaged vegetables fruits\"],[\" yogurt\",\" packaged vegetables fruits\"],[\" packaged cheese\",\" fresh vegetables\"],[\" packaged cheese\",\" fresh fruits\"],[\" packaged vegetables fruits\",\" fresh fruits\"],[\" packaged vegetables fruits\",\" fresh vegetables\"],[\" fresh vegetables\",\" packaged vegetables fruits\"],[\" packaged vegetables fruits\",\" fresh vegetables\"],[\" fresh vegetables\",\" fresh fruits\"],[\" fresh fruits\",\" fresh vegetables\"],[\" packaged vegetables fruits\",\" fresh fruits\"],[\" fresh fruits\",\" packaged vegetables fruits\"]],\"hovertemplate\":\"support=%{x}<br>confidence=%{y}<br>antecedents_short=%{text}<br>antecedents=%{customdata[0]}<br>consequents=%{customdata[1]}<br>lift=%{marker.color}<extra></extra>\",\"legendgroup\":\"\",\"marker\":{\"color\":[1.3277853760368983,1.200183214223704,1.3868545446313598,1.3868545446313598,1.31100360636484,1.3021296050034763,1.4375695222589944,1.4375695222589944,1.3553286456110925,1.1461033238487366,1.400298916818982,1.3215821908089966,1.2475531438961003,1.40413138691606,1.5267818339496206,1.5267818339496206,1.3414457738877839,1.440172613764044,1.4411654736042323,1.6310001572886528,1.512517710493884,1.5611615719198872,1.6580437265545298,1.7186756441722522,1.7186756441722522,1.6147142473361817,1.546849445578427,1.6271249773578083,1.6746112636679813],\"coloraxis\":\"coloraxis\",\"opacity\":0.5,\"symbol\":\"circle\"},\"mode\":\"markers+text\",\"name\":\"\",\"orientation\":\"v\",\"showlegend\":false,\"text\":[\" bread\",\" chips pre\",\" fresh veg\",\" fresh fru\",\" milk\",\" packaged \",\" packaged \",\" fresh fru\",\" soy lacto\",\" water sel\",\" yogurt\",\"fresh frui\",\" milk\",\" packaged \",\" packaged \",\" fresh veg\",\" yogurt\",\" packaged \",\" yogurt\",\" packaged \",\" packaged \",\" packaged \",\" packaged \",\" fresh veg\",\" packaged \",\" fresh veg\",\" fresh fru\",\" packaged \",\" fresh fru\"],\"x\":[0.09855269074529949,0.09969590500651632,0.3002919007080307,0.3002919007080307,0.11632586179301725,0.14678871114024192,0.2597840087189141,0.2597840087189141,0.09952061215312974,0.09542790509797346,0.16313667507564267,0.09278326944035852,0.09457430511626488,0.13523462567354375,0.23572315923450374,0.23572315923450374,0.13351980428171847,0.11576187609081694,0.1197173974346272,0.10297311922200458,0.10297311922200458,0.18526168174439253,0.18526168174439253,0.18526168174439253,0.18526168174439253,0.10853676195992652,0.10853676195992652,0.0980649193271803,0.0980649193271803],\"xaxis\":\"x\",\"y\":[0.6684414577410184,0.604203233256351,0.6981784030903356,0.5964968056438671,0.6599930813802647,0.6555256798611347,0.7237096329009108,0.516032337178672,0.6823074511443201,0.5769780194461085,0.7049466473455407,0.6653186140561811,0.5365822018507307,0.6039277083829686,0.6566806089301259,0.5480561363716908,0.5769661441180345,0.5169667472175896,0.5173231458305889,0.7015057113187954,0.7614404869251578,0.7859290633386142,0.7131373584462829,0.6169386563792797,0.5161043758890846,0.8128888635196073,0.66531184302733,0.8191367456073338,0.6011212333566924],\"yaxis\":\"y\",\"type\":\"scatter\",\"textposition\":\"top center\"}],                        {\"template\":{\"data\":{\"histogram2dcontour\":[{\"type\":\"histogram2dcontour\",\"colorbar\":{\"outlinewidth\":0,\"ticks\":\"\"},\"colorscale\":[[0.0,\"#0d0887\"],[0.1111111111111111,\"#46039f\"],[0.2222222222222222,\"#7201a8\"],[0.3333333333333333,\"#9c179e\"],[0.4444444444444444,\"#bd3786\"],[0.5555555555555556,\"#d8576b\"],[0.6666666666666666,\"#ed7953\"],[0.7777777777777778,\"#fb9f3a\"],[0.8888888888888888,\"#fdca26\"],[1.0,\"#f0f921\"]]}],\"choropleth\":[{\"type\":\"choropleth\",\"colorbar\":{\"outlinewidth\":0,\"ticks\":\"\"}}],\"histogram2d\":[{\"type\":\"histogram2d\",\"colorbar\":{\"outlinewidth\":0,\"ticks\":\"\"},\"colorscale\":[[0.0,\"#0d0887\"],[0.1111111111111111,\"#46039f\"],[0.2222222222222222,\"#7201a8\"],[0.3333333333333333,\"#9c179e\"],[0.4444444444444444,\"#bd3786\"],[0.5555555555555556,\"#d8576b\"],[0.6666666666666666,\"#ed7953\"],[0.7777777777777778,\"#fb9f3a\"],[0.8888888888888888,\"#fdca26\"],[1.0,\"#f0f921\"]]}],\"heatmap\":[{\"type\":\"heatmap\",\"colorbar\":{\"outlinewidth\":0,\"ticks\":\"\"},\"colorscale\":[[0.0,\"#0d0887\"],[0.1111111111111111,\"#46039f\"],[0.2222222222222222,\"#7201a8\"],[0.3333333333333333,\"#9c179e\"],[0.4444444444444444,\"#bd3786\"],[0.5555555555555556,\"#d8576b\"],[0.6666666666666666,\"#ed7953\"],[0.7777777777777778,\"#fb9f3a\"],[0.8888888888888888,\"#fdca26\"],[1.0,\"#f0f921\"]]}],\"heatmapgl\":[{\"type\":\"heatmapgl\",\"colorbar\":{\"outlinewidth\":0,\"ticks\":\"\"},\"colorscale\":[[0.0,\"#0d0887\"],[0.1111111111111111,\"#46039f\"],[0.2222222222222222,\"#7201a8\"],[0.3333333333333333,\"#9c179e\"],[0.4444444444444444,\"#bd3786\"],[0.5555555555555556,\"#d8576b\"],[0.6666666666666666,\"#ed7953\"],[0.7777777777777778,\"#fb9f3a\"],[0.8888888888888888,\"#fdca26\"],[1.0,\"#f0f921\"]]}],\"contourcarpet\":[{\"type\":\"contourcarpet\",\"colorbar\":{\"outlinewidth\":0,\"ticks\":\"\"}}],\"contour\":[{\"type\":\"contour\",\"colorbar\":{\"outlinewidth\":0,\"ticks\":\"\"},\"colorscale\":[[0.0,\"#0d0887\"],[0.1111111111111111,\"#46039f\"],[0.2222222222222222,\"#7201a8\"],[0.3333333333333333,\"#9c179e\"],[0.4444444444444444,\"#bd3786\"],[0.5555555555555556,\"#d8576b\"],[0.6666666666666666,\"#ed7953\"],[0.7777777777777778,\"#fb9f3a\"],[0.8888888888888888,\"#fdca26\"],[1.0,\"#f0f921\"]]}],\"surface\":[{\"type\":\"surface\",\"colorbar\":{\"outlinewidth\":0,\"ticks\":\"\"},\"colorscale\":[[0.0,\"#0d0887\"],[0.1111111111111111,\"#46039f\"],[0.2222222222222222,\"#7201a8\"],[0.3333333333333333,\"#9c179e\"],[0.4444444444444444,\"#bd3786\"],[0.5555555555555556,\"#d8576b\"],[0.6666666666666666,\"#ed7953\"],[0.7777777777777778,\"#fb9f3a\"],[0.8888888888888888,\"#fdca26\"],[1.0,\"#f0f921\"]]}],\"mesh3d\":[{\"type\":\"mesh3d\",\"colorbar\":{\"outlinewidth\":0,\"ticks\":\"\"}}],\"scatter\":[{\"fillpattern\":{\"fillmode\":\"overlay\",\"size\":10,\"solidity\":0.2},\"type\":\"scatter\"}],\"parcoords\":[{\"type\":\"parcoords\",\"line\":{\"colorbar\":{\"outlinewidth\":0,\"ticks\":\"\"}}}],\"scatterpolargl\":[{\"type\":\"scatterpolargl\",\"marker\":{\"colorbar\":{\"outlinewidth\":0,\"ticks\":\"\"}}}],\"bar\":[{\"error_x\":{\"color\":\"#2a3f5f\"},\"error_y\":{\"color\":\"#2a3f5f\"},\"marker\":{\"line\":{\"color\":\"#E5ECF6\",\"width\":0.5},\"pattern\":{\"fillmode\":\"overlay\",\"size\":10,\"solidity\":0.2}},\"type\":\"bar\"}],\"scattergeo\":[{\"type\":\"scattergeo\",\"marker\":{\"colorbar\":{\"outlinewidth\":0,\"ticks\":\"\"}}}],\"scatterpolar\":[{\"type\":\"scatterpolar\",\"marker\":{\"colorbar\":{\"outlinewidth\":0,\"ticks\":\"\"}}}],\"histogram\":[{\"marker\":{\"pattern\":{\"fillmode\":\"overlay\",\"size\":10,\"solidity\":0.2}},\"type\":\"histogram\"}],\"scattergl\":[{\"type\":\"scattergl\",\"marker\":{\"colorbar\":{\"outlinewidth\":0,\"ticks\":\"\"}}}],\"scatter3d\":[{\"type\":\"scatter3d\",\"line\":{\"colorbar\":{\"outlinewidth\":0,\"ticks\":\"\"}},\"marker\":{\"colorbar\":{\"outlinewidth\":0,\"ticks\":\"\"}}}],\"scattermapbox\":[{\"type\":\"scattermapbox\",\"marker\":{\"colorbar\":{\"outlinewidth\":0,\"ticks\":\"\"}}}],\"scatterternary\":[{\"type\":\"scatterternary\",\"marker\":{\"colorbar\":{\"outlinewidth\":0,\"ticks\":\"\"}}}],\"scattercarpet\":[{\"type\":\"scattercarpet\",\"marker\":{\"colorbar\":{\"outlinewidth\":0,\"ticks\":\"\"}}}],\"carpet\":[{\"aaxis\":{\"endlinecolor\":\"#2a3f5f\",\"gridcolor\":\"white\",\"linecolor\":\"white\",\"minorgridcolor\":\"white\",\"startlinecolor\":\"#2a3f5f\"},\"baxis\":{\"endlinecolor\":\"#2a3f5f\",\"gridcolor\":\"white\",\"linecolor\":\"white\",\"minorgridcolor\":\"white\",\"startlinecolor\":\"#2a3f5f\"},\"type\":\"carpet\"}],\"table\":[{\"cells\":{\"fill\":{\"color\":\"#EBF0F8\"},\"line\":{\"color\":\"white\"}},\"header\":{\"fill\":{\"color\":\"#C8D4E3\"},\"line\":{\"color\":\"white\"}},\"type\":\"table\"}],\"barpolar\":[{\"marker\":{\"line\":{\"color\":\"#E5ECF6\",\"width\":0.5},\"pattern\":{\"fillmode\":\"overlay\",\"size\":10,\"solidity\":0.2}},\"type\":\"barpolar\"}],\"pie\":[{\"automargin\":true,\"type\":\"pie\"}]},\"layout\":{\"autotypenumbers\":\"strict\",\"colorway\":[\"#636efa\",\"#EF553B\",\"#00cc96\",\"#ab63fa\",\"#FFA15A\",\"#19d3f3\",\"#FF6692\",\"#B6E880\",\"#FF97FF\",\"#FECB52\"],\"font\":{\"color\":\"#2a3f5f\"},\"hovermode\":\"closest\",\"hoverlabel\":{\"align\":\"left\"},\"paper_bgcolor\":\"white\",\"plot_bgcolor\":\"#E5ECF6\",\"polar\":{\"bgcolor\":\"#E5ECF6\",\"angularaxis\":{\"gridcolor\":\"white\",\"linecolor\":\"white\",\"ticks\":\"\"},\"radialaxis\":{\"gridcolor\":\"white\",\"linecolor\":\"white\",\"ticks\":\"\"}},\"ternary\":{\"bgcolor\":\"#E5ECF6\",\"aaxis\":{\"gridcolor\":\"white\",\"linecolor\":\"white\",\"ticks\":\"\"},\"baxis\":{\"gridcolor\":\"white\",\"linecolor\":\"white\",\"ticks\":\"\"},\"caxis\":{\"gridcolor\":\"white\",\"linecolor\":\"white\",\"ticks\":\"\"}},\"coloraxis\":{\"colorbar\":{\"outlinewidth\":0,\"ticks\":\"\"}},\"colorscale\":{\"sequential\":[[0.0,\"#0d0887\"],[0.1111111111111111,\"#46039f\"],[0.2222222222222222,\"#7201a8\"],[0.3333333333333333,\"#9c179e\"],[0.4444444444444444,\"#bd3786\"],[0.5555555555555556,\"#d8576b\"],[0.6666666666666666,\"#ed7953\"],[0.7777777777777778,\"#fb9f3a\"],[0.8888888888888888,\"#fdca26\"],[1.0,\"#f0f921\"]],\"sequentialminus\":[[0.0,\"#0d0887\"],[0.1111111111111111,\"#46039f\"],[0.2222222222222222,\"#7201a8\"],[0.3333333333333333,\"#9c179e\"],[0.4444444444444444,\"#bd3786\"],[0.5555555555555556,\"#d8576b\"],[0.6666666666666666,\"#ed7953\"],[0.7777777777777778,\"#fb9f3a\"],[0.8888888888888888,\"#fdca26\"],[1.0,\"#f0f921\"]],\"diverging\":[[0,\"#8e0152\"],[0.1,\"#c51b7d\"],[0.2,\"#de77ae\"],[0.3,\"#f1b6da\"],[0.4,\"#fde0ef\"],[0.5,\"#f7f7f7\"],[0.6,\"#e6f5d0\"],[0.7,\"#b8e186\"],[0.8,\"#7fbc41\"],[0.9,\"#4d9221\"],[1,\"#276419\"]]},\"xaxis\":{\"gridcolor\":\"white\",\"linecolor\":\"white\",\"ticks\":\"\",\"title\":{\"standoff\":15},\"zerolinecolor\":\"white\",\"automargin\":true,\"zerolinewidth\":2},\"yaxis\":{\"gridcolor\":\"white\",\"linecolor\":\"white\",\"ticks\":\"\",\"title\":{\"standoff\":15},\"zerolinecolor\":\"white\",\"automargin\":true,\"zerolinewidth\":2},\"scene\":{\"xaxis\":{\"backgroundcolor\":\"#E5ECF6\",\"gridcolor\":\"white\",\"linecolor\":\"white\",\"showbackground\":true,\"ticks\":\"\",\"zerolinecolor\":\"white\",\"gridwidth\":2},\"yaxis\":{\"backgroundcolor\":\"#E5ECF6\",\"gridcolor\":\"white\",\"linecolor\":\"white\",\"showbackground\":true,\"ticks\":\"\",\"zerolinecolor\":\"white\",\"gridwidth\":2},\"zaxis\":{\"backgroundcolor\":\"#E5ECF6\",\"gridcolor\":\"white\",\"linecolor\":\"white\",\"showbackground\":true,\"ticks\":\"\",\"zerolinecolor\":\"white\",\"gridwidth\":2}},\"shapedefaults\":{\"line\":{\"color\":\"#2a3f5f\"}},\"annotationdefaults\":{\"arrowcolor\":\"#2a3f5f\",\"arrowhead\":0,\"arrowwidth\":1},\"geo\":{\"bgcolor\":\"white\",\"landcolor\":\"#E5ECF6\",\"subunitcolor\":\"white\",\"showland\":true,\"showlakes\":true,\"lakecolor\":\"white\"},\"title\":{\"x\":0.05},\"mapbox\":{\"style\":\"light\"}}},\"xaxis\":{\"anchor\":\"y\",\"domain\":[0.0,1.0],\"title\":{\"text\":\"support\"},\"type\":\"log\"},\"yaxis\":{\"anchor\":\"x\",\"domain\":[0.0,1.0],\"title\":{\"text\":\"confidence\"}},\"coloraxis\":{\"colorbar\":{\"title\":{\"text\":\"lift\"}},\"colorscale\":[[0.0,\"#0d0887\"],[0.1111111111111111,\"#46039f\"],[0.2222222222222222,\"#7201a8\"],[0.3333333333333333,\"#9c179e\"],[0.4444444444444444,\"#bd3786\"],[0.5555555555555556,\"#d8576b\"],[0.6666666666666666,\"#ed7953\"],[0.7777777777777778,\"#fb9f3a\"],[0.8888888888888888,\"#fdca26\"],[1.0,\"#f0f921\"]]},\"legend\":{\"tracegroupgap\":0},\"margin\":{\"t\":60},\"plot_bgcolor\":\"rgb(240,240,240)\",\"title\":{\"text\":\"2D Plot of Support, Confidence and Lift\"},\"height\":800},                        {\"responsive\": true}                    ).then(function(){\n",
       "                            \n",
       "var gd = document.getElementById('6e095e0f-a416-45b5-b2df-6c904fe96108');\n",
       "var x = new MutationObserver(function (mutations, observer) {{\n",
       "        var display = window.getComputedStyle(gd).display;\n",
       "        if (!display || display === 'none') {{\n",
       "            console.log([gd, 'removed!']);\n",
       "            Plotly.purge(gd);\n",
       "            observer.disconnect();\n",
       "        }}\n",
       "}});\n",
       "\n",
       "// Listen for the removal of the full notebook cells\n",
       "var notebookContainer = gd.closest('#notebook-container');\n",
       "if (notebookContainer) {{\n",
       "    x.observe(notebookContainer, {childList: true});\n",
       "}}\n",
       "\n",
       "// Listen for the clearing of the current output cell\n",
       "var outputEl = gd.closest('.output');\n",
       "if (outputEl) {{\n",
       "    x.observe(outputEl, {childList: true});\n",
       "}}\n",
       "\n",
       "                        })                };                });            </script>        </div>"
      ]
     },
     "metadata": {},
     "output_type": "display_data"
    }
   ],
   "source": [
    "plot_model(rule_APRIORI, plot = '2d')"
   ]
  },
  {
   "cell_type": "code",
   "execution_count": 13,
   "metadata": {},
   "outputs": [
    {
     "data": {
      "text/html": [
       "        <script type=\"text/javascript\">\n",
       "        window.PlotlyConfig = {MathJaxConfig: 'local'};\n",
       "        if (window.MathJax && window.MathJax.Hub && window.MathJax.Hub.Config) {window.MathJax.Hub.Config({SVG: {font: \"STIX-Web\"}});}\n",
       "        if (typeof require !== 'undefined') {\n",
       "        require.undef(\"plotly\");\n",
       "        requirejs.config({\n",
       "            paths: {\n",
       "                'plotly': ['https://cdn.plot.ly/plotly-2.12.1.min']\n",
       "            }\n",
       "        });\n",
       "        require(['plotly'], function(Plotly) {\n",
       "            window._Plotly = Plotly;\n",
       "        });\n",
       "        }\n",
       "        </script>\n",
       "        "
      ]
     },
     "metadata": {},
     "output_type": "display_data"
    },
    {
     "data": {
      "application/vnd.plotly.v1+json": {
       "config": {
        "plotlyServerURL": "https://plot.ly"
       },
       "data": [
        {
         "customdata": [
          [
           " bread",
           " fresh fruits"
          ],
          [
           " chips pretzels",
           " fresh fruits"
          ],
          [
           " fresh vegetables",
           " fresh fruits"
          ],
          [
           " fresh fruits",
           " fresh vegetables"
          ],
          [
           " milk",
           " fresh fruits"
          ],
          [
           " packaged cheese",
           " fresh fruits"
          ],
          [
           " packaged vegetables fruits",
           " fresh fruits"
          ],
          [
           " fresh fruits",
           " packaged vegetables fruits"
          ],
          [
           " soy lactosefree",
           " fresh fruits"
          ],
          [
           " water seltzer sparkling water",
           " fresh fruits"
          ],
          [
           " yogurt",
           " fresh fruits"
          ],
          [
           "fresh fruits",
           " fresh fruits"
          ],
          [
           " milk",
           " fresh vegetables"
          ],
          [
           " packaged cheese",
           " fresh vegetables"
          ],
          [
           " packaged vegetables fruits",
           " fresh vegetables"
          ],
          [
           " fresh vegetables",
           " packaged vegetables fruits"
          ],
          [
           " yogurt",
           " fresh vegetables"
          ],
          [
           " packaged cheese",
           " packaged vegetables fruits"
          ],
          [
           " yogurt",
           " packaged vegetables fruits"
          ],
          [
           " packaged cheese",
           " fresh vegetables"
          ],
          [
           " packaged cheese",
           " fresh fruits"
          ],
          [
           " packaged vegetables fruits",
           " fresh fruits"
          ],
          [
           " packaged vegetables fruits",
           " fresh vegetables"
          ],
          [
           " fresh vegetables",
           " packaged vegetables fruits"
          ],
          [
           " packaged vegetables fruits",
           " fresh vegetables"
          ],
          [
           " fresh vegetables",
           " fresh fruits"
          ],
          [
           " fresh fruits",
           " fresh vegetables"
          ],
          [
           " packaged vegetables fruits",
           " fresh fruits"
          ],
          [
           " fresh fruits",
           " packaged vegetables fruits"
          ]
         ],
         "hovertemplate": "support=%{x}<br>confidence=%{y}<br>lift=%{z}<br>antecedents=%{customdata[0]}<br>consequents=%{customdata[1]}<br>antecedent support=%{marker.color}<extra></extra>",
         "legendgroup": "",
         "marker": {
          "color": [
           0.14743653255493144,
           0.1650039250356302,
           0.4301076907834066,
           0.5034258320694465,
           0.17625315336600386,
           0.22392518805874598,
           0.3589616565936788,
           0.5034258320694465,
           0.14585889687445222,
           0.1653926178844439,
           0.2314170521839203,
           0.1394568970116379,
           0.17625315336600386,
           0.22392518805874598,
           0.3589616565936788,
           0.4301076907834066,
           0.2314170521839203,
           0.22392518805874598,
           0.2314170521839203,
           0.14678871114024192,
           0.13523462567354375,
           0.23572315923450374,
           0.2597840087189141,
           0.3002919007080307,
           0.3589616565936788,
           0.13351980428171847,
           0.16313667507564267,
           0.1197173974346272,
           0.16313667507564267
          ],
          "coloraxis": "coloraxis",
          "opacity": 0.7,
          "symbol": "circle"
         },
         "mode": "markers",
         "name": "",
         "scene": "scene",
         "showlegend": false,
         "type": "scatter3d",
         "x": [
          0.09855269074529949,
          0.09969590500651632,
          0.3002919007080307,
          0.3002919007080307,
          0.11632586179301725,
          0.14678871114024192,
          0.2597840087189141,
          0.2597840087189141,
          0.09952061215312974,
          0.09542790509797346,
          0.16313667507564267,
          0.09278326944035852,
          0.09457430511626488,
          0.13523462567354375,
          0.23572315923450374,
          0.23572315923450374,
          0.13351980428171847,
          0.11576187609081694,
          0.1197173974346272,
          0.10297311922200458,
          0.10297311922200458,
          0.18526168174439253,
          0.18526168174439253,
          0.18526168174439253,
          0.18526168174439253,
          0.10853676195992652,
          0.10853676195992652,
          0.0980649193271803,
          0.0980649193271803
         ],
         "y": [
          0.6684414577410184,
          0.604203233256351,
          0.6981784030903356,
          0.5964968056438671,
          0.6599930813802647,
          0.6555256798611347,
          0.7237096329009108,
          0.516032337178672,
          0.6823074511443201,
          0.5769780194461085,
          0.7049466473455407,
          0.6653186140561811,
          0.5365822018507307,
          0.6039277083829686,
          0.6566806089301259,
          0.5480561363716908,
          0.5769661441180345,
          0.5169667472175896,
          0.5173231458305889,
          0.7015057113187954,
          0.7614404869251578,
          0.7859290633386142,
          0.7131373584462829,
          0.6169386563792797,
          0.5161043758890846,
          0.8128888635196073,
          0.66531184302733,
          0.8191367456073338,
          0.6011212333566924
         ],
         "z": [
          1.3277853760368983,
          1.200183214223704,
          1.3868545446313598,
          1.3868545446313598,
          1.31100360636484,
          1.3021296050034763,
          1.4375695222589944,
          1.4375695222589944,
          1.3553286456110925,
          1.1461033238487366,
          1.400298916818982,
          1.3215821908089966,
          1.2475531438961003,
          1.40413138691606,
          1.5267818339496206,
          1.5267818339496206,
          1.3414457738877839,
          1.440172613764044,
          1.4411654736042323,
          1.6310001572886528,
          1.512517710493884,
          1.5611615719198872,
          1.6580437265545298,
          1.7186756441722522,
          1.7186756441722522,
          1.6147142473361817,
          1.546849445578427,
          1.6271249773578083,
          1.6746112636679813
         ]
        }
       ],
       "layout": {
        "coloraxis": {
         "colorbar": {
          "title": {
           "text": "antecedent support"
          }
         },
         "colorscale": [
          [
           0,
           "#0d0887"
          ],
          [
           0.1111111111111111,
           "#46039f"
          ],
          [
           0.2222222222222222,
           "#7201a8"
          ],
          [
           0.3333333333333333,
           "#9c179e"
          ],
          [
           0.4444444444444444,
           "#bd3786"
          ],
          [
           0.5555555555555556,
           "#d8576b"
          ],
          [
           0.6666666666666666,
           "#ed7953"
          ],
          [
           0.7777777777777778,
           "#fb9f3a"
          ],
          [
           0.8888888888888888,
           "#fdca26"
          ],
          [
           1,
           "#f0f921"
          ]
         ]
        },
        "height": 800,
        "legend": {
         "tracegroupgap": 0
        },
        "scene": {
         "domain": {
          "x": [
           0,
           1
          ],
          "y": [
           0,
           1
          ]
         },
         "xaxis": {
          "title": {
           "text": "support"
          }
         },
         "yaxis": {
          "title": {
           "text": "confidence"
          }
         },
         "zaxis": {
          "title": {
           "text": "lift"
          }
         }
        },
        "template": {
         "data": {
          "bar": [
           {
            "error_x": {
             "color": "#2a3f5f"
            },
            "error_y": {
             "color": "#2a3f5f"
            },
            "marker": {
             "line": {
              "color": "#E5ECF6",
              "width": 0.5
             },
             "pattern": {
              "fillmode": "overlay",
              "size": 10,
              "solidity": 0.2
             }
            },
            "type": "bar"
           }
          ],
          "barpolar": [
           {
            "marker": {
             "line": {
              "color": "#E5ECF6",
              "width": 0.5
             },
             "pattern": {
              "fillmode": "overlay",
              "size": 10,
              "solidity": 0.2
             }
            },
            "type": "barpolar"
           }
          ],
          "carpet": [
           {
            "aaxis": {
             "endlinecolor": "#2a3f5f",
             "gridcolor": "white",
             "linecolor": "white",
             "minorgridcolor": "white",
             "startlinecolor": "#2a3f5f"
            },
            "baxis": {
             "endlinecolor": "#2a3f5f",
             "gridcolor": "white",
             "linecolor": "white",
             "minorgridcolor": "white",
             "startlinecolor": "#2a3f5f"
            },
            "type": "carpet"
           }
          ],
          "choropleth": [
           {
            "colorbar": {
             "outlinewidth": 0,
             "ticks": ""
            },
            "type": "choropleth"
           }
          ],
          "contour": [
           {
            "colorbar": {
             "outlinewidth": 0,
             "ticks": ""
            },
            "colorscale": [
             [
              0,
              "#0d0887"
             ],
             [
              0.1111111111111111,
              "#46039f"
             ],
             [
              0.2222222222222222,
              "#7201a8"
             ],
             [
              0.3333333333333333,
              "#9c179e"
             ],
             [
              0.4444444444444444,
              "#bd3786"
             ],
             [
              0.5555555555555556,
              "#d8576b"
             ],
             [
              0.6666666666666666,
              "#ed7953"
             ],
             [
              0.7777777777777778,
              "#fb9f3a"
             ],
             [
              0.8888888888888888,
              "#fdca26"
             ],
             [
              1,
              "#f0f921"
             ]
            ],
            "type": "contour"
           }
          ],
          "contourcarpet": [
           {
            "colorbar": {
             "outlinewidth": 0,
             "ticks": ""
            },
            "type": "contourcarpet"
           }
          ],
          "heatmap": [
           {
            "colorbar": {
             "outlinewidth": 0,
             "ticks": ""
            },
            "colorscale": [
             [
              0,
              "#0d0887"
             ],
             [
              0.1111111111111111,
              "#46039f"
             ],
             [
              0.2222222222222222,
              "#7201a8"
             ],
             [
              0.3333333333333333,
              "#9c179e"
             ],
             [
              0.4444444444444444,
              "#bd3786"
             ],
             [
              0.5555555555555556,
              "#d8576b"
             ],
             [
              0.6666666666666666,
              "#ed7953"
             ],
             [
              0.7777777777777778,
              "#fb9f3a"
             ],
             [
              0.8888888888888888,
              "#fdca26"
             ],
             [
              1,
              "#f0f921"
             ]
            ],
            "type": "heatmap"
           }
          ],
          "heatmapgl": [
           {
            "colorbar": {
             "outlinewidth": 0,
             "ticks": ""
            },
            "colorscale": [
             [
              0,
              "#0d0887"
             ],
             [
              0.1111111111111111,
              "#46039f"
             ],
             [
              0.2222222222222222,
              "#7201a8"
             ],
             [
              0.3333333333333333,
              "#9c179e"
             ],
             [
              0.4444444444444444,
              "#bd3786"
             ],
             [
              0.5555555555555556,
              "#d8576b"
             ],
             [
              0.6666666666666666,
              "#ed7953"
             ],
             [
              0.7777777777777778,
              "#fb9f3a"
             ],
             [
              0.8888888888888888,
              "#fdca26"
             ],
             [
              1,
              "#f0f921"
             ]
            ],
            "type": "heatmapgl"
           }
          ],
          "histogram": [
           {
            "marker": {
             "pattern": {
              "fillmode": "overlay",
              "size": 10,
              "solidity": 0.2
             }
            },
            "type": "histogram"
           }
          ],
          "histogram2d": [
           {
            "colorbar": {
             "outlinewidth": 0,
             "ticks": ""
            },
            "colorscale": [
             [
              0,
              "#0d0887"
             ],
             [
              0.1111111111111111,
              "#46039f"
             ],
             [
              0.2222222222222222,
              "#7201a8"
             ],
             [
              0.3333333333333333,
              "#9c179e"
             ],
             [
              0.4444444444444444,
              "#bd3786"
             ],
             [
              0.5555555555555556,
              "#d8576b"
             ],
             [
              0.6666666666666666,
              "#ed7953"
             ],
             [
              0.7777777777777778,
              "#fb9f3a"
             ],
             [
              0.8888888888888888,
              "#fdca26"
             ],
             [
              1,
              "#f0f921"
             ]
            ],
            "type": "histogram2d"
           }
          ],
          "histogram2dcontour": [
           {
            "colorbar": {
             "outlinewidth": 0,
             "ticks": ""
            },
            "colorscale": [
             [
              0,
              "#0d0887"
             ],
             [
              0.1111111111111111,
              "#46039f"
             ],
             [
              0.2222222222222222,
              "#7201a8"
             ],
             [
              0.3333333333333333,
              "#9c179e"
             ],
             [
              0.4444444444444444,
              "#bd3786"
             ],
             [
              0.5555555555555556,
              "#d8576b"
             ],
             [
              0.6666666666666666,
              "#ed7953"
             ],
             [
              0.7777777777777778,
              "#fb9f3a"
             ],
             [
              0.8888888888888888,
              "#fdca26"
             ],
             [
              1,
              "#f0f921"
             ]
            ],
            "type": "histogram2dcontour"
           }
          ],
          "mesh3d": [
           {
            "colorbar": {
             "outlinewidth": 0,
             "ticks": ""
            },
            "type": "mesh3d"
           }
          ],
          "parcoords": [
           {
            "line": {
             "colorbar": {
              "outlinewidth": 0,
              "ticks": ""
             }
            },
            "type": "parcoords"
           }
          ],
          "pie": [
           {
            "automargin": true,
            "type": "pie"
           }
          ],
          "scatter": [
           {
            "fillpattern": {
             "fillmode": "overlay",
             "size": 10,
             "solidity": 0.2
            },
            "type": "scatter"
           }
          ],
          "scatter3d": [
           {
            "line": {
             "colorbar": {
              "outlinewidth": 0,
              "ticks": ""
             }
            },
            "marker": {
             "colorbar": {
              "outlinewidth": 0,
              "ticks": ""
             }
            },
            "type": "scatter3d"
           }
          ],
          "scattercarpet": [
           {
            "marker": {
             "colorbar": {
              "outlinewidth": 0,
              "ticks": ""
             }
            },
            "type": "scattercarpet"
           }
          ],
          "scattergeo": [
           {
            "marker": {
             "colorbar": {
              "outlinewidth": 0,
              "ticks": ""
             }
            },
            "type": "scattergeo"
           }
          ],
          "scattergl": [
           {
            "marker": {
             "colorbar": {
              "outlinewidth": 0,
              "ticks": ""
             }
            },
            "type": "scattergl"
           }
          ],
          "scattermapbox": [
           {
            "marker": {
             "colorbar": {
              "outlinewidth": 0,
              "ticks": ""
             }
            },
            "type": "scattermapbox"
           }
          ],
          "scatterpolar": [
           {
            "marker": {
             "colorbar": {
              "outlinewidth": 0,
              "ticks": ""
             }
            },
            "type": "scatterpolar"
           }
          ],
          "scatterpolargl": [
           {
            "marker": {
             "colorbar": {
              "outlinewidth": 0,
              "ticks": ""
             }
            },
            "type": "scatterpolargl"
           }
          ],
          "scatterternary": [
           {
            "marker": {
             "colorbar": {
              "outlinewidth": 0,
              "ticks": ""
             }
            },
            "type": "scatterternary"
           }
          ],
          "surface": [
           {
            "colorbar": {
             "outlinewidth": 0,
             "ticks": ""
            },
            "colorscale": [
             [
              0,
              "#0d0887"
             ],
             [
              0.1111111111111111,
              "#46039f"
             ],
             [
              0.2222222222222222,
              "#7201a8"
             ],
             [
              0.3333333333333333,
              "#9c179e"
             ],
             [
              0.4444444444444444,
              "#bd3786"
             ],
             [
              0.5555555555555556,
              "#d8576b"
             ],
             [
              0.6666666666666666,
              "#ed7953"
             ],
             [
              0.7777777777777778,
              "#fb9f3a"
             ],
             [
              0.8888888888888888,
              "#fdca26"
             ],
             [
              1,
              "#f0f921"
             ]
            ],
            "type": "surface"
           }
          ],
          "table": [
           {
            "cells": {
             "fill": {
              "color": "#EBF0F8"
             },
             "line": {
              "color": "white"
             }
            },
            "header": {
             "fill": {
              "color": "#C8D4E3"
             },
             "line": {
              "color": "white"
             }
            },
            "type": "table"
           }
          ]
         },
         "layout": {
          "annotationdefaults": {
           "arrowcolor": "#2a3f5f",
           "arrowhead": 0,
           "arrowwidth": 1
          },
          "autotypenumbers": "strict",
          "coloraxis": {
           "colorbar": {
            "outlinewidth": 0,
            "ticks": ""
           }
          },
          "colorscale": {
           "diverging": [
            [
             0,
             "#8e0152"
            ],
            [
             0.1,
             "#c51b7d"
            ],
            [
             0.2,
             "#de77ae"
            ],
            [
             0.3,
             "#f1b6da"
            ],
            [
             0.4,
             "#fde0ef"
            ],
            [
             0.5,
             "#f7f7f7"
            ],
            [
             0.6,
             "#e6f5d0"
            ],
            [
             0.7,
             "#b8e186"
            ],
            [
             0.8,
             "#7fbc41"
            ],
            [
             0.9,
             "#4d9221"
            ],
            [
             1,
             "#276419"
            ]
           ],
           "sequential": [
            [
             0,
             "#0d0887"
            ],
            [
             0.1111111111111111,
             "#46039f"
            ],
            [
             0.2222222222222222,
             "#7201a8"
            ],
            [
             0.3333333333333333,
             "#9c179e"
            ],
            [
             0.4444444444444444,
             "#bd3786"
            ],
            [
             0.5555555555555556,
             "#d8576b"
            ],
            [
             0.6666666666666666,
             "#ed7953"
            ],
            [
             0.7777777777777778,
             "#fb9f3a"
            ],
            [
             0.8888888888888888,
             "#fdca26"
            ],
            [
             1,
             "#f0f921"
            ]
           ],
           "sequentialminus": [
            [
             0,
             "#0d0887"
            ],
            [
             0.1111111111111111,
             "#46039f"
            ],
            [
             0.2222222222222222,
             "#7201a8"
            ],
            [
             0.3333333333333333,
             "#9c179e"
            ],
            [
             0.4444444444444444,
             "#bd3786"
            ],
            [
             0.5555555555555556,
             "#d8576b"
            ],
            [
             0.6666666666666666,
             "#ed7953"
            ],
            [
             0.7777777777777778,
             "#fb9f3a"
            ],
            [
             0.8888888888888888,
             "#fdca26"
            ],
            [
             1,
             "#f0f921"
            ]
           ]
          },
          "colorway": [
           "#636efa",
           "#EF553B",
           "#00cc96",
           "#ab63fa",
           "#FFA15A",
           "#19d3f3",
           "#FF6692",
           "#B6E880",
           "#FF97FF",
           "#FECB52"
          ],
          "font": {
           "color": "#2a3f5f"
          },
          "geo": {
           "bgcolor": "white",
           "lakecolor": "white",
           "landcolor": "#E5ECF6",
           "showlakes": true,
           "showland": true,
           "subunitcolor": "white"
          },
          "hoverlabel": {
           "align": "left"
          },
          "hovermode": "closest",
          "mapbox": {
           "style": "light"
          },
          "paper_bgcolor": "white",
          "plot_bgcolor": "#E5ECF6",
          "polar": {
           "angularaxis": {
            "gridcolor": "white",
            "linecolor": "white",
            "ticks": ""
           },
           "bgcolor": "#E5ECF6",
           "radialaxis": {
            "gridcolor": "white",
            "linecolor": "white",
            "ticks": ""
           }
          },
          "scene": {
           "xaxis": {
            "backgroundcolor": "#E5ECF6",
            "gridcolor": "white",
            "gridwidth": 2,
            "linecolor": "white",
            "showbackground": true,
            "ticks": "",
            "zerolinecolor": "white"
           },
           "yaxis": {
            "backgroundcolor": "#E5ECF6",
            "gridcolor": "white",
            "gridwidth": 2,
            "linecolor": "white",
            "showbackground": true,
            "ticks": "",
            "zerolinecolor": "white"
           },
           "zaxis": {
            "backgroundcolor": "#E5ECF6",
            "gridcolor": "white",
            "gridwidth": 2,
            "linecolor": "white",
            "showbackground": true,
            "ticks": "",
            "zerolinecolor": "white"
           }
          },
          "shapedefaults": {
           "line": {
            "color": "#2a3f5f"
           }
          },
          "ternary": {
           "aaxis": {
            "gridcolor": "white",
            "linecolor": "white",
            "ticks": ""
           },
           "baxis": {
            "gridcolor": "white",
            "linecolor": "white",
            "ticks": ""
           },
           "bgcolor": "#E5ECF6",
           "caxis": {
            "gridcolor": "white",
            "linecolor": "white",
            "ticks": ""
           }
          },
          "title": {
           "x": 0.05
          },
          "xaxis": {
           "automargin": true,
           "gridcolor": "white",
           "linecolor": "white",
           "ticks": "",
           "title": {
            "standoff": 15
           },
           "zerolinecolor": "white",
           "zerolinewidth": 2
          },
          "yaxis": {
           "automargin": true,
           "gridcolor": "white",
           "linecolor": "white",
           "ticks": "",
           "title": {
            "standoff": 15
           },
           "zerolinecolor": "white",
           "zerolinewidth": 2
          }
         }
        },
        "title": {
         "text": "3d Plot for Rule Mining"
        },
        "width": 900
       }
      },
      "text/html": [
       "<div>                            <div id=\"38755b7f-cb8e-4307-9ac5-2153b3b03487\" class=\"plotly-graph-div\" style=\"height:800px; width:900px;\"></div>            <script type=\"text/javascript\">                require([\"plotly\"], function(Plotly) {                    window.PLOTLYENV=window.PLOTLYENV || {};                                    if (document.getElementById(\"38755b7f-cb8e-4307-9ac5-2153b3b03487\")) {                    Plotly.newPlot(                        \"38755b7f-cb8e-4307-9ac5-2153b3b03487\",                        [{\"customdata\":[[\" bread\",\" fresh fruits\"],[\" chips pretzels\",\" fresh fruits\"],[\" fresh vegetables\",\" fresh fruits\"],[\" fresh fruits\",\" fresh vegetables\"],[\" milk\",\" fresh fruits\"],[\" packaged cheese\",\" fresh fruits\"],[\" packaged vegetables fruits\",\" fresh fruits\"],[\" fresh fruits\",\" packaged vegetables fruits\"],[\" soy lactosefree\",\" fresh fruits\"],[\" water seltzer sparkling water\",\" fresh fruits\"],[\" yogurt\",\" fresh fruits\"],[\"fresh fruits\",\" fresh fruits\"],[\" milk\",\" fresh vegetables\"],[\" packaged cheese\",\" fresh vegetables\"],[\" packaged vegetables fruits\",\" fresh vegetables\"],[\" fresh vegetables\",\" packaged vegetables fruits\"],[\" yogurt\",\" fresh vegetables\"],[\" packaged cheese\",\" packaged vegetables fruits\"],[\" yogurt\",\" packaged vegetables fruits\"],[\" packaged cheese\",\" fresh vegetables\"],[\" packaged cheese\",\" fresh fruits\"],[\" packaged vegetables fruits\",\" fresh fruits\"],[\" packaged vegetables fruits\",\" fresh vegetables\"],[\" fresh vegetables\",\" packaged vegetables fruits\"],[\" packaged vegetables fruits\",\" fresh vegetables\"],[\" fresh vegetables\",\" fresh fruits\"],[\" fresh fruits\",\" fresh vegetables\"],[\" packaged vegetables fruits\",\" fresh fruits\"],[\" fresh fruits\",\" packaged vegetables fruits\"]],\"hovertemplate\":\"support=%{x}<br>confidence=%{y}<br>lift=%{z}<br>antecedents=%{customdata[0]}<br>consequents=%{customdata[1]}<br>antecedent support=%{marker.color}<extra></extra>\",\"legendgroup\":\"\",\"marker\":{\"color\":[0.14743653255493144,0.1650039250356302,0.4301076907834066,0.5034258320694465,0.17625315336600386,0.22392518805874598,0.3589616565936788,0.5034258320694465,0.14585889687445222,0.1653926178844439,0.2314170521839203,0.1394568970116379,0.17625315336600386,0.22392518805874598,0.3589616565936788,0.4301076907834066,0.2314170521839203,0.22392518805874598,0.2314170521839203,0.14678871114024192,0.13523462567354375,0.23572315923450374,0.2597840087189141,0.3002919007080307,0.3589616565936788,0.13351980428171847,0.16313667507564267,0.1197173974346272,0.16313667507564267],\"coloraxis\":\"coloraxis\",\"opacity\":0.7,\"symbol\":\"circle\"},\"mode\":\"markers\",\"name\":\"\",\"scene\":\"scene\",\"showlegend\":false,\"x\":[0.09855269074529949,0.09969590500651632,0.3002919007080307,0.3002919007080307,0.11632586179301725,0.14678871114024192,0.2597840087189141,0.2597840087189141,0.09952061215312974,0.09542790509797346,0.16313667507564267,0.09278326944035852,0.09457430511626488,0.13523462567354375,0.23572315923450374,0.23572315923450374,0.13351980428171847,0.11576187609081694,0.1197173974346272,0.10297311922200458,0.10297311922200458,0.18526168174439253,0.18526168174439253,0.18526168174439253,0.18526168174439253,0.10853676195992652,0.10853676195992652,0.0980649193271803,0.0980649193271803],\"y\":[0.6684414577410184,0.604203233256351,0.6981784030903356,0.5964968056438671,0.6599930813802647,0.6555256798611347,0.7237096329009108,0.516032337178672,0.6823074511443201,0.5769780194461085,0.7049466473455407,0.6653186140561811,0.5365822018507307,0.6039277083829686,0.6566806089301259,0.5480561363716908,0.5769661441180345,0.5169667472175896,0.5173231458305889,0.7015057113187954,0.7614404869251578,0.7859290633386142,0.7131373584462829,0.6169386563792797,0.5161043758890846,0.8128888635196073,0.66531184302733,0.8191367456073338,0.6011212333566924],\"z\":[1.3277853760368983,1.200183214223704,1.3868545446313598,1.3868545446313598,1.31100360636484,1.3021296050034763,1.4375695222589944,1.4375695222589944,1.3553286456110925,1.1461033238487366,1.400298916818982,1.3215821908089966,1.2475531438961003,1.40413138691606,1.5267818339496206,1.5267818339496206,1.3414457738877839,1.440172613764044,1.4411654736042323,1.6310001572886528,1.512517710493884,1.5611615719198872,1.6580437265545298,1.7186756441722522,1.7186756441722522,1.6147142473361817,1.546849445578427,1.6271249773578083,1.6746112636679813],\"type\":\"scatter3d\"}],                        {\"template\":{\"data\":{\"histogram2dcontour\":[{\"type\":\"histogram2dcontour\",\"colorbar\":{\"outlinewidth\":0,\"ticks\":\"\"},\"colorscale\":[[0.0,\"#0d0887\"],[0.1111111111111111,\"#46039f\"],[0.2222222222222222,\"#7201a8\"],[0.3333333333333333,\"#9c179e\"],[0.4444444444444444,\"#bd3786\"],[0.5555555555555556,\"#d8576b\"],[0.6666666666666666,\"#ed7953\"],[0.7777777777777778,\"#fb9f3a\"],[0.8888888888888888,\"#fdca26\"],[1.0,\"#f0f921\"]]}],\"choropleth\":[{\"type\":\"choropleth\",\"colorbar\":{\"outlinewidth\":0,\"ticks\":\"\"}}],\"histogram2d\":[{\"type\":\"histogram2d\",\"colorbar\":{\"outlinewidth\":0,\"ticks\":\"\"},\"colorscale\":[[0.0,\"#0d0887\"],[0.1111111111111111,\"#46039f\"],[0.2222222222222222,\"#7201a8\"],[0.3333333333333333,\"#9c179e\"],[0.4444444444444444,\"#bd3786\"],[0.5555555555555556,\"#d8576b\"],[0.6666666666666666,\"#ed7953\"],[0.7777777777777778,\"#fb9f3a\"],[0.8888888888888888,\"#fdca26\"],[1.0,\"#f0f921\"]]}],\"heatmap\":[{\"type\":\"heatmap\",\"colorbar\":{\"outlinewidth\":0,\"ticks\":\"\"},\"colorscale\":[[0.0,\"#0d0887\"],[0.1111111111111111,\"#46039f\"],[0.2222222222222222,\"#7201a8\"],[0.3333333333333333,\"#9c179e\"],[0.4444444444444444,\"#bd3786\"],[0.5555555555555556,\"#d8576b\"],[0.6666666666666666,\"#ed7953\"],[0.7777777777777778,\"#fb9f3a\"],[0.8888888888888888,\"#fdca26\"],[1.0,\"#f0f921\"]]}],\"heatmapgl\":[{\"type\":\"heatmapgl\",\"colorbar\":{\"outlinewidth\":0,\"ticks\":\"\"},\"colorscale\":[[0.0,\"#0d0887\"],[0.1111111111111111,\"#46039f\"],[0.2222222222222222,\"#7201a8\"],[0.3333333333333333,\"#9c179e\"],[0.4444444444444444,\"#bd3786\"],[0.5555555555555556,\"#d8576b\"],[0.6666666666666666,\"#ed7953\"],[0.7777777777777778,\"#fb9f3a\"],[0.8888888888888888,\"#fdca26\"],[1.0,\"#f0f921\"]]}],\"contourcarpet\":[{\"type\":\"contourcarpet\",\"colorbar\":{\"outlinewidth\":0,\"ticks\":\"\"}}],\"contour\":[{\"type\":\"contour\",\"colorbar\":{\"outlinewidth\":0,\"ticks\":\"\"},\"colorscale\":[[0.0,\"#0d0887\"],[0.1111111111111111,\"#46039f\"],[0.2222222222222222,\"#7201a8\"],[0.3333333333333333,\"#9c179e\"],[0.4444444444444444,\"#bd3786\"],[0.5555555555555556,\"#d8576b\"],[0.6666666666666666,\"#ed7953\"],[0.7777777777777778,\"#fb9f3a\"],[0.8888888888888888,\"#fdca26\"],[1.0,\"#f0f921\"]]}],\"surface\":[{\"type\":\"surface\",\"colorbar\":{\"outlinewidth\":0,\"ticks\":\"\"},\"colorscale\":[[0.0,\"#0d0887\"],[0.1111111111111111,\"#46039f\"],[0.2222222222222222,\"#7201a8\"],[0.3333333333333333,\"#9c179e\"],[0.4444444444444444,\"#bd3786\"],[0.5555555555555556,\"#d8576b\"],[0.6666666666666666,\"#ed7953\"],[0.7777777777777778,\"#fb9f3a\"],[0.8888888888888888,\"#fdca26\"],[1.0,\"#f0f921\"]]}],\"mesh3d\":[{\"type\":\"mesh3d\",\"colorbar\":{\"outlinewidth\":0,\"ticks\":\"\"}}],\"scatter\":[{\"fillpattern\":{\"fillmode\":\"overlay\",\"size\":10,\"solidity\":0.2},\"type\":\"scatter\"}],\"parcoords\":[{\"type\":\"parcoords\",\"line\":{\"colorbar\":{\"outlinewidth\":0,\"ticks\":\"\"}}}],\"scatterpolargl\":[{\"type\":\"scatterpolargl\",\"marker\":{\"colorbar\":{\"outlinewidth\":0,\"ticks\":\"\"}}}],\"bar\":[{\"error_x\":{\"color\":\"#2a3f5f\"},\"error_y\":{\"color\":\"#2a3f5f\"},\"marker\":{\"line\":{\"color\":\"#E5ECF6\",\"width\":0.5},\"pattern\":{\"fillmode\":\"overlay\",\"size\":10,\"solidity\":0.2}},\"type\":\"bar\"}],\"scattergeo\":[{\"type\":\"scattergeo\",\"marker\":{\"colorbar\":{\"outlinewidth\":0,\"ticks\":\"\"}}}],\"scatterpolar\":[{\"type\":\"scatterpolar\",\"marker\":{\"colorbar\":{\"outlinewidth\":0,\"ticks\":\"\"}}}],\"histogram\":[{\"marker\":{\"pattern\":{\"fillmode\":\"overlay\",\"size\":10,\"solidity\":0.2}},\"type\":\"histogram\"}],\"scattergl\":[{\"type\":\"scattergl\",\"marker\":{\"colorbar\":{\"outlinewidth\":0,\"ticks\":\"\"}}}],\"scatter3d\":[{\"type\":\"scatter3d\",\"line\":{\"colorbar\":{\"outlinewidth\":0,\"ticks\":\"\"}},\"marker\":{\"colorbar\":{\"outlinewidth\":0,\"ticks\":\"\"}}}],\"scattermapbox\":[{\"type\":\"scattermapbox\",\"marker\":{\"colorbar\":{\"outlinewidth\":0,\"ticks\":\"\"}}}],\"scatterternary\":[{\"type\":\"scatterternary\",\"marker\":{\"colorbar\":{\"outlinewidth\":0,\"ticks\":\"\"}}}],\"scattercarpet\":[{\"type\":\"scattercarpet\",\"marker\":{\"colorbar\":{\"outlinewidth\":0,\"ticks\":\"\"}}}],\"carpet\":[{\"aaxis\":{\"endlinecolor\":\"#2a3f5f\",\"gridcolor\":\"white\",\"linecolor\":\"white\",\"minorgridcolor\":\"white\",\"startlinecolor\":\"#2a3f5f\"},\"baxis\":{\"endlinecolor\":\"#2a3f5f\",\"gridcolor\":\"white\",\"linecolor\":\"white\",\"minorgridcolor\":\"white\",\"startlinecolor\":\"#2a3f5f\"},\"type\":\"carpet\"}],\"table\":[{\"cells\":{\"fill\":{\"color\":\"#EBF0F8\"},\"line\":{\"color\":\"white\"}},\"header\":{\"fill\":{\"color\":\"#C8D4E3\"},\"line\":{\"color\":\"white\"}},\"type\":\"table\"}],\"barpolar\":[{\"marker\":{\"line\":{\"color\":\"#E5ECF6\",\"width\":0.5},\"pattern\":{\"fillmode\":\"overlay\",\"size\":10,\"solidity\":0.2}},\"type\":\"barpolar\"}],\"pie\":[{\"automargin\":true,\"type\":\"pie\"}]},\"layout\":{\"autotypenumbers\":\"strict\",\"colorway\":[\"#636efa\",\"#EF553B\",\"#00cc96\",\"#ab63fa\",\"#FFA15A\",\"#19d3f3\",\"#FF6692\",\"#B6E880\",\"#FF97FF\",\"#FECB52\"],\"font\":{\"color\":\"#2a3f5f\"},\"hovermode\":\"closest\",\"hoverlabel\":{\"align\":\"left\"},\"paper_bgcolor\":\"white\",\"plot_bgcolor\":\"#E5ECF6\",\"polar\":{\"bgcolor\":\"#E5ECF6\",\"angularaxis\":{\"gridcolor\":\"white\",\"linecolor\":\"white\",\"ticks\":\"\"},\"radialaxis\":{\"gridcolor\":\"white\",\"linecolor\":\"white\",\"ticks\":\"\"}},\"ternary\":{\"bgcolor\":\"#E5ECF6\",\"aaxis\":{\"gridcolor\":\"white\",\"linecolor\":\"white\",\"ticks\":\"\"},\"baxis\":{\"gridcolor\":\"white\",\"linecolor\":\"white\",\"ticks\":\"\"},\"caxis\":{\"gridcolor\":\"white\",\"linecolor\":\"white\",\"ticks\":\"\"}},\"coloraxis\":{\"colorbar\":{\"outlinewidth\":0,\"ticks\":\"\"}},\"colorscale\":{\"sequential\":[[0.0,\"#0d0887\"],[0.1111111111111111,\"#46039f\"],[0.2222222222222222,\"#7201a8\"],[0.3333333333333333,\"#9c179e\"],[0.4444444444444444,\"#bd3786\"],[0.5555555555555556,\"#d8576b\"],[0.6666666666666666,\"#ed7953\"],[0.7777777777777778,\"#fb9f3a\"],[0.8888888888888888,\"#fdca26\"],[1.0,\"#f0f921\"]],\"sequentialminus\":[[0.0,\"#0d0887\"],[0.1111111111111111,\"#46039f\"],[0.2222222222222222,\"#7201a8\"],[0.3333333333333333,\"#9c179e\"],[0.4444444444444444,\"#bd3786\"],[0.5555555555555556,\"#d8576b\"],[0.6666666666666666,\"#ed7953\"],[0.7777777777777778,\"#fb9f3a\"],[0.8888888888888888,\"#fdca26\"],[1.0,\"#f0f921\"]],\"diverging\":[[0,\"#8e0152\"],[0.1,\"#c51b7d\"],[0.2,\"#de77ae\"],[0.3,\"#f1b6da\"],[0.4,\"#fde0ef\"],[0.5,\"#f7f7f7\"],[0.6,\"#e6f5d0\"],[0.7,\"#b8e186\"],[0.8,\"#7fbc41\"],[0.9,\"#4d9221\"],[1,\"#276419\"]]},\"xaxis\":{\"gridcolor\":\"white\",\"linecolor\":\"white\",\"ticks\":\"\",\"title\":{\"standoff\":15},\"zerolinecolor\":\"white\",\"automargin\":true,\"zerolinewidth\":2},\"yaxis\":{\"gridcolor\":\"white\",\"linecolor\":\"white\",\"ticks\":\"\",\"title\":{\"standoff\":15},\"zerolinecolor\":\"white\",\"automargin\":true,\"zerolinewidth\":2},\"scene\":{\"xaxis\":{\"backgroundcolor\":\"#E5ECF6\",\"gridcolor\":\"white\",\"linecolor\":\"white\",\"showbackground\":true,\"ticks\":\"\",\"zerolinecolor\":\"white\",\"gridwidth\":2},\"yaxis\":{\"backgroundcolor\":\"#E5ECF6\",\"gridcolor\":\"white\",\"linecolor\":\"white\",\"showbackground\":true,\"ticks\":\"\",\"zerolinecolor\":\"white\",\"gridwidth\":2},\"zaxis\":{\"backgroundcolor\":\"#E5ECF6\",\"gridcolor\":\"white\",\"linecolor\":\"white\",\"showbackground\":true,\"ticks\":\"\",\"zerolinecolor\":\"white\",\"gridwidth\":2}},\"shapedefaults\":{\"line\":{\"color\":\"#2a3f5f\"}},\"annotationdefaults\":{\"arrowcolor\":\"#2a3f5f\",\"arrowhead\":0,\"arrowwidth\":1},\"geo\":{\"bgcolor\":\"white\",\"landcolor\":\"#E5ECF6\",\"subunitcolor\":\"white\",\"showland\":true,\"showlakes\":true,\"lakecolor\":\"white\"},\"title\":{\"x\":0.05},\"mapbox\":{\"style\":\"light\"}}},\"scene\":{\"domain\":{\"x\":[0.0,1.0],\"y\":[0.0,1.0]},\"xaxis\":{\"title\":{\"text\":\"support\"}},\"yaxis\":{\"title\":{\"text\":\"confidence\"}},\"zaxis\":{\"title\":{\"text\":\"lift\"}}},\"coloraxis\":{\"colorbar\":{\"title\":{\"text\":\"antecedent support\"}},\"colorscale\":[[0.0,\"#0d0887\"],[0.1111111111111111,\"#46039f\"],[0.2222222222222222,\"#7201a8\"],[0.3333333333333333,\"#9c179e\"],[0.4444444444444444,\"#bd3786\"],[0.5555555555555556,\"#d8576b\"],[0.6666666666666666,\"#ed7953\"],[0.7777777777777778,\"#fb9f3a\"],[0.8888888888888888,\"#fdca26\"],[1.0,\"#f0f921\"]]},\"legend\":{\"tracegroupgap\":0},\"title\":{\"text\":\"3d Plot for Rule Mining\"},\"height\":800,\"width\":900},                        {\"responsive\": true}                    ).then(function(){\n",
       "                            \n",
       "var gd = document.getElementById('38755b7f-cb8e-4307-9ac5-2153b3b03487');\n",
       "var x = new MutationObserver(function (mutations, observer) {{\n",
       "        var display = window.getComputedStyle(gd).display;\n",
       "        if (!display || display === 'none') {{\n",
       "            console.log([gd, 'removed!']);\n",
       "            Plotly.purge(gd);\n",
       "            observer.disconnect();\n",
       "        }}\n",
       "}});\n",
       "\n",
       "// Listen for the removal of the full notebook cells\n",
       "var notebookContainer = gd.closest('#notebook-container');\n",
       "if (notebookContainer) {{\n",
       "    x.observe(notebookContainer, {childList: true});\n",
       "}}\n",
       "\n",
       "// Listen for the clearing of the current output cell\n",
       "var outputEl = gd.closest('.output');\n",
       "if (outputEl) {{\n",
       "    x.observe(outputEl, {childList: true});\n",
       "}}\n",
       "\n",
       "                        })                };                });            </script>        </div>"
      ]
     },
     "metadata": {},
     "output_type": "display_data"
    }
   ],
   "source": [
    "plot_model(rule_APRIORI, plot = '3d')"
   ]
  },
  {
   "attachments": {},
   "cell_type": "markdown",
   "metadata": {},
   "source": [
    "## <span style=\"color:#6ebdfa\">Association Rules for departments</span>"
   ]
  },
  {
   "cell_type": "code",
   "execution_count": 14,
   "metadata": {},
   "outputs": [],
   "source": [
    "# Create an empty list to store the column values\n",
    "column_list = []\n",
    "\n",
    "# Loop over the values in the 'column_name' column and add them to the list\n",
    "for value in transaction_department[\"products\"]:\n",
    "    my_list = value.split(\",\")\n",
    "    column_list.append(my_list)"
   ]
  },
  {
   "cell_type": "code",
   "execution_count": 15,
   "metadata": {},
   "outputs": [
    {
     "data": {
      "text/html": [
       "<div>\n",
       "<style scoped>\n",
       "    .dataframe tbody tr th:only-of-type {\n",
       "        vertical-align: middle;\n",
       "    }\n",
       "\n",
       "    .dataframe tbody tr th {\n",
       "        vertical-align: top;\n",
       "    }\n",
       "\n",
       "    .dataframe thead th {\n",
       "        text-align: right;\n",
       "    }\n",
       "</style>\n",
       "<table border=\"1\" class=\"dataframe\">\n",
       "  <thead>\n",
       "    <tr style=\"text-align: right;\">\n",
       "      <th></th>\n",
       "      <th>alcohol</th>\n",
       "      <th>babies</th>\n",
       "      <th>bakery</th>\n",
       "      <th>beverages</th>\n",
       "      <th>breakfast</th>\n",
       "      <th>bulk</th>\n",
       "      <th>canned goods</th>\n",
       "      <th>dairy eggs</th>\n",
       "      <th>deli</th>\n",
       "      <th>dry goods pasta</th>\n",
       "      <th>...</th>\n",
       "      <th>household</th>\n",
       "      <th>international</th>\n",
       "      <th>meat seafood</th>\n",
       "      <th>missing</th>\n",
       "      <th>other</th>\n",
       "      <th>pantry</th>\n",
       "      <th>personal care</th>\n",
       "      <th>pets</th>\n",
       "      <th>produce</th>\n",
       "      <th>snacks</th>\n",
       "    </tr>\n",
       "  </thead>\n",
       "  <tbody>\n",
       "    <tr>\n",
       "      <th>0</th>\n",
       "      <td>False</td>\n",
       "      <td>False</td>\n",
       "      <td>False</td>\n",
       "      <td>True</td>\n",
       "      <td>False</td>\n",
       "      <td>False</td>\n",
       "      <td>False</td>\n",
       "      <td>False</td>\n",
       "      <td>False</td>\n",
       "      <td>False</td>\n",
       "      <td>...</td>\n",
       "      <td>False</td>\n",
       "      <td>False</td>\n",
       "      <td>False</td>\n",
       "      <td>False</td>\n",
       "      <td>False</td>\n",
       "      <td>False</td>\n",
       "      <td>False</td>\n",
       "      <td>False</td>\n",
       "      <td>False</td>\n",
       "      <td>False</td>\n",
       "    </tr>\n",
       "    <tr>\n",
       "      <th>1</th>\n",
       "      <td>False</td>\n",
       "      <td>False</td>\n",
       "      <td>False</td>\n",
       "      <td>False</td>\n",
       "      <td>False</td>\n",
       "      <td>False</td>\n",
       "      <td>True</td>\n",
       "      <td>False</td>\n",
       "      <td>False</td>\n",
       "      <td>False</td>\n",
       "      <td>...</td>\n",
       "      <td>False</td>\n",
       "      <td>False</td>\n",
       "      <td>False</td>\n",
       "      <td>False</td>\n",
       "      <td>False</td>\n",
       "      <td>False</td>\n",
       "      <td>False</td>\n",
       "      <td>False</td>\n",
       "      <td>False</td>\n",
       "      <td>False</td>\n",
       "    </tr>\n",
       "    <tr>\n",
       "      <th>2</th>\n",
       "      <td>False</td>\n",
       "      <td>False</td>\n",
       "      <td>False</td>\n",
       "      <td>False</td>\n",
       "      <td>False</td>\n",
       "      <td>False</td>\n",
       "      <td>True</td>\n",
       "      <td>True</td>\n",
       "      <td>True</td>\n",
       "      <td>True</td>\n",
       "      <td>...</td>\n",
       "      <td>False</td>\n",
       "      <td>False</td>\n",
       "      <td>False</td>\n",
       "      <td>False</td>\n",
       "      <td>False</td>\n",
       "      <td>False</td>\n",
       "      <td>False</td>\n",
       "      <td>False</td>\n",
       "      <td>False</td>\n",
       "      <td>False</td>\n",
       "    </tr>\n",
       "    <tr>\n",
       "      <th>3</th>\n",
       "      <td>False</td>\n",
       "      <td>False</td>\n",
       "      <td>True</td>\n",
       "      <td>False</td>\n",
       "      <td>False</td>\n",
       "      <td>False</td>\n",
       "      <td>True</td>\n",
       "      <td>True</td>\n",
       "      <td>False</td>\n",
       "      <td>False</td>\n",
       "      <td>...</td>\n",
       "      <td>False</td>\n",
       "      <td>False</td>\n",
       "      <td>False</td>\n",
       "      <td>False</td>\n",
       "      <td>False</td>\n",
       "      <td>False</td>\n",
       "      <td>False</td>\n",
       "      <td>False</td>\n",
       "      <td>True</td>\n",
       "      <td>False</td>\n",
       "    </tr>\n",
       "    <tr>\n",
       "      <th>4</th>\n",
       "      <td>False</td>\n",
       "      <td>False</td>\n",
       "      <td>True</td>\n",
       "      <td>True</td>\n",
       "      <td>False</td>\n",
       "      <td>False</td>\n",
       "      <td>True</td>\n",
       "      <td>True</td>\n",
       "      <td>False</td>\n",
       "      <td>False</td>\n",
       "      <td>...</td>\n",
       "      <td>False</td>\n",
       "      <td>False</td>\n",
       "      <td>False</td>\n",
       "      <td>False</td>\n",
       "      <td>False</td>\n",
       "      <td>False</td>\n",
       "      <td>False</td>\n",
       "      <td>False</td>\n",
       "      <td>True</td>\n",
       "      <td>False</td>\n",
       "    </tr>\n",
       "    <tr>\n",
       "      <th>...</th>\n",
       "      <td>...</td>\n",
       "      <td>...</td>\n",
       "      <td>...</td>\n",
       "      <td>...</td>\n",
       "      <td>...</td>\n",
       "      <td>...</td>\n",
       "      <td>...</td>\n",
       "      <td>...</td>\n",
       "      <td>...</td>\n",
       "      <td>...</td>\n",
       "      <td>...</td>\n",
       "      <td>...</td>\n",
       "      <td>...</td>\n",
       "      <td>...</td>\n",
       "      <td>...</td>\n",
       "      <td>...</td>\n",
       "      <td>...</td>\n",
       "      <td>...</td>\n",
       "      <td>...</td>\n",
       "      <td>...</td>\n",
       "      <td>...</td>\n",
       "    </tr>\n",
       "    <tr>\n",
       "      <th>131204</th>\n",
       "      <td>False</td>\n",
       "      <td>False</td>\n",
       "      <td>False</td>\n",
       "      <td>True</td>\n",
       "      <td>False</td>\n",
       "      <td>False</td>\n",
       "      <td>False</td>\n",
       "      <td>False</td>\n",
       "      <td>False</td>\n",
       "      <td>False</td>\n",
       "      <td>...</td>\n",
       "      <td>False</td>\n",
       "      <td>False</td>\n",
       "      <td>False</td>\n",
       "      <td>False</td>\n",
       "      <td>False</td>\n",
       "      <td>False</td>\n",
       "      <td>False</td>\n",
       "      <td>False</td>\n",
       "      <td>False</td>\n",
       "      <td>True</td>\n",
       "    </tr>\n",
       "    <tr>\n",
       "      <th>131205</th>\n",
       "      <td>False</td>\n",
       "      <td>False</td>\n",
       "      <td>False</td>\n",
       "      <td>True</td>\n",
       "      <td>False</td>\n",
       "      <td>False</td>\n",
       "      <td>False</td>\n",
       "      <td>True</td>\n",
       "      <td>False</td>\n",
       "      <td>False</td>\n",
       "      <td>...</td>\n",
       "      <td>False</td>\n",
       "      <td>False</td>\n",
       "      <td>False</td>\n",
       "      <td>False</td>\n",
       "      <td>False</td>\n",
       "      <td>False</td>\n",
       "      <td>False</td>\n",
       "      <td>False</td>\n",
       "      <td>True</td>\n",
       "      <td>False</td>\n",
       "    </tr>\n",
       "    <tr>\n",
       "      <th>131206</th>\n",
       "      <td>False</td>\n",
       "      <td>False</td>\n",
       "      <td>True</td>\n",
       "      <td>True</td>\n",
       "      <td>True</td>\n",
       "      <td>False</td>\n",
       "      <td>True</td>\n",
       "      <td>True</td>\n",
       "      <td>False</td>\n",
       "      <td>True</td>\n",
       "      <td>...</td>\n",
       "      <td>False</td>\n",
       "      <td>False</td>\n",
       "      <td>False</td>\n",
       "      <td>False</td>\n",
       "      <td>False</td>\n",
       "      <td>False</td>\n",
       "      <td>False</td>\n",
       "      <td>False</td>\n",
       "      <td>False</td>\n",
       "      <td>True</td>\n",
       "    </tr>\n",
       "    <tr>\n",
       "      <th>131207</th>\n",
       "      <td>False</td>\n",
       "      <td>False</td>\n",
       "      <td>False</td>\n",
       "      <td>True</td>\n",
       "      <td>False</td>\n",
       "      <td>False</td>\n",
       "      <td>True</td>\n",
       "      <td>True</td>\n",
       "      <td>False</td>\n",
       "      <td>False</td>\n",
       "      <td>...</td>\n",
       "      <td>False</td>\n",
       "      <td>False</td>\n",
       "      <td>False</td>\n",
       "      <td>False</td>\n",
       "      <td>False</td>\n",
       "      <td>False</td>\n",
       "      <td>False</td>\n",
       "      <td>False</td>\n",
       "      <td>False</td>\n",
       "      <td>True</td>\n",
       "    </tr>\n",
       "    <tr>\n",
       "      <th>131208</th>\n",
       "      <td>False</td>\n",
       "      <td>False</td>\n",
       "      <td>True</td>\n",
       "      <td>True</td>\n",
       "      <td>False</td>\n",
       "      <td>False</td>\n",
       "      <td>True</td>\n",
       "      <td>True</td>\n",
       "      <td>False</td>\n",
       "      <td>False</td>\n",
       "      <td>...</td>\n",
       "      <td>False</td>\n",
       "      <td>False</td>\n",
       "      <td>False</td>\n",
       "      <td>False</td>\n",
       "      <td>False</td>\n",
       "      <td>False</td>\n",
       "      <td>False</td>\n",
       "      <td>False</td>\n",
       "      <td>False</td>\n",
       "      <td>True</td>\n",
       "    </tr>\n",
       "  </tbody>\n",
       "</table>\n",
       "<p>131209 rows × 42 columns</p>\n",
       "</div>"
      ],
      "text/plain": [
       "         alcohol   babies   bakery   beverages   breakfast   bulk  \\\n",
       "0          False    False    False        True       False  False   \n",
       "1          False    False    False       False       False  False   \n",
       "2          False    False    False       False       False  False   \n",
       "3          False    False     True       False       False  False   \n",
       "4          False    False     True        True       False  False   \n",
       "...          ...      ...      ...         ...         ...    ...   \n",
       "131204     False    False    False        True       False  False   \n",
       "131205     False    False    False        True       False  False   \n",
       "131206     False    False     True        True        True  False   \n",
       "131207     False    False    False        True       False  False   \n",
       "131208     False    False     True        True       False  False   \n",
       "\n",
       "         canned goods   dairy eggs   deli   dry goods pasta  ...  household  \\\n",
       "0               False        False  False             False  ...      False   \n",
       "1                True        False  False             False  ...      False   \n",
       "2                True         True   True              True  ...      False   \n",
       "3                True         True  False             False  ...      False   \n",
       "4                True         True  False             False  ...      False   \n",
       "...               ...          ...    ...               ...  ...        ...   \n",
       "131204          False        False  False             False  ...      False   \n",
       "131205          False         True  False             False  ...      False   \n",
       "131206           True         True  False              True  ...      False   \n",
       "131207           True         True  False             False  ...      False   \n",
       "131208           True         True  False             False  ...      False   \n",
       "\n",
       "        international  meat seafood  missing  other  pantry  personal care  \\\n",
       "0               False         False    False  False   False          False   \n",
       "1               False         False    False  False   False          False   \n",
       "2               False         False    False  False   False          False   \n",
       "3               False         False    False  False   False          False   \n",
       "4               False         False    False  False   False          False   \n",
       "...               ...           ...      ...    ...     ...            ...   \n",
       "131204          False         False    False  False   False          False   \n",
       "131205          False         False    False  False   False          False   \n",
       "131206          False         False    False  False   False          False   \n",
       "131207          False         False    False  False   False          False   \n",
       "131208          False         False    False  False   False          False   \n",
       "\n",
       "         pets  produce  snacks  \n",
       "0       False    False   False  \n",
       "1       False    False   False  \n",
       "2       False    False   False  \n",
       "3       False     True   False  \n",
       "4       False     True   False  \n",
       "...       ...      ...     ...  \n",
       "131204  False    False    True  \n",
       "131205  False     True   False  \n",
       "131206  False    False    True  \n",
       "131207  False    False    True  \n",
       "131208  False    False    True  \n",
       "\n",
       "[131209 rows x 42 columns]"
      ]
     },
     "execution_count": 15,
     "metadata": {},
     "output_type": "execute_result"
    }
   ],
   "source": [
    "\n",
    "te = TransactionEncoder()\n",
    "te_ary = te.fit(column_list).transform(column_list)\n",
    "df_ = pd.DataFrame(te_ary, columns=te.columns_)\n",
    "df_"
   ]
  },
  {
   "cell_type": "code",
   "execution_count": 16,
   "metadata": {},
   "outputs": [],
   "source": [
    "df_apriori = apriori(df_, min_support=0.09, use_colnames=True)"
   ]
  },
  {
   "cell_type": "code",
   "execution_count": 17,
   "metadata": {},
   "outputs": [
    {
     "data": {
      "text/html": [
       "<div>\n",
       "<style scoped>\n",
       "    .dataframe tbody tr th:only-of-type {\n",
       "        vertical-align: middle;\n",
       "    }\n",
       "\n",
       "    .dataframe tbody tr th {\n",
       "        vertical-align: top;\n",
       "    }\n",
       "\n",
       "    .dataframe thead th {\n",
       "        text-align: right;\n",
       "    }\n",
       "</style>\n",
       "<table border=\"1\" class=\"dataframe\">\n",
       "  <thead>\n",
       "    <tr style=\"text-align: right;\">\n",
       "      <th></th>\n",
       "      <th>support</th>\n",
       "      <th>itemsets</th>\n",
       "    </tr>\n",
       "  </thead>\n",
       "  <tbody>\n",
       "    <tr>\n",
       "      <th>0</th>\n",
       "      <td>0.253321</td>\n",
       "      <td>( bakery)</td>\n",
       "    </tr>\n",
       "    <tr>\n",
       "      <th>1</th>\n",
       "      <td>0.405887</td>\n",
       "      <td>( beverages)</td>\n",
       "    </tr>\n",
       "    <tr>\n",
       "      <th>2</th>\n",
       "      <td>0.155264</td>\n",
       "      <td>( breakfast)</td>\n",
       "    </tr>\n",
       "    <tr>\n",
       "      <th>3</th>\n",
       "      <td>0.212516</td>\n",
       "      <td>( canned goods)</td>\n",
       "    </tr>\n",
       "    <tr>\n",
       "      <th>4</th>\n",
       "      <td>0.608845</td>\n",
       "      <td>( dairy eggs)</td>\n",
       "    </tr>\n",
       "    <tr>\n",
       "      <th>...</th>\n",
       "      <td>...</td>\n",
       "      <td>...</td>\n",
       "    </tr>\n",
       "    <tr>\n",
       "      <th>129</th>\n",
       "      <td>0.091625</td>\n",
       "      <td>( snacks,  beverages,  produce,  frozen)</td>\n",
       "    </tr>\n",
       "    <tr>\n",
       "      <th>130</th>\n",
       "      <td>0.098377</td>\n",
       "      <td>( snacks,  deli,  dairy eggs,  produce)</td>\n",
       "    </tr>\n",
       "    <tr>\n",
       "      <th>131</th>\n",
       "      <td>0.115930</td>\n",
       "      <td>( pantry,  dairy eggs,  produce,  frozen)</td>\n",
       "    </tr>\n",
       "    <tr>\n",
       "      <th>132</th>\n",
       "      <td>0.135707</td>\n",
       "      <td>( snacks,  dairy eggs,  produce,  frozen)</td>\n",
       "    </tr>\n",
       "    <tr>\n",
       "      <th>133</th>\n",
       "      <td>0.123414</td>\n",
       "      <td>( snacks,  pantry,  dairy eggs,  produce)</td>\n",
       "    </tr>\n",
       "  </tbody>\n",
       "</table>\n",
       "<p>134 rows × 2 columns</p>\n",
       "</div>"
      ],
      "text/plain": [
       "      support                                   itemsets\n",
       "0    0.253321                                  ( bakery)\n",
       "1    0.405887                               ( beverages)\n",
       "2    0.155264                               ( breakfast)\n",
       "3    0.212516                            ( canned goods)\n",
       "4    0.608845                              ( dairy eggs)\n",
       "..        ...                                        ...\n",
       "129  0.091625   ( snacks,  beverages,  produce,  frozen)\n",
       "130  0.098377    ( snacks,  deli,  dairy eggs,  produce)\n",
       "131  0.115930  ( pantry,  dairy eggs,  produce,  frozen)\n",
       "132  0.135707  ( snacks,  dairy eggs,  produce,  frozen)\n",
       "133  0.123414  ( snacks,  pantry,  dairy eggs,  produce)\n",
       "\n",
       "[134 rows x 2 columns]"
      ]
     },
     "execution_count": 17,
     "metadata": {},
     "output_type": "execute_result"
    }
   ],
   "source": [
    "df_apriori"
   ]
  },
  {
   "cell_type": "code",
   "execution_count": 30,
   "metadata": {},
   "outputs": [
    {
     "data": {
      "text/html": [
       "<div>\n",
       "<style scoped>\n",
       "    .dataframe tbody tr th:only-of-type {\n",
       "        vertical-align: middle;\n",
       "    }\n",
       "\n",
       "    .dataframe tbody tr th {\n",
       "        vertical-align: top;\n",
       "    }\n",
       "\n",
       "    .dataframe thead th {\n",
       "        text-align: right;\n",
       "    }\n",
       "</style>\n",
       "<table border=\"1\" class=\"dataframe\">\n",
       "  <thead>\n",
       "    <tr style=\"text-align: right;\">\n",
       "      <th></th>\n",
       "      <th>antecedents</th>\n",
       "      <th>consequents</th>\n",
       "      <th>antecedent support</th>\n",
       "      <th>consequent support</th>\n",
       "      <th>support</th>\n",
       "      <th>confidence</th>\n",
       "      <th>lift</th>\n",
       "      <th>leverage</th>\n",
       "      <th>conviction</th>\n",
       "      <th>zhangs_metric</th>\n",
       "    </tr>\n",
       "  </thead>\n",
       "  <tbody>\n",
       "    <tr>\n",
       "      <th>0</th>\n",
       "      <td>( bakery)</td>\n",
       "      <td>( dairy eggs)</td>\n",
       "      <td>0.253321</td>\n",
       "      <td>0.608845</td>\n",
       "      <td>0.202905</td>\n",
       "      <td>0.800981</td>\n",
       "      <td>1.315573</td>\n",
       "      <td>0.048672</td>\n",
       "      <td>1.965411</td>\n",
       "      <td>0.321256</td>\n",
       "    </tr>\n",
       "    <tr>\n",
       "      <th>1</th>\n",
       "      <td>( bakery)</td>\n",
       "      <td>( produce)</td>\n",
       "      <td>0.253321</td>\n",
       "      <td>0.698199</td>\n",
       "      <td>0.210542</td>\n",
       "      <td>0.831127</td>\n",
       "      <td>1.190387</td>\n",
       "      <td>0.033673</td>\n",
       "      <td>1.787148</td>\n",
       "      <td>0.214198</td>\n",
       "    </tr>\n",
       "    <tr>\n",
       "      <th>2</th>\n",
       "      <td>( breakfast)</td>\n",
       "      <td>( dairy eggs)</td>\n",
       "      <td>0.155264</td>\n",
       "      <td>0.608845</td>\n",
       "      <td>0.124763</td>\n",
       "      <td>0.803554</td>\n",
       "      <td>1.319800</td>\n",
       "      <td>0.030231</td>\n",
       "      <td>1.991155</td>\n",
       "      <td>0.286846</td>\n",
       "    </tr>\n",
       "    <tr>\n",
       "      <th>3</th>\n",
       "      <td>( canned goods)</td>\n",
       "      <td>( produce)</td>\n",
       "      <td>0.212516</td>\n",
       "      <td>0.698199</td>\n",
       "      <td>0.183989</td>\n",
       "      <td>0.865765</td>\n",
       "      <td>1.239998</td>\n",
       "      <td>0.035610</td>\n",
       "      <td>2.248308</td>\n",
       "      <td>0.245779</td>\n",
       "    </tr>\n",
       "    <tr>\n",
       "      <th>4</th>\n",
       "      <td>( dry goods pasta)</td>\n",
       "      <td>( dairy eggs)</td>\n",
       "      <td>0.187335</td>\n",
       "      <td>0.608845</td>\n",
       "      <td>0.151461</td>\n",
       "      <td>0.808503</td>\n",
       "      <td>1.327928</td>\n",
       "      <td>0.037403</td>\n",
       "      <td>2.042613</td>\n",
       "      <td>0.303873</td>\n",
       "    </tr>\n",
       "    <tr>\n",
       "      <th>...</th>\n",
       "      <td>...</td>\n",
       "      <td>...</td>\n",
       "      <td>...</td>\n",
       "      <td>...</td>\n",
       "      <td>...</td>\n",
       "      <td>...</td>\n",
       "      <td>...</td>\n",
       "      <td>...</td>\n",
       "      <td>...</td>\n",
       "      <td>...</td>\n",
       "    </tr>\n",
       "    <tr>\n",
       "      <th>77</th>\n",
       "      <td>( pantry,  produce,  frozen)</td>\n",
       "      <td>( dairy eggs)</td>\n",
       "      <td>0.136286</td>\n",
       "      <td>0.608845</td>\n",
       "      <td>0.115930</td>\n",
       "      <td>0.850632</td>\n",
       "      <td>1.397123</td>\n",
       "      <td>0.032952</td>\n",
       "      <td>2.618729</td>\n",
       "      <td>0.329094</td>\n",
       "    </tr>\n",
       "    <tr>\n",
       "      <th>78</th>\n",
       "      <td>( snacks,  dairy eggs,  frozen)</td>\n",
       "      <td>( produce)</td>\n",
       "      <td>0.156506</td>\n",
       "      <td>0.698199</td>\n",
       "      <td>0.135707</td>\n",
       "      <td>0.867105</td>\n",
       "      <td>1.241917</td>\n",
       "      <td>0.026435</td>\n",
       "      <td>2.270972</td>\n",
       "      <td>0.230936</td>\n",
       "    </tr>\n",
       "    <tr>\n",
       "      <th>79</th>\n",
       "      <td>( snacks,  produce,  frozen)</td>\n",
       "      <td>( dairy eggs)</td>\n",
       "      <td>0.160500</td>\n",
       "      <td>0.608845</td>\n",
       "      <td>0.135707</td>\n",
       "      <td>0.845529</td>\n",
       "      <td>1.388742</td>\n",
       "      <td>0.037988</td>\n",
       "      <td>2.532224</td>\n",
       "      <td>0.333441</td>\n",
       "    </tr>\n",
       "    <tr>\n",
       "      <th>80</th>\n",
       "      <td>( snacks,  pantry,  dairy eggs)</td>\n",
       "      <td>( produce)</td>\n",
       "      <td>0.140623</td>\n",
       "      <td>0.698199</td>\n",
       "      <td>0.123414</td>\n",
       "      <td>0.877622</td>\n",
       "      <td>1.256979</td>\n",
       "      <td>0.025231</td>\n",
       "      <td>2.466133</td>\n",
       "      <td>0.237896</td>\n",
       "    </tr>\n",
       "    <tr>\n",
       "      <th>81</th>\n",
       "      <td>( snacks,  pantry,  produce)</td>\n",
       "      <td>( dairy eggs)</td>\n",
       "      <td>0.146126</td>\n",
       "      <td>0.608845</td>\n",
       "      <td>0.123414</td>\n",
       "      <td>0.844573</td>\n",
       "      <td>1.387172</td>\n",
       "      <td>0.034446</td>\n",
       "      <td>2.516647</td>\n",
       "      <td>0.326873</td>\n",
       "    </tr>\n",
       "  </tbody>\n",
       "</table>\n",
       "<p>82 rows × 10 columns</p>\n",
       "</div>"
      ],
      "text/plain": [
       "                        antecedents    consequents  antecedent support  \\\n",
       "0                         ( bakery)  ( dairy eggs)            0.253321   \n",
       "1                         ( bakery)     ( produce)            0.253321   \n",
       "2                      ( breakfast)  ( dairy eggs)            0.155264   \n",
       "3                   ( canned goods)     ( produce)            0.212516   \n",
       "4                ( dry goods pasta)  ( dairy eggs)            0.187335   \n",
       "..                              ...            ...                 ...   \n",
       "77     ( pantry,  produce,  frozen)  ( dairy eggs)            0.136286   \n",
       "78  ( snacks,  dairy eggs,  frozen)     ( produce)            0.156506   \n",
       "79     ( snacks,  produce,  frozen)  ( dairy eggs)            0.160500   \n",
       "80  ( snacks,  pantry,  dairy eggs)     ( produce)            0.140623   \n",
       "81     ( snacks,  pantry,  produce)  ( dairy eggs)            0.146126   \n",
       "\n",
       "    consequent support   support  confidence      lift  leverage  conviction  \\\n",
       "0             0.608845  0.202905    0.800981  1.315573  0.048672    1.965411   \n",
       "1             0.698199  0.210542    0.831127  1.190387  0.033673    1.787148   \n",
       "2             0.608845  0.124763    0.803554  1.319800  0.030231    1.991155   \n",
       "3             0.698199  0.183989    0.865765  1.239998  0.035610    2.248308   \n",
       "4             0.608845  0.151461    0.808503  1.327928  0.037403    2.042613   \n",
       "..                 ...       ...         ...       ...       ...         ...   \n",
       "77            0.608845  0.115930    0.850632  1.397123  0.032952    2.618729   \n",
       "78            0.698199  0.135707    0.867105  1.241917  0.026435    2.270972   \n",
       "79            0.608845  0.135707    0.845529  1.388742  0.037988    2.532224   \n",
       "80            0.698199  0.123414    0.877622  1.256979  0.025231    2.466133   \n",
       "81            0.608845  0.123414    0.844573  1.387172  0.034446    2.516647   \n",
       "\n",
       "    zhangs_metric  \n",
       "0        0.321256  \n",
       "1        0.214198  \n",
       "2        0.286846  \n",
       "3        0.245779  \n",
       "4        0.303873  \n",
       "..            ...  \n",
       "77       0.329094  \n",
       "78       0.230936  \n",
       "79       0.333441  \n",
       "80       0.237896  \n",
       "81       0.326873  \n",
       "\n",
       "[82 rows x 10 columns]"
      ]
     },
     "execution_count": 30,
     "metadata": {},
     "output_type": "execute_result"
    }
   ],
   "source": [
    "rule_APRIORI = association_rules(df_apriori, metric=\"confidence\", min_threshold= 0.8)\n",
    "rule_APRIORI"
   ]
  },
  {
   "cell_type": "code",
   "execution_count": 31,
   "metadata": {},
   "outputs": [
    {
     "data": {
      "text/html": [
       "        <script type=\"text/javascript\">\n",
       "        window.PlotlyConfig = {MathJaxConfig: 'local'};\n",
       "        if (window.MathJax && window.MathJax.Hub && window.MathJax.Hub.Config) {window.MathJax.Hub.Config({SVG: {font: \"STIX-Web\"}});}\n",
       "        if (typeof require !== 'undefined') {\n",
       "        require.undef(\"plotly\");\n",
       "        requirejs.config({\n",
       "            paths: {\n",
       "                'plotly': ['https://cdn.plot.ly/plotly-2.12.1.min']\n",
       "            }\n",
       "        });\n",
       "        require(['plotly'], function(Plotly) {\n",
       "            window._Plotly = Plotly;\n",
       "        });\n",
       "        }\n",
       "        </script>\n",
       "        "
      ]
     },
     "metadata": {},
     "output_type": "display_data"
    },
    {
     "data": {
      "application/vnd.plotly.v1+json": {
       "config": {
        "plotlyServerURL": "https://plot.ly"
       },
       "data": [
        {
         "customdata": [
          [
           " bakery",
           " dairy eggs"
          ],
          [
           " bakery",
           " produce"
          ],
          [
           " breakfast",
           " dairy eggs"
          ],
          [
           " canned goods",
           " produce"
          ],
          [
           " dry goods pasta",
           " dairy eggs"
          ],
          [
           " dairy eggs",
           " produce"
          ],
          [
           " deli",
           " produce"
          ],
          [
           " dry goods pasta",
           " produce"
          ],
          [
           " meat seafood",
           " produce"
          ],
          [
           " pantry",
           " produce"
          ],
          [
           "produce",
           " produce"
          ],
          [
           " bakery",
           " dairy eggs"
          ],
          [
           " bakery",
           " produce"
          ],
          [
           " bakery",
           " dairy eggs"
          ],
          [
           " pantry",
           " dairy eggs"
          ],
          [
           " bakery",
           " produce"
          ],
          [
           " bakery",
           " dairy eggs"
          ],
          [
           " snacks",
           " dairy eggs"
          ],
          [
           " bakery",
           " produce"
          ],
          [
           " pantry",
           " produce"
          ],
          [
           " snacks",
           " produce"
          ],
          [
           " deli",
           " dairy eggs"
          ],
          [
           " dairy eggs",
           " produce"
          ],
          [
           " deli",
           " produce"
          ],
          [
           " beverages",
           " produce"
          ],
          [
           " pantry",
           " produce"
          ],
          [
           " dairy eggs",
           " produce"
          ],
          [
           " produce",
           " dairy eggs"
          ],
          [
           " canned goods",
           " dairy eggs"
          ],
          [
           " canned goods",
           " dairy eggs"
          ],
          [
           " canned goods",
           " produce"
          ],
          [
           " canned goods",
           " dairy eggs"
          ],
          [
           " canned goods",
           " dairy eggs"
          ],
          [
           " canned goods",
           " produce"
          ],
          [
           " canned goods",
           " produce"
          ],
          [
           " canned goods",
           " produce"
          ],
          [
           " deli",
           " dairy eggs"
          ],
          [
           " deli",
           " produce"
          ],
          [
           " deli",
           " dairy eggs"
          ],
          [
           " snacks",
           " dairy eggs"
          ],
          [
           " dry goods pasta",
           " dairy eggs"
          ],
          [
           " dairy eggs",
           " produce"
          ],
          [
           " pantry",
           " dairy eggs"
          ],
          [
           " dairy eggs",
           " produce"
          ],
          [
           " snacks",
           " dairy eggs"
          ],
          [
           " meat seafood",
           " produce"
          ],
          [
           " meat seafood",
           " dairy eggs"
          ],
          [
           " pantry",
           " produce"
          ],
          [
           " snacks",
           " dairy eggs"
          ],
          [
           " snacks",
           " produce"
          ],
          [
           "dairy eggs",
           " produce"
          ],
          [
           "produce",
           " produce"
          ],
          [
           " deli",
           " produce"
          ],
          [
           " pantry",
           " produce"
          ],
          [
           " snacks",
           " produce"
          ],
          [
           " dry goods pasta",
           " produce"
          ],
          [
           " pantry",
           " produce"
          ],
          [
           " snacks",
           " produce"
          ],
          [
           " snacks",
           " produce"
          ],
          [
           "produce",
           " produce"
          ],
          [
           " bakery",
           " produce"
          ],
          [
           " bakery",
           " dairy eggs"
          ],
          [
           " bakery",
           " produce"
          ],
          [
           " bakery",
           " dairy eggs"
          ],
          [
           " snacks",
           " produce"
          ],
          [
           " snacks",
           " dairy eggs"
          ],
          [
           " dairy eggs",
           " produce"
          ],
          [
           " beverages",
           " dairy eggs"
          ],
          [
           " snacks",
           " dairy eggs"
          ],
          [
           " pantry",
           " produce"
          ],
          [
           " pantry",
           " dairy eggs"
          ],
          [
           " snacks",
           " produce"
          ],
          [
           " snacks",
           " dairy eggs"
          ],
          [
           " snacks",
           " produce"
          ],
          [
           " snacks",
           " produce"
          ],
          [
           " snacks",
           " dairy eggs"
          ],
          [
           " pantry",
           " produce"
          ],
          [
           " pantry",
           " dairy eggs"
          ],
          [
           " snacks",
           " produce"
          ],
          [
           " snacks",
           " dairy eggs"
          ],
          [
           " snacks",
           " produce"
          ],
          [
           " snacks",
           " dairy eggs"
          ]
         ],
         "hovertemplate": "support=%{x}<br>confidence=%{y}<br>antecedents_short=%{text}<br>antecedents=%{customdata[0]}<br>consequents=%{customdata[1]}<br>lift=%{marker.color}<extra></extra>",
         "legendgroup": "",
         "marker": {
          "color": [
           1.3155733226936654,
           1.1903869184413431,
           1.3197995060200132,
           1.239997827871768,
           1.327927924326339,
           1.16180107589348,
           1.2197430427246982,
           1.231985151883373,
           1.2505487473771182,
           1.1679617078619737,
           1.221516134320352,
           1.3753906702085545,
           1.2062416392373954,
           1.403372881102444,
           1.4021982887301028,
           1.2424580001690329,
           1.3731204319095887,
           1.3990633081691097,
           1.2317062997003052,
           1.2491235841443833,
           1.2224473109846912,
           1.3624206465137991,
           1.1725235349563126,
           1.2380520593007571,
           1.167596922808653,
           1.1948256386345264,
           1.2138744019710659,
           1.4005773116057314,
           1.369886019416644,
           1.363481770916011,
           1.2845437047703487,
           1.3205754791854645,
           1.375238922688637,
           1.268759947719823,
           1.289830706336827,
           1.2655597139836192,
           1.3882383884278,
           1.2692770836487293,
           1.3483840245434646,
           1.3643947199508983,
           1.371882887994075,
           1.2727643700910893,
           1.3546117875006394,
           1.2203168782859808,
           1.327290238989994,
           1.2914217387613123,
           1.342962945092397,
           1.2344161216861913,
           1.3323763561360276,
           1.2006566236523675,
           1.159456997841912,
           1.302720085771237,
           1.2612879322914472,
           1.280150769398257,
           1.239316264339884,
           1.2538870529599873,
           1.2293768168907666,
           1.1869617686736438,
           1.2073268900688638,
           1.2932906330597103,
           1.2477765236498992,
           1.4227499145348113,
           1.2676256998870508,
           1.4442984752475825,
           1.2610192810051648,
           1.443208055754161,
           1.2253055462301796,
           1.3696431450709323,
           1.3753242482143264,
           1.2463824817896407,
           1.3702174944267487,
           1.2021856660373809,
           1.3519307304956134,
           1.198815378782231,
           1.2806569943683768,
           1.409907778556512,
           1.2679577836443126,
           1.3971229456902827,
           1.2419165204377487,
           1.3887420123559735,
           1.256979368543894,
           1.3871716140631576
          ],
          "coloraxis": "coloraxis",
          "opacity": 0.5,
          "symbol": "circle"
         },
         "mode": "markers+text",
         "name": "",
         "orientation": "v",
         "showlegend": false,
         "text": [
          " bakery",
          " bakery",
          " breakfast",
          " canned go",
          " dry goods",
          " dairy egg",
          " deli",
          " dry goods",
          " meat seaf",
          " pantry",
          "produce",
          " bakery",
          " bakery",
          " bakery",
          " pantry",
          " bakery",
          " bakery",
          " snacks",
          " bakery",
          " pantry",
          " snacks",
          " deli",
          " dairy egg",
          " deli",
          " beverages",
          " pantry",
          " dairy egg",
          " produce",
          " canned go",
          " canned go",
          " canned go",
          " canned go",
          " canned go",
          " canned go",
          " canned go",
          " canned go",
          " deli",
          " deli",
          " deli",
          " snacks",
          " dry goods",
          " dairy egg",
          " pantry",
          " dairy egg",
          " snacks",
          " meat seaf",
          " meat seaf",
          " pantry",
          " snacks",
          " snacks",
          "dairy eggs",
          "produce",
          " deli",
          " pantry",
          " snacks",
          " dry goods",
          " pantry",
          " snacks",
          " snacks",
          "produce",
          " bakery",
          " bakery",
          " bakery",
          " bakery",
          " snacks",
          " snacks",
          " dairy egg",
          " beverages",
          " snacks",
          " pantry",
          " pantry",
          " snacks",
          " snacks",
          " snacks",
          " snacks",
          " snacks",
          " pantry",
          " pantry",
          " snacks",
          " snacks",
          " snacks",
          " snacks"
         ],
         "textposition": "top center",
         "type": "scatter",
         "x": [
          0.2029052885091724,
          0.21054195977410087,
          0.1247627830407975,
          0.18398890320023778,
          0.1514606467544147,
          0.4938761822740818,
          0.19470463154204362,
          0.16113986083271728,
          0.14649909686073365,
          0.27624629408043655,
          0.23488480210961138,
          0.10644849057610377,
          0.10705820484875275,
          0.10933701194277831,
          0.0999931407144327,
          0.17601688908535237,
          0.17601688908535237,
          0.11850559031773734,
          0.11004580478473275,
          0.10215000495392847,
          0.11874185459838883,
          0.09436852654924587,
          0.22903916652058928,
          0.09833929074987234,
          0.14545496116882226,
          0.13293295429429383,
          0.10573969773414933,
          0.10573969773414933,
          0.09032154806453825,
          0.09174675517685525,
          0.14793192540145875,
          0.14793192540145875,
          0.09178486231889581,
          0.09593091937290887,
          0.09952823358153785,
          0.09686073363869857,
          0.09897186930774565,
          0.15984421800333817,
          0.15984421800333817,
          0.11002294049950842,
          0.13459442568726232,
          0.13459442568726232,
          0.13095138290818464,
          0.23179050217591782,
          0.15650603236058502,
          0.11978599029030021,
          0.11978599029030021,
          0.2188416953105351,
          0.1406229755580791,
          0.2469037947092044,
          0.11055644048807628,
          0.16057587513051697,
          0.10311792636175872,
          0.09185345517456882,
          0.11460341897278388,
          0.09011576949751922,
          0.13628638279386324,
          0.16049966084643583,
          0.14612564686873614,
          0.095328826528668,
          0.09273754086990983,
          0.09273754086990983,
          0.09676927649780122,
          0.09676927649780122,
          0.10433735490705669,
          0.10433735490705669,
          0.12129503311510643,
          0.12129503311510643,
          0.09166291946436601,
          0.11089940476644132,
          0.11089940476644132,
          0.13416762569640803,
          0.13416762569640803,
          0.09162481232232544,
          0.0983773978919129,
          0.0983773978919129,
          0.11592954751579541,
          0.11592954751579541,
          0.1357071542348467,
          0.1357071542348467,
          0.12341379021256164,
          0.12341379021256164
         ],
         "xaxis": "x",
         "y": [
          0.8009808051025933,
          0.8311270232865996,
          0.8035538975063813,
          0.8657653134414001,
          0.8085028478437754,
          0.8111684149913627,
          0.8516234415627709,
          0.8601708706265258,
          0.8731319554848966,
          0.8154697624190065,
          0.8528614124418862,
          0.8374003237604173,
          0.8421967743869536,
          0.8544371649791542,
          0.853722019781364,
          0.8674830034180971,
          0.8360180995475113,
          0.8518133011942588,
          0.8599761762954139,
          0.8721369078604894,
          0.853511559110332,
          0.8295035841093321,
          0.8186548257920402,
          0.8644067796610169,
          0.8152150698389645,
          0.8342261335374018,
          0.84752596212584,
          0.8527350952673632,
          0.83404884228306,
          0.8301496448520792,
          0.8968672026614916,
          0.8040263452218218,
          0.8373079329764305,
          0.8858469983813076,
          0.9005585821667471,
          0.8836125982062157,
          0.8452225982816974,
          0.8862080621989352,
          0.8209574509727169,
          0.8307054896996202,
          0.8352646265903609,
          0.8886428823026218,
          0.8247491959871357,
          0.8520240930102256,
          0.8081145960410846,
          0.9016694395043314,
          0.817656851524295,
          0.8618681714491535,
          0.8112112552209277,
          0.8382973217751326,
          0.8095317819074725,
          0.9095579347262994,
          0.8806300442593075,
          0.8938000593295758,
          0.8652894464265163,
          0.8754627572930549,
          0.8583497335957375,
          0.8287355869505332,
          0.8429544954935151,
          0.9029742997401097,
          0.8711963914942364,
          0.8662347832277354,
          0.8850550676146661,
          0.8793545259366993,
          0.8804424721847065,
          0.8786906290115533,
          0.8555071762618933,
          0.8339009693476552,
          0.8373598830327926,
          0.8702230727827281,
          0.8342506593280586,
          0.8393648977256474,
          0.8231168466825642,
          0.8370117663440785,
          0.8941535051260736,
          0.8584159074283434,
          0.8852869281806542,
          0.8506319203668493,
          0.8671049427806184,
          0.845529227408709,
          0.8776218091160372,
          0.8445730975851459
         ],
         "yaxis": "y"
        }
       ],
       "layout": {
        "coloraxis": {
         "colorbar": {
          "title": {
           "text": "lift"
          }
         },
         "colorscale": [
          [
           0,
           "#0d0887"
          ],
          [
           0.1111111111111111,
           "#46039f"
          ],
          [
           0.2222222222222222,
           "#7201a8"
          ],
          [
           0.3333333333333333,
           "#9c179e"
          ],
          [
           0.4444444444444444,
           "#bd3786"
          ],
          [
           0.5555555555555556,
           "#d8576b"
          ],
          [
           0.6666666666666666,
           "#ed7953"
          ],
          [
           0.7777777777777778,
           "#fb9f3a"
          ],
          [
           0.8888888888888888,
           "#fdca26"
          ],
          [
           1,
           "#f0f921"
          ]
         ]
        },
        "height": 800,
        "legend": {
         "tracegroupgap": 0
        },
        "margin": {
         "t": 60
        },
        "plot_bgcolor": "rgb(240,240,240)",
        "template": {
         "data": {
          "bar": [
           {
            "error_x": {
             "color": "#2a3f5f"
            },
            "error_y": {
             "color": "#2a3f5f"
            },
            "marker": {
             "line": {
              "color": "#E5ECF6",
              "width": 0.5
             },
             "pattern": {
              "fillmode": "overlay",
              "size": 10,
              "solidity": 0.2
             }
            },
            "type": "bar"
           }
          ],
          "barpolar": [
           {
            "marker": {
             "line": {
              "color": "#E5ECF6",
              "width": 0.5
             },
             "pattern": {
              "fillmode": "overlay",
              "size": 10,
              "solidity": 0.2
             }
            },
            "type": "barpolar"
           }
          ],
          "carpet": [
           {
            "aaxis": {
             "endlinecolor": "#2a3f5f",
             "gridcolor": "white",
             "linecolor": "white",
             "minorgridcolor": "white",
             "startlinecolor": "#2a3f5f"
            },
            "baxis": {
             "endlinecolor": "#2a3f5f",
             "gridcolor": "white",
             "linecolor": "white",
             "minorgridcolor": "white",
             "startlinecolor": "#2a3f5f"
            },
            "type": "carpet"
           }
          ],
          "choropleth": [
           {
            "colorbar": {
             "outlinewidth": 0,
             "ticks": ""
            },
            "type": "choropleth"
           }
          ],
          "contour": [
           {
            "colorbar": {
             "outlinewidth": 0,
             "ticks": ""
            },
            "colorscale": [
             [
              0,
              "#0d0887"
             ],
             [
              0.1111111111111111,
              "#46039f"
             ],
             [
              0.2222222222222222,
              "#7201a8"
             ],
             [
              0.3333333333333333,
              "#9c179e"
             ],
             [
              0.4444444444444444,
              "#bd3786"
             ],
             [
              0.5555555555555556,
              "#d8576b"
             ],
             [
              0.6666666666666666,
              "#ed7953"
             ],
             [
              0.7777777777777778,
              "#fb9f3a"
             ],
             [
              0.8888888888888888,
              "#fdca26"
             ],
             [
              1,
              "#f0f921"
             ]
            ],
            "type": "contour"
           }
          ],
          "contourcarpet": [
           {
            "colorbar": {
             "outlinewidth": 0,
             "ticks": ""
            },
            "type": "contourcarpet"
           }
          ],
          "heatmap": [
           {
            "colorbar": {
             "outlinewidth": 0,
             "ticks": ""
            },
            "colorscale": [
             [
              0,
              "#0d0887"
             ],
             [
              0.1111111111111111,
              "#46039f"
             ],
             [
              0.2222222222222222,
              "#7201a8"
             ],
             [
              0.3333333333333333,
              "#9c179e"
             ],
             [
              0.4444444444444444,
              "#bd3786"
             ],
             [
              0.5555555555555556,
              "#d8576b"
             ],
             [
              0.6666666666666666,
              "#ed7953"
             ],
             [
              0.7777777777777778,
              "#fb9f3a"
             ],
             [
              0.8888888888888888,
              "#fdca26"
             ],
             [
              1,
              "#f0f921"
             ]
            ],
            "type": "heatmap"
           }
          ],
          "heatmapgl": [
           {
            "colorbar": {
             "outlinewidth": 0,
             "ticks": ""
            },
            "colorscale": [
             [
              0,
              "#0d0887"
             ],
             [
              0.1111111111111111,
              "#46039f"
             ],
             [
              0.2222222222222222,
              "#7201a8"
             ],
             [
              0.3333333333333333,
              "#9c179e"
             ],
             [
              0.4444444444444444,
              "#bd3786"
             ],
             [
              0.5555555555555556,
              "#d8576b"
             ],
             [
              0.6666666666666666,
              "#ed7953"
             ],
             [
              0.7777777777777778,
              "#fb9f3a"
             ],
             [
              0.8888888888888888,
              "#fdca26"
             ],
             [
              1,
              "#f0f921"
             ]
            ],
            "type": "heatmapgl"
           }
          ],
          "histogram": [
           {
            "marker": {
             "pattern": {
              "fillmode": "overlay",
              "size": 10,
              "solidity": 0.2
             }
            },
            "type": "histogram"
           }
          ],
          "histogram2d": [
           {
            "colorbar": {
             "outlinewidth": 0,
             "ticks": ""
            },
            "colorscale": [
             [
              0,
              "#0d0887"
             ],
             [
              0.1111111111111111,
              "#46039f"
             ],
             [
              0.2222222222222222,
              "#7201a8"
             ],
             [
              0.3333333333333333,
              "#9c179e"
             ],
             [
              0.4444444444444444,
              "#bd3786"
             ],
             [
              0.5555555555555556,
              "#d8576b"
             ],
             [
              0.6666666666666666,
              "#ed7953"
             ],
             [
              0.7777777777777778,
              "#fb9f3a"
             ],
             [
              0.8888888888888888,
              "#fdca26"
             ],
             [
              1,
              "#f0f921"
             ]
            ],
            "type": "histogram2d"
           }
          ],
          "histogram2dcontour": [
           {
            "colorbar": {
             "outlinewidth": 0,
             "ticks": ""
            },
            "colorscale": [
             [
              0,
              "#0d0887"
             ],
             [
              0.1111111111111111,
              "#46039f"
             ],
             [
              0.2222222222222222,
              "#7201a8"
             ],
             [
              0.3333333333333333,
              "#9c179e"
             ],
             [
              0.4444444444444444,
              "#bd3786"
             ],
             [
              0.5555555555555556,
              "#d8576b"
             ],
             [
              0.6666666666666666,
              "#ed7953"
             ],
             [
              0.7777777777777778,
              "#fb9f3a"
             ],
             [
              0.8888888888888888,
              "#fdca26"
             ],
             [
              1,
              "#f0f921"
             ]
            ],
            "type": "histogram2dcontour"
           }
          ],
          "mesh3d": [
           {
            "colorbar": {
             "outlinewidth": 0,
             "ticks": ""
            },
            "type": "mesh3d"
           }
          ],
          "parcoords": [
           {
            "line": {
             "colorbar": {
              "outlinewidth": 0,
              "ticks": ""
             }
            },
            "type": "parcoords"
           }
          ],
          "pie": [
           {
            "automargin": true,
            "type": "pie"
           }
          ],
          "scatter": [
           {
            "fillpattern": {
             "fillmode": "overlay",
             "size": 10,
             "solidity": 0.2
            },
            "type": "scatter"
           }
          ],
          "scatter3d": [
           {
            "line": {
             "colorbar": {
              "outlinewidth": 0,
              "ticks": ""
             }
            },
            "marker": {
             "colorbar": {
              "outlinewidth": 0,
              "ticks": ""
             }
            },
            "type": "scatter3d"
           }
          ],
          "scattercarpet": [
           {
            "marker": {
             "colorbar": {
              "outlinewidth": 0,
              "ticks": ""
             }
            },
            "type": "scattercarpet"
           }
          ],
          "scattergeo": [
           {
            "marker": {
             "colorbar": {
              "outlinewidth": 0,
              "ticks": ""
             }
            },
            "type": "scattergeo"
           }
          ],
          "scattergl": [
           {
            "marker": {
             "colorbar": {
              "outlinewidth": 0,
              "ticks": ""
             }
            },
            "type": "scattergl"
           }
          ],
          "scattermapbox": [
           {
            "marker": {
             "colorbar": {
              "outlinewidth": 0,
              "ticks": ""
             }
            },
            "type": "scattermapbox"
           }
          ],
          "scatterpolar": [
           {
            "marker": {
             "colorbar": {
              "outlinewidth": 0,
              "ticks": ""
             }
            },
            "type": "scatterpolar"
           }
          ],
          "scatterpolargl": [
           {
            "marker": {
             "colorbar": {
              "outlinewidth": 0,
              "ticks": ""
             }
            },
            "type": "scatterpolargl"
           }
          ],
          "scatterternary": [
           {
            "marker": {
             "colorbar": {
              "outlinewidth": 0,
              "ticks": ""
             }
            },
            "type": "scatterternary"
           }
          ],
          "surface": [
           {
            "colorbar": {
             "outlinewidth": 0,
             "ticks": ""
            },
            "colorscale": [
             [
              0,
              "#0d0887"
             ],
             [
              0.1111111111111111,
              "#46039f"
             ],
             [
              0.2222222222222222,
              "#7201a8"
             ],
             [
              0.3333333333333333,
              "#9c179e"
             ],
             [
              0.4444444444444444,
              "#bd3786"
             ],
             [
              0.5555555555555556,
              "#d8576b"
             ],
             [
              0.6666666666666666,
              "#ed7953"
             ],
             [
              0.7777777777777778,
              "#fb9f3a"
             ],
             [
              0.8888888888888888,
              "#fdca26"
             ],
             [
              1,
              "#f0f921"
             ]
            ],
            "type": "surface"
           }
          ],
          "table": [
           {
            "cells": {
             "fill": {
              "color": "#EBF0F8"
             },
             "line": {
              "color": "white"
             }
            },
            "header": {
             "fill": {
              "color": "#C8D4E3"
             },
             "line": {
              "color": "white"
             }
            },
            "type": "table"
           }
          ]
         },
         "layout": {
          "annotationdefaults": {
           "arrowcolor": "#2a3f5f",
           "arrowhead": 0,
           "arrowwidth": 1
          },
          "autotypenumbers": "strict",
          "coloraxis": {
           "colorbar": {
            "outlinewidth": 0,
            "ticks": ""
           }
          },
          "colorscale": {
           "diverging": [
            [
             0,
             "#8e0152"
            ],
            [
             0.1,
             "#c51b7d"
            ],
            [
             0.2,
             "#de77ae"
            ],
            [
             0.3,
             "#f1b6da"
            ],
            [
             0.4,
             "#fde0ef"
            ],
            [
             0.5,
             "#f7f7f7"
            ],
            [
             0.6,
             "#e6f5d0"
            ],
            [
             0.7,
             "#b8e186"
            ],
            [
             0.8,
             "#7fbc41"
            ],
            [
             0.9,
             "#4d9221"
            ],
            [
             1,
             "#276419"
            ]
           ],
           "sequential": [
            [
             0,
             "#0d0887"
            ],
            [
             0.1111111111111111,
             "#46039f"
            ],
            [
             0.2222222222222222,
             "#7201a8"
            ],
            [
             0.3333333333333333,
             "#9c179e"
            ],
            [
             0.4444444444444444,
             "#bd3786"
            ],
            [
             0.5555555555555556,
             "#d8576b"
            ],
            [
             0.6666666666666666,
             "#ed7953"
            ],
            [
             0.7777777777777778,
             "#fb9f3a"
            ],
            [
             0.8888888888888888,
             "#fdca26"
            ],
            [
             1,
             "#f0f921"
            ]
           ],
           "sequentialminus": [
            [
             0,
             "#0d0887"
            ],
            [
             0.1111111111111111,
             "#46039f"
            ],
            [
             0.2222222222222222,
             "#7201a8"
            ],
            [
             0.3333333333333333,
             "#9c179e"
            ],
            [
             0.4444444444444444,
             "#bd3786"
            ],
            [
             0.5555555555555556,
             "#d8576b"
            ],
            [
             0.6666666666666666,
             "#ed7953"
            ],
            [
             0.7777777777777778,
             "#fb9f3a"
            ],
            [
             0.8888888888888888,
             "#fdca26"
            ],
            [
             1,
             "#f0f921"
            ]
           ]
          },
          "colorway": [
           "#636efa",
           "#EF553B",
           "#00cc96",
           "#ab63fa",
           "#FFA15A",
           "#19d3f3",
           "#FF6692",
           "#B6E880",
           "#FF97FF",
           "#FECB52"
          ],
          "font": {
           "color": "#2a3f5f"
          },
          "geo": {
           "bgcolor": "white",
           "lakecolor": "white",
           "landcolor": "#E5ECF6",
           "showlakes": true,
           "showland": true,
           "subunitcolor": "white"
          },
          "hoverlabel": {
           "align": "left"
          },
          "hovermode": "closest",
          "mapbox": {
           "style": "light"
          },
          "paper_bgcolor": "white",
          "plot_bgcolor": "#E5ECF6",
          "polar": {
           "angularaxis": {
            "gridcolor": "white",
            "linecolor": "white",
            "ticks": ""
           },
           "bgcolor": "#E5ECF6",
           "radialaxis": {
            "gridcolor": "white",
            "linecolor": "white",
            "ticks": ""
           }
          },
          "scene": {
           "xaxis": {
            "backgroundcolor": "#E5ECF6",
            "gridcolor": "white",
            "gridwidth": 2,
            "linecolor": "white",
            "showbackground": true,
            "ticks": "",
            "zerolinecolor": "white"
           },
           "yaxis": {
            "backgroundcolor": "#E5ECF6",
            "gridcolor": "white",
            "gridwidth": 2,
            "linecolor": "white",
            "showbackground": true,
            "ticks": "",
            "zerolinecolor": "white"
           },
           "zaxis": {
            "backgroundcolor": "#E5ECF6",
            "gridcolor": "white",
            "gridwidth": 2,
            "linecolor": "white",
            "showbackground": true,
            "ticks": "",
            "zerolinecolor": "white"
           }
          },
          "shapedefaults": {
           "line": {
            "color": "#2a3f5f"
           }
          },
          "ternary": {
           "aaxis": {
            "gridcolor": "white",
            "linecolor": "white",
            "ticks": ""
           },
           "baxis": {
            "gridcolor": "white",
            "linecolor": "white",
            "ticks": ""
           },
           "bgcolor": "#E5ECF6",
           "caxis": {
            "gridcolor": "white",
            "linecolor": "white",
            "ticks": ""
           }
          },
          "title": {
           "x": 0.05
          },
          "xaxis": {
           "automargin": true,
           "gridcolor": "white",
           "linecolor": "white",
           "ticks": "",
           "title": {
            "standoff": 15
           },
           "zerolinecolor": "white",
           "zerolinewidth": 2
          },
          "yaxis": {
           "automargin": true,
           "gridcolor": "white",
           "linecolor": "white",
           "ticks": "",
           "title": {
            "standoff": 15
           },
           "zerolinecolor": "white",
           "zerolinewidth": 2
          }
         }
        },
        "title": {
         "text": "2D Plot of Support, Confidence and Lift"
        },
        "xaxis": {
         "anchor": "y",
         "domain": [
          0,
          1
         ],
         "title": {
          "text": "support"
         },
         "type": "log"
        },
        "yaxis": {
         "anchor": "x",
         "domain": [
          0,
          1
         ],
         "title": {
          "text": "confidence"
         }
        }
       }
      },
      "text/html": [
       "<div>                            <div id=\"d4e90a58-5b0e-4a3c-aa26-094fefcb9542\" class=\"plotly-graph-div\" style=\"height:800px; width:100%;\"></div>            <script type=\"text/javascript\">                require([\"plotly\"], function(Plotly) {                    window.PLOTLYENV=window.PLOTLYENV || {};                                    if (document.getElementById(\"d4e90a58-5b0e-4a3c-aa26-094fefcb9542\")) {                    Plotly.newPlot(                        \"d4e90a58-5b0e-4a3c-aa26-094fefcb9542\",                        [{\"customdata\":[[\" bakery\",\" dairy eggs\"],[\" bakery\",\" produce\"],[\" breakfast\",\" dairy eggs\"],[\" canned goods\",\" produce\"],[\" dry goods pasta\",\" dairy eggs\"],[\" dairy eggs\",\" produce\"],[\" deli\",\" produce\"],[\" dry goods pasta\",\" produce\"],[\" meat seafood\",\" produce\"],[\" pantry\",\" produce\"],[\"produce\",\" produce\"],[\" bakery\",\" dairy eggs\"],[\" bakery\",\" produce\"],[\" bakery\",\" dairy eggs\"],[\" pantry\",\" dairy eggs\"],[\" bakery\",\" produce\"],[\" bakery\",\" dairy eggs\"],[\" snacks\",\" dairy eggs\"],[\" bakery\",\" produce\"],[\" pantry\",\" produce\"],[\" snacks\",\" produce\"],[\" deli\",\" dairy eggs\"],[\" dairy eggs\",\" produce\"],[\" deli\",\" produce\"],[\" beverages\",\" produce\"],[\" pantry\",\" produce\"],[\" dairy eggs\",\" produce\"],[\" produce\",\" dairy eggs\"],[\" canned goods\",\" dairy eggs\"],[\" canned goods\",\" dairy eggs\"],[\" canned goods\",\" produce\"],[\" canned goods\",\" dairy eggs\"],[\" canned goods\",\" dairy eggs\"],[\" canned goods\",\" produce\"],[\" canned goods\",\" produce\"],[\" canned goods\",\" produce\"],[\" deli\",\" dairy eggs\"],[\" deli\",\" produce\"],[\" deli\",\" dairy eggs\"],[\" snacks\",\" dairy eggs\"],[\" dry goods pasta\",\" dairy eggs\"],[\" dairy eggs\",\" produce\"],[\" pantry\",\" dairy eggs\"],[\" dairy eggs\",\" produce\"],[\" snacks\",\" dairy eggs\"],[\" meat seafood\",\" produce\"],[\" meat seafood\",\" dairy eggs\"],[\" pantry\",\" produce\"],[\" snacks\",\" dairy eggs\"],[\" snacks\",\" produce\"],[\"dairy eggs\",\" produce\"],[\"produce\",\" produce\"],[\" deli\",\" produce\"],[\" pantry\",\" produce\"],[\" snacks\",\" produce\"],[\" dry goods pasta\",\" produce\"],[\" pantry\",\" produce\"],[\" snacks\",\" produce\"],[\" snacks\",\" produce\"],[\"produce\",\" produce\"],[\" bakery\",\" produce\"],[\" bakery\",\" dairy eggs\"],[\" bakery\",\" produce\"],[\" bakery\",\" dairy eggs\"],[\" snacks\",\" produce\"],[\" snacks\",\" dairy eggs\"],[\" dairy eggs\",\" produce\"],[\" beverages\",\" dairy eggs\"],[\" snacks\",\" dairy eggs\"],[\" pantry\",\" produce\"],[\" pantry\",\" dairy eggs\"],[\" snacks\",\" produce\"],[\" snacks\",\" dairy eggs\"],[\" snacks\",\" produce\"],[\" snacks\",\" produce\"],[\" snacks\",\" dairy eggs\"],[\" pantry\",\" produce\"],[\" pantry\",\" dairy eggs\"],[\" snacks\",\" produce\"],[\" snacks\",\" dairy eggs\"],[\" snacks\",\" produce\"],[\" snacks\",\" dairy eggs\"]],\"hovertemplate\":\"support=%{x}<br>confidence=%{y}<br>antecedents_short=%{text}<br>antecedents=%{customdata[0]}<br>consequents=%{customdata[1]}<br>lift=%{marker.color}<extra></extra>\",\"legendgroup\":\"\",\"marker\":{\"color\":[1.3155733226936654,1.1903869184413431,1.3197995060200132,1.239997827871768,1.327927924326339,1.16180107589348,1.2197430427246982,1.231985151883373,1.2505487473771182,1.1679617078619737,1.221516134320352,1.3753906702085545,1.2062416392373954,1.403372881102444,1.4021982887301028,1.2424580001690329,1.3731204319095887,1.3990633081691097,1.2317062997003052,1.2491235841443833,1.2224473109846912,1.3624206465137991,1.1725235349563126,1.2380520593007571,1.167596922808653,1.1948256386345264,1.2138744019710659,1.4005773116057314,1.369886019416644,1.363481770916011,1.2845437047703487,1.3205754791854645,1.375238922688637,1.268759947719823,1.289830706336827,1.2655597139836192,1.3882383884278,1.2692770836487293,1.3483840245434646,1.3643947199508983,1.371882887994075,1.2727643700910893,1.3546117875006394,1.2203168782859808,1.327290238989994,1.2914217387613123,1.342962945092397,1.2344161216861913,1.3323763561360276,1.2006566236523675,1.159456997841912,1.302720085771237,1.2612879322914472,1.280150769398257,1.239316264339884,1.2538870529599873,1.2293768168907666,1.1869617686736438,1.2073268900688638,1.2932906330597103,1.2477765236498992,1.4227499145348113,1.2676256998870508,1.4442984752475825,1.2610192810051648,1.443208055754161,1.2253055462301796,1.3696431450709323,1.3753242482143264,1.2463824817896407,1.3702174944267487,1.2021856660373809,1.3519307304956134,1.198815378782231,1.2806569943683768,1.409907778556512,1.2679577836443126,1.3971229456902827,1.2419165204377487,1.3887420123559735,1.256979368543894,1.3871716140631576],\"coloraxis\":\"coloraxis\",\"opacity\":0.5,\"symbol\":\"circle\"},\"mode\":\"markers+text\",\"name\":\"\",\"orientation\":\"v\",\"showlegend\":false,\"text\":[\" bakery\",\" bakery\",\" breakfast\",\" canned go\",\" dry goods\",\" dairy egg\",\" deli\",\" dry goods\",\" meat seaf\",\" pantry\",\"produce\",\" bakery\",\" bakery\",\" bakery\",\" pantry\",\" bakery\",\" bakery\",\" snacks\",\" bakery\",\" pantry\",\" snacks\",\" deli\",\" dairy egg\",\" deli\",\" beverages\",\" pantry\",\" dairy egg\",\" produce\",\" canned go\",\" canned go\",\" canned go\",\" canned go\",\" canned go\",\" canned go\",\" canned go\",\" canned go\",\" deli\",\" deli\",\" deli\",\" snacks\",\" dry goods\",\" dairy egg\",\" pantry\",\" dairy egg\",\" snacks\",\" meat seaf\",\" meat seaf\",\" pantry\",\" snacks\",\" snacks\",\"dairy eggs\",\"produce\",\" deli\",\" pantry\",\" snacks\",\" dry goods\",\" pantry\",\" snacks\",\" snacks\",\"produce\",\" bakery\",\" bakery\",\" bakery\",\" bakery\",\" snacks\",\" snacks\",\" dairy egg\",\" beverages\",\" snacks\",\" pantry\",\" pantry\",\" snacks\",\" snacks\",\" snacks\",\" snacks\",\" snacks\",\" pantry\",\" pantry\",\" snacks\",\" snacks\",\" snacks\",\" snacks\"],\"x\":[0.2029052885091724,0.21054195977410087,0.1247627830407975,0.18398890320023778,0.1514606467544147,0.4938761822740818,0.19470463154204362,0.16113986083271728,0.14649909686073365,0.27624629408043655,0.23488480210961138,0.10644849057610377,0.10705820484875275,0.10933701194277831,0.0999931407144327,0.17601688908535237,0.17601688908535237,0.11850559031773734,0.11004580478473275,0.10215000495392847,0.11874185459838883,0.09436852654924587,0.22903916652058928,0.09833929074987234,0.14545496116882226,0.13293295429429383,0.10573969773414933,0.10573969773414933,0.09032154806453825,0.09174675517685525,0.14793192540145875,0.14793192540145875,0.09178486231889581,0.09593091937290887,0.09952823358153785,0.09686073363869857,0.09897186930774565,0.15984421800333817,0.15984421800333817,0.11002294049950842,0.13459442568726232,0.13459442568726232,0.13095138290818464,0.23179050217591782,0.15650603236058502,0.11978599029030021,0.11978599029030021,0.2188416953105351,0.1406229755580791,0.2469037947092044,0.11055644048807628,0.16057587513051697,0.10311792636175872,0.09185345517456882,0.11460341897278388,0.09011576949751922,0.13628638279386324,0.16049966084643583,0.14612564686873614,0.095328826528668,0.09273754086990983,0.09273754086990983,0.09676927649780122,0.09676927649780122,0.10433735490705669,0.10433735490705669,0.12129503311510643,0.12129503311510643,0.09166291946436601,0.11089940476644132,0.11089940476644132,0.13416762569640803,0.13416762569640803,0.09162481232232544,0.0983773978919129,0.0983773978919129,0.11592954751579541,0.11592954751579541,0.1357071542348467,0.1357071542348467,0.12341379021256164,0.12341379021256164],\"xaxis\":\"x\",\"y\":[0.8009808051025933,0.8311270232865996,0.8035538975063813,0.8657653134414001,0.8085028478437754,0.8111684149913627,0.8516234415627709,0.8601708706265258,0.8731319554848966,0.8154697624190065,0.8528614124418862,0.8374003237604173,0.8421967743869536,0.8544371649791542,0.853722019781364,0.8674830034180971,0.8360180995475113,0.8518133011942588,0.8599761762954139,0.8721369078604894,0.853511559110332,0.8295035841093321,0.8186548257920402,0.8644067796610169,0.8152150698389645,0.8342261335374018,0.84752596212584,0.8527350952673632,0.83404884228306,0.8301496448520792,0.8968672026614916,0.8040263452218218,0.8373079329764305,0.8858469983813076,0.9005585821667471,0.8836125982062157,0.8452225982816974,0.8862080621989352,0.8209574509727169,0.8307054896996202,0.8352646265903609,0.8886428823026218,0.8247491959871357,0.8520240930102256,0.8081145960410846,0.9016694395043314,0.817656851524295,0.8618681714491535,0.8112112552209277,0.8382973217751326,0.8095317819074725,0.9095579347262994,0.8806300442593075,0.8938000593295758,0.8652894464265163,0.8754627572930549,0.8583497335957375,0.8287355869505332,0.8429544954935151,0.9029742997401097,0.8711963914942364,0.8662347832277354,0.8850550676146661,0.8793545259366993,0.8804424721847065,0.8786906290115533,0.8555071762618933,0.8339009693476552,0.8373598830327926,0.8702230727827281,0.8342506593280586,0.8393648977256474,0.8231168466825642,0.8370117663440785,0.8941535051260736,0.8584159074283434,0.8852869281806542,0.8506319203668493,0.8671049427806184,0.845529227408709,0.8776218091160372,0.8445730975851459],\"yaxis\":\"y\",\"type\":\"scatter\",\"textposition\":\"top center\"}],                        {\"template\":{\"data\":{\"histogram2dcontour\":[{\"type\":\"histogram2dcontour\",\"colorbar\":{\"outlinewidth\":0,\"ticks\":\"\"},\"colorscale\":[[0.0,\"#0d0887\"],[0.1111111111111111,\"#46039f\"],[0.2222222222222222,\"#7201a8\"],[0.3333333333333333,\"#9c179e\"],[0.4444444444444444,\"#bd3786\"],[0.5555555555555556,\"#d8576b\"],[0.6666666666666666,\"#ed7953\"],[0.7777777777777778,\"#fb9f3a\"],[0.8888888888888888,\"#fdca26\"],[1.0,\"#f0f921\"]]}],\"choropleth\":[{\"type\":\"choropleth\",\"colorbar\":{\"outlinewidth\":0,\"ticks\":\"\"}}],\"histogram2d\":[{\"type\":\"histogram2d\",\"colorbar\":{\"outlinewidth\":0,\"ticks\":\"\"},\"colorscale\":[[0.0,\"#0d0887\"],[0.1111111111111111,\"#46039f\"],[0.2222222222222222,\"#7201a8\"],[0.3333333333333333,\"#9c179e\"],[0.4444444444444444,\"#bd3786\"],[0.5555555555555556,\"#d8576b\"],[0.6666666666666666,\"#ed7953\"],[0.7777777777777778,\"#fb9f3a\"],[0.8888888888888888,\"#fdca26\"],[1.0,\"#f0f921\"]]}],\"heatmap\":[{\"type\":\"heatmap\",\"colorbar\":{\"outlinewidth\":0,\"ticks\":\"\"},\"colorscale\":[[0.0,\"#0d0887\"],[0.1111111111111111,\"#46039f\"],[0.2222222222222222,\"#7201a8\"],[0.3333333333333333,\"#9c179e\"],[0.4444444444444444,\"#bd3786\"],[0.5555555555555556,\"#d8576b\"],[0.6666666666666666,\"#ed7953\"],[0.7777777777777778,\"#fb9f3a\"],[0.8888888888888888,\"#fdca26\"],[1.0,\"#f0f921\"]]}],\"heatmapgl\":[{\"type\":\"heatmapgl\",\"colorbar\":{\"outlinewidth\":0,\"ticks\":\"\"},\"colorscale\":[[0.0,\"#0d0887\"],[0.1111111111111111,\"#46039f\"],[0.2222222222222222,\"#7201a8\"],[0.3333333333333333,\"#9c179e\"],[0.4444444444444444,\"#bd3786\"],[0.5555555555555556,\"#d8576b\"],[0.6666666666666666,\"#ed7953\"],[0.7777777777777778,\"#fb9f3a\"],[0.8888888888888888,\"#fdca26\"],[1.0,\"#f0f921\"]]}],\"contourcarpet\":[{\"type\":\"contourcarpet\",\"colorbar\":{\"outlinewidth\":0,\"ticks\":\"\"}}],\"contour\":[{\"type\":\"contour\",\"colorbar\":{\"outlinewidth\":0,\"ticks\":\"\"},\"colorscale\":[[0.0,\"#0d0887\"],[0.1111111111111111,\"#46039f\"],[0.2222222222222222,\"#7201a8\"],[0.3333333333333333,\"#9c179e\"],[0.4444444444444444,\"#bd3786\"],[0.5555555555555556,\"#d8576b\"],[0.6666666666666666,\"#ed7953\"],[0.7777777777777778,\"#fb9f3a\"],[0.8888888888888888,\"#fdca26\"],[1.0,\"#f0f921\"]]}],\"surface\":[{\"type\":\"surface\",\"colorbar\":{\"outlinewidth\":0,\"ticks\":\"\"},\"colorscale\":[[0.0,\"#0d0887\"],[0.1111111111111111,\"#46039f\"],[0.2222222222222222,\"#7201a8\"],[0.3333333333333333,\"#9c179e\"],[0.4444444444444444,\"#bd3786\"],[0.5555555555555556,\"#d8576b\"],[0.6666666666666666,\"#ed7953\"],[0.7777777777777778,\"#fb9f3a\"],[0.8888888888888888,\"#fdca26\"],[1.0,\"#f0f921\"]]}],\"mesh3d\":[{\"type\":\"mesh3d\",\"colorbar\":{\"outlinewidth\":0,\"ticks\":\"\"}}],\"scatter\":[{\"fillpattern\":{\"fillmode\":\"overlay\",\"size\":10,\"solidity\":0.2},\"type\":\"scatter\"}],\"parcoords\":[{\"type\":\"parcoords\",\"line\":{\"colorbar\":{\"outlinewidth\":0,\"ticks\":\"\"}}}],\"scatterpolargl\":[{\"type\":\"scatterpolargl\",\"marker\":{\"colorbar\":{\"outlinewidth\":0,\"ticks\":\"\"}}}],\"bar\":[{\"error_x\":{\"color\":\"#2a3f5f\"},\"error_y\":{\"color\":\"#2a3f5f\"},\"marker\":{\"line\":{\"color\":\"#E5ECF6\",\"width\":0.5},\"pattern\":{\"fillmode\":\"overlay\",\"size\":10,\"solidity\":0.2}},\"type\":\"bar\"}],\"scattergeo\":[{\"type\":\"scattergeo\",\"marker\":{\"colorbar\":{\"outlinewidth\":0,\"ticks\":\"\"}}}],\"scatterpolar\":[{\"type\":\"scatterpolar\",\"marker\":{\"colorbar\":{\"outlinewidth\":0,\"ticks\":\"\"}}}],\"histogram\":[{\"marker\":{\"pattern\":{\"fillmode\":\"overlay\",\"size\":10,\"solidity\":0.2}},\"type\":\"histogram\"}],\"scattergl\":[{\"type\":\"scattergl\",\"marker\":{\"colorbar\":{\"outlinewidth\":0,\"ticks\":\"\"}}}],\"scatter3d\":[{\"type\":\"scatter3d\",\"line\":{\"colorbar\":{\"outlinewidth\":0,\"ticks\":\"\"}},\"marker\":{\"colorbar\":{\"outlinewidth\":0,\"ticks\":\"\"}}}],\"scattermapbox\":[{\"type\":\"scattermapbox\",\"marker\":{\"colorbar\":{\"outlinewidth\":0,\"ticks\":\"\"}}}],\"scatterternary\":[{\"type\":\"scatterternary\",\"marker\":{\"colorbar\":{\"outlinewidth\":0,\"ticks\":\"\"}}}],\"scattercarpet\":[{\"type\":\"scattercarpet\",\"marker\":{\"colorbar\":{\"outlinewidth\":0,\"ticks\":\"\"}}}],\"carpet\":[{\"aaxis\":{\"endlinecolor\":\"#2a3f5f\",\"gridcolor\":\"white\",\"linecolor\":\"white\",\"minorgridcolor\":\"white\",\"startlinecolor\":\"#2a3f5f\"},\"baxis\":{\"endlinecolor\":\"#2a3f5f\",\"gridcolor\":\"white\",\"linecolor\":\"white\",\"minorgridcolor\":\"white\",\"startlinecolor\":\"#2a3f5f\"},\"type\":\"carpet\"}],\"table\":[{\"cells\":{\"fill\":{\"color\":\"#EBF0F8\"},\"line\":{\"color\":\"white\"}},\"header\":{\"fill\":{\"color\":\"#C8D4E3\"},\"line\":{\"color\":\"white\"}},\"type\":\"table\"}],\"barpolar\":[{\"marker\":{\"line\":{\"color\":\"#E5ECF6\",\"width\":0.5},\"pattern\":{\"fillmode\":\"overlay\",\"size\":10,\"solidity\":0.2}},\"type\":\"barpolar\"}],\"pie\":[{\"automargin\":true,\"type\":\"pie\"}]},\"layout\":{\"autotypenumbers\":\"strict\",\"colorway\":[\"#636efa\",\"#EF553B\",\"#00cc96\",\"#ab63fa\",\"#FFA15A\",\"#19d3f3\",\"#FF6692\",\"#B6E880\",\"#FF97FF\",\"#FECB52\"],\"font\":{\"color\":\"#2a3f5f\"},\"hovermode\":\"closest\",\"hoverlabel\":{\"align\":\"left\"},\"paper_bgcolor\":\"white\",\"plot_bgcolor\":\"#E5ECF6\",\"polar\":{\"bgcolor\":\"#E5ECF6\",\"angularaxis\":{\"gridcolor\":\"white\",\"linecolor\":\"white\",\"ticks\":\"\"},\"radialaxis\":{\"gridcolor\":\"white\",\"linecolor\":\"white\",\"ticks\":\"\"}},\"ternary\":{\"bgcolor\":\"#E5ECF6\",\"aaxis\":{\"gridcolor\":\"white\",\"linecolor\":\"white\",\"ticks\":\"\"},\"baxis\":{\"gridcolor\":\"white\",\"linecolor\":\"white\",\"ticks\":\"\"},\"caxis\":{\"gridcolor\":\"white\",\"linecolor\":\"white\",\"ticks\":\"\"}},\"coloraxis\":{\"colorbar\":{\"outlinewidth\":0,\"ticks\":\"\"}},\"colorscale\":{\"sequential\":[[0.0,\"#0d0887\"],[0.1111111111111111,\"#46039f\"],[0.2222222222222222,\"#7201a8\"],[0.3333333333333333,\"#9c179e\"],[0.4444444444444444,\"#bd3786\"],[0.5555555555555556,\"#d8576b\"],[0.6666666666666666,\"#ed7953\"],[0.7777777777777778,\"#fb9f3a\"],[0.8888888888888888,\"#fdca26\"],[1.0,\"#f0f921\"]],\"sequentialminus\":[[0.0,\"#0d0887\"],[0.1111111111111111,\"#46039f\"],[0.2222222222222222,\"#7201a8\"],[0.3333333333333333,\"#9c179e\"],[0.4444444444444444,\"#bd3786\"],[0.5555555555555556,\"#d8576b\"],[0.6666666666666666,\"#ed7953\"],[0.7777777777777778,\"#fb9f3a\"],[0.8888888888888888,\"#fdca26\"],[1.0,\"#f0f921\"]],\"diverging\":[[0,\"#8e0152\"],[0.1,\"#c51b7d\"],[0.2,\"#de77ae\"],[0.3,\"#f1b6da\"],[0.4,\"#fde0ef\"],[0.5,\"#f7f7f7\"],[0.6,\"#e6f5d0\"],[0.7,\"#b8e186\"],[0.8,\"#7fbc41\"],[0.9,\"#4d9221\"],[1,\"#276419\"]]},\"xaxis\":{\"gridcolor\":\"white\",\"linecolor\":\"white\",\"ticks\":\"\",\"title\":{\"standoff\":15},\"zerolinecolor\":\"white\",\"automargin\":true,\"zerolinewidth\":2},\"yaxis\":{\"gridcolor\":\"white\",\"linecolor\":\"white\",\"ticks\":\"\",\"title\":{\"standoff\":15},\"zerolinecolor\":\"white\",\"automargin\":true,\"zerolinewidth\":2},\"scene\":{\"xaxis\":{\"backgroundcolor\":\"#E5ECF6\",\"gridcolor\":\"white\",\"linecolor\":\"white\",\"showbackground\":true,\"ticks\":\"\",\"zerolinecolor\":\"white\",\"gridwidth\":2},\"yaxis\":{\"backgroundcolor\":\"#E5ECF6\",\"gridcolor\":\"white\",\"linecolor\":\"white\",\"showbackground\":true,\"ticks\":\"\",\"zerolinecolor\":\"white\",\"gridwidth\":2},\"zaxis\":{\"backgroundcolor\":\"#E5ECF6\",\"gridcolor\":\"white\",\"linecolor\":\"white\",\"showbackground\":true,\"ticks\":\"\",\"zerolinecolor\":\"white\",\"gridwidth\":2}},\"shapedefaults\":{\"line\":{\"color\":\"#2a3f5f\"}},\"annotationdefaults\":{\"arrowcolor\":\"#2a3f5f\",\"arrowhead\":0,\"arrowwidth\":1},\"geo\":{\"bgcolor\":\"white\",\"landcolor\":\"#E5ECF6\",\"subunitcolor\":\"white\",\"showland\":true,\"showlakes\":true,\"lakecolor\":\"white\"},\"title\":{\"x\":0.05},\"mapbox\":{\"style\":\"light\"}}},\"xaxis\":{\"anchor\":\"y\",\"domain\":[0.0,1.0],\"title\":{\"text\":\"support\"},\"type\":\"log\"},\"yaxis\":{\"anchor\":\"x\",\"domain\":[0.0,1.0],\"title\":{\"text\":\"confidence\"}},\"coloraxis\":{\"colorbar\":{\"title\":{\"text\":\"lift\"}},\"colorscale\":[[0.0,\"#0d0887\"],[0.1111111111111111,\"#46039f\"],[0.2222222222222222,\"#7201a8\"],[0.3333333333333333,\"#9c179e\"],[0.4444444444444444,\"#bd3786\"],[0.5555555555555556,\"#d8576b\"],[0.6666666666666666,\"#ed7953\"],[0.7777777777777778,\"#fb9f3a\"],[0.8888888888888888,\"#fdca26\"],[1.0,\"#f0f921\"]]},\"legend\":{\"tracegroupgap\":0},\"margin\":{\"t\":60},\"plot_bgcolor\":\"rgb(240,240,240)\",\"title\":{\"text\":\"2D Plot of Support, Confidence and Lift\"},\"height\":800},                        {\"responsive\": true}                    ).then(function(){\n",
       "                            \n",
       "var gd = document.getElementById('d4e90a58-5b0e-4a3c-aa26-094fefcb9542');\n",
       "var x = new MutationObserver(function (mutations, observer) {{\n",
       "        var display = window.getComputedStyle(gd).display;\n",
       "        if (!display || display === 'none') {{\n",
       "            console.log([gd, 'removed!']);\n",
       "            Plotly.purge(gd);\n",
       "            observer.disconnect();\n",
       "        }}\n",
       "}});\n",
       "\n",
       "// Listen for the removal of the full notebook cells\n",
       "var notebookContainer = gd.closest('#notebook-container');\n",
       "if (notebookContainer) {{\n",
       "    x.observe(notebookContainer, {childList: true});\n",
       "}}\n",
       "\n",
       "// Listen for the clearing of the current output cell\n",
       "var outputEl = gd.closest('.output');\n",
       "if (outputEl) {{\n",
       "    x.observe(outputEl, {childList: true});\n",
       "}}\n",
       "\n",
       "                        })                };                });            </script>        </div>"
      ]
     },
     "metadata": {},
     "output_type": "display_data"
    }
   ],
   "source": [
    "plot_model(rule_APRIORI, plot = '2d')"
   ]
  },
  {
   "cell_type": "code",
   "execution_count": 32,
   "metadata": {},
   "outputs": [
    {
     "data": {
      "text/html": [
       "        <script type=\"text/javascript\">\n",
       "        window.PlotlyConfig = {MathJaxConfig: 'local'};\n",
       "        if (window.MathJax && window.MathJax.Hub && window.MathJax.Hub.Config) {window.MathJax.Hub.Config({SVG: {font: \"STIX-Web\"}});}\n",
       "        if (typeof require !== 'undefined') {\n",
       "        require.undef(\"plotly\");\n",
       "        requirejs.config({\n",
       "            paths: {\n",
       "                'plotly': ['https://cdn.plot.ly/plotly-2.12.1.min']\n",
       "            }\n",
       "        });\n",
       "        require(['plotly'], function(Plotly) {\n",
       "            window._Plotly = Plotly;\n",
       "        });\n",
       "        }\n",
       "        </script>\n",
       "        "
      ]
     },
     "metadata": {},
     "output_type": "display_data"
    },
    {
     "data": {
      "application/vnd.plotly.v1+json": {
       "config": {
        "plotlyServerURL": "https://plot.ly"
       },
       "data": [
        {
         "customdata": [
          [
           " bakery",
           " dairy eggs"
          ],
          [
           " bakery",
           " produce"
          ],
          [
           " breakfast",
           " dairy eggs"
          ],
          [
           " canned goods",
           " produce"
          ],
          [
           " dry goods pasta",
           " dairy eggs"
          ],
          [
           " dairy eggs",
           " produce"
          ],
          [
           " deli",
           " produce"
          ],
          [
           " dry goods pasta",
           " produce"
          ],
          [
           " meat seafood",
           " produce"
          ],
          [
           " pantry",
           " produce"
          ],
          [
           "produce",
           " produce"
          ],
          [
           " bakery",
           " dairy eggs"
          ],
          [
           " bakery",
           " produce"
          ],
          [
           " bakery",
           " dairy eggs"
          ],
          [
           " pantry",
           " dairy eggs"
          ],
          [
           " bakery",
           " produce"
          ],
          [
           " bakery",
           " dairy eggs"
          ],
          [
           " snacks",
           " dairy eggs"
          ],
          [
           " bakery",
           " produce"
          ],
          [
           " pantry",
           " produce"
          ],
          [
           " snacks",
           " produce"
          ],
          [
           " deli",
           " dairy eggs"
          ],
          [
           " dairy eggs",
           " produce"
          ],
          [
           " deli",
           " produce"
          ],
          [
           " beverages",
           " produce"
          ],
          [
           " pantry",
           " produce"
          ],
          [
           " dairy eggs",
           " produce"
          ],
          [
           " produce",
           " dairy eggs"
          ],
          [
           " canned goods",
           " dairy eggs"
          ],
          [
           " canned goods",
           " dairy eggs"
          ],
          [
           " canned goods",
           " produce"
          ],
          [
           " canned goods",
           " dairy eggs"
          ],
          [
           " canned goods",
           " dairy eggs"
          ],
          [
           " canned goods",
           " produce"
          ],
          [
           " canned goods",
           " produce"
          ],
          [
           " canned goods",
           " produce"
          ],
          [
           " deli",
           " dairy eggs"
          ],
          [
           " deli",
           " produce"
          ],
          [
           " deli",
           " dairy eggs"
          ],
          [
           " snacks",
           " dairy eggs"
          ],
          [
           " dry goods pasta",
           " dairy eggs"
          ],
          [
           " dairy eggs",
           " produce"
          ],
          [
           " pantry",
           " dairy eggs"
          ],
          [
           " dairy eggs",
           " produce"
          ],
          [
           " snacks",
           " dairy eggs"
          ],
          [
           " meat seafood",
           " produce"
          ],
          [
           " meat seafood",
           " dairy eggs"
          ],
          [
           " pantry",
           " produce"
          ],
          [
           " snacks",
           " dairy eggs"
          ],
          [
           " snacks",
           " produce"
          ],
          [
           "dairy eggs",
           " produce"
          ],
          [
           "produce",
           " produce"
          ],
          [
           " deli",
           " produce"
          ],
          [
           " pantry",
           " produce"
          ],
          [
           " snacks",
           " produce"
          ],
          [
           " dry goods pasta",
           " produce"
          ],
          [
           " pantry",
           " produce"
          ],
          [
           " snacks",
           " produce"
          ],
          [
           " snacks",
           " produce"
          ],
          [
           "produce",
           " produce"
          ],
          [
           " bakery",
           " produce"
          ],
          [
           " bakery",
           " dairy eggs"
          ],
          [
           " bakery",
           " produce"
          ],
          [
           " bakery",
           " dairy eggs"
          ],
          [
           " snacks",
           " produce"
          ],
          [
           " snacks",
           " dairy eggs"
          ],
          [
           " dairy eggs",
           " produce"
          ],
          [
           " beverages",
           " dairy eggs"
          ],
          [
           " snacks",
           " dairy eggs"
          ],
          [
           " pantry",
           " produce"
          ],
          [
           " pantry",
           " dairy eggs"
          ],
          [
           " snacks",
           " produce"
          ],
          [
           " snacks",
           " dairy eggs"
          ],
          [
           " snacks",
           " produce"
          ],
          [
           " snacks",
           " produce"
          ],
          [
           " snacks",
           " dairy eggs"
          ],
          [
           " pantry",
           " produce"
          ],
          [
           " pantry",
           " dairy eggs"
          ],
          [
           " snacks",
           " produce"
          ],
          [
           " snacks",
           " dairy eggs"
          ],
          [
           " snacks",
           " produce"
          ],
          [
           " snacks",
           " dairy eggs"
          ]
         ],
         "hovertemplate": "support=%{x}<br>confidence=%{y}<br>lift=%{z}<br>antecedents=%{customdata[0]}<br>consequents=%{customdata[1]}<br>antecedent support=%{marker.color}<extra></extra>",
         "legendgroup": "",
         "marker": {
          "color": [
           0.25332103742883494,
           0.25332103742883494,
           0.15526373953006273,
           0.21251590973180193,
           0.18733471027139906,
           0.6088454298104551,
           0.22862760938655122,
           0.18733471027139906,
           0.16778574640459115,
           0.3387572498837732,
           0.2754079369555442,
           0.1271178044189042,
           0.1271178044189042,
           0.12796378297220465,
           0.11712611177586903,
           0.2029052885091724,
           0.21054195977410087,
           0.13912155416168098,
           0.12796378297220465,
           0.11712611177586903,
           0.13912155416168098,
           0.11376506184789154,
           0.2797750154333925,
           0.11376506184789154,
           0.17842526046231585,
           0.1593488251568109,
           0.1247627830407975,
           0.12400064019998629,
           0.10829287625086693,
           0.11051833334603571,
           0.16494295360836528,
           0.18398890320023778,
           0.10961900479387847,
           0.10829287625086693,
           0.11051833334603571,
           0.10961900479387847,
           0.11709562606223659,
           0.18036872470638446,
           0.19470463154204362,
           0.13244518287617466,
           0.16113986083271728,
           0.1514606467544147,
           0.15877721802620248,
           0.2720468870275667,
           0.19366811727854033,
           0.1328491185818046,
           0.14649909686073365,
           0.2539155088446677,
           0.17334938914251308,
           0.29453010083149783,
           0.13656837564496338,
           0.17654276764551213,
           0.11709562606223659,
           0.10276734065498555,
           0.13244518287617466,
           0.10293501207996403,
           0.15877721802620248,
           0.19366811727854033,
           0.17334938914251308,
           0.10557202630917087,
           0.10644849057610377,
           0.10705820484875275,
           0.10933701194277831,
           0.11004580478473275,
           0.11850559031773734,
           0.11874185459838883,
           0.14178143267611215,
           0.14545496116882226,
           0.10946657622571622,
           0.12743790441204492,
           0.13293295429429383,
           0.15984421800333817,
           0.16299948936429665,
           0.10946657622571622,
           0.11002294049950842,
           0.11460341897278388,
           0.13095138290818464,
           0.13628638279386324,
           0.15650603236058502,
           0.16049966084643583,
           0.1406229755580791,
           0.14612564686873614
          ],
          "coloraxis": "coloraxis",
          "opacity": 0.7,
          "symbol": "circle"
         },
         "mode": "markers",
         "name": "",
         "scene": "scene",
         "showlegend": false,
         "type": "scatter3d",
         "x": [
          0.2029052885091724,
          0.21054195977410087,
          0.1247627830407975,
          0.18398890320023778,
          0.1514606467544147,
          0.4938761822740818,
          0.19470463154204362,
          0.16113986083271728,
          0.14649909686073365,
          0.27624629408043655,
          0.23488480210961138,
          0.10644849057610377,
          0.10705820484875275,
          0.10933701194277831,
          0.0999931407144327,
          0.17601688908535237,
          0.17601688908535237,
          0.11850559031773734,
          0.11004580478473275,
          0.10215000495392847,
          0.11874185459838883,
          0.09436852654924587,
          0.22903916652058928,
          0.09833929074987234,
          0.14545496116882226,
          0.13293295429429383,
          0.10573969773414933,
          0.10573969773414933,
          0.09032154806453825,
          0.09174675517685525,
          0.14793192540145875,
          0.14793192540145875,
          0.09178486231889581,
          0.09593091937290887,
          0.09952823358153785,
          0.09686073363869857,
          0.09897186930774565,
          0.15984421800333817,
          0.15984421800333817,
          0.11002294049950842,
          0.13459442568726232,
          0.13459442568726232,
          0.13095138290818464,
          0.23179050217591782,
          0.15650603236058502,
          0.11978599029030021,
          0.11978599029030021,
          0.2188416953105351,
          0.1406229755580791,
          0.2469037947092044,
          0.11055644048807628,
          0.16057587513051697,
          0.10311792636175872,
          0.09185345517456882,
          0.11460341897278388,
          0.09011576949751922,
          0.13628638279386324,
          0.16049966084643583,
          0.14612564686873614,
          0.095328826528668,
          0.09273754086990983,
          0.09273754086990983,
          0.09676927649780122,
          0.09676927649780122,
          0.10433735490705669,
          0.10433735490705669,
          0.12129503311510643,
          0.12129503311510643,
          0.09166291946436601,
          0.11089940476644132,
          0.11089940476644132,
          0.13416762569640803,
          0.13416762569640803,
          0.09162481232232544,
          0.0983773978919129,
          0.0983773978919129,
          0.11592954751579541,
          0.11592954751579541,
          0.1357071542348467,
          0.1357071542348467,
          0.12341379021256164,
          0.12341379021256164
         ],
         "y": [
          0.8009808051025933,
          0.8311270232865996,
          0.8035538975063813,
          0.8657653134414001,
          0.8085028478437754,
          0.8111684149913627,
          0.8516234415627709,
          0.8601708706265258,
          0.8731319554848966,
          0.8154697624190065,
          0.8528614124418862,
          0.8374003237604173,
          0.8421967743869536,
          0.8544371649791542,
          0.853722019781364,
          0.8674830034180971,
          0.8360180995475113,
          0.8518133011942588,
          0.8599761762954139,
          0.8721369078604894,
          0.853511559110332,
          0.8295035841093321,
          0.8186548257920402,
          0.8644067796610169,
          0.8152150698389645,
          0.8342261335374018,
          0.84752596212584,
          0.8527350952673632,
          0.83404884228306,
          0.8301496448520792,
          0.8968672026614916,
          0.8040263452218218,
          0.8373079329764305,
          0.8858469983813076,
          0.9005585821667471,
          0.8836125982062157,
          0.8452225982816974,
          0.8862080621989352,
          0.8209574509727169,
          0.8307054896996202,
          0.8352646265903609,
          0.8886428823026218,
          0.8247491959871357,
          0.8520240930102256,
          0.8081145960410846,
          0.9016694395043314,
          0.817656851524295,
          0.8618681714491535,
          0.8112112552209277,
          0.8382973217751326,
          0.8095317819074725,
          0.9095579347262994,
          0.8806300442593075,
          0.8938000593295758,
          0.8652894464265163,
          0.8754627572930549,
          0.8583497335957375,
          0.8287355869505332,
          0.8429544954935151,
          0.9029742997401097,
          0.8711963914942364,
          0.8662347832277354,
          0.8850550676146661,
          0.8793545259366993,
          0.8804424721847065,
          0.8786906290115533,
          0.8555071762618933,
          0.8339009693476552,
          0.8373598830327926,
          0.8702230727827281,
          0.8342506593280586,
          0.8393648977256474,
          0.8231168466825642,
          0.8370117663440785,
          0.8941535051260736,
          0.8584159074283434,
          0.8852869281806542,
          0.8506319203668493,
          0.8671049427806184,
          0.845529227408709,
          0.8776218091160372,
          0.8445730975851459
         ],
         "z": [
          1.3155733226936654,
          1.1903869184413431,
          1.3197995060200132,
          1.239997827871768,
          1.327927924326339,
          1.16180107589348,
          1.2197430427246982,
          1.231985151883373,
          1.2505487473771182,
          1.1679617078619737,
          1.221516134320352,
          1.3753906702085545,
          1.2062416392373954,
          1.403372881102444,
          1.4021982887301028,
          1.2424580001690329,
          1.3731204319095887,
          1.3990633081691097,
          1.2317062997003052,
          1.2491235841443833,
          1.2224473109846912,
          1.3624206465137991,
          1.1725235349563126,
          1.2380520593007571,
          1.167596922808653,
          1.1948256386345264,
          1.2138744019710659,
          1.4005773116057314,
          1.369886019416644,
          1.363481770916011,
          1.2845437047703487,
          1.3205754791854645,
          1.375238922688637,
          1.268759947719823,
          1.289830706336827,
          1.2655597139836192,
          1.3882383884278,
          1.2692770836487293,
          1.3483840245434646,
          1.3643947199508983,
          1.371882887994075,
          1.2727643700910893,
          1.3546117875006394,
          1.2203168782859808,
          1.327290238989994,
          1.2914217387613123,
          1.342962945092397,
          1.2344161216861913,
          1.3323763561360276,
          1.2006566236523675,
          1.159456997841912,
          1.302720085771237,
          1.2612879322914472,
          1.280150769398257,
          1.239316264339884,
          1.2538870529599873,
          1.2293768168907666,
          1.1869617686736438,
          1.2073268900688638,
          1.2932906330597103,
          1.2477765236498992,
          1.4227499145348113,
          1.2676256998870508,
          1.4442984752475825,
          1.2610192810051648,
          1.443208055754161,
          1.2253055462301796,
          1.3696431450709323,
          1.3753242482143264,
          1.2463824817896407,
          1.3702174944267487,
          1.2021856660373809,
          1.3519307304956134,
          1.198815378782231,
          1.2806569943683768,
          1.409907778556512,
          1.2679577836443126,
          1.3971229456902827,
          1.2419165204377487,
          1.3887420123559735,
          1.256979368543894,
          1.3871716140631576
         ]
        }
       ],
       "layout": {
        "coloraxis": {
         "colorbar": {
          "title": {
           "text": "antecedent support"
          }
         },
         "colorscale": [
          [
           0,
           "#0d0887"
          ],
          [
           0.1111111111111111,
           "#46039f"
          ],
          [
           0.2222222222222222,
           "#7201a8"
          ],
          [
           0.3333333333333333,
           "#9c179e"
          ],
          [
           0.4444444444444444,
           "#bd3786"
          ],
          [
           0.5555555555555556,
           "#d8576b"
          ],
          [
           0.6666666666666666,
           "#ed7953"
          ],
          [
           0.7777777777777778,
           "#fb9f3a"
          ],
          [
           0.8888888888888888,
           "#fdca26"
          ],
          [
           1,
           "#f0f921"
          ]
         ]
        },
        "height": 800,
        "legend": {
         "tracegroupgap": 0
        },
        "scene": {
         "domain": {
          "x": [
           0,
           1
          ],
          "y": [
           0,
           1
          ]
         },
         "xaxis": {
          "title": {
           "text": "support"
          }
         },
         "yaxis": {
          "title": {
           "text": "confidence"
          }
         },
         "zaxis": {
          "title": {
           "text": "lift"
          }
         }
        },
        "template": {
         "data": {
          "bar": [
           {
            "error_x": {
             "color": "#2a3f5f"
            },
            "error_y": {
             "color": "#2a3f5f"
            },
            "marker": {
             "line": {
              "color": "#E5ECF6",
              "width": 0.5
             },
             "pattern": {
              "fillmode": "overlay",
              "size": 10,
              "solidity": 0.2
             }
            },
            "type": "bar"
           }
          ],
          "barpolar": [
           {
            "marker": {
             "line": {
              "color": "#E5ECF6",
              "width": 0.5
             },
             "pattern": {
              "fillmode": "overlay",
              "size": 10,
              "solidity": 0.2
             }
            },
            "type": "barpolar"
           }
          ],
          "carpet": [
           {
            "aaxis": {
             "endlinecolor": "#2a3f5f",
             "gridcolor": "white",
             "linecolor": "white",
             "minorgridcolor": "white",
             "startlinecolor": "#2a3f5f"
            },
            "baxis": {
             "endlinecolor": "#2a3f5f",
             "gridcolor": "white",
             "linecolor": "white",
             "minorgridcolor": "white",
             "startlinecolor": "#2a3f5f"
            },
            "type": "carpet"
           }
          ],
          "choropleth": [
           {
            "colorbar": {
             "outlinewidth": 0,
             "ticks": ""
            },
            "type": "choropleth"
           }
          ],
          "contour": [
           {
            "colorbar": {
             "outlinewidth": 0,
             "ticks": ""
            },
            "colorscale": [
             [
              0,
              "#0d0887"
             ],
             [
              0.1111111111111111,
              "#46039f"
             ],
             [
              0.2222222222222222,
              "#7201a8"
             ],
             [
              0.3333333333333333,
              "#9c179e"
             ],
             [
              0.4444444444444444,
              "#bd3786"
             ],
             [
              0.5555555555555556,
              "#d8576b"
             ],
             [
              0.6666666666666666,
              "#ed7953"
             ],
             [
              0.7777777777777778,
              "#fb9f3a"
             ],
             [
              0.8888888888888888,
              "#fdca26"
             ],
             [
              1,
              "#f0f921"
             ]
            ],
            "type": "contour"
           }
          ],
          "contourcarpet": [
           {
            "colorbar": {
             "outlinewidth": 0,
             "ticks": ""
            },
            "type": "contourcarpet"
           }
          ],
          "heatmap": [
           {
            "colorbar": {
             "outlinewidth": 0,
             "ticks": ""
            },
            "colorscale": [
             [
              0,
              "#0d0887"
             ],
             [
              0.1111111111111111,
              "#46039f"
             ],
             [
              0.2222222222222222,
              "#7201a8"
             ],
             [
              0.3333333333333333,
              "#9c179e"
             ],
             [
              0.4444444444444444,
              "#bd3786"
             ],
             [
              0.5555555555555556,
              "#d8576b"
             ],
             [
              0.6666666666666666,
              "#ed7953"
             ],
             [
              0.7777777777777778,
              "#fb9f3a"
             ],
             [
              0.8888888888888888,
              "#fdca26"
             ],
             [
              1,
              "#f0f921"
             ]
            ],
            "type": "heatmap"
           }
          ],
          "heatmapgl": [
           {
            "colorbar": {
             "outlinewidth": 0,
             "ticks": ""
            },
            "colorscale": [
             [
              0,
              "#0d0887"
             ],
             [
              0.1111111111111111,
              "#46039f"
             ],
             [
              0.2222222222222222,
              "#7201a8"
             ],
             [
              0.3333333333333333,
              "#9c179e"
             ],
             [
              0.4444444444444444,
              "#bd3786"
             ],
             [
              0.5555555555555556,
              "#d8576b"
             ],
             [
              0.6666666666666666,
              "#ed7953"
             ],
             [
              0.7777777777777778,
              "#fb9f3a"
             ],
             [
              0.8888888888888888,
              "#fdca26"
             ],
             [
              1,
              "#f0f921"
             ]
            ],
            "type": "heatmapgl"
           }
          ],
          "histogram": [
           {
            "marker": {
             "pattern": {
              "fillmode": "overlay",
              "size": 10,
              "solidity": 0.2
             }
            },
            "type": "histogram"
           }
          ],
          "histogram2d": [
           {
            "colorbar": {
             "outlinewidth": 0,
             "ticks": ""
            },
            "colorscale": [
             [
              0,
              "#0d0887"
             ],
             [
              0.1111111111111111,
              "#46039f"
             ],
             [
              0.2222222222222222,
              "#7201a8"
             ],
             [
              0.3333333333333333,
              "#9c179e"
             ],
             [
              0.4444444444444444,
              "#bd3786"
             ],
             [
              0.5555555555555556,
              "#d8576b"
             ],
             [
              0.6666666666666666,
              "#ed7953"
             ],
             [
              0.7777777777777778,
              "#fb9f3a"
             ],
             [
              0.8888888888888888,
              "#fdca26"
             ],
             [
              1,
              "#f0f921"
             ]
            ],
            "type": "histogram2d"
           }
          ],
          "histogram2dcontour": [
           {
            "colorbar": {
             "outlinewidth": 0,
             "ticks": ""
            },
            "colorscale": [
             [
              0,
              "#0d0887"
             ],
             [
              0.1111111111111111,
              "#46039f"
             ],
             [
              0.2222222222222222,
              "#7201a8"
             ],
             [
              0.3333333333333333,
              "#9c179e"
             ],
             [
              0.4444444444444444,
              "#bd3786"
             ],
             [
              0.5555555555555556,
              "#d8576b"
             ],
             [
              0.6666666666666666,
              "#ed7953"
             ],
             [
              0.7777777777777778,
              "#fb9f3a"
             ],
             [
              0.8888888888888888,
              "#fdca26"
             ],
             [
              1,
              "#f0f921"
             ]
            ],
            "type": "histogram2dcontour"
           }
          ],
          "mesh3d": [
           {
            "colorbar": {
             "outlinewidth": 0,
             "ticks": ""
            },
            "type": "mesh3d"
           }
          ],
          "parcoords": [
           {
            "line": {
             "colorbar": {
              "outlinewidth": 0,
              "ticks": ""
             }
            },
            "type": "parcoords"
           }
          ],
          "pie": [
           {
            "automargin": true,
            "type": "pie"
           }
          ],
          "scatter": [
           {
            "fillpattern": {
             "fillmode": "overlay",
             "size": 10,
             "solidity": 0.2
            },
            "type": "scatter"
           }
          ],
          "scatter3d": [
           {
            "line": {
             "colorbar": {
              "outlinewidth": 0,
              "ticks": ""
             }
            },
            "marker": {
             "colorbar": {
              "outlinewidth": 0,
              "ticks": ""
             }
            },
            "type": "scatter3d"
           }
          ],
          "scattercarpet": [
           {
            "marker": {
             "colorbar": {
              "outlinewidth": 0,
              "ticks": ""
             }
            },
            "type": "scattercarpet"
           }
          ],
          "scattergeo": [
           {
            "marker": {
             "colorbar": {
              "outlinewidth": 0,
              "ticks": ""
             }
            },
            "type": "scattergeo"
           }
          ],
          "scattergl": [
           {
            "marker": {
             "colorbar": {
              "outlinewidth": 0,
              "ticks": ""
             }
            },
            "type": "scattergl"
           }
          ],
          "scattermapbox": [
           {
            "marker": {
             "colorbar": {
              "outlinewidth": 0,
              "ticks": ""
             }
            },
            "type": "scattermapbox"
           }
          ],
          "scatterpolar": [
           {
            "marker": {
             "colorbar": {
              "outlinewidth": 0,
              "ticks": ""
             }
            },
            "type": "scatterpolar"
           }
          ],
          "scatterpolargl": [
           {
            "marker": {
             "colorbar": {
              "outlinewidth": 0,
              "ticks": ""
             }
            },
            "type": "scatterpolargl"
           }
          ],
          "scatterternary": [
           {
            "marker": {
             "colorbar": {
              "outlinewidth": 0,
              "ticks": ""
             }
            },
            "type": "scatterternary"
           }
          ],
          "surface": [
           {
            "colorbar": {
             "outlinewidth": 0,
             "ticks": ""
            },
            "colorscale": [
             [
              0,
              "#0d0887"
             ],
             [
              0.1111111111111111,
              "#46039f"
             ],
             [
              0.2222222222222222,
              "#7201a8"
             ],
             [
              0.3333333333333333,
              "#9c179e"
             ],
             [
              0.4444444444444444,
              "#bd3786"
             ],
             [
              0.5555555555555556,
              "#d8576b"
             ],
             [
              0.6666666666666666,
              "#ed7953"
             ],
             [
              0.7777777777777778,
              "#fb9f3a"
             ],
             [
              0.8888888888888888,
              "#fdca26"
             ],
             [
              1,
              "#f0f921"
             ]
            ],
            "type": "surface"
           }
          ],
          "table": [
           {
            "cells": {
             "fill": {
              "color": "#EBF0F8"
             },
             "line": {
              "color": "white"
             }
            },
            "header": {
             "fill": {
              "color": "#C8D4E3"
             },
             "line": {
              "color": "white"
             }
            },
            "type": "table"
           }
          ]
         },
         "layout": {
          "annotationdefaults": {
           "arrowcolor": "#2a3f5f",
           "arrowhead": 0,
           "arrowwidth": 1
          },
          "autotypenumbers": "strict",
          "coloraxis": {
           "colorbar": {
            "outlinewidth": 0,
            "ticks": ""
           }
          },
          "colorscale": {
           "diverging": [
            [
             0,
             "#8e0152"
            ],
            [
             0.1,
             "#c51b7d"
            ],
            [
             0.2,
             "#de77ae"
            ],
            [
             0.3,
             "#f1b6da"
            ],
            [
             0.4,
             "#fde0ef"
            ],
            [
             0.5,
             "#f7f7f7"
            ],
            [
             0.6,
             "#e6f5d0"
            ],
            [
             0.7,
             "#b8e186"
            ],
            [
             0.8,
             "#7fbc41"
            ],
            [
             0.9,
             "#4d9221"
            ],
            [
             1,
             "#276419"
            ]
           ],
           "sequential": [
            [
             0,
             "#0d0887"
            ],
            [
             0.1111111111111111,
             "#46039f"
            ],
            [
             0.2222222222222222,
             "#7201a8"
            ],
            [
             0.3333333333333333,
             "#9c179e"
            ],
            [
             0.4444444444444444,
             "#bd3786"
            ],
            [
             0.5555555555555556,
             "#d8576b"
            ],
            [
             0.6666666666666666,
             "#ed7953"
            ],
            [
             0.7777777777777778,
             "#fb9f3a"
            ],
            [
             0.8888888888888888,
             "#fdca26"
            ],
            [
             1,
             "#f0f921"
            ]
           ],
           "sequentialminus": [
            [
             0,
             "#0d0887"
            ],
            [
             0.1111111111111111,
             "#46039f"
            ],
            [
             0.2222222222222222,
             "#7201a8"
            ],
            [
             0.3333333333333333,
             "#9c179e"
            ],
            [
             0.4444444444444444,
             "#bd3786"
            ],
            [
             0.5555555555555556,
             "#d8576b"
            ],
            [
             0.6666666666666666,
             "#ed7953"
            ],
            [
             0.7777777777777778,
             "#fb9f3a"
            ],
            [
             0.8888888888888888,
             "#fdca26"
            ],
            [
             1,
             "#f0f921"
            ]
           ]
          },
          "colorway": [
           "#636efa",
           "#EF553B",
           "#00cc96",
           "#ab63fa",
           "#FFA15A",
           "#19d3f3",
           "#FF6692",
           "#B6E880",
           "#FF97FF",
           "#FECB52"
          ],
          "font": {
           "color": "#2a3f5f"
          },
          "geo": {
           "bgcolor": "white",
           "lakecolor": "white",
           "landcolor": "#E5ECF6",
           "showlakes": true,
           "showland": true,
           "subunitcolor": "white"
          },
          "hoverlabel": {
           "align": "left"
          },
          "hovermode": "closest",
          "mapbox": {
           "style": "light"
          },
          "paper_bgcolor": "white",
          "plot_bgcolor": "#E5ECF6",
          "polar": {
           "angularaxis": {
            "gridcolor": "white",
            "linecolor": "white",
            "ticks": ""
           },
           "bgcolor": "#E5ECF6",
           "radialaxis": {
            "gridcolor": "white",
            "linecolor": "white",
            "ticks": ""
           }
          },
          "scene": {
           "xaxis": {
            "backgroundcolor": "#E5ECF6",
            "gridcolor": "white",
            "gridwidth": 2,
            "linecolor": "white",
            "showbackground": true,
            "ticks": "",
            "zerolinecolor": "white"
           },
           "yaxis": {
            "backgroundcolor": "#E5ECF6",
            "gridcolor": "white",
            "gridwidth": 2,
            "linecolor": "white",
            "showbackground": true,
            "ticks": "",
            "zerolinecolor": "white"
           },
           "zaxis": {
            "backgroundcolor": "#E5ECF6",
            "gridcolor": "white",
            "gridwidth": 2,
            "linecolor": "white",
            "showbackground": true,
            "ticks": "",
            "zerolinecolor": "white"
           }
          },
          "shapedefaults": {
           "line": {
            "color": "#2a3f5f"
           }
          },
          "ternary": {
           "aaxis": {
            "gridcolor": "white",
            "linecolor": "white",
            "ticks": ""
           },
           "baxis": {
            "gridcolor": "white",
            "linecolor": "white",
            "ticks": ""
           },
           "bgcolor": "#E5ECF6",
           "caxis": {
            "gridcolor": "white",
            "linecolor": "white",
            "ticks": ""
           }
          },
          "title": {
           "x": 0.05
          },
          "xaxis": {
           "automargin": true,
           "gridcolor": "white",
           "linecolor": "white",
           "ticks": "",
           "title": {
            "standoff": 15
           },
           "zerolinecolor": "white",
           "zerolinewidth": 2
          },
          "yaxis": {
           "automargin": true,
           "gridcolor": "white",
           "linecolor": "white",
           "ticks": "",
           "title": {
            "standoff": 15
           },
           "zerolinecolor": "white",
           "zerolinewidth": 2
          }
         }
        },
        "title": {
         "text": "3d Plot for Rule Mining"
        },
        "width": 900
       }
      },
      "text/html": [
       "<div>                            <div id=\"98aeb5d8-b5ab-465f-a5e7-0fc686c0d7c8\" class=\"plotly-graph-div\" style=\"height:800px; width:900px;\"></div>            <script type=\"text/javascript\">                require([\"plotly\"], function(Plotly) {                    window.PLOTLYENV=window.PLOTLYENV || {};                                    if (document.getElementById(\"98aeb5d8-b5ab-465f-a5e7-0fc686c0d7c8\")) {                    Plotly.newPlot(                        \"98aeb5d8-b5ab-465f-a5e7-0fc686c0d7c8\",                        [{\"customdata\":[[\" bakery\",\" dairy eggs\"],[\" bakery\",\" produce\"],[\" breakfast\",\" dairy eggs\"],[\" canned goods\",\" produce\"],[\" dry goods pasta\",\" dairy eggs\"],[\" dairy eggs\",\" produce\"],[\" deli\",\" produce\"],[\" dry goods pasta\",\" produce\"],[\" meat seafood\",\" produce\"],[\" pantry\",\" produce\"],[\"produce\",\" produce\"],[\" bakery\",\" dairy eggs\"],[\" bakery\",\" produce\"],[\" bakery\",\" dairy eggs\"],[\" pantry\",\" dairy eggs\"],[\" bakery\",\" produce\"],[\" bakery\",\" dairy eggs\"],[\" snacks\",\" dairy eggs\"],[\" bakery\",\" produce\"],[\" pantry\",\" produce\"],[\" snacks\",\" produce\"],[\" deli\",\" dairy eggs\"],[\" dairy eggs\",\" produce\"],[\" deli\",\" produce\"],[\" beverages\",\" produce\"],[\" pantry\",\" produce\"],[\" dairy eggs\",\" produce\"],[\" produce\",\" dairy eggs\"],[\" canned goods\",\" dairy eggs\"],[\" canned goods\",\" dairy eggs\"],[\" canned goods\",\" produce\"],[\" canned goods\",\" dairy eggs\"],[\" canned goods\",\" dairy eggs\"],[\" canned goods\",\" produce\"],[\" canned goods\",\" produce\"],[\" canned goods\",\" produce\"],[\" deli\",\" dairy eggs\"],[\" deli\",\" produce\"],[\" deli\",\" dairy eggs\"],[\" snacks\",\" dairy eggs\"],[\" dry goods pasta\",\" dairy eggs\"],[\" dairy eggs\",\" produce\"],[\" pantry\",\" dairy eggs\"],[\" dairy eggs\",\" produce\"],[\" snacks\",\" dairy eggs\"],[\" meat seafood\",\" produce\"],[\" meat seafood\",\" dairy eggs\"],[\" pantry\",\" produce\"],[\" snacks\",\" dairy eggs\"],[\" snacks\",\" produce\"],[\"dairy eggs\",\" produce\"],[\"produce\",\" produce\"],[\" deli\",\" produce\"],[\" pantry\",\" produce\"],[\" snacks\",\" produce\"],[\" dry goods pasta\",\" produce\"],[\" pantry\",\" produce\"],[\" snacks\",\" produce\"],[\" snacks\",\" produce\"],[\"produce\",\" produce\"],[\" bakery\",\" produce\"],[\" bakery\",\" dairy eggs\"],[\" bakery\",\" produce\"],[\" bakery\",\" dairy eggs\"],[\" snacks\",\" produce\"],[\" snacks\",\" dairy eggs\"],[\" dairy eggs\",\" produce\"],[\" beverages\",\" dairy eggs\"],[\" snacks\",\" dairy eggs\"],[\" pantry\",\" produce\"],[\" pantry\",\" dairy eggs\"],[\" snacks\",\" produce\"],[\" snacks\",\" dairy eggs\"],[\" snacks\",\" produce\"],[\" snacks\",\" produce\"],[\" snacks\",\" dairy eggs\"],[\" pantry\",\" produce\"],[\" pantry\",\" dairy eggs\"],[\" snacks\",\" produce\"],[\" snacks\",\" dairy eggs\"],[\" snacks\",\" produce\"],[\" snacks\",\" dairy eggs\"]],\"hovertemplate\":\"support=%{x}<br>confidence=%{y}<br>lift=%{z}<br>antecedents=%{customdata[0]}<br>consequents=%{customdata[1]}<br>antecedent support=%{marker.color}<extra></extra>\",\"legendgroup\":\"\",\"marker\":{\"color\":[0.25332103742883494,0.25332103742883494,0.15526373953006273,0.21251590973180193,0.18733471027139906,0.6088454298104551,0.22862760938655122,0.18733471027139906,0.16778574640459115,0.3387572498837732,0.2754079369555442,0.1271178044189042,0.1271178044189042,0.12796378297220465,0.11712611177586903,0.2029052885091724,0.21054195977410087,0.13912155416168098,0.12796378297220465,0.11712611177586903,0.13912155416168098,0.11376506184789154,0.2797750154333925,0.11376506184789154,0.17842526046231585,0.1593488251568109,0.1247627830407975,0.12400064019998629,0.10829287625086693,0.11051833334603571,0.16494295360836528,0.18398890320023778,0.10961900479387847,0.10829287625086693,0.11051833334603571,0.10961900479387847,0.11709562606223659,0.18036872470638446,0.19470463154204362,0.13244518287617466,0.16113986083271728,0.1514606467544147,0.15877721802620248,0.2720468870275667,0.19366811727854033,0.1328491185818046,0.14649909686073365,0.2539155088446677,0.17334938914251308,0.29453010083149783,0.13656837564496338,0.17654276764551213,0.11709562606223659,0.10276734065498555,0.13244518287617466,0.10293501207996403,0.15877721802620248,0.19366811727854033,0.17334938914251308,0.10557202630917087,0.10644849057610377,0.10705820484875275,0.10933701194277831,0.11004580478473275,0.11850559031773734,0.11874185459838883,0.14178143267611215,0.14545496116882226,0.10946657622571622,0.12743790441204492,0.13293295429429383,0.15984421800333817,0.16299948936429665,0.10946657622571622,0.11002294049950842,0.11460341897278388,0.13095138290818464,0.13628638279386324,0.15650603236058502,0.16049966084643583,0.1406229755580791,0.14612564686873614],\"coloraxis\":\"coloraxis\",\"opacity\":0.7,\"symbol\":\"circle\"},\"mode\":\"markers\",\"name\":\"\",\"scene\":\"scene\",\"showlegend\":false,\"x\":[0.2029052885091724,0.21054195977410087,0.1247627830407975,0.18398890320023778,0.1514606467544147,0.4938761822740818,0.19470463154204362,0.16113986083271728,0.14649909686073365,0.27624629408043655,0.23488480210961138,0.10644849057610377,0.10705820484875275,0.10933701194277831,0.0999931407144327,0.17601688908535237,0.17601688908535237,0.11850559031773734,0.11004580478473275,0.10215000495392847,0.11874185459838883,0.09436852654924587,0.22903916652058928,0.09833929074987234,0.14545496116882226,0.13293295429429383,0.10573969773414933,0.10573969773414933,0.09032154806453825,0.09174675517685525,0.14793192540145875,0.14793192540145875,0.09178486231889581,0.09593091937290887,0.09952823358153785,0.09686073363869857,0.09897186930774565,0.15984421800333817,0.15984421800333817,0.11002294049950842,0.13459442568726232,0.13459442568726232,0.13095138290818464,0.23179050217591782,0.15650603236058502,0.11978599029030021,0.11978599029030021,0.2188416953105351,0.1406229755580791,0.2469037947092044,0.11055644048807628,0.16057587513051697,0.10311792636175872,0.09185345517456882,0.11460341897278388,0.09011576949751922,0.13628638279386324,0.16049966084643583,0.14612564686873614,0.095328826528668,0.09273754086990983,0.09273754086990983,0.09676927649780122,0.09676927649780122,0.10433735490705669,0.10433735490705669,0.12129503311510643,0.12129503311510643,0.09166291946436601,0.11089940476644132,0.11089940476644132,0.13416762569640803,0.13416762569640803,0.09162481232232544,0.0983773978919129,0.0983773978919129,0.11592954751579541,0.11592954751579541,0.1357071542348467,0.1357071542348467,0.12341379021256164,0.12341379021256164],\"y\":[0.8009808051025933,0.8311270232865996,0.8035538975063813,0.8657653134414001,0.8085028478437754,0.8111684149913627,0.8516234415627709,0.8601708706265258,0.8731319554848966,0.8154697624190065,0.8528614124418862,0.8374003237604173,0.8421967743869536,0.8544371649791542,0.853722019781364,0.8674830034180971,0.8360180995475113,0.8518133011942588,0.8599761762954139,0.8721369078604894,0.853511559110332,0.8295035841093321,0.8186548257920402,0.8644067796610169,0.8152150698389645,0.8342261335374018,0.84752596212584,0.8527350952673632,0.83404884228306,0.8301496448520792,0.8968672026614916,0.8040263452218218,0.8373079329764305,0.8858469983813076,0.9005585821667471,0.8836125982062157,0.8452225982816974,0.8862080621989352,0.8209574509727169,0.8307054896996202,0.8352646265903609,0.8886428823026218,0.8247491959871357,0.8520240930102256,0.8081145960410846,0.9016694395043314,0.817656851524295,0.8618681714491535,0.8112112552209277,0.8382973217751326,0.8095317819074725,0.9095579347262994,0.8806300442593075,0.8938000593295758,0.8652894464265163,0.8754627572930549,0.8583497335957375,0.8287355869505332,0.8429544954935151,0.9029742997401097,0.8711963914942364,0.8662347832277354,0.8850550676146661,0.8793545259366993,0.8804424721847065,0.8786906290115533,0.8555071762618933,0.8339009693476552,0.8373598830327926,0.8702230727827281,0.8342506593280586,0.8393648977256474,0.8231168466825642,0.8370117663440785,0.8941535051260736,0.8584159074283434,0.8852869281806542,0.8506319203668493,0.8671049427806184,0.845529227408709,0.8776218091160372,0.8445730975851459],\"z\":[1.3155733226936654,1.1903869184413431,1.3197995060200132,1.239997827871768,1.327927924326339,1.16180107589348,1.2197430427246982,1.231985151883373,1.2505487473771182,1.1679617078619737,1.221516134320352,1.3753906702085545,1.2062416392373954,1.403372881102444,1.4021982887301028,1.2424580001690329,1.3731204319095887,1.3990633081691097,1.2317062997003052,1.2491235841443833,1.2224473109846912,1.3624206465137991,1.1725235349563126,1.2380520593007571,1.167596922808653,1.1948256386345264,1.2138744019710659,1.4005773116057314,1.369886019416644,1.363481770916011,1.2845437047703487,1.3205754791854645,1.375238922688637,1.268759947719823,1.289830706336827,1.2655597139836192,1.3882383884278,1.2692770836487293,1.3483840245434646,1.3643947199508983,1.371882887994075,1.2727643700910893,1.3546117875006394,1.2203168782859808,1.327290238989994,1.2914217387613123,1.342962945092397,1.2344161216861913,1.3323763561360276,1.2006566236523675,1.159456997841912,1.302720085771237,1.2612879322914472,1.280150769398257,1.239316264339884,1.2538870529599873,1.2293768168907666,1.1869617686736438,1.2073268900688638,1.2932906330597103,1.2477765236498992,1.4227499145348113,1.2676256998870508,1.4442984752475825,1.2610192810051648,1.443208055754161,1.2253055462301796,1.3696431450709323,1.3753242482143264,1.2463824817896407,1.3702174944267487,1.2021856660373809,1.3519307304956134,1.198815378782231,1.2806569943683768,1.409907778556512,1.2679577836443126,1.3971229456902827,1.2419165204377487,1.3887420123559735,1.256979368543894,1.3871716140631576],\"type\":\"scatter3d\"}],                        {\"template\":{\"data\":{\"histogram2dcontour\":[{\"type\":\"histogram2dcontour\",\"colorbar\":{\"outlinewidth\":0,\"ticks\":\"\"},\"colorscale\":[[0.0,\"#0d0887\"],[0.1111111111111111,\"#46039f\"],[0.2222222222222222,\"#7201a8\"],[0.3333333333333333,\"#9c179e\"],[0.4444444444444444,\"#bd3786\"],[0.5555555555555556,\"#d8576b\"],[0.6666666666666666,\"#ed7953\"],[0.7777777777777778,\"#fb9f3a\"],[0.8888888888888888,\"#fdca26\"],[1.0,\"#f0f921\"]]}],\"choropleth\":[{\"type\":\"choropleth\",\"colorbar\":{\"outlinewidth\":0,\"ticks\":\"\"}}],\"histogram2d\":[{\"type\":\"histogram2d\",\"colorbar\":{\"outlinewidth\":0,\"ticks\":\"\"},\"colorscale\":[[0.0,\"#0d0887\"],[0.1111111111111111,\"#46039f\"],[0.2222222222222222,\"#7201a8\"],[0.3333333333333333,\"#9c179e\"],[0.4444444444444444,\"#bd3786\"],[0.5555555555555556,\"#d8576b\"],[0.6666666666666666,\"#ed7953\"],[0.7777777777777778,\"#fb9f3a\"],[0.8888888888888888,\"#fdca26\"],[1.0,\"#f0f921\"]]}],\"heatmap\":[{\"type\":\"heatmap\",\"colorbar\":{\"outlinewidth\":0,\"ticks\":\"\"},\"colorscale\":[[0.0,\"#0d0887\"],[0.1111111111111111,\"#46039f\"],[0.2222222222222222,\"#7201a8\"],[0.3333333333333333,\"#9c179e\"],[0.4444444444444444,\"#bd3786\"],[0.5555555555555556,\"#d8576b\"],[0.6666666666666666,\"#ed7953\"],[0.7777777777777778,\"#fb9f3a\"],[0.8888888888888888,\"#fdca26\"],[1.0,\"#f0f921\"]]}],\"heatmapgl\":[{\"type\":\"heatmapgl\",\"colorbar\":{\"outlinewidth\":0,\"ticks\":\"\"},\"colorscale\":[[0.0,\"#0d0887\"],[0.1111111111111111,\"#46039f\"],[0.2222222222222222,\"#7201a8\"],[0.3333333333333333,\"#9c179e\"],[0.4444444444444444,\"#bd3786\"],[0.5555555555555556,\"#d8576b\"],[0.6666666666666666,\"#ed7953\"],[0.7777777777777778,\"#fb9f3a\"],[0.8888888888888888,\"#fdca26\"],[1.0,\"#f0f921\"]]}],\"contourcarpet\":[{\"type\":\"contourcarpet\",\"colorbar\":{\"outlinewidth\":0,\"ticks\":\"\"}}],\"contour\":[{\"type\":\"contour\",\"colorbar\":{\"outlinewidth\":0,\"ticks\":\"\"},\"colorscale\":[[0.0,\"#0d0887\"],[0.1111111111111111,\"#46039f\"],[0.2222222222222222,\"#7201a8\"],[0.3333333333333333,\"#9c179e\"],[0.4444444444444444,\"#bd3786\"],[0.5555555555555556,\"#d8576b\"],[0.6666666666666666,\"#ed7953\"],[0.7777777777777778,\"#fb9f3a\"],[0.8888888888888888,\"#fdca26\"],[1.0,\"#f0f921\"]]}],\"surface\":[{\"type\":\"surface\",\"colorbar\":{\"outlinewidth\":0,\"ticks\":\"\"},\"colorscale\":[[0.0,\"#0d0887\"],[0.1111111111111111,\"#46039f\"],[0.2222222222222222,\"#7201a8\"],[0.3333333333333333,\"#9c179e\"],[0.4444444444444444,\"#bd3786\"],[0.5555555555555556,\"#d8576b\"],[0.6666666666666666,\"#ed7953\"],[0.7777777777777778,\"#fb9f3a\"],[0.8888888888888888,\"#fdca26\"],[1.0,\"#f0f921\"]]}],\"mesh3d\":[{\"type\":\"mesh3d\",\"colorbar\":{\"outlinewidth\":0,\"ticks\":\"\"}}],\"scatter\":[{\"fillpattern\":{\"fillmode\":\"overlay\",\"size\":10,\"solidity\":0.2},\"type\":\"scatter\"}],\"parcoords\":[{\"type\":\"parcoords\",\"line\":{\"colorbar\":{\"outlinewidth\":0,\"ticks\":\"\"}}}],\"scatterpolargl\":[{\"type\":\"scatterpolargl\",\"marker\":{\"colorbar\":{\"outlinewidth\":0,\"ticks\":\"\"}}}],\"bar\":[{\"error_x\":{\"color\":\"#2a3f5f\"},\"error_y\":{\"color\":\"#2a3f5f\"},\"marker\":{\"line\":{\"color\":\"#E5ECF6\",\"width\":0.5},\"pattern\":{\"fillmode\":\"overlay\",\"size\":10,\"solidity\":0.2}},\"type\":\"bar\"}],\"scattergeo\":[{\"type\":\"scattergeo\",\"marker\":{\"colorbar\":{\"outlinewidth\":0,\"ticks\":\"\"}}}],\"scatterpolar\":[{\"type\":\"scatterpolar\",\"marker\":{\"colorbar\":{\"outlinewidth\":0,\"ticks\":\"\"}}}],\"histogram\":[{\"marker\":{\"pattern\":{\"fillmode\":\"overlay\",\"size\":10,\"solidity\":0.2}},\"type\":\"histogram\"}],\"scattergl\":[{\"type\":\"scattergl\",\"marker\":{\"colorbar\":{\"outlinewidth\":0,\"ticks\":\"\"}}}],\"scatter3d\":[{\"type\":\"scatter3d\",\"line\":{\"colorbar\":{\"outlinewidth\":0,\"ticks\":\"\"}},\"marker\":{\"colorbar\":{\"outlinewidth\":0,\"ticks\":\"\"}}}],\"scattermapbox\":[{\"type\":\"scattermapbox\",\"marker\":{\"colorbar\":{\"outlinewidth\":0,\"ticks\":\"\"}}}],\"scatterternary\":[{\"type\":\"scatterternary\",\"marker\":{\"colorbar\":{\"outlinewidth\":0,\"ticks\":\"\"}}}],\"scattercarpet\":[{\"type\":\"scattercarpet\",\"marker\":{\"colorbar\":{\"outlinewidth\":0,\"ticks\":\"\"}}}],\"carpet\":[{\"aaxis\":{\"endlinecolor\":\"#2a3f5f\",\"gridcolor\":\"white\",\"linecolor\":\"white\",\"minorgridcolor\":\"white\",\"startlinecolor\":\"#2a3f5f\"},\"baxis\":{\"endlinecolor\":\"#2a3f5f\",\"gridcolor\":\"white\",\"linecolor\":\"white\",\"minorgridcolor\":\"white\",\"startlinecolor\":\"#2a3f5f\"},\"type\":\"carpet\"}],\"table\":[{\"cells\":{\"fill\":{\"color\":\"#EBF0F8\"},\"line\":{\"color\":\"white\"}},\"header\":{\"fill\":{\"color\":\"#C8D4E3\"},\"line\":{\"color\":\"white\"}},\"type\":\"table\"}],\"barpolar\":[{\"marker\":{\"line\":{\"color\":\"#E5ECF6\",\"width\":0.5},\"pattern\":{\"fillmode\":\"overlay\",\"size\":10,\"solidity\":0.2}},\"type\":\"barpolar\"}],\"pie\":[{\"automargin\":true,\"type\":\"pie\"}]},\"layout\":{\"autotypenumbers\":\"strict\",\"colorway\":[\"#636efa\",\"#EF553B\",\"#00cc96\",\"#ab63fa\",\"#FFA15A\",\"#19d3f3\",\"#FF6692\",\"#B6E880\",\"#FF97FF\",\"#FECB52\"],\"font\":{\"color\":\"#2a3f5f\"},\"hovermode\":\"closest\",\"hoverlabel\":{\"align\":\"left\"},\"paper_bgcolor\":\"white\",\"plot_bgcolor\":\"#E5ECF6\",\"polar\":{\"bgcolor\":\"#E5ECF6\",\"angularaxis\":{\"gridcolor\":\"white\",\"linecolor\":\"white\",\"ticks\":\"\"},\"radialaxis\":{\"gridcolor\":\"white\",\"linecolor\":\"white\",\"ticks\":\"\"}},\"ternary\":{\"bgcolor\":\"#E5ECF6\",\"aaxis\":{\"gridcolor\":\"white\",\"linecolor\":\"white\",\"ticks\":\"\"},\"baxis\":{\"gridcolor\":\"white\",\"linecolor\":\"white\",\"ticks\":\"\"},\"caxis\":{\"gridcolor\":\"white\",\"linecolor\":\"white\",\"ticks\":\"\"}},\"coloraxis\":{\"colorbar\":{\"outlinewidth\":0,\"ticks\":\"\"}},\"colorscale\":{\"sequential\":[[0.0,\"#0d0887\"],[0.1111111111111111,\"#46039f\"],[0.2222222222222222,\"#7201a8\"],[0.3333333333333333,\"#9c179e\"],[0.4444444444444444,\"#bd3786\"],[0.5555555555555556,\"#d8576b\"],[0.6666666666666666,\"#ed7953\"],[0.7777777777777778,\"#fb9f3a\"],[0.8888888888888888,\"#fdca26\"],[1.0,\"#f0f921\"]],\"sequentialminus\":[[0.0,\"#0d0887\"],[0.1111111111111111,\"#46039f\"],[0.2222222222222222,\"#7201a8\"],[0.3333333333333333,\"#9c179e\"],[0.4444444444444444,\"#bd3786\"],[0.5555555555555556,\"#d8576b\"],[0.6666666666666666,\"#ed7953\"],[0.7777777777777778,\"#fb9f3a\"],[0.8888888888888888,\"#fdca26\"],[1.0,\"#f0f921\"]],\"diverging\":[[0,\"#8e0152\"],[0.1,\"#c51b7d\"],[0.2,\"#de77ae\"],[0.3,\"#f1b6da\"],[0.4,\"#fde0ef\"],[0.5,\"#f7f7f7\"],[0.6,\"#e6f5d0\"],[0.7,\"#b8e186\"],[0.8,\"#7fbc41\"],[0.9,\"#4d9221\"],[1,\"#276419\"]]},\"xaxis\":{\"gridcolor\":\"white\",\"linecolor\":\"white\",\"ticks\":\"\",\"title\":{\"standoff\":15},\"zerolinecolor\":\"white\",\"automargin\":true,\"zerolinewidth\":2},\"yaxis\":{\"gridcolor\":\"white\",\"linecolor\":\"white\",\"ticks\":\"\",\"title\":{\"standoff\":15},\"zerolinecolor\":\"white\",\"automargin\":true,\"zerolinewidth\":2},\"scene\":{\"xaxis\":{\"backgroundcolor\":\"#E5ECF6\",\"gridcolor\":\"white\",\"linecolor\":\"white\",\"showbackground\":true,\"ticks\":\"\",\"zerolinecolor\":\"white\",\"gridwidth\":2},\"yaxis\":{\"backgroundcolor\":\"#E5ECF6\",\"gridcolor\":\"white\",\"linecolor\":\"white\",\"showbackground\":true,\"ticks\":\"\",\"zerolinecolor\":\"white\",\"gridwidth\":2},\"zaxis\":{\"backgroundcolor\":\"#E5ECF6\",\"gridcolor\":\"white\",\"linecolor\":\"white\",\"showbackground\":true,\"ticks\":\"\",\"zerolinecolor\":\"white\",\"gridwidth\":2}},\"shapedefaults\":{\"line\":{\"color\":\"#2a3f5f\"}},\"annotationdefaults\":{\"arrowcolor\":\"#2a3f5f\",\"arrowhead\":0,\"arrowwidth\":1},\"geo\":{\"bgcolor\":\"white\",\"landcolor\":\"#E5ECF6\",\"subunitcolor\":\"white\",\"showland\":true,\"showlakes\":true,\"lakecolor\":\"white\"},\"title\":{\"x\":0.05},\"mapbox\":{\"style\":\"light\"}}},\"scene\":{\"domain\":{\"x\":[0.0,1.0],\"y\":[0.0,1.0]},\"xaxis\":{\"title\":{\"text\":\"support\"}},\"yaxis\":{\"title\":{\"text\":\"confidence\"}},\"zaxis\":{\"title\":{\"text\":\"lift\"}}},\"coloraxis\":{\"colorbar\":{\"title\":{\"text\":\"antecedent support\"}},\"colorscale\":[[0.0,\"#0d0887\"],[0.1111111111111111,\"#46039f\"],[0.2222222222222222,\"#7201a8\"],[0.3333333333333333,\"#9c179e\"],[0.4444444444444444,\"#bd3786\"],[0.5555555555555556,\"#d8576b\"],[0.6666666666666666,\"#ed7953\"],[0.7777777777777778,\"#fb9f3a\"],[0.8888888888888888,\"#fdca26\"],[1.0,\"#f0f921\"]]},\"legend\":{\"tracegroupgap\":0},\"title\":{\"text\":\"3d Plot for Rule Mining\"},\"height\":800,\"width\":900},                        {\"responsive\": true}                    ).then(function(){\n",
       "                            \n",
       "var gd = document.getElementById('98aeb5d8-b5ab-465f-a5e7-0fc686c0d7c8');\n",
       "var x = new MutationObserver(function (mutations, observer) {{\n",
       "        var display = window.getComputedStyle(gd).display;\n",
       "        if (!display || display === 'none') {{\n",
       "            console.log([gd, 'removed!']);\n",
       "            Plotly.purge(gd);\n",
       "            observer.disconnect();\n",
       "        }}\n",
       "}});\n",
       "\n",
       "// Listen for the removal of the full notebook cells\n",
       "var notebookContainer = gd.closest('#notebook-container');\n",
       "if (notebookContainer) {{\n",
       "    x.observe(notebookContainer, {childList: true});\n",
       "}}\n",
       "\n",
       "// Listen for the clearing of the current output cell\n",
       "var outputEl = gd.closest('.output');\n",
       "if (outputEl) {{\n",
       "    x.observe(outputEl, {childList: true});\n",
       "}}\n",
       "\n",
       "                        })                };                });            </script>        </div>"
      ]
     },
     "metadata": {},
     "output_type": "display_data"
    }
   ],
   "source": [
    "plot_model(rule_APRIORI, plot = '3d')"
   ]
  }
 ],
 "metadata": {
  "kernelspec": {
   "display_name": "Python 3",
   "language": "python",
   "name": "python3"
  },
  "language_info": {
   "codemirror_mode": {
    "name": "ipython",
    "version": 3
   },
   "file_extension": ".py",
   "mimetype": "text/x-python",
   "name": "python",
   "nbconvert_exporter": "python",
   "pygments_lexer": "ipython3",
   "version": "3.8.7"
  },
  "orig_nbformat": 4
 },
 "nbformat": 4,
 "nbformat_minor": 2
}
