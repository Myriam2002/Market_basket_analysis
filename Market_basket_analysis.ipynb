{
 "cells": [
  {
   "attachments": {},
   "cell_type": "markdown",
   "metadata": {},
   "source": [
    "# <center>**<span style=\"color:#3f9ae0\">Instacart Market Basket Analysis</span>**</center>\n"
   ]
  },
  {
   "attachments": {},
   "cell_type": "markdown",
   "metadata": {},
   "source": [
    "| Name                      | Student ID   |\n",
    "|---------------------------|--------------|\n",
    "| Eslam Ahmed Mohamed       | 202000039    |\n",
    "| Mariam Barakat            | 202000210    |\n",
    "| Reem Amgad Mostafa        | 202000438    |\n",
    "| Samaa Maged Ahmed         | 202000597    |\n",
    "| Abdelrahman Yasser Saeed  | 202000933    |"
   ]
  },
  {
   "attachments": {},
   "cell_type": "markdown",
   "metadata": {},
   "source": [
    "## <span style=\"color:#6ebdfa\">Instacart Dataset 🛒</span>\n",
    "\n",
    "The Instacart dataset is a publicly available dataset released by Instacart, aMarkdown All in One: Create Table of ContentsMarkdown All in One: Create Table of ContentsMarkdown All in One: Create Table of Contents popular grocery delivery service. It consists of anonymized transactional data from real customers, including their orders of various products from the Instacart platform. The dataset provides valuable insights into customer behavior, shopping patterns, and product relationships.\n",
    "\n",
    "The Instacart dataset contains the following information:\n",
    "\n",
    "1. **<span style=\"color:#6ebdfa\">Order data</span>**: Details about each order, including the order ID, customer ID, order timestamp, and days since prior order.\n",
    "\n",
    "2. **<span style=\"color:#6ebdfa\">Product data</span>**: Information about the products available on Instacart, such as the product ID, product name, aisle, and department.\n",
    "\n",
    "3. **<span style=\"color:#6ebdfa\">User data</span>**: Demographic information about the customers, including age, gender, and number of dependents.\n",
    "\n",
    "4. **<span style=\"color:#6ebdfa\">Order history</span>**: A history of each customer's past orders, including the products they purchased and the sequence in which they were added to the cart.\n",
    "\n",
    "The dataset is commonly used for data analysis and machine learning tasks such as market basket analysis, recommendation systems, and customer segmentation. Researchers and data scientists leverage this dataset to gain insights into consumer behavior and develop data-driven strategies in the grocery retail industry.\n"
   ]
  },
  {
   "attachments": {},
   "cell_type": "markdown",
   "metadata": {},
   "source": [
    "## <span style=\"color:#fa6e6e\">Our Goals 🎯</span>\n",
    "\n",
    "The Following is what we are trying to achieve:\n",
    "\n",
    "1. Implement Apriori, FP-Growth and Eclat Algorithms \n",
    "2. Compare between the later algorithms results and complexity \n",
    "3. Find association rules to find insight about products that need to be recommended together\n",
    "\n"
   ]
  },
  {
   "attachments": {},
   "cell_type": "markdown",
   "metadata": {},
   "source": [
    "## <span style=\"color:#6ebdfa\">Most important files</span>\n",
    "1. Products Table\n",
    "   \n",
    "| Column         | Description                                        |\n",
    "| -------------- | -------------------------------------------------- |\n",
    "| product_id     | Unique id for each product                         |\n",
    "| product_name   | Product name for the specific id                    |\n",
    "| aisle_id       | The aisle id in which the product exists            |\n",
    "| department_id  | The department id in which the product exists       |\n",
    "\n",
    "2. Orders Table\n",
    "   \n",
    "| Column                  | Description                                                              |\n",
    "| ----------------------- | ------------------------------------------------------------------------ |\n",
    "| order_id                | Unique id for each order                                                  |\n",
    "| user_id                 | The id of the user of the specific order                                   |\n",
    "| eval_set                | Tells to which set (prior, train, test) an order belongs                  |\n",
    "| order_number            | The number of the order                                                   |\n",
    "| order_dow               | The day of the week the order was made                                    |\n",
    "| order_hour_of_day       | The hour of the day the order was made                                     |\n",
    "| days_since_prior_order  | The number of days since the previous order was made (if this order is reordered) |\n",
    "\n",
    "3. Ordered_products_prior and Order_products_train\n",
    "   \n",
    "\n",
    "| Column Name         | Description                                                |\n",
    "|---------------------|------------------------------------------------------------|\n",
    "| order_id            | The id of the previous order                                |\n",
    "| product_id          | The product id in the previous order                        |\n",
    "| add_to_cart_order   | The order in which the previous product was added to the cart|\n",
    "| reordered           | Indicates whether the customer has reordered the product    |"
   ]
  },
  {
   "attachments": {},
   "cell_type": "markdown",
   "metadata": {},
   "source": [
    "## <span style=\"color:#6ebdfa\">1. Import Modules</span>"
   ]
  },
  {
   "cell_type": "code",
   "execution_count": 1,
   "metadata": {},
   "outputs": [],
   "source": [
    "import pandas as pd\n",
    "import plotly.express as px\n",
    "from mlxtend.frequent_patterns import fpgrowth\n",
    "from sklearn.preprocessing import OneHotEncoder\n",
    "from mlxtend.preprocessing import TransactionEncoder\n",
    "from mlxtend.frequent_patterns import association_rules\n",
    "from mlxtend.frequent_patterns import apriori\n",
    "import matplotlib.pyplot as plt\n",
    "from pyECLAT import ECLAT\n",
    "import time\n",
    "from pycaret.arules import *\n",
    "import plotly.express as px\n",
    "import numpy as np"
   ]
  },
  {
   "attachments": {},
   "cell_type": "markdown",
   "metadata": {},
   "source": [
    "## <span style=\"color:#6ebdfa\">2. Create Transaction Table</span>\n",
    "Already created this before and it is called listed_orders. It combines all products bought in an order so that we can use the built in functions easily.\n",
    "\n",
    "This is from the following file: **Order_products_train**"
   ]
  },
  {
   "cell_type": "code",
   "execution_count": 2,
   "metadata": {},
   "outputs": [],
   "source": [
    "transaction_table = pd.read_csv('tran_table.csv')"
   ]
  },
  {
   "cell_type": "code",
   "execution_count": 3,
   "metadata": {},
   "outputs": [
    {
     "data": {
      "text/html": [
       "<div>\n",
       "<style scoped>\n",
       "    .dataframe tbody tr th:only-of-type {\n",
       "        vertical-align: middle;\n",
       "    }\n",
       "\n",
       "    .dataframe tbody tr th {\n",
       "        vertical-align: top;\n",
       "    }\n",
       "\n",
       "    .dataframe thead th {\n",
       "        text-align: right;\n",
       "    }\n",
       "</style>\n",
       "<table border=\"1\" class=\"dataframe\">\n",
       "  <thead>\n",
       "    <tr style=\"text-align: right;\">\n",
       "      <th></th>\n",
       "      <th>order_id</th>\n",
       "      <th>products</th>\n",
       "    </tr>\n",
       "  </thead>\n",
       "  <tbody>\n",
       "    <tr>\n",
       "      <th>0</th>\n",
       "      <td>3179</td>\n",
       "      <td>Lime Sparkling Water, Caramel Almond and Sea S...</td>\n",
       "    </tr>\n",
       "    <tr>\n",
       "      <th>1</th>\n",
       "      <td>9180</td>\n",
       "      <td>Sour Cream, Organic Diced Tomatoes, Fat Free B...</td>\n",
       "    </tr>\n",
       "    <tr>\n",
       "      <th>2</th>\n",
       "      <td>4827</td>\n",
       "      <td>Reduced Fat Milk 100% Lactose Free, Banana, Sm...</td>\n",
       "    </tr>\n",
       "    <tr>\n",
       "      <th>3</th>\n",
       "      <td>5933</td>\n",
       "      <td>Organic Strawberries, Organic Navel Orange, La...</td>\n",
       "    </tr>\n",
       "    <tr>\n",
       "      <th>4</th>\n",
       "      <td>2021</td>\n",
       "      <td>Granny Smith Apples, Organic Raw Unfiltered Ap...</td>\n",
       "    </tr>\n",
       "    <tr>\n",
       "      <th>5</th>\n",
       "      <td>4201</td>\n",
       "      <td>Truvia Sweetener Packets, Seedless Red Grapes,...</td>\n",
       "    </tr>\n",
       "    <tr>\n",
       "      <th>6</th>\n",
       "      <td>2468</td>\n",
       "      <td>Lunchables Turkey &amp; Cheddar Sub Sandwich With ...</td>\n",
       "    </tr>\n",
       "    <tr>\n",
       "      <th>7</th>\n",
       "      <td>17102</td>\n",
       "      <td>Canola Oil, Antiseptic Mouth Rinse</td>\n",
       "    </tr>\n",
       "    <tr>\n",
       "      <th>8</th>\n",
       "      <td>4790</td>\n",
       "      <td>Organic Fuji Apple, Strawberries, Non Dairy Ch...</td>\n",
       "    </tr>\n",
       "    <tr>\n",
       "      <th>9</th>\n",
       "      <td>3309</td>\n",
       "      <td>Vinyl Glove Powder Free, Organic Whipping Crea...</td>\n",
       "    </tr>\n",
       "  </tbody>\n",
       "</table>\n",
       "</div>"
      ],
      "text/plain": [
       "   order_id                                           products\n",
       "0      3179  Lime Sparkling Water, Caramel Almond and Sea S...\n",
       "1      9180  Sour Cream, Organic Diced Tomatoes, Fat Free B...\n",
       "2      4827  Reduced Fat Milk 100% Lactose Free, Banana, Sm...\n",
       "3      5933  Organic Strawberries, Organic Navel Orange, La...\n",
       "4      2021  Granny Smith Apples, Organic Raw Unfiltered Ap...\n",
       "5      4201  Truvia Sweetener Packets, Seedless Red Grapes,...\n",
       "6      2468  Lunchables Turkey & Cheddar Sub Sandwich With ...\n",
       "7     17102                 Canola Oil, Antiseptic Mouth Rinse\n",
       "8      4790  Organic Fuji Apple, Strawberries, Non Dairy Ch...\n",
       "9      3309  Vinyl Glove Powder Free, Organic Whipping Crea..."
      ]
     },
     "execution_count": 3,
     "metadata": {},
     "output_type": "execute_result"
    }
   ],
   "source": [
    "transaction_table.head(10)"
   ]
  },
  {
   "cell_type": "code",
   "execution_count": 4,
   "metadata": {},
   "outputs": [
    {
     "name": "stdout",
     "output_type": "stream",
     "text": [
      "The amount of transactions:  131209\n"
     ]
    }
   ],
   "source": [
    "print(\"The amount of transactions: \", len(transaction_table))"
   ]
  },
  {
   "attachments": {},
   "cell_type": "markdown",
   "metadata": {},
   "source": [
    "**<span style=\"color:#e0b53f\"> 🔍 seems that people that go this market are people who are trying to be healthy and eat organic spies, fruits and vegetables</span>**"
   ]
  },
  {
   "attachments": {},
   "cell_type": "markdown",
   "metadata": {},
   "source": [
    "## <span style=\"color:#6ebdfa\">3. Association Rules</span>\n",
    "\n",
    "The following algorithms will be implemented:\n",
    "\n",
    "1. Apriori Algorithm\n",
    "2. FP-Growth Algorithm\n",
    "3. Eclat Algorithm"
   ]
  },
  {
   "attachments": {},
   "cell_type": "markdown",
   "metadata": {},
   "source": [
    "Let us first see how the data looks"
   ]
  },
  {
   "cell_type": "code",
   "execution_count": 5,
   "metadata": {},
   "outputs": [],
   "source": [
    "# Create an empty list to store the column values\n",
    "column_list = []\n",
    "\n",
    "# Loop over the values in the 'column_name' column and add them to the list\n",
    "for value in transaction_table['products']:\n",
    "    my_list = value.split(\",\")\n",
    "    column_list.append(my_list)"
   ]
  },
  {
   "cell_type": "code",
   "execution_count": 6,
   "metadata": {},
   "outputs": [
    {
     "data": {
      "text/html": [
       "<div>\n",
       "<style scoped>\n",
       "    .dataframe tbody tr th:only-of-type {\n",
       "        vertical-align: middle;\n",
       "    }\n",
       "\n",
       "    .dataframe tbody tr th {\n",
       "        vertical-align: top;\n",
       "    }\n",
       "\n",
       "    .dataframe thead th {\n",
       "        text-align: right;\n",
       "    }\n",
       "</style>\n",
       "<table border=\"1\" class=\"dataframe\">\n",
       "  <thead>\n",
       "    <tr style=\"text-align: right;\">\n",
       "      <th></th>\n",
       "      <th></th>\n",
       "      <th>Apricot &amp; Banana Stage 2 Baby Food</th>\n",
       "      <th>Broad Spectrum SPF 30</th>\n",
       "      <th>Instant</th>\n",
       "      <th>Livermore Valley</th>\n",
       "      <th>Low Sodium Marinara</th>\n",
       "      <th>Premium</th>\n",
       "      <th>Vetiver scent</th>\n",
       "      <th>Whole</th>\n",
       "      <th>#2</th>\n",
       "      <th>...</th>\n",
       "      <th>with Dawn Action Pacs Fresh Scent Dishwasher Detergent Pacs</th>\n",
       "      <th>with Olive Oil Mayonnaise</th>\n",
       "      <th>with Seasoned Roasted Potatoes Scrambled Eggs &amp; Sausage</th>\n",
       "      <th>with Sweet &amp; Smoky BBQ Sauce Cheeseburger Sliders</th>\n",
       "      <th>with Xylitol Cinnamon 18 Sticks Sugar Free Gum</th>\n",
       "      <th>with Xylitol Island Berry Lime 18 Sticks Sugar Free Gum</th>\n",
       "      <th>with Xylitol Minty Sweet Twist 18 Sticks Sugar Free Gum</th>\n",
       "      <th>with Xylitol Watermelon Twist 18 Sticks Sugar Free Gum</th>\n",
       "      <th>with a Splash of Pineapple Coconut Water</th>\n",
       "      <th>Lightly Seasoned with Rosemary and Roasted Garlic Family Size Herb Chicken Tortellini</th>\n",
       "    </tr>\n",
       "  </thead>\n",
       "  <tbody>\n",
       "    <tr>\n",
       "      <th>0</th>\n",
       "      <td>False</td>\n",
       "      <td>False</td>\n",
       "      <td>False</td>\n",
       "      <td>False</td>\n",
       "      <td>False</td>\n",
       "      <td>False</td>\n",
       "      <td>False</td>\n",
       "      <td>False</td>\n",
       "      <td>False</td>\n",
       "      <td>False</td>\n",
       "      <td>...</td>\n",
       "      <td>False</td>\n",
       "      <td>False</td>\n",
       "      <td>False</td>\n",
       "      <td>False</td>\n",
       "      <td>False</td>\n",
       "      <td>False</td>\n",
       "      <td>False</td>\n",
       "      <td>False</td>\n",
       "      <td>False</td>\n",
       "      <td>False</td>\n",
       "    </tr>\n",
       "    <tr>\n",
       "      <th>1</th>\n",
       "      <td>False</td>\n",
       "      <td>False</td>\n",
       "      <td>False</td>\n",
       "      <td>False</td>\n",
       "      <td>False</td>\n",
       "      <td>False</td>\n",
       "      <td>False</td>\n",
       "      <td>False</td>\n",
       "      <td>False</td>\n",
       "      <td>False</td>\n",
       "      <td>...</td>\n",
       "      <td>False</td>\n",
       "      <td>False</td>\n",
       "      <td>False</td>\n",
       "      <td>False</td>\n",
       "      <td>False</td>\n",
       "      <td>False</td>\n",
       "      <td>False</td>\n",
       "      <td>False</td>\n",
       "      <td>False</td>\n",
       "      <td>False</td>\n",
       "    </tr>\n",
       "    <tr>\n",
       "      <th>2</th>\n",
       "      <td>False</td>\n",
       "      <td>False</td>\n",
       "      <td>False</td>\n",
       "      <td>False</td>\n",
       "      <td>False</td>\n",
       "      <td>False</td>\n",
       "      <td>False</td>\n",
       "      <td>False</td>\n",
       "      <td>False</td>\n",
       "      <td>False</td>\n",
       "      <td>...</td>\n",
       "      <td>False</td>\n",
       "      <td>False</td>\n",
       "      <td>False</td>\n",
       "      <td>False</td>\n",
       "      <td>False</td>\n",
       "      <td>False</td>\n",
       "      <td>False</td>\n",
       "      <td>False</td>\n",
       "      <td>False</td>\n",
       "      <td>False</td>\n",
       "    </tr>\n",
       "    <tr>\n",
       "      <th>3</th>\n",
       "      <td>False</td>\n",
       "      <td>False</td>\n",
       "      <td>False</td>\n",
       "      <td>False</td>\n",
       "      <td>False</td>\n",
       "      <td>False</td>\n",
       "      <td>False</td>\n",
       "      <td>False</td>\n",
       "      <td>False</td>\n",
       "      <td>False</td>\n",
       "      <td>...</td>\n",
       "      <td>False</td>\n",
       "      <td>False</td>\n",
       "      <td>False</td>\n",
       "      <td>False</td>\n",
       "      <td>False</td>\n",
       "      <td>False</td>\n",
       "      <td>False</td>\n",
       "      <td>False</td>\n",
       "      <td>False</td>\n",
       "      <td>False</td>\n",
       "    </tr>\n",
       "    <tr>\n",
       "      <th>4</th>\n",
       "      <td>False</td>\n",
       "      <td>False</td>\n",
       "      <td>False</td>\n",
       "      <td>False</td>\n",
       "      <td>False</td>\n",
       "      <td>False</td>\n",
       "      <td>False</td>\n",
       "      <td>False</td>\n",
       "      <td>False</td>\n",
       "      <td>False</td>\n",
       "      <td>...</td>\n",
       "      <td>False</td>\n",
       "      <td>False</td>\n",
       "      <td>False</td>\n",
       "      <td>False</td>\n",
       "      <td>False</td>\n",
       "      <td>False</td>\n",
       "      <td>False</td>\n",
       "      <td>False</td>\n",
       "      <td>False</td>\n",
       "      <td>False</td>\n",
       "    </tr>\n",
       "    <tr>\n",
       "      <th>...</th>\n",
       "      <td>...</td>\n",
       "      <td>...</td>\n",
       "      <td>...</td>\n",
       "      <td>...</td>\n",
       "      <td>...</td>\n",
       "      <td>...</td>\n",
       "      <td>...</td>\n",
       "      <td>...</td>\n",
       "      <td>...</td>\n",
       "      <td>...</td>\n",
       "      <td>...</td>\n",
       "      <td>...</td>\n",
       "      <td>...</td>\n",
       "      <td>...</td>\n",
       "      <td>...</td>\n",
       "      <td>...</td>\n",
       "      <td>...</td>\n",
       "      <td>...</td>\n",
       "      <td>...</td>\n",
       "      <td>...</td>\n",
       "      <td>...</td>\n",
       "    </tr>\n",
       "    <tr>\n",
       "      <th>131204</th>\n",
       "      <td>False</td>\n",
       "      <td>False</td>\n",
       "      <td>False</td>\n",
       "      <td>False</td>\n",
       "      <td>False</td>\n",
       "      <td>False</td>\n",
       "      <td>False</td>\n",
       "      <td>False</td>\n",
       "      <td>False</td>\n",
       "      <td>False</td>\n",
       "      <td>...</td>\n",
       "      <td>False</td>\n",
       "      <td>False</td>\n",
       "      <td>False</td>\n",
       "      <td>False</td>\n",
       "      <td>False</td>\n",
       "      <td>False</td>\n",
       "      <td>False</td>\n",
       "      <td>False</td>\n",
       "      <td>False</td>\n",
       "      <td>False</td>\n",
       "    </tr>\n",
       "    <tr>\n",
       "      <th>131205</th>\n",
       "      <td>False</td>\n",
       "      <td>False</td>\n",
       "      <td>False</td>\n",
       "      <td>False</td>\n",
       "      <td>False</td>\n",
       "      <td>False</td>\n",
       "      <td>False</td>\n",
       "      <td>False</td>\n",
       "      <td>False</td>\n",
       "      <td>False</td>\n",
       "      <td>...</td>\n",
       "      <td>False</td>\n",
       "      <td>False</td>\n",
       "      <td>False</td>\n",
       "      <td>False</td>\n",
       "      <td>False</td>\n",
       "      <td>False</td>\n",
       "      <td>False</td>\n",
       "      <td>False</td>\n",
       "      <td>False</td>\n",
       "      <td>False</td>\n",
       "    </tr>\n",
       "    <tr>\n",
       "      <th>131206</th>\n",
       "      <td>False</td>\n",
       "      <td>False</td>\n",
       "      <td>False</td>\n",
       "      <td>False</td>\n",
       "      <td>False</td>\n",
       "      <td>False</td>\n",
       "      <td>False</td>\n",
       "      <td>False</td>\n",
       "      <td>False</td>\n",
       "      <td>False</td>\n",
       "      <td>...</td>\n",
       "      <td>False</td>\n",
       "      <td>False</td>\n",
       "      <td>False</td>\n",
       "      <td>False</td>\n",
       "      <td>False</td>\n",
       "      <td>False</td>\n",
       "      <td>False</td>\n",
       "      <td>False</td>\n",
       "      <td>False</td>\n",
       "      <td>False</td>\n",
       "    </tr>\n",
       "    <tr>\n",
       "      <th>131207</th>\n",
       "      <td>False</td>\n",
       "      <td>False</td>\n",
       "      <td>False</td>\n",
       "      <td>False</td>\n",
       "      <td>False</td>\n",
       "      <td>False</td>\n",
       "      <td>False</td>\n",
       "      <td>False</td>\n",
       "      <td>False</td>\n",
       "      <td>False</td>\n",
       "      <td>...</td>\n",
       "      <td>False</td>\n",
       "      <td>False</td>\n",
       "      <td>False</td>\n",
       "      <td>False</td>\n",
       "      <td>False</td>\n",
       "      <td>False</td>\n",
       "      <td>False</td>\n",
       "      <td>False</td>\n",
       "      <td>False</td>\n",
       "      <td>False</td>\n",
       "    </tr>\n",
       "    <tr>\n",
       "      <th>131208</th>\n",
       "      <td>False</td>\n",
       "      <td>False</td>\n",
       "      <td>False</td>\n",
       "      <td>False</td>\n",
       "      <td>False</td>\n",
       "      <td>False</td>\n",
       "      <td>False</td>\n",
       "      <td>False</td>\n",
       "      <td>False</td>\n",
       "      <td>False</td>\n",
       "      <td>...</td>\n",
       "      <td>False</td>\n",
       "      <td>False</td>\n",
       "      <td>False</td>\n",
       "      <td>False</td>\n",
       "      <td>False</td>\n",
       "      <td>False</td>\n",
       "      <td>False</td>\n",
       "      <td>False</td>\n",
       "      <td>False</td>\n",
       "      <td>False</td>\n",
       "    </tr>\n",
       "  </tbody>\n",
       "</table>\n",
       "<p>131209 rows × 56969 columns</p>\n",
       "</div>"
      ],
      "text/plain": [
       "                 Apricot & Banana Stage 2 Baby Food    Broad Spectrum SPF 30  \\\n",
       "0       False                                 False                    False   \n",
       "1       False                                 False                    False   \n",
       "2       False                                 False                    False   \n",
       "3       False                                 False                    False   \n",
       "4       False                                 False                    False   \n",
       "...       ...                                   ...                      ...   \n",
       "131204  False                                 False                    False   \n",
       "131205  False                                 False                    False   \n",
       "131206  False                                 False                    False   \n",
       "131207  False                                 False                    False   \n",
       "131208  False                                 False                    False   \n",
       "\n",
       "          Instant    Livermore Valley    Low Sodium Marinara    Premium  \\\n",
       "0           False               False                  False      False   \n",
       "1           False               False                  False      False   \n",
       "2           False               False                  False      False   \n",
       "3           False               False                  False      False   \n",
       "4           False               False                  False      False   \n",
       "...           ...                 ...                    ...        ...   \n",
       "131204      False               False                  False      False   \n",
       "131205      False               False                  False      False   \n",
       "131206      False               False                  False      False   \n",
       "131207      False               False                  False      False   \n",
       "131208      False               False                  False      False   \n",
       "\n",
       "          Vetiver scent    Whole     #2  ...  \\\n",
       "0                 False    False  False  ...   \n",
       "1                 False    False  False  ...   \n",
       "2                 False    False  False  ...   \n",
       "3                 False    False  False  ...   \n",
       "4                 False    False  False  ...   \n",
       "...                 ...      ...    ...  ...   \n",
       "131204            False    False  False  ...   \n",
       "131205            False    False  False  ...   \n",
       "131206            False    False  False  ...   \n",
       "131207            False    False  False  ...   \n",
       "131208            False    False  False  ...   \n",
       "\n",
       "        with Dawn Action Pacs Fresh Scent Dishwasher Detergent Pacs  \\\n",
       "0                                                   False             \n",
       "1                                                   False             \n",
       "2                                                   False             \n",
       "3                                                   False             \n",
       "4                                                   False             \n",
       "...                                                   ...             \n",
       "131204                                              False             \n",
       "131205                                              False             \n",
       "131206                                              False             \n",
       "131207                                              False             \n",
       "131208                                              False             \n",
       "\n",
       "        with Olive Oil Mayonnaise  \\\n",
       "0                           False   \n",
       "1                           False   \n",
       "2                           False   \n",
       "3                           False   \n",
       "4                           False   \n",
       "...                           ...   \n",
       "131204                      False   \n",
       "131205                      False   \n",
       "131206                      False   \n",
       "131207                      False   \n",
       "131208                      False   \n",
       "\n",
       "        with Seasoned Roasted Potatoes Scrambled Eggs & Sausage  \\\n",
       "0                                                   False         \n",
       "1                                                   False         \n",
       "2                                                   False         \n",
       "3                                                   False         \n",
       "4                                                   False         \n",
       "...                                                   ...         \n",
       "131204                                              False         \n",
       "131205                                              False         \n",
       "131206                                              False         \n",
       "131207                                              False         \n",
       "131208                                              False         \n",
       "\n",
       "        with Sweet & Smoky BBQ Sauce Cheeseburger Sliders  \\\n",
       "0                                                   False   \n",
       "1                                                   False   \n",
       "2                                                   False   \n",
       "3                                                   False   \n",
       "4                                                   False   \n",
       "...                                                   ...   \n",
       "131204                                              False   \n",
       "131205                                              False   \n",
       "131206                                              False   \n",
       "131207                                              False   \n",
       "131208                                              False   \n",
       "\n",
       "        with Xylitol Cinnamon 18 Sticks Sugar Free Gum  \\\n",
       "0                                                False   \n",
       "1                                                False   \n",
       "2                                                False   \n",
       "3                                                False   \n",
       "4                                                False   \n",
       "...                                                ...   \n",
       "131204                                           False   \n",
       "131205                                           False   \n",
       "131206                                           False   \n",
       "131207                                           False   \n",
       "131208                                           False   \n",
       "\n",
       "        with Xylitol Island Berry Lime 18 Sticks Sugar Free Gum  \\\n",
       "0                                                   False         \n",
       "1                                                   False         \n",
       "2                                                   False         \n",
       "3                                                   False         \n",
       "4                                                   False         \n",
       "...                                                   ...         \n",
       "131204                                              False         \n",
       "131205                                              False         \n",
       "131206                                              False         \n",
       "131207                                              False         \n",
       "131208                                              False         \n",
       "\n",
       "        with Xylitol Minty Sweet Twist 18 Sticks Sugar Free Gum  \\\n",
       "0                                                   False         \n",
       "1                                                   False         \n",
       "2                                                   False         \n",
       "3                                                   False         \n",
       "4                                                   False         \n",
       "...                                                   ...         \n",
       "131204                                              False         \n",
       "131205                                              False         \n",
       "131206                                              False         \n",
       "131207                                              False         \n",
       "131208                                              False         \n",
       "\n",
       "        with Xylitol Watermelon Twist 18 Sticks Sugar Free Gum  \\\n",
       "0                                                   False        \n",
       "1                                                   False        \n",
       "2                                                   False        \n",
       "3                                                   False        \n",
       "4                                                   False        \n",
       "...                                                   ...        \n",
       "131204                                              False        \n",
       "131205                                              False        \n",
       "131206                                              False        \n",
       "131207                                              False        \n",
       "131208                                              False        \n",
       "\n",
       "        with a Splash of Pineapple Coconut Water  \\\n",
       "0                                          False   \n",
       "1                                          False   \n",
       "2                                          False   \n",
       "3                                          False   \n",
       "4                                          False   \n",
       "...                                          ...   \n",
       "131204                                     False   \n",
       "131205                                     False   \n",
       "131206                                     False   \n",
       "131207                                     False   \n",
       "131208                                     False   \n",
       "\n",
       "         Lightly Seasoned with Rosemary and Roasted Garlic Family Size Herb Chicken Tortellini  \n",
       "0                                                   False                                       \n",
       "1                                                   False                                       \n",
       "2                                                   False                                       \n",
       "3                                                   False                                       \n",
       "4                                                   False                                       \n",
       "...                                                   ...                                       \n",
       "131204                                              False                                       \n",
       "131205                                              False                                       \n",
       "131206                                              False                                       \n",
       "131207                                              False                                       \n",
       "131208                                              False                                       \n",
       "\n",
       "[131209 rows x 56969 columns]"
      ]
     },
     "execution_count": 6,
     "metadata": {},
     "output_type": "execute_result"
    }
   ],
   "source": [
    "\n",
    "te = TransactionEncoder()\n",
    "te_ary = te.fit(column_list).transform(column_list)\n",
    "df_ = pd.DataFrame(te_ary, columns=te.columns_)\n",
    "df_"
   ]
  },
  {
   "attachments": {},
   "cell_type": "markdown",
   "metadata": {},
   "source": [
    "### <center><span style=\"color:#6ebdfa\">1. Apriori Algorithm</span></center>"
   ]
  },
  {
   "attachments": {},
   "cell_type": "markdown",
   "metadata": {},
   "source": [
    "1. **<span style=\"color:#fa6e6e\"> Python Generator</span>**: A Python generator is an iterator that generates values on-the-fly, allowing you to iterate over a sequence without storing all the values in memory at once. It is memory-efficient and useful for handling large datasets or when accessing values incrementally.\n",
    "   \n",
    "   <img src=\"download.png\" alt=\"Image\" style=\"max-width:150%; max-height:150%;\">\n",
    "\n",
    "2. **<span style=\"color:#fa6e6e\"> mlxtend.apriori</span>**: The `apriori` function from `mlxtend.frequent_patterns` is a powerful tool for market basket analysis. It implements the Apriori algorithm and provides a simple interface for discovering frequent itemsets in transactional datasets. With customizable parameters and integration with the MLxtend library, `apriori` offers ease of use, flexibility, and good performance for market basket analysis tasks."
   ]
  },
  {
   "attachments": {},
   "cell_type": "markdown",
   "metadata": {},
   "source": [
    "**<span style=\"color:#fa6e6e\"> How to choose the min_support❔</span>**\n",
    "\n",
    "- **Minimum Support:** refers to the minimum frequency or occurrence threshold that an itemset or item must meet to be considered significant in a dataset. It is a parameter used in frequent itemset mining and association rule learning algorithms, determining the minimum level of popularity required for an itemset to be considered frequent.\n",
    "- **min_support** = (support_count of itemset) / (total number of transactions)\n"
   ]
  },
  {
   "cell_type": "code",
   "execution_count": 7,
   "metadata": {},
   "outputs": [
    {
     "data": {
      "text/html": [
       "<div>\n",
       "<style scoped>\n",
       "    .dataframe tbody tr th:only-of-type {\n",
       "        vertical-align: middle;\n",
       "    }\n",
       "\n",
       "    .dataframe tbody tr th {\n",
       "        vertical-align: top;\n",
       "    }\n",
       "\n",
       "    .dataframe thead th {\n",
       "        text-align: right;\n",
       "    }\n",
       "</style>\n",
       "<table border=\"1\" class=\"dataframe\">\n",
       "  <thead>\n",
       "    <tr style=\"text-align: right;\">\n",
       "      <th></th>\n",
       "      <th>support</th>\n",
       "      <th>itemsets</th>\n",
       "    </tr>\n",
       "  </thead>\n",
       "  <tbody>\n",
       "    <tr>\n",
       "      <th>0</th>\n",
       "      <td>0.015708</td>\n",
       "      <td>( 100% Whole Wheat Bread)</td>\n",
       "    </tr>\n",
       "    <tr>\n",
       "      <th>1</th>\n",
       "      <td>0.015837</td>\n",
       "      <td>( Apple Honeycrisp Organic)</td>\n",
       "    </tr>\n",
       "    <tr>\n",
       "      <th>2</th>\n",
       "      <td>0.027338</td>\n",
       "      <td>( Asparagus)</td>\n",
       "    </tr>\n",
       "    <tr>\n",
       "      <th>3</th>\n",
       "      <td>0.014344</td>\n",
       "      <td>( Bag)</td>\n",
       "    </tr>\n",
       "    <tr>\n",
       "      <th>4</th>\n",
       "      <td>0.088340</td>\n",
       "      <td>( Bag of Organic Bananas)</td>\n",
       "    </tr>\n",
       "    <tr>\n",
       "      <th>...</th>\n",
       "      <td>...</td>\n",
       "      <td>...</td>\n",
       "    </tr>\n",
       "    <tr>\n",
       "      <th>103</th>\n",
       "      <td>0.010076</td>\n",
       "      <td>( Strawberries,  Banana)</td>\n",
       "    </tr>\n",
       "    <tr>\n",
       "      <th>104</th>\n",
       "      <td>0.010982</td>\n",
       "      <td>( Limes,  Large Lemon)</td>\n",
       "    </tr>\n",
       "    <tr>\n",
       "      <th>105</th>\n",
       "      <td>0.011303</td>\n",
       "      <td>( Organic Baby Spinach,  Organic Strawberries)</td>\n",
       "    </tr>\n",
       "    <tr>\n",
       "      <th>106</th>\n",
       "      <td>0.010289</td>\n",
       "      <td>( Organic Hass Avocado,  Organic Strawberries)</td>\n",
       "    </tr>\n",
       "    <tr>\n",
       "      <th>107</th>\n",
       "      <td>0.011028</td>\n",
       "      <td>( Organic Strawberries,  Organic Raspberries)</td>\n",
       "    </tr>\n",
       "  </tbody>\n",
       "</table>\n",
       "<p>108 rows × 2 columns</p>\n",
       "</div>"
      ],
      "text/plain": [
       "      support                                        itemsets\n",
       "0    0.015708                       ( 100% Whole Wheat Bread)\n",
       "1    0.015837                     ( Apple Honeycrisp Organic)\n",
       "2    0.027338                                    ( Asparagus)\n",
       "3    0.014344                                          ( Bag)\n",
       "4    0.088340                       ( Bag of Organic Bananas)\n",
       "..        ...                                             ...\n",
       "103  0.010076                        ( Strawberries,  Banana)\n",
       "104  0.010982                          ( Limes,  Large Lemon)\n",
       "105  0.011303  ( Organic Baby Spinach,  Organic Strawberries)\n",
       "106  0.010289  ( Organic Hass Avocado,  Organic Strawberries)\n",
       "107  0.011028   ( Organic Strawberries,  Organic Raspberries)\n",
       "\n",
       "[108 rows x 2 columns]"
      ]
     },
     "execution_count": 7,
     "metadata": {},
     "output_type": "execute_result"
    }
   ],
   "source": [
    "apriori(df_, min_support=0.01, use_colnames=True)"
   ]
  },
  {
   "cell_type": "code",
   "execution_count": 8,
   "metadata": {},
   "outputs": [
    {
     "data": {
      "text/html": [
       "<div>\n",
       "<style scoped>\n",
       "    .dataframe tbody tr th:only-of-type {\n",
       "        vertical-align: middle;\n",
       "    }\n",
       "\n",
       "    .dataframe tbody tr th {\n",
       "        vertical-align: top;\n",
       "    }\n",
       "\n",
       "    .dataframe thead th {\n",
       "        text-align: right;\n",
       "    }\n",
       "</style>\n",
       "<table border=\"1\" class=\"dataframe\">\n",
       "  <thead>\n",
       "    <tr style=\"text-align: right;\">\n",
       "      <th></th>\n",
       "      <th>support</th>\n",
       "      <th>itemsets</th>\n",
       "    </tr>\n",
       "  </thead>\n",
       "  <tbody>\n",
       "    <tr>\n",
       "      <th>0</th>\n",
       "      <td>0.088340</td>\n",
       "      <td>( Bag of Organic Bananas)</td>\n",
       "    </tr>\n",
       "    <tr>\n",
       "      <th>1</th>\n",
       "      <td>0.108262</td>\n",
       "      <td>( Banana)</td>\n",
       "    </tr>\n",
       "    <tr>\n",
       "      <th>2</th>\n",
       "      <td>0.057618</td>\n",
       "      <td>( Large Lemon)</td>\n",
       "    </tr>\n",
       "    <tr>\n",
       "      <th>3</th>\n",
       "      <td>0.067945</td>\n",
       "      <td>( Organic Baby Spinach)</td>\n",
       "    </tr>\n",
       "    <tr>\n",
       "      <th>4</th>\n",
       "      <td>0.076169</td>\n",
       "      <td>( Organic Strawberries)</td>\n",
       "    </tr>\n",
       "  </tbody>\n",
       "</table>\n",
       "</div>"
      ],
      "text/plain": [
       "    support                   itemsets\n",
       "0  0.088340  ( Bag of Organic Bananas)\n",
       "1  0.108262                  ( Banana)\n",
       "2  0.057618             ( Large Lemon)\n",
       "3  0.067945    ( Organic Baby Spinach)\n",
       "4  0.076169    ( Organic Strawberries)"
      ]
     },
     "execution_count": 8,
     "metadata": {},
     "output_type": "execute_result"
    }
   ],
   "source": [
    "apriori(df_, min_support=0.05, use_colnames=True)"
   ]
  },
  {
   "cell_type": "code",
   "execution_count": 9,
   "metadata": {},
   "outputs": [
    {
     "data": {
      "text/html": [
       "<div>\n",
       "<style scoped>\n",
       "    .dataframe tbody tr th:only-of-type {\n",
       "        vertical-align: middle;\n",
       "    }\n",
       "\n",
       "    .dataframe tbody tr th {\n",
       "        vertical-align: top;\n",
       "    }\n",
       "\n",
       "    .dataframe thead th {\n",
       "        text-align: right;\n",
       "    }\n",
       "</style>\n",
       "<table border=\"1\" class=\"dataframe\">\n",
       "  <thead>\n",
       "    <tr style=\"text-align: right;\">\n",
       "      <th></th>\n",
       "      <th>support</th>\n",
       "      <th>itemsets</th>\n",
       "    </tr>\n",
       "  </thead>\n",
       "  <tbody>\n",
       "    <tr>\n",
       "      <th>0</th>\n",
       "      <td>0.108262</td>\n",
       "      <td>( Banana)</td>\n",
       "    </tr>\n",
       "  </tbody>\n",
       "</table>\n",
       "</div>"
      ],
      "text/plain": [
       "    support   itemsets\n",
       "0  0.108262  ( Banana)"
      ]
     },
     "execution_count": 9,
     "metadata": {},
     "output_type": "execute_result"
    }
   ],
   "source": [
    "apriori(df_, min_support=0.09, use_colnames=True)"
   ]
  },
  {
   "attachments": {},
   "cell_type": "markdown",
   "metadata": {},
   "source": [
    "**<span style=\"color:#e0b53f\"> 🔍 As we increase the minimum support the less items we get. To have as much as info as possible, we will take min_support = 0.01</span>**\n",
    "- The number that we are trying here, were from a collection of a wider range. But for the sake of demonstration we tried on a specific range we know will give reasonable information"
   ]
  },
  {
   "cell_type": "code",
   "execution_count": 10,
   "metadata": {},
   "outputs": [],
   "source": [
    "df_apriori = apriori(df_, min_support=0.01,  use_colnames=True)"
   ]
  },
  {
   "cell_type": "code",
   "execution_count": 11,
   "metadata": {},
   "outputs": [],
   "source": [
    "df_apriori = df_apriori.sort_values('support', ascending=False)"
   ]
  },
  {
   "cell_type": "code",
   "execution_count": 12,
   "metadata": {},
   "outputs": [
    {
     "data": {
      "text/html": [
       "<div>\n",
       "<style scoped>\n",
       "    .dataframe tbody tr th:only-of-type {\n",
       "        vertical-align: middle;\n",
       "    }\n",
       "\n",
       "    .dataframe tbody tr th {\n",
       "        vertical-align: top;\n",
       "    }\n",
       "\n",
       "    .dataframe thead th {\n",
       "        text-align: right;\n",
       "    }\n",
       "</style>\n",
       "<table border=\"1\" class=\"dataframe\">\n",
       "  <thead>\n",
       "    <tr style=\"text-align: right;\">\n",
       "      <th></th>\n",
       "      <th>support</th>\n",
       "      <th>itemsets</th>\n",
       "    </tr>\n",
       "  </thead>\n",
       "  <tbody>\n",
       "    <tr>\n",
       "      <th>5</th>\n",
       "      <td>0.108262</td>\n",
       "      <td>( Banana)</td>\n",
       "    </tr>\n",
       "    <tr>\n",
       "      <th>4</th>\n",
       "      <td>0.088340</td>\n",
       "      <td>( Bag of Organic Bananas)</td>\n",
       "    </tr>\n",
       "    <tr>\n",
       "      <th>68</th>\n",
       "      <td>0.076169</td>\n",
       "      <td>( Organic Strawberries)</td>\n",
       "    </tr>\n",
       "    <tr>\n",
       "      <th>37</th>\n",
       "      <td>0.067945</td>\n",
       "      <td>( Organic Baby Spinach)</td>\n",
       "    </tr>\n",
       "    <tr>\n",
       "      <th>28</th>\n",
       "      <td>0.057618</td>\n",
       "      <td>( Large Lemon)</td>\n",
       "    </tr>\n",
       "    <tr>\n",
       "      <th>...</th>\n",
       "      <td>...</td>\n",
       "      <td>...</td>\n",
       "    </tr>\n",
       "    <tr>\n",
       "      <th>21</th>\n",
       "      <td>0.010403</td>\n",
       "      <td>( Green Onions)</td>\n",
       "    </tr>\n",
       "    <tr>\n",
       "      <th>89</th>\n",
       "      <td>0.010319</td>\n",
       "      <td>( Strawberry)</td>\n",
       "    </tr>\n",
       "    <tr>\n",
       "      <th>106</th>\n",
       "      <td>0.010289</td>\n",
       "      <td>( Organic Hass Avocado,  Organic Strawberries)</td>\n",
       "    </tr>\n",
       "    <tr>\n",
       "      <th>103</th>\n",
       "      <td>0.010076</td>\n",
       "      <td>( Strawberries,  Banana)</td>\n",
       "    </tr>\n",
       "    <tr>\n",
       "      <th>82</th>\n",
       "      <td>0.010007</td>\n",
       "      <td>( Russet Potato)</td>\n",
       "    </tr>\n",
       "  </tbody>\n",
       "</table>\n",
       "<p>108 rows × 2 columns</p>\n",
       "</div>"
      ],
      "text/plain": [
       "      support                                        itemsets\n",
       "5    0.108262                                       ( Banana)\n",
       "4    0.088340                       ( Bag of Organic Bananas)\n",
       "68   0.076169                         ( Organic Strawberries)\n",
       "37   0.067945                         ( Organic Baby Spinach)\n",
       "28   0.057618                                  ( Large Lemon)\n",
       "..        ...                                             ...\n",
       "21   0.010403                                 ( Green Onions)\n",
       "89   0.010319                                   ( Strawberry)\n",
       "106  0.010289  ( Organic Hass Avocado,  Organic Strawberries)\n",
       "103  0.010076                        ( Strawberries,  Banana)\n",
       "82   0.010007                                ( Russet Potato)\n",
       "\n",
       "[108 rows x 2 columns]"
      ]
     },
     "execution_count": 12,
     "metadata": {},
     "output_type": "execute_result"
    }
   ],
   "source": [
    "df_apriori.head(120)"
   ]
  },
  {
   "attachments": {},
   "cell_type": "markdown",
   "metadata": {},
   "source": [
    "**<span style=\"color:#e0b53f\"> 🔍 As there is a stage as we increase the confidence the amount of item association doesn't matter, however at some point everything disappears</span>**\n",
    "- We will redo the code but in a demonstrative graphical and visual method "
   ]
  },
  {
   "cell_type": "code",
   "execution_count": 13,
   "metadata": {},
   "outputs": [],
   "source": [
    "# try a variety of confidance to see the reaction\n",
    "confidance_x =[]\n",
    "size_association_y = []\n",
    "for j in range(1, 601, 1):\n",
    "    i = j / 1000.0  # Convert to the desired scale\n",
    "    rule = association_rules(df_apriori, metric=\"confidence\", min_threshold= i)\n",
    "    length = len(rule)\n",
    "    size_association_y.append(length)\n",
    "    confidance_x.append(i)"
   ]
  },
  {
   "cell_type": "code",
   "execution_count": 14,
   "metadata": {},
   "outputs": [
    {
     "data": {
      "image/png": "[encoded data removed]",
      "text/plain": [
       "<Figure size 432x288 with 1 Axes>"
      ]
     },
     "metadata": {
      "needs_background": "light"
     },
     "output_type": "display_data"
    }
   ],
   "source": [
    "\n",
    "# Plotting the line graph\n",
    "plt.plot(confidance_x , size_association_y)\n",
    "\n",
    "# Adding labels and title\n",
    "plt.xlabel('confidence threshold')\n",
    "plt.ylabel('association rules length')\n",
    "plt.title('Confidence threshold')\n",
    "\n",
    "# Displaying the graph\n",
    "plt.show()\n"
   ]
  },
  {
   "attachments": {},
   "cell_type": "markdown",
   "metadata": {},
   "source": [
    "**<span style=\"color:#fa6e6e\"> What if we want the top 10 associations❔</span>**\n",
    "\n",
    "We will find when the association rules length was 10, and at what confidence threshold this was."
   ]
  },
  {
   "cell_type": "code",
   "execution_count": 15,
   "metadata": {},
   "outputs": [
    {
     "data": {
      "image/png": "[encoded data removed]",
      "text/plain": [
       "<Figure size 432x288 with 1 Axes>"
      ]
     },
     "metadata": {
      "needs_background": "light"
     },
     "output_type": "display_data"
    }
   ],
   "source": [
    "import matplotlib.pyplot as plt\n",
    "\n",
    "# Plotting the line graph\n",
    "plt.plot(confidance_x , size_association_y)\n",
    "\n",
    "# Adding labels and title\n",
    "plt.xlabel('confidence threshold')\n",
    "plt.ylabel('association rules length')\n",
    "plt.title('Confidence threshold')\n",
    "\n",
    "# Find corresponding x for a given y\n",
    "target_y = 25\n",
    "closest_value = min(size_association_y, key=lambda x: abs(x - target_y))\n",
    "corresponding_x = confidance_x[size_association_y.index(target_y)]\n",
    "\n",
    "# Plot a point for the corresponding x and y values\n",
    "plt.plot(corresponding_x, target_y, 'ro', label='Target Y')\n",
    "# Add lines that reach the axis\n",
    "plt.axhline(y=target_y, color='gray', linestyle='--')\n",
    "plt.axvline(x=corresponding_x, color='gray', linestyle='--')\n",
    "\n",
    "# Display the legend\n",
    "plt.legend()\n",
    "\n",
    "# Show the plot\n",
    "plt.show()\n"
   ]
  },
  {
   "cell_type": "code",
   "execution_count": 16,
   "metadata": {},
   "outputs": [
    {
     "data": {
      "text/html": [
       "<div>\n",
       "<style scoped>\n",
       "    .dataframe tbody tr th:only-of-type {\n",
       "        vertical-align: middle;\n",
       "    }\n",
       "\n",
       "    .dataframe tbody tr th {\n",
       "        vertical-align: top;\n",
       "    }\n",
       "\n",
       "    .dataframe thead th {\n",
       "        text-align: right;\n",
       "    }\n",
       "</style>\n",
       "<table border=\"1\" class=\"dataframe\">\n",
       "  <thead>\n",
       "    <tr style=\"text-align: right;\">\n",
       "      <th></th>\n",
       "      <th>antecedents</th>\n",
       "      <th>consequents</th>\n",
       "      <th>antecedent support</th>\n",
       "      <th>consequent support</th>\n",
       "      <th>support</th>\n",
       "      <th>confidence</th>\n",
       "      <th>lift</th>\n",
       "      <th>leverage</th>\n",
       "      <th>conviction</th>\n",
       "      <th>zhangs_metric</th>\n",
       "    </tr>\n",
       "  </thead>\n",
       "  <tbody>\n",
       "    <tr>\n",
       "      <th>0</th>\n",
       "      <td>( Organic Strawberries)</td>\n",
       "      <td>( Bag of Organic Bananas)</td>\n",
       "      <td>0.076169</td>\n",
       "      <td>0.088340</td>\n",
       "      <td>0.016645</td>\n",
       "      <td>0.218531</td>\n",
       "      <td>2.473751</td>\n",
       "      <td>0.009916</td>\n",
       "      <td>1.166598</td>\n",
       "      <td>0.644875</td>\n",
       "    </tr>\n",
       "    <tr>\n",
       "      <th>1</th>\n",
       "      <td>( Bag of Organic Bananas)</td>\n",
       "      <td>( Organic Strawberries)</td>\n",
       "      <td>0.088340</td>\n",
       "      <td>0.076169</td>\n",
       "      <td>0.016645</td>\n",
       "      <td>0.188422</td>\n",
       "      <td>2.473751</td>\n",
       "      <td>0.009916</td>\n",
       "      <td>1.138315</td>\n",
       "      <td>0.653484</td>\n",
       "    </tr>\n",
       "    <tr>\n",
       "      <th>2</th>\n",
       "      <td>( Organic Hass Avocado)</td>\n",
       "      <td>( Bag of Organic Bananas)</td>\n",
       "      <td>0.049509</td>\n",
       "      <td>0.088340</td>\n",
       "      <td>0.012453</td>\n",
       "      <td>0.251539</td>\n",
       "      <td>2.847402</td>\n",
       "      <td>0.008080</td>\n",
       "      <td>1.218047</td>\n",
       "      <td>0.682597</td>\n",
       "    </tr>\n",
       "    <tr>\n",
       "      <th>3</th>\n",
       "      <td>( Bag of Organic Bananas)</td>\n",
       "      <td>( Organic Hass Avocado)</td>\n",
       "      <td>0.088340</td>\n",
       "      <td>0.049509</td>\n",
       "      <td>0.012453</td>\n",
       "      <td>0.140971</td>\n",
       "      <td>2.847402</td>\n",
       "      <td>0.008080</td>\n",
       "      <td>1.106472</td>\n",
       "      <td>0.711672</td>\n",
       "    </tr>\n",
       "    <tr>\n",
       "      <th>4</th>\n",
       "      <td>( Organic Baby Spinach)</td>\n",
       "      <td>( Bag of Organic Bananas)</td>\n",
       "      <td>0.067945</td>\n",
       "      <td>0.088340</td>\n",
       "      <td>0.012255</td>\n",
       "      <td>0.180370</td>\n",
       "      <td>2.041773</td>\n",
       "      <td>0.006253</td>\n",
       "      <td>1.112283</td>\n",
       "      <td>0.547424</td>\n",
       "    </tr>\n",
       "    <tr>\n",
       "      <th>5</th>\n",
       "      <td>( Bag of Organic Bananas)</td>\n",
       "      <td>( Organic Baby Spinach)</td>\n",
       "      <td>0.088340</td>\n",
       "      <td>0.067945</td>\n",
       "      <td>0.012255</td>\n",
       "      <td>0.138728</td>\n",
       "      <td>2.041773</td>\n",
       "      <td>0.006253</td>\n",
       "      <td>1.082185</td>\n",
       "      <td>0.559671</td>\n",
       "    </tr>\n",
       "    <tr>\n",
       "      <th>6</th>\n",
       "      <td>( Banana)</td>\n",
       "      <td>( Organic Strawberries)</td>\n",
       "      <td>0.108262</td>\n",
       "      <td>0.076169</td>\n",
       "      <td>0.011775</td>\n",
       "      <td>0.108765</td>\n",
       "      <td>1.427945</td>\n",
       "      <td>0.003529</td>\n",
       "      <td>1.036574</td>\n",
       "      <td>0.336078</td>\n",
       "    </tr>\n",
       "    <tr>\n",
       "      <th>7</th>\n",
       "      <td>( Organic Strawberries)</td>\n",
       "      <td>( Banana)</td>\n",
       "      <td>0.076169</td>\n",
       "      <td>0.108262</td>\n",
       "      <td>0.011775</td>\n",
       "      <td>0.154593</td>\n",
       "      <td>1.427945</td>\n",
       "      <td>0.003529</td>\n",
       "      <td>1.054802</td>\n",
       "      <td>0.324402</td>\n",
       "    </tr>\n",
       "    <tr>\n",
       "      <th>8</th>\n",
       "      <td>( Banana)</td>\n",
       "      <td>( Large Lemon)</td>\n",
       "      <td>0.108262</td>\n",
       "      <td>0.057618</td>\n",
       "      <td>0.011767</td>\n",
       "      <td>0.108694</td>\n",
       "      <td>1.886461</td>\n",
       "      <td>0.005530</td>\n",
       "      <td>1.057305</td>\n",
       "      <td>0.526957</td>\n",
       "    </tr>\n",
       "    <tr>\n",
       "      <th>9</th>\n",
       "      <td>( Large Lemon)</td>\n",
       "      <td>( Banana)</td>\n",
       "      <td>0.057618</td>\n",
       "      <td>0.108262</td>\n",
       "      <td>0.011767</td>\n",
       "      <td>0.204233</td>\n",
       "      <td>1.886461</td>\n",
       "      <td>0.005530</td>\n",
       "      <td>1.120601</td>\n",
       "      <td>0.498637</td>\n",
       "    </tr>\n",
       "    <tr>\n",
       "      <th>10</th>\n",
       "      <td>( Organic Baby Spinach)</td>\n",
       "      <td>( Organic Strawberries)</td>\n",
       "      <td>0.067945</td>\n",
       "      <td>0.076169</td>\n",
       "      <td>0.011303</td>\n",
       "      <td>0.166349</td>\n",
       "      <td>2.183957</td>\n",
       "      <td>0.006127</td>\n",
       "      <td>1.108175</td>\n",
       "      <td>0.581635</td>\n",
       "    </tr>\n",
       "    <tr>\n",
       "      <th>11</th>\n",
       "      <td>( Organic Strawberries)</td>\n",
       "      <td>( Organic Baby Spinach)</td>\n",
       "      <td>0.076169</td>\n",
       "      <td>0.067945</td>\n",
       "      <td>0.011303</td>\n",
       "      <td>0.148389</td>\n",
       "      <td>2.183957</td>\n",
       "      <td>0.006127</td>\n",
       "      <td>1.094461</td>\n",
       "      <td>0.586812</td>\n",
       "    </tr>\n",
       "    <tr>\n",
       "      <th>12</th>\n",
       "      <td>( Organic Avocado)</td>\n",
       "      <td>( Banana)</td>\n",
       "      <td>0.048884</td>\n",
       "      <td>0.108262</td>\n",
       "      <td>0.011219</td>\n",
       "      <td>0.229498</td>\n",
       "      <td>2.119831</td>\n",
       "      <td>0.005926</td>\n",
       "      <td>1.157346</td>\n",
       "      <td>0.555415</td>\n",
       "    </tr>\n",
       "    <tr>\n",
       "      <th>13</th>\n",
       "      <td>( Banana)</td>\n",
       "      <td>( Organic Avocado)</td>\n",
       "      <td>0.108262</td>\n",
       "      <td>0.048884</td>\n",
       "      <td>0.011219</td>\n",
       "      <td>0.103625</td>\n",
       "      <td>2.119831</td>\n",
       "      <td>0.005926</td>\n",
       "      <td>1.061070</td>\n",
       "      <td>0.592399</td>\n",
       "    </tr>\n",
       "    <tr>\n",
       "      <th>14</th>\n",
       "      <td>( Organic Strawberries)</td>\n",
       "      <td>( Organic Raspberries)</td>\n",
       "      <td>0.076169</td>\n",
       "      <td>0.038023</td>\n",
       "      <td>0.011028</td>\n",
       "      <td>0.144787</td>\n",
       "      <td>3.807845</td>\n",
       "      <td>0.008132</td>\n",
       "      <td>1.124839</td>\n",
       "      <td>0.798181</td>\n",
       "    </tr>\n",
       "    <tr>\n",
       "      <th>15</th>\n",
       "      <td>( Organic Raspberries)</td>\n",
       "      <td>( Organic Strawberries)</td>\n",
       "      <td>0.038023</td>\n",
       "      <td>0.076169</td>\n",
       "      <td>0.011028</td>\n",
       "      <td>0.290038</td>\n",
       "      <td>3.807845</td>\n",
       "      <td>0.008132</td>\n",
       "      <td>1.301241</td>\n",
       "      <td>0.766530</td>\n",
       "    </tr>\n",
       "    <tr>\n",
       "      <th>16</th>\n",
       "      <td>( Limes)</td>\n",
       "      <td>( Large Lemon)</td>\n",
       "      <td>0.043137</td>\n",
       "      <td>0.057618</td>\n",
       "      <td>0.010982</td>\n",
       "      <td>0.254594</td>\n",
       "      <td>4.418648</td>\n",
       "      <td>0.008497</td>\n",
       "      <td>1.264253</td>\n",
       "      <td>0.808566</td>\n",
       "    </tr>\n",
       "    <tr>\n",
       "      <th>17</th>\n",
       "      <td>( Large Lemon)</td>\n",
       "      <td>( Limes)</td>\n",
       "      <td>0.057618</td>\n",
       "      <td>0.043137</td>\n",
       "      <td>0.010982</td>\n",
       "      <td>0.190608</td>\n",
       "      <td>4.418648</td>\n",
       "      <td>0.008497</td>\n",
       "      <td>1.182200</td>\n",
       "      <td>0.820990</td>\n",
       "    </tr>\n",
       "    <tr>\n",
       "      <th>18</th>\n",
       "      <td>( Organic Baby Spinach)</td>\n",
       "      <td>( Banana)</td>\n",
       "      <td>0.067945</td>\n",
       "      <td>0.108262</td>\n",
       "      <td>0.010571</td>\n",
       "      <td>0.155580</td>\n",
       "      <td>1.437069</td>\n",
       "      <td>0.003215</td>\n",
       "      <td>1.056036</td>\n",
       "      <td>0.326310</td>\n",
       "    </tr>\n",
       "    <tr>\n",
       "      <th>19</th>\n",
       "      <td>( Banana)</td>\n",
       "      <td>( Organic Baby Spinach)</td>\n",
       "      <td>0.108262</td>\n",
       "      <td>0.067945</td>\n",
       "      <td>0.010571</td>\n",
       "      <td>0.097642</td>\n",
       "      <td>1.437069</td>\n",
       "      <td>0.003215</td>\n",
       "      <td>1.032910</td>\n",
       "      <td>0.341063</td>\n",
       "    </tr>\n",
       "    <tr>\n",
       "      <th>20</th>\n",
       "      <td>( Bag)</td>\n",
       "      <td>( Clementines)</td>\n",
       "      <td>0.014344</td>\n",
       "      <td>0.018436</td>\n",
       "      <td>0.010464</td>\n",
       "      <td>0.729543</td>\n",
       "      <td>39.571150</td>\n",
       "      <td>0.010200</td>\n",
       "      <td>3.629279</td>\n",
       "      <td>0.988914</td>\n",
       "    </tr>\n",
       "    <tr>\n",
       "      <th>21</th>\n",
       "      <td>( Clementines)</td>\n",
       "      <td>( Bag)</td>\n",
       "      <td>0.018436</td>\n",
       "      <td>0.014344</td>\n",
       "      <td>0.010464</td>\n",
       "      <td>0.567590</td>\n",
       "      <td>39.571150</td>\n",
       "      <td>0.010200</td>\n",
       "      <td>2.279448</td>\n",
       "      <td>0.993037</td>\n",
       "    </tr>\n",
       "    <tr>\n",
       "      <th>22</th>\n",
       "      <td>( Organic Hass Avocado)</td>\n",
       "      <td>( Organic Strawberries)</td>\n",
       "      <td>0.049509</td>\n",
       "      <td>0.076169</td>\n",
       "      <td>0.010289</td>\n",
       "      <td>0.207820</td>\n",
       "      <td>2.728425</td>\n",
       "      <td>0.006518</td>\n",
       "      <td>1.166189</td>\n",
       "      <td>0.666485</td>\n",
       "    </tr>\n",
       "    <tr>\n",
       "      <th>23</th>\n",
       "      <td>( Organic Strawberries)</td>\n",
       "      <td>( Organic Hass Avocado)</td>\n",
       "      <td>0.076169</td>\n",
       "      <td>0.049509</td>\n",
       "      <td>0.010289</td>\n",
       "      <td>0.135081</td>\n",
       "      <td>2.728425</td>\n",
       "      <td>0.006518</td>\n",
       "      <td>1.098937</td>\n",
       "      <td>0.685718</td>\n",
       "    </tr>\n",
       "    <tr>\n",
       "      <th>24</th>\n",
       "      <td>( Strawberries)</td>\n",
       "      <td>( Banana)</td>\n",
       "      <td>0.044105</td>\n",
       "      <td>0.108262</td>\n",
       "      <td>0.010076</td>\n",
       "      <td>0.228443</td>\n",
       "      <td>2.110087</td>\n",
       "      <td>0.005301</td>\n",
       "      <td>1.155764</td>\n",
       "      <td>0.550360</td>\n",
       "    </tr>\n",
       "    <tr>\n",
       "      <th>25</th>\n",
       "      <td>( Banana)</td>\n",
       "      <td>( Strawberries)</td>\n",
       "      <td>0.108262</td>\n",
       "      <td>0.044105</td>\n",
       "      <td>0.010076</td>\n",
       "      <td>0.093066</td>\n",
       "      <td>2.110087</td>\n",
       "      <td>0.005301</td>\n",
       "      <td>1.053985</td>\n",
       "      <td>0.589956</td>\n",
       "    </tr>\n",
       "  </tbody>\n",
       "</table>\n",
       "</div>"
      ],
      "text/plain": [
       "                  antecedents                consequents  antecedent support  \\\n",
       "0     ( Organic Strawberries)  ( Bag of Organic Bananas)            0.076169   \n",
       "1   ( Bag of Organic Bananas)    ( Organic Strawberries)            0.088340   \n",
       "2     ( Organic Hass Avocado)  ( Bag of Organic Bananas)            0.049509   \n",
       "3   ( Bag of Organic Bananas)    ( Organic Hass Avocado)            0.088340   \n",
       "4     ( Organic Baby Spinach)  ( Bag of Organic Bananas)            0.067945   \n",
       "5   ( Bag of Organic Bananas)    ( Organic Baby Spinach)            0.088340   \n",
       "6                   ( Banana)    ( Organic Strawberries)            0.108262   \n",
       "7     ( Organic Strawberries)                  ( Banana)            0.076169   \n",
       "8                   ( Banana)             ( Large Lemon)            0.108262   \n",
       "9              ( Large Lemon)                  ( Banana)            0.057618   \n",
       "10    ( Organic Baby Spinach)    ( Organic Strawberries)            0.067945   \n",
       "11    ( Organic Strawberries)    ( Organic Baby Spinach)            0.076169   \n",
       "12         ( Organic Avocado)                  ( Banana)            0.048884   \n",
       "13                  ( Banana)         ( Organic Avocado)            0.108262   \n",
       "14    ( Organic Strawberries)     ( Organic Raspberries)            0.076169   \n",
       "15     ( Organic Raspberries)    ( Organic Strawberries)            0.038023   \n",
       "16                   ( Limes)             ( Large Lemon)            0.043137   \n",
       "17             ( Large Lemon)                   ( Limes)            0.057618   \n",
       "18    ( Organic Baby Spinach)                  ( Banana)            0.067945   \n",
       "19                  ( Banana)    ( Organic Baby Spinach)            0.108262   \n",
       "20                     ( Bag)             ( Clementines)            0.014344   \n",
       "21             ( Clementines)                     ( Bag)            0.018436   \n",
       "22    ( Organic Hass Avocado)    ( Organic Strawberries)            0.049509   \n",
       "23    ( Organic Strawberries)    ( Organic Hass Avocado)            0.076169   \n",
       "24            ( Strawberries)                  ( Banana)            0.044105   \n",
       "25                  ( Banana)            ( Strawberries)            0.108262   \n",
       "\n",
       "    consequent support   support  confidence       lift  leverage  conviction  \\\n",
       "0             0.088340  0.016645    0.218531   2.473751  0.009916    1.166598   \n",
       "1             0.076169  0.016645    0.188422   2.473751  0.009916    1.138315   \n",
       "2             0.088340  0.012453    0.251539   2.847402  0.008080    1.218047   \n",
       "3             0.049509  0.012453    0.140971   2.847402  0.008080    1.106472   \n",
       "4             0.088340  0.012255    0.180370   2.041773  0.006253    1.112283   \n",
       "5             0.067945  0.012255    0.138728   2.041773  0.006253    1.082185   \n",
       "6             0.076169  0.011775    0.108765   1.427945  0.003529    1.036574   \n",
       "7             0.108262  0.011775    0.154593   1.427945  0.003529    1.054802   \n",
       "8             0.057618  0.011767    0.108694   1.886461  0.005530    1.057305   \n",
       "9             0.108262  0.011767    0.204233   1.886461  0.005530    1.120601   \n",
       "10            0.076169  0.011303    0.166349   2.183957  0.006127    1.108175   \n",
       "11            0.067945  0.011303    0.148389   2.183957  0.006127    1.094461   \n",
       "12            0.108262  0.011219    0.229498   2.119831  0.005926    1.157346   \n",
       "13            0.048884  0.011219    0.103625   2.119831  0.005926    1.061070   \n",
       "14            0.038023  0.011028    0.144787   3.807845  0.008132    1.124839   \n",
       "15            0.076169  0.011028    0.290038   3.807845  0.008132    1.301241   \n",
       "16            0.057618  0.010982    0.254594   4.418648  0.008497    1.264253   \n",
       "17            0.043137  0.010982    0.190608   4.418648  0.008497    1.182200   \n",
       "18            0.108262  0.010571    0.155580   1.437069  0.003215    1.056036   \n",
       "19            0.067945  0.010571    0.097642   1.437069  0.003215    1.032910   \n",
       "20            0.018436  0.010464    0.729543  39.571150  0.010200    3.629279   \n",
       "21            0.014344  0.010464    0.567590  39.571150  0.010200    2.279448   \n",
       "22            0.076169  0.010289    0.207820   2.728425  0.006518    1.166189   \n",
       "23            0.049509  0.010289    0.135081   2.728425  0.006518    1.098937   \n",
       "24            0.108262  0.010076    0.228443   2.110087  0.005301    1.155764   \n",
       "25            0.044105  0.010076    0.093066   2.110087  0.005301    1.053985   \n",
       "\n",
       "    zhangs_metric  \n",
       "0        0.644875  \n",
       "1        0.653484  \n",
       "2        0.682597  \n",
       "3        0.711672  \n",
       "4        0.547424  \n",
       "5        0.559671  \n",
       "6        0.336078  \n",
       "7        0.324402  \n",
       "8        0.526957  \n",
       "9        0.498637  \n",
       "10       0.581635  \n",
       "11       0.586812  \n",
       "12       0.555415  \n",
       "13       0.592399  \n",
       "14       0.798181  \n",
       "15       0.766530  \n",
       "16       0.808566  \n",
       "17       0.820990  \n",
       "18       0.326310  \n",
       "19       0.341063  \n",
       "20       0.988914  \n",
       "21       0.993037  \n",
       "22       0.666485  \n",
       "23       0.685718  \n",
       "24       0.550360  \n",
       "25       0.589956  "
      ]
     },
     "execution_count": 16,
     "metadata": {},
     "output_type": "execute_result"
    }
   ],
   "source": [
    "rule_APRIORI = association_rules(df_apriori, metric=\"confidence\", min_threshold= 0.09)\n",
    "rule_APRIORI"
   ]
  },
  {
   "cell_type": "code",
   "execution_count": 17,
   "metadata": {},
   "outputs": [
    {
     "data": {
      "text/html": [
       "        <script type=\"text/javascript\">\n",
       "        window.PlotlyConfig = {MathJaxConfig: 'local'};\n",
       "        if (window.MathJax && window.MathJax.Hub && window.MathJax.Hub.Config) {window.MathJax.Hub.Config({SVG: {font: \"STIX-Web\"}});}\n",
       "        if (typeof require !== 'undefined') {\n",
       "        require.undef(\"plotly\");\n",
       "        requirejs.config({\n",
       "            paths: {\n",
       "                'plotly': ['https://cdn.plot.ly/plotly-2.12.1.min']\n",
       "            }\n",
       "        });\n",
       "        require(['plotly'], function(Plotly) {\n",
       "            window._Plotly = Plotly;\n",
       "        });\n",
       "        }\n",
       "        </script>\n",
       "        "
      ]
     },
     "metadata": {},
     "output_type": "display_data"
    },
    {
     "data": {
      "application/vnd.plotly.v1+json": {
       "config": {
        "plotlyServerURL": "https://plot.ly"
       },
       "data": [
        {
         "customdata": [
          [
           " Organic Strawberries",
           " Bag of Organic Bananas"
          ],
          [
           " Bag of Organic Bananas",
           " Organic Strawberries"
          ],
          [
           " Organic Hass Avocado",
           " Bag of Organic Bananas"
          ],
          [
           " Bag of Organic Bananas",
           " Organic Hass Avocado"
          ],
          [
           " Organic Baby Spinach",
           " Bag of Organic Bananas"
          ],
          [
           " Bag of Organic Bananas",
           " Organic Baby Spinach"
          ],
          [
           " Banana",
           " Organic Strawberries"
          ],
          [
           " Organic Strawberries",
           " Banana"
          ],
          [
           " Banana",
           " Large Lemon"
          ],
          [
           " Large Lemon",
           " Banana"
          ],
          [
           " Organic Baby Spinach",
           " Organic Strawberries"
          ],
          [
           " Organic Strawberries",
           " Organic Baby Spinach"
          ],
          [
           " Organic Avocado",
           " Banana"
          ],
          [
           " Banana",
           " Organic Avocado"
          ],
          [
           " Organic Strawberries",
           " Organic Raspberries"
          ],
          [
           " Organic Raspberries",
           " Organic Strawberries"
          ],
          [
           " Limes",
           " Large Lemon"
          ],
          [
           " Large Lemon",
           " Limes"
          ],
          [
           " Organic Baby Spinach",
           " Banana"
          ],
          [
           " Banana",
           " Organic Baby Spinach"
          ],
          [
           " Bag",
           " Clementines"
          ],
          [
           " Clementines",
           " Bag"
          ],
          [
           " Organic Hass Avocado",
           " Organic Strawberries"
          ],
          [
           " Organic Strawberries",
           " Organic Hass Avocado"
          ],
          [
           " Strawberries",
           " Banana"
          ],
          [
           " Banana",
           " Strawberries"
          ]
         ],
         "hovertemplate": "support=%{x}<br>confidence=%{y}<br>antecedents_short=%{text}<br>antecedents=%{customdata[0]}<br>consequents=%{customdata[1]}<br>lift=%{marker.color}<extra></extra>",
         "legendgroup": "",
         "marker": {
          "color": [
           2.4737511474186724,
           2.4737511474186724,
           2.8474018029531147,
           2.8474018029531147,
           2.041772812594218,
           2.041772812594218,
           1.4279451514625776,
           1.4279451514625776,
           1.8864612467850763,
           1.8864612467850763,
           2.183957003478587,
           2.1839570034785876,
           2.119831014674758,
           2.1198310146747583,
           3.807845400766216,
           3.807845400766216,
           4.418647732159217,
           4.418647732159217,
           1.437068603058768,
           1.437068603058768,
           39.571150329111674,
           39.571150329111674,
           2.7284250784460826,
           2.7284250784460826,
           2.110086992370901,
           2.110086992370901
          ],
          "coloraxis": "coloraxis",
          "opacity": 0.5,
          "symbol": "circle"
         },
         "mode": "markers+text",
         "name": "",
         "orientation": "v",
         "showlegend": false,
         "text": [
          " Organic S",
          " Bag of Or",
          " Organic H",
          " Bag of Or",
          " Organic B",
          " Bag of Or",
          " Banana",
          " Organic S",
          " Banana",
          " Large Lem",
          " Organic B",
          " Organic S",
          " Organic A",
          " Banana",
          " Organic S",
          " Organic R",
          " Limes",
          " Large Lem",
          " Organic B",
          " Banana",
          " Bag",
          " Clementin",
          " Organic H",
          " Organic S",
          " Strawberr",
          " Banana"
         ],
         "textposition": "top center",
         "type": "scatter",
         "x": [
          0.01664519964331715,
          0.01664519964331715,
          0.012453414018855413,
          0.012453414018855413,
          0.012255256880244496,
          0.012255256880244496,
          0.011775106890533424,
          0.011775106890533424,
          0.011767485462125311,
          0.011767485462125311,
          0.011302578329230465,
          0.011302578329230465,
          0.01121874261674123,
          0.01121874261674123,
          0.011028206906538423,
          0.011028206906538423,
          0.01098247833608975,
          0.01098247833608975,
          0.010570921202051688,
          0.010570921202051688,
          0.010464221204338117,
          0.010464221204338117,
          0.010288928350951536,
          0.010288928350951536,
          0.010075528355524393,
          0.010075528355524393
         ],
         "xaxis": "x",
         "y": [
          0.2185311186712027,
          0.18842205159175218,
          0.25153940886699505,
          0.14097144336122852,
          0.18037016264722378,
          0.13872832369942195,
          0.10876451953537486,
          0.15459275565339203,
          0.10869412178810277,
          0.20423280423280424,
          0.1663488502523836,
          0.14838903342005205,
          0.22949797318366072,
          0.10362548398451249,
          0.14478687212327396,
          0.2900380837843255,
          0.25459363957597175,
          0.19060846560846562,
          0.15558048233314636,
          0.09764167546638507,
          0.7295430393198724,
          0.5675899131872675,
          0.207820197044335,
          0.13508104862917752,
          0.22844306203559703,
          0.0930658218936994
         ],
         "yaxis": "y"
        }
       ],
       "layout": {
        "coloraxis": {
         "colorbar": {
          "title": {
           "text": "lift"
          }
         },
         "colorscale": [
          [
           0,
           "#0d0887"
          ],
          [
           0.1111111111111111,
           "#46039f"
          ],
          [
           0.2222222222222222,
           "#7201a8"
          ],
          [
           0.3333333333333333,
           "#9c179e"
          ],
          [
           0.4444444444444444,
           "#bd3786"
          ],
          [
           0.5555555555555556,
           "#d8576b"
          ],
          [
           0.6666666666666666,
           "#ed7953"
          ],
          [
           0.7777777777777778,
           "#fb9f3a"
          ],
          [
           0.8888888888888888,
           "#fdca26"
          ],
          [
           1,
           "#f0f921"
          ]
         ]
        },
        "height": 800,
        "legend": {
         "tracegroupgap": 0
        },
        "margin": {
         "t": 60
        },
        "plot_bgcolor": "rgb(240,240,240)",
        "template": {
         "data": {
          "bar": [
           {
            "error_x": {
             "color": "#2a3f5f"
            },
            "error_y": {
             "color": "#2a3f5f"
            },
            "marker": {
             "line": {
              "color": "#E5ECF6",
              "width": 0.5
             },
             "pattern": {
              "fillmode": "overlay",
              "size": 10,
              "solidity": 0.2
             }
            },
            "type": "bar"
           }
          ],
          "barpolar": [
           {
            "marker": {
             "line": {
              "color": "#E5ECF6",
              "width": 0.5
             },
             "pattern": {
              "fillmode": "overlay",
              "size": 10,
              "solidity": 0.2
             }
            },
            "type": "barpolar"
           }
          ],
          "carpet": [
           {
            "aaxis": {
             "endlinecolor": "#2a3f5f",
             "gridcolor": "white",
             "linecolor": "white",
             "minorgridcolor": "white",
             "startlinecolor": "#2a3f5f"
            },
            "baxis": {
             "endlinecolor": "#2a3f5f",
             "gridcolor": "white",
             "linecolor": "white",
             "minorgridcolor": "white",
             "startlinecolor": "#2a3f5f"
            },
            "type": "carpet"
           }
          ],
          "choropleth": [
           {
            "colorbar": {
             "outlinewidth": 0,
             "ticks": ""
            },
            "type": "choropleth"
           }
          ],
          "contour": [
           {
            "colorbar": {
             "outlinewidth": 0,
             "ticks": ""
            },
            "colorscale": [
             [
              0,
              "#0d0887"
             ],
             [
              0.1111111111111111,
              "#46039f"
             ],
             [
              0.2222222222222222,
              "#7201a8"
             ],
             [
              0.3333333333333333,
              "#9c179e"
             ],
             [
              0.4444444444444444,
              "#bd3786"
             ],
             [
              0.5555555555555556,
              "#d8576b"
             ],
             [
              0.6666666666666666,
              "#ed7953"
             ],
             [
              0.7777777777777778,
              "#fb9f3a"
             ],
             [
              0.8888888888888888,
              "#fdca26"
             ],
             [
              1,
              "#f0f921"
             ]
            ],
            "type": "contour"
           }
          ],
          "contourcarpet": [
           {
            "colorbar": {
             "outlinewidth": 0,
             "ticks": ""
            },
            "type": "contourcarpet"
           }
          ],
          "heatmap": [
           {
            "colorbar": {
             "outlinewidth": 0,
             "ticks": ""
            },
            "colorscale": [
             [
              0,
              "#0d0887"
             ],
             [
              0.1111111111111111,
              "#46039f"
             ],
             [
              0.2222222222222222,
              "#7201a8"
             ],
             [
              0.3333333333333333,
              "#9c179e"
             ],
             [
              0.4444444444444444,
              "#bd3786"
             ],
             [
              0.5555555555555556,
              "#d8576b"
             ],
             [
              0.6666666666666666,
              "#ed7953"
             ],
             [
              0.7777777777777778,
              "#fb9f3a"
             ],
             [
              0.8888888888888888,
              "#fdca26"
             ],
             [
              1,
              "#f0f921"
             ]
            ],
            "type": "heatmap"
           }
          ],
          "heatmapgl": [
           {
            "colorbar": {
             "outlinewidth": 0,
             "ticks": ""
            },
            "colorscale": [
             [
              0,
              "#0d0887"
             ],
             [
              0.1111111111111111,
              "#46039f"
             ],
             [
              0.2222222222222222,
              "#7201a8"
             ],
             [
              0.3333333333333333,
              "#9c179e"
             ],
             [
              0.4444444444444444,
              "#bd3786"
             ],
             [
              0.5555555555555556,
              "#d8576b"
             ],
             [
              0.6666666666666666,
              "#ed7953"
             ],
             [
              0.7777777777777778,
              "#fb9f3a"
             ],
             [
              0.8888888888888888,
              "#fdca26"
             ],
             [
              1,
              "#f0f921"
             ]
            ],
            "type": "heatmapgl"
           }
          ],
          "histogram": [
           {
            "marker": {
             "pattern": {
              "fillmode": "overlay",
              "size": 10,
              "solidity": 0.2
             }
            },
            "type": "histogram"
           }
          ],
          "histogram2d": [
           {
            "colorbar": {
             "outlinewidth": 0,
             "ticks": ""
            },
            "colorscale": [
             [
              0,
              "#0d0887"
             ],
             [
              0.1111111111111111,
              "#46039f"
             ],
             [
              0.2222222222222222,
              "#7201a8"
             ],
             [
              0.3333333333333333,
              "#9c179e"
             ],
             [
              0.4444444444444444,
              "#bd3786"
             ],
             [
              0.5555555555555556,
              "#d8576b"
             ],
             [
              0.6666666666666666,
              "#ed7953"
             ],
             [
              0.7777777777777778,
              "#fb9f3a"
             ],
             [
              0.8888888888888888,
              "#fdca26"
             ],
             [
              1,
              "#f0f921"
             ]
            ],
            "type": "histogram2d"
           }
          ],
          "histogram2dcontour": [
           {
            "colorbar": {
             "outlinewidth": 0,
             "ticks": ""
            },
            "colorscale": [
             [
              0,
              "#0d0887"
             ],
             [
              0.1111111111111111,
              "#46039f"
             ],
             [
              0.2222222222222222,
              "#7201a8"
             ],
             [
              0.3333333333333333,
              "#9c179e"
             ],
             [
              0.4444444444444444,
              "#bd3786"
             ],
             [
              0.5555555555555556,
              "#d8576b"
             ],
             [
              0.6666666666666666,
              "#ed7953"
             ],
             [
              0.7777777777777778,
              "#fb9f3a"
             ],
             [
              0.8888888888888888,
              "#fdca26"
             ],
             [
              1,
              "#f0f921"
             ]
            ],
            "type": "histogram2dcontour"
           }
          ],
          "mesh3d": [
           {
            "colorbar": {
             "outlinewidth": 0,
             "ticks": ""
            },
            "type": "mesh3d"
           }
          ],
          "parcoords": [
           {
            "line": {
             "colorbar": {
              "outlinewidth": 0,
              "ticks": ""
             }
            },
            "type": "parcoords"
           }
          ],
          "pie": [
           {
            "automargin": true,
            "type": "pie"
           }
          ],
          "scatter": [
           {
            "fillpattern": {
             "fillmode": "overlay",
             "size": 10,
             "solidity": 0.2
            },
            "type": "scatter"
           }
          ],
          "scatter3d": [
           {
            "line": {
             "colorbar": {
              "outlinewidth": 0,
              "ticks": ""
             }
            },
            "marker": {
             "colorbar": {
              "outlinewidth": 0,
              "ticks": ""
             }
            },
            "type": "scatter3d"
           }
          ],
          "scattercarpet": [
           {
            "marker": {
             "colorbar": {
              "outlinewidth": 0,
              "ticks": ""
             }
            },
            "type": "scattercarpet"
           }
          ],
          "scattergeo": [
           {
            "marker": {
             "colorbar": {
              "outlinewidth": 0,
              "ticks": ""
             }
            },
            "type": "scattergeo"
           }
          ],
          "scattergl": [
           {
            "marker": {
             "colorbar": {
              "outlinewidth": 0,
              "ticks": ""
             }
            },
            "type": "scattergl"
           }
          ],
          "scattermapbox": [
           {
            "marker": {
             "colorbar": {
              "outlinewidth": 0,
              "ticks": ""
             }
            },
            "type": "scattermapbox"
           }
          ],
          "scatterpolar": [
           {
            "marker": {
             "colorbar": {
              "outlinewidth": 0,
              "ticks": ""
             }
            },
            "type": "scatterpolar"
           }
          ],
          "scatterpolargl": [
           {
            "marker": {
             "colorbar": {
              "outlinewidth": 0,
              "ticks": ""
             }
            },
            "type": "scatterpolargl"
           }
          ],
          "scatterternary": [
           {
            "marker": {
             "colorbar": {
              "outlinewidth": 0,
              "ticks": ""
             }
            },
            "type": "scatterternary"
           }
          ],
          "surface": [
           {
            "colorbar": {
             "outlinewidth": 0,
             "ticks": ""
            },
            "colorscale": [
             [
              0,
              "#0d0887"
             ],
             [
              0.1111111111111111,
              "#46039f"
             ],
             [
              0.2222222222222222,
              "#7201a8"
             ],
             [
              0.3333333333333333,
              "#9c179e"
             ],
             [
              0.4444444444444444,
              "#bd3786"
             ],
             [
              0.5555555555555556,
              "#d8576b"
             ],
             [
              0.6666666666666666,
              "#ed7953"
             ],
             [
              0.7777777777777778,
              "#fb9f3a"
             ],
             [
              0.8888888888888888,
              "#fdca26"
             ],
             [
              1,
              "#f0f921"
             ]
            ],
            "type": "surface"
           }
          ],
          "table": [
           {
            "cells": {
             "fill": {
              "color": "#EBF0F8"
             },
             "line": {
              "color": "white"
             }
            },
            "header": {
             "fill": {
              "color": "#C8D4E3"
             },
             "line": {
              "color": "white"
             }
            },
            "type": "table"
           }
          ]
         },
         "layout": {
          "annotationdefaults": {
           "arrowcolor": "#2a3f5f",
           "arrowhead": 0,
           "arrowwidth": 1
          },
          "autotypenumbers": "strict",
          "coloraxis": {
           "colorbar": {
            "outlinewidth": 0,
            "ticks": ""
           }
          },
          "colorscale": {
           "diverging": [
            [
             0,
             "#8e0152"
            ],
            [
             0.1,
             "#c51b7d"
            ],
            [
             0.2,
             "#de77ae"
            ],
            [
             0.3,
             "#f1b6da"
            ],
            [
             0.4,
             "#fde0ef"
            ],
            [
             0.5,
             "#f7f7f7"
            ],
            [
             0.6,
             "#e6f5d0"
            ],
            [
             0.7,
             "#b8e186"
            ],
            [
             0.8,
             "#7fbc41"
            ],
            [
             0.9,
             "#4d9221"
            ],
            [
             1,
             "#276419"
            ]
           ],
           "sequential": [
            [
             0,
             "#0d0887"
            ],
            [
             0.1111111111111111,
             "#46039f"
            ],
            [
             0.2222222222222222,
             "#7201a8"
            ],
            [
             0.3333333333333333,
             "#9c179e"
            ],
            [
             0.4444444444444444,
             "#bd3786"
            ],
            [
             0.5555555555555556,
             "#d8576b"
            ],
            [
             0.6666666666666666,
             "#ed7953"
            ],
            [
             0.7777777777777778,
             "#fb9f3a"
            ],
            [
             0.8888888888888888,
             "#fdca26"
            ],
            [
             1,
             "#f0f921"
            ]
           ],
           "sequentialminus": [
            [
             0,
             "#0d0887"
            ],
            [
             0.1111111111111111,
             "#46039f"
            ],
            [
             0.2222222222222222,
             "#7201a8"
            ],
            [
             0.3333333333333333,
             "#9c179e"
            ],
            [
             0.4444444444444444,
             "#bd3786"
            ],
            [
             0.5555555555555556,
             "#d8576b"
            ],
            [
             0.6666666666666666,
             "#ed7953"
            ],
            [
             0.7777777777777778,
             "#fb9f3a"
            ],
            [
             0.8888888888888888,
             "#fdca26"
            ],
            [
             1,
             "#f0f921"
            ]
           ]
          },
          "colorway": [
           "#636efa",
           "#EF553B",
           "#00cc96",
           "#ab63fa",
           "#FFA15A",
           "#19d3f3",
           "#FF6692",
           "#B6E880",
           "#FF97FF",
           "#FECB52"
          ],
          "font": {
           "color": "#2a3f5f"
          },
          "geo": {
           "bgcolor": "white",
           "lakecolor": "white",
           "landcolor": "#E5ECF6",
           "showlakes": true,
           "showland": true,
           "subunitcolor": "white"
          },
          "hoverlabel": {
           "align": "left"
          },
          "hovermode": "closest",
          "mapbox": {
           "style": "light"
          },
          "paper_bgcolor": "white",
          "plot_bgcolor": "#E5ECF6",
          "polar": {
           "angularaxis": {
            "gridcolor": "white",
            "linecolor": "white",
            "ticks": ""
           },
           "bgcolor": "#E5ECF6",
           "radialaxis": {
            "gridcolor": "white",
            "linecolor": "white",
            "ticks": ""
           }
          },
          "scene": {
           "xaxis": {
            "backgroundcolor": "#E5ECF6",
            "gridcolor": "white",
            "gridwidth": 2,
            "linecolor": "white",
            "showbackground": true,
            "ticks": "",
            "zerolinecolor": "white"
           },
           "yaxis": {
            "backgroundcolor": "#E5ECF6",
            "gridcolor": "white",
            "gridwidth": 2,
            "linecolor": "white",
            "showbackground": true,
            "ticks": "",
            "zerolinecolor": "white"
           },
           "zaxis": {
            "backgroundcolor": "#E5ECF6",
            "gridcolor": "white",
            "gridwidth": 2,
            "linecolor": "white",
            "showbackground": true,
            "ticks": "",
            "zerolinecolor": "white"
           }
          },
          "shapedefaults": {
           "line": {
            "color": "#2a3f5f"
           }
          },
          "ternary": {
           "aaxis": {
            "gridcolor": "white",
            "linecolor": "white",
            "ticks": ""
           },
           "baxis": {
            "gridcolor": "white",
            "linecolor": "white",
            "ticks": ""
           },
           "bgcolor": "#E5ECF6",
           "caxis": {
            "gridcolor": "white",
            "linecolor": "white",
            "ticks": ""
           }
          },
          "title": {
           "x": 0.05
          },
          "xaxis": {
           "automargin": true,
           "gridcolor": "white",
           "linecolor": "white",
           "ticks": "",
           "title": {
            "standoff": 15
           },
           "zerolinecolor": "white",
           "zerolinewidth": 2
          },
          "yaxis": {
           "automargin": true,
           "gridcolor": "white",
           "linecolor": "white",
           "ticks": "",
           "title": {
            "standoff": 15
           },
           "zerolinecolor": "white",
           "zerolinewidth": 2
          }
         }
        },
        "title": {
         "text": "2D Plot of Support, Confidence and Lift"
        },
        "xaxis": {
         "anchor": "y",
         "domain": [
          0,
          1
         ],
         "title": {
          "text": "support"
         },
         "type": "log"
        },
        "yaxis": {
         "anchor": "x",
         "domain": [
          0,
          1
         ],
         "title": {
          "text": "confidence"
         }
        }
       }
      },
      "text/html": [
       "<div>                            <div id=\"2efbd615-d5e6-4602-bf9f-47e42555ed55\" class=\"plotly-graph-div\" style=\"height:800px; width:100%;\"></div>            <script type=\"text/javascript\">                require([\"plotly\"], function(Plotly) {                    window.PLOTLYENV=window.PLOTLYENV || {};                                    if (document.getElementById(\"2efbd615-d5e6-4602-bf9f-47e42555ed55\")) {                    Plotly.newPlot(                        \"2efbd615-d5e6-4602-bf9f-47e42555ed55\",                        [{\"customdata\":[[\" Organic Strawberries\",\" Bag of Organic Bananas\"],[\" Bag of Organic Bananas\",\" Organic Strawberries\"],[\" Organic Hass Avocado\",\" Bag of Organic Bananas\"],[\" Bag of Organic Bananas\",\" Organic Hass Avocado\"],[\" Organic Baby Spinach\",\" Bag of Organic Bananas\"],[\" Bag of Organic Bananas\",\" Organic Baby Spinach\"],[\" Banana\",\" Organic Strawberries\"],[\" Organic Strawberries\",\" Banana\"],[\" Banana\",\" Large Lemon\"],[\" Large Lemon\",\" Banana\"],[\" Organic Baby Spinach\",\" Organic Strawberries\"],[\" Organic Strawberries\",\" Organic Baby Spinach\"],[\" Organic Avocado\",\" Banana\"],[\" Banana\",\" Organic Avocado\"],[\" Organic Strawberries\",\" Organic Raspberries\"],[\" Organic Raspberries\",\" Organic Strawberries\"],[\" Limes\",\" Large Lemon\"],[\" Large Lemon\",\" Limes\"],[\" Organic Baby Spinach\",\" Banana\"],[\" Banana\",\" Organic Baby Spinach\"],[\" Bag\",\" Clementines\"],[\" Clementines\",\" Bag\"],[\" Organic Hass Avocado\",\" Organic Strawberries\"],[\" Organic Strawberries\",\" Organic Hass Avocado\"],[\" Strawberries\",\" Banana\"],[\" Banana\",\" Strawberries\"]],\"hovertemplate\":\"support=%{x}<br>confidence=%{y}<br>antecedents_short=%{text}<br>antecedents=%{customdata[0]}<br>consequents=%{customdata[1]}<br>lift=%{marker.color}<extra></extra>\",\"legendgroup\":\"\",\"marker\":{\"color\":[2.4737511474186724,2.4737511474186724,2.8474018029531147,2.8474018029531147,2.041772812594218,2.041772812594218,1.4279451514625776,1.4279451514625776,1.8864612467850763,1.8864612467850763,2.183957003478587,2.1839570034785876,2.119831014674758,2.1198310146747583,3.807845400766216,3.807845400766216,4.418647732159217,4.418647732159217,1.437068603058768,1.437068603058768,39.571150329111674,39.571150329111674,2.7284250784460826,2.7284250784460826,2.110086992370901,2.110086992370901],\"coloraxis\":\"coloraxis\",\"opacity\":0.5,\"symbol\":\"circle\"},\"mode\":\"markers+text\",\"name\":\"\",\"orientation\":\"v\",\"showlegend\":false,\"text\":[\" Organic S\",\" Bag of Or\",\" Organic H\",\" Bag of Or\",\" Organic B\",\" Bag of Or\",\" Banana\",\" Organic S\",\" Banana\",\" Large Lem\",\" Organic B\",\" Organic S\",\" Organic A\",\" Banana\",\" Organic S\",\" Organic R\",\" Limes\",\" Large Lem\",\" Organic B\",\" Banana\",\" Bag\",\" Clementin\",\" Organic H\",\" Organic S\",\" Strawberr\",\" Banana\"],\"x\":[0.01664519964331715,0.01664519964331715,0.012453414018855413,0.012453414018855413,0.012255256880244496,0.012255256880244496,0.011775106890533424,0.011775106890533424,0.011767485462125311,0.011767485462125311,0.011302578329230465,0.011302578329230465,0.01121874261674123,0.01121874261674123,0.011028206906538423,0.011028206906538423,0.01098247833608975,0.01098247833608975,0.010570921202051688,0.010570921202051688,0.010464221204338117,0.010464221204338117,0.010288928350951536,0.010288928350951536,0.010075528355524393,0.010075528355524393],\"xaxis\":\"x\",\"y\":[0.2185311186712027,0.18842205159175218,0.25153940886699505,0.14097144336122852,0.18037016264722378,0.13872832369942195,0.10876451953537486,0.15459275565339203,0.10869412178810277,0.20423280423280424,0.1663488502523836,0.14838903342005205,0.22949797318366072,0.10362548398451249,0.14478687212327396,0.2900380837843255,0.25459363957597175,0.19060846560846562,0.15558048233314636,0.09764167546638507,0.7295430393198724,0.5675899131872675,0.207820197044335,0.13508104862917752,0.22844306203559703,0.0930658218936994],\"yaxis\":\"y\",\"type\":\"scatter\",\"textposition\":\"top center\"}],                        {\"template\":{\"data\":{\"histogram2dcontour\":[{\"type\":\"histogram2dcontour\",\"colorbar\":{\"outlinewidth\":0,\"ticks\":\"\"},\"colorscale\":[[0.0,\"#0d0887\"],[0.1111111111111111,\"#46039f\"],[0.2222222222222222,\"#7201a8\"],[0.3333333333333333,\"#9c179e\"],[0.4444444444444444,\"#bd3786\"],[0.5555555555555556,\"#d8576b\"],[0.6666666666666666,\"#ed7953\"],[0.7777777777777778,\"#fb9f3a\"],[0.8888888888888888,\"#fdca26\"],[1.0,\"#f0f921\"]]}],\"choropleth\":[{\"type\":\"choropleth\",\"colorbar\":{\"outlinewidth\":0,\"ticks\":\"\"}}],\"histogram2d\":[{\"type\":\"histogram2d\",\"colorbar\":{\"outlinewidth\":0,\"ticks\":\"\"},\"colorscale\":[[0.0,\"#0d0887\"],[0.1111111111111111,\"#46039f\"],[0.2222222222222222,\"#7201a8\"],[0.3333333333333333,\"#9c179e\"],[0.4444444444444444,\"#bd3786\"],[0.5555555555555556,\"#d8576b\"],[0.6666666666666666,\"#ed7953\"],[0.7777777777777778,\"#fb9f3a\"],[0.8888888888888888,\"#fdca26\"],[1.0,\"#f0f921\"]]}],\"heatmap\":[{\"type\":\"heatmap\",\"colorbar\":{\"outlinewidth\":0,\"ticks\":\"\"},\"colorscale\":[[0.0,\"#0d0887\"],[0.1111111111111111,\"#46039f\"],[0.2222222222222222,\"#7201a8\"],[0.3333333333333333,\"#9c179e\"],[0.4444444444444444,\"#bd3786\"],[0.5555555555555556,\"#d8576b\"],[0.6666666666666666,\"#ed7953\"],[0.7777777777777778,\"#fb9f3a\"],[0.8888888888888888,\"#fdca26\"],[1.0,\"#f0f921\"]]}],\"heatmapgl\":[{\"type\":\"heatmapgl\",\"colorbar\":{\"outlinewidth\":0,\"ticks\":\"\"},\"colorscale\":[[0.0,\"#0d0887\"],[0.1111111111111111,\"#46039f\"],[0.2222222222222222,\"#7201a8\"],[0.3333333333333333,\"#9c179e\"],[0.4444444444444444,\"#bd3786\"],[0.5555555555555556,\"#d8576b\"],[0.6666666666666666,\"#ed7953\"],[0.7777777777777778,\"#fb9f3a\"],[0.8888888888888888,\"#fdca26\"],[1.0,\"#f0f921\"]]}],\"contourcarpet\":[{\"type\":\"contourcarpet\",\"colorbar\":{\"outlinewidth\":0,\"ticks\":\"\"}}],\"contour\":[{\"type\":\"contour\",\"colorbar\":{\"outlinewidth\":0,\"ticks\":\"\"},\"colorscale\":[[0.0,\"#0d0887\"],[0.1111111111111111,\"#46039f\"],[0.2222222222222222,\"#7201a8\"],[0.3333333333333333,\"#9c179e\"],[0.4444444444444444,\"#bd3786\"],[0.5555555555555556,\"#d8576b\"],[0.6666666666666666,\"#ed7953\"],[0.7777777777777778,\"#fb9f3a\"],[0.8888888888888888,\"#fdca26\"],[1.0,\"#f0f921\"]]}],\"surface\":[{\"type\":\"surface\",\"colorbar\":{\"outlinewidth\":0,\"ticks\":\"\"},\"colorscale\":[[0.0,\"#0d0887\"],[0.1111111111111111,\"#46039f\"],[0.2222222222222222,\"#7201a8\"],[0.3333333333333333,\"#9c179e\"],[0.4444444444444444,\"#bd3786\"],[0.5555555555555556,\"#d8576b\"],[0.6666666666666666,\"#ed7953\"],[0.7777777777777778,\"#fb9f3a\"],[0.8888888888888888,\"#fdca26\"],[1.0,\"#f0f921\"]]}],\"mesh3d\":[{\"type\":\"mesh3d\",\"colorbar\":{\"outlinewidth\":0,\"ticks\":\"\"}}],\"scatter\":[{\"fillpattern\":{\"fillmode\":\"overlay\",\"size\":10,\"solidity\":0.2},\"type\":\"scatter\"}],\"parcoords\":[{\"type\":\"parcoords\",\"line\":{\"colorbar\":{\"outlinewidth\":0,\"ticks\":\"\"}}}],\"scatterpolargl\":[{\"type\":\"scatterpolargl\",\"marker\":{\"colorbar\":{\"outlinewidth\":0,\"ticks\":\"\"}}}],\"bar\":[{\"error_x\":{\"color\":\"#2a3f5f\"},\"error_y\":{\"color\":\"#2a3f5f\"},\"marker\":{\"line\":{\"color\":\"#E5ECF6\",\"width\":0.5},\"pattern\":{\"fillmode\":\"overlay\",\"size\":10,\"solidity\":0.2}},\"type\":\"bar\"}],\"scattergeo\":[{\"type\":\"scattergeo\",\"marker\":{\"colorbar\":{\"outlinewidth\":0,\"ticks\":\"\"}}}],\"scatterpolar\":[{\"type\":\"scatterpolar\",\"marker\":{\"colorbar\":{\"outlinewidth\":0,\"ticks\":\"\"}}}],\"histogram\":[{\"marker\":{\"pattern\":{\"fillmode\":\"overlay\",\"size\":10,\"solidity\":0.2}},\"type\":\"histogram\"}],\"scattergl\":[{\"type\":\"scattergl\",\"marker\":{\"colorbar\":{\"outlinewidth\":0,\"ticks\":\"\"}}}],\"scatter3d\":[{\"type\":\"scatter3d\",\"line\":{\"colorbar\":{\"outlinewidth\":0,\"ticks\":\"\"}},\"marker\":{\"colorbar\":{\"outlinewidth\":0,\"ticks\":\"\"}}}],\"scattermapbox\":[{\"type\":\"scattermapbox\",\"marker\":{\"colorbar\":{\"outlinewidth\":0,\"ticks\":\"\"}}}],\"scatterternary\":[{\"type\":\"scatterternary\",\"marker\":{\"colorbar\":{\"outlinewidth\":0,\"ticks\":\"\"}}}],\"scattercarpet\":[{\"type\":\"scattercarpet\",\"marker\":{\"colorbar\":{\"outlinewidth\":0,\"ticks\":\"\"}}}],\"carpet\":[{\"aaxis\":{\"endlinecolor\":\"#2a3f5f\",\"gridcolor\":\"white\",\"linecolor\":\"white\",\"minorgridcolor\":\"white\",\"startlinecolor\":\"#2a3f5f\"},\"baxis\":{\"endlinecolor\":\"#2a3f5f\",\"gridcolor\":\"white\",\"linecolor\":\"white\",\"minorgridcolor\":\"white\",\"startlinecolor\":\"#2a3f5f\"},\"type\":\"carpet\"}],\"table\":[{\"cells\":{\"fill\":{\"color\":\"#EBF0F8\"},\"line\":{\"color\":\"white\"}},\"header\":{\"fill\":{\"color\":\"#C8D4E3\"},\"line\":{\"color\":\"white\"}},\"type\":\"table\"}],\"barpolar\":[{\"marker\":{\"line\":{\"color\":\"#E5ECF6\",\"width\":0.5},\"pattern\":{\"fillmode\":\"overlay\",\"size\":10,\"solidity\":0.2}},\"type\":\"barpolar\"}],\"pie\":[{\"automargin\":true,\"type\":\"pie\"}]},\"layout\":{\"autotypenumbers\":\"strict\",\"colorway\":[\"#636efa\",\"#EF553B\",\"#00cc96\",\"#ab63fa\",\"#FFA15A\",\"#19d3f3\",\"#FF6692\",\"#B6E880\",\"#FF97FF\",\"#FECB52\"],\"font\":{\"color\":\"#2a3f5f\"},\"hovermode\":\"closest\",\"hoverlabel\":{\"align\":\"left\"},\"paper_bgcolor\":\"white\",\"plot_bgcolor\":\"#E5ECF6\",\"polar\":{\"bgcolor\":\"#E5ECF6\",\"angularaxis\":{\"gridcolor\":\"white\",\"linecolor\":\"white\",\"ticks\":\"\"},\"radialaxis\":{\"gridcolor\":\"white\",\"linecolor\":\"white\",\"ticks\":\"\"}},\"ternary\":{\"bgcolor\":\"#E5ECF6\",\"aaxis\":{\"gridcolor\":\"white\",\"linecolor\":\"white\",\"ticks\":\"\"},\"baxis\":{\"gridcolor\":\"white\",\"linecolor\":\"white\",\"ticks\":\"\"},\"caxis\":{\"gridcolor\":\"white\",\"linecolor\":\"white\",\"ticks\":\"\"}},\"coloraxis\":{\"colorbar\":{\"outlinewidth\":0,\"ticks\":\"\"}},\"colorscale\":{\"sequential\":[[0.0,\"#0d0887\"],[0.1111111111111111,\"#46039f\"],[0.2222222222222222,\"#7201a8\"],[0.3333333333333333,\"#9c179e\"],[0.4444444444444444,\"#bd3786\"],[0.5555555555555556,\"#d8576b\"],[0.6666666666666666,\"#ed7953\"],[0.7777777777777778,\"#fb9f3a\"],[0.8888888888888888,\"#fdca26\"],[1.0,\"#f0f921\"]],\"sequentialminus\":[[0.0,\"#0d0887\"],[0.1111111111111111,\"#46039f\"],[0.2222222222222222,\"#7201a8\"],[0.3333333333333333,\"#9c179e\"],[0.4444444444444444,\"#bd3786\"],[0.5555555555555556,\"#d8576b\"],[0.6666666666666666,\"#ed7953\"],[0.7777777777777778,\"#fb9f3a\"],[0.8888888888888888,\"#fdca26\"],[1.0,\"#f0f921\"]],\"diverging\":[[0,\"#8e0152\"],[0.1,\"#c51b7d\"],[0.2,\"#de77ae\"],[0.3,\"#f1b6da\"],[0.4,\"#fde0ef\"],[0.5,\"#f7f7f7\"],[0.6,\"#e6f5d0\"],[0.7,\"#b8e186\"],[0.8,\"#7fbc41\"],[0.9,\"#4d9221\"],[1,\"#276419\"]]},\"xaxis\":{\"gridcolor\":\"white\",\"linecolor\":\"white\",\"ticks\":\"\",\"title\":{\"standoff\":15},\"zerolinecolor\":\"white\",\"automargin\":true,\"zerolinewidth\":2},\"yaxis\":{\"gridcolor\":\"white\",\"linecolor\":\"white\",\"ticks\":\"\",\"title\":{\"standoff\":15},\"zerolinecolor\":\"white\",\"automargin\":true,\"zerolinewidth\":2},\"scene\":{\"xaxis\":{\"backgroundcolor\":\"#E5ECF6\",\"gridcolor\":\"white\",\"linecolor\":\"white\",\"showbackground\":true,\"ticks\":\"\",\"zerolinecolor\":\"white\",\"gridwidth\":2},\"yaxis\":{\"backgroundcolor\":\"#E5ECF6\",\"gridcolor\":\"white\",\"linecolor\":\"white\",\"showbackground\":true,\"ticks\":\"\",\"zerolinecolor\":\"white\",\"gridwidth\":2},\"zaxis\":{\"backgroundcolor\":\"#E5ECF6\",\"gridcolor\":\"white\",\"linecolor\":\"white\",\"showbackground\":true,\"ticks\":\"\",\"zerolinecolor\":\"white\",\"gridwidth\":2}},\"shapedefaults\":{\"line\":{\"color\":\"#2a3f5f\"}},\"annotationdefaults\":{\"arrowcolor\":\"#2a3f5f\",\"arrowhead\":0,\"arrowwidth\":1},\"geo\":{\"bgcolor\":\"white\",\"landcolor\":\"#E5ECF6\",\"subunitcolor\":\"white\",\"showland\":true,\"showlakes\":true,\"lakecolor\":\"white\"},\"title\":{\"x\":0.05},\"mapbox\":{\"style\":\"light\"}}},\"xaxis\":{\"anchor\":\"y\",\"domain\":[0.0,1.0],\"title\":{\"text\":\"support\"},\"type\":\"log\"},\"yaxis\":{\"anchor\":\"x\",\"domain\":[0.0,1.0],\"title\":{\"text\":\"confidence\"}},\"coloraxis\":{\"colorbar\":{\"title\":{\"text\":\"lift\"}},\"colorscale\":[[0.0,\"#0d0887\"],[0.1111111111111111,\"#46039f\"],[0.2222222222222222,\"#7201a8\"],[0.3333333333333333,\"#9c179e\"],[0.4444444444444444,\"#bd3786\"],[0.5555555555555556,\"#d8576b\"],[0.6666666666666666,\"#ed7953\"],[0.7777777777777778,\"#fb9f3a\"],[0.8888888888888888,\"#fdca26\"],[1.0,\"#f0f921\"]]},\"legend\":{\"tracegroupgap\":0},\"margin\":{\"t\":60},\"plot_bgcolor\":\"rgb(240,240,240)\",\"title\":{\"text\":\"2D Plot of Support, Confidence and Lift\"},\"height\":800},                        {\"responsive\": true}                    ).then(function(){\n",
       "                            \n",
       "var gd = document.getElementById('2efbd615-d5e6-4602-bf9f-47e42555ed55');\n",
       "var x = new MutationObserver(function (mutations, observer) {{\n",
       "        var display = window.getComputedStyle(gd).display;\n",
       "        if (!display || display === 'none') {{\n",
       "            console.log([gd, 'removed!']);\n",
       "            Plotly.purge(gd);\n",
       "            observer.disconnect();\n",
       "        }}\n",
       "}});\n",
       "\n",
       "// Listen for the removal of the full notebook cells\n",
       "var notebookContainer = gd.closest('#notebook-container');\n",
       "if (notebookContainer) {{\n",
       "    x.observe(notebookContainer, {childList: true});\n",
       "}}\n",
       "\n",
       "// Listen for the clearing of the current output cell\n",
       "var outputEl = gd.closest('.output');\n",
       "if (outputEl) {{\n",
       "    x.observe(outputEl, {childList: true});\n",
       "}}\n",
       "\n",
       "                        })                };                });            </script>        </div>"
      ]
     },
     "metadata": {},
     "output_type": "display_data"
    }
   ],
   "source": [
    "plot_model(rule_APRIORI, plot = '2d')"
   ]
  },
  {
   "cell_type": "code",
   "execution_count": 18,
   "metadata": {},
   "outputs": [
    {
     "data": {
      "text/html": [
       "        <script type=\"text/javascript\">\n",
       "        window.PlotlyConfig = {MathJaxConfig: 'local'};\n",
       "        if (window.MathJax && window.MathJax.Hub && window.MathJax.Hub.Config) {window.MathJax.Hub.Config({SVG: {font: \"STIX-Web\"}});}\n",
       "        if (typeof require !== 'undefined') {\n",
       "        require.undef(\"plotly\");\n",
       "        requirejs.config({\n",
       "            paths: {\n",
       "                'plotly': ['https://cdn.plot.ly/plotly-2.12.1.min']\n",
       "            }\n",
       "        });\n",
       "        require(['plotly'], function(Plotly) {\n",
       "            window._Plotly = Plotly;\n",
       "        });\n",
       "        }\n",
       "        </script>\n",
       "        "
      ]
     },
     "metadata": {},
     "output_type": "display_data"
    },
    {
     "data": {
      "application/vnd.plotly.v1+json": {
       "config": {
        "plotlyServerURL": "https://plot.ly"
       },
       "data": [
        {
         "customdata": [
          [
           " Organic Strawberries",
           " Bag of Organic Bananas"
          ],
          [
           " Bag of Organic Bananas",
           " Organic Strawberries"
          ],
          [
           " Organic Hass Avocado",
           " Bag of Organic Bananas"
          ],
          [
           " Bag of Organic Bananas",
           " Organic Hass Avocado"
          ],
          [
           " Organic Baby Spinach",
           " Bag of Organic Bananas"
          ],
          [
           " Bag of Organic Bananas",
           " Organic Baby Spinach"
          ],
          [
           " Banana",
           " Organic Strawberries"
          ],
          [
           " Organic Strawberries",
           " Banana"
          ],
          [
           " Banana",
           " Large Lemon"
          ],
          [
           " Large Lemon",
           " Banana"
          ],
          [
           " Organic Baby Spinach",
           " Organic Strawberries"
          ],
          [
           " Organic Strawberries",
           " Organic Baby Spinach"
          ],
          [
           " Organic Avocado",
           " Banana"
          ],
          [
           " Banana",
           " Organic Avocado"
          ],
          [
           " Organic Strawberries",
           " Organic Raspberries"
          ],
          [
           " Organic Raspberries",
           " Organic Strawberries"
          ],
          [
           " Limes",
           " Large Lemon"
          ],
          [
           " Large Lemon",
           " Limes"
          ],
          [
           " Organic Baby Spinach",
           " Banana"
          ],
          [
           " Banana",
           " Organic Baby Spinach"
          ],
          [
           " Bag",
           " Clementines"
          ],
          [
           " Clementines",
           " Bag"
          ],
          [
           " Organic Hass Avocado",
           " Organic Strawberries"
          ],
          [
           " Organic Strawberries",
           " Organic Hass Avocado"
          ],
          [
           " Strawberries",
           " Banana"
          ],
          [
           " Banana",
           " Strawberries"
          ]
         ],
         "hovertemplate": "support=%{x}<br>confidence=%{y}<br>lift=%{z}<br>antecedents=%{customdata[0]}<br>consequents=%{customdata[1]}<br>antecedent support=%{marker.color}<extra></extra>",
         "legendgroup": "",
         "marker": {
          "color": [
           0.07616855551067381,
           0.08833997667842908,
           0.04950879893909717,
           0.08833997667842908,
           0.0679450342583207,
           0.08833997667842908,
           0.10826239053723449,
           0.07616855551067381,
           0.10826239053723449,
           0.057617998765328596,
           0.0679450342583207,
           0.07616855551067381,
           0.04888384180963196,
           0.10826239053723449,
           0.07616855551067381,
           0.03802330632807201,
           0.043137284789915326,
           0.057617998765328596,
           0.0679450342583207,
           0.10826239053723449,
           0.014343528264067252,
           0.01843623531922353,
           0.04950879893909717,
           0.07616855551067381,
           0.044105206197745585,
           0.10826239053723449
          ],
          "coloraxis": "coloraxis",
          "opacity": 0.7,
          "symbol": "circle"
         },
         "mode": "markers",
         "name": "",
         "scene": "scene",
         "showlegend": false,
         "type": "scatter3d",
         "x": [
          0.01664519964331715,
          0.01664519964331715,
          0.012453414018855413,
          0.012453414018855413,
          0.012255256880244496,
          0.012255256880244496,
          0.011775106890533424,
          0.011775106890533424,
          0.011767485462125311,
          0.011767485462125311,
          0.011302578329230465,
          0.011302578329230465,
          0.01121874261674123,
          0.01121874261674123,
          0.011028206906538423,
          0.011028206906538423,
          0.01098247833608975,
          0.01098247833608975,
          0.010570921202051688,
          0.010570921202051688,
          0.010464221204338117,
          0.010464221204338117,
          0.010288928350951536,
          0.010288928350951536,
          0.010075528355524393,
          0.010075528355524393
         ],
         "y": [
          0.2185311186712027,
          0.18842205159175218,
          0.25153940886699505,
          0.14097144336122852,
          0.18037016264722378,
          0.13872832369942195,
          0.10876451953537486,
          0.15459275565339203,
          0.10869412178810277,
          0.20423280423280424,
          0.1663488502523836,
          0.14838903342005205,
          0.22949797318366072,
          0.10362548398451249,
          0.14478687212327396,
          0.2900380837843255,
          0.25459363957597175,
          0.19060846560846562,
          0.15558048233314636,
          0.09764167546638507,
          0.7295430393198724,
          0.5675899131872675,
          0.207820197044335,
          0.13508104862917752,
          0.22844306203559703,
          0.0930658218936994
         ],
         "z": [
          2.4737511474186724,
          2.4737511474186724,
          2.8474018029531147,
          2.8474018029531147,
          2.041772812594218,
          2.041772812594218,
          1.4279451514625776,
          1.4279451514625776,
          1.8864612467850763,
          1.8864612467850763,
          2.183957003478587,
          2.1839570034785876,
          2.119831014674758,
          2.1198310146747583,
          3.807845400766216,
          3.807845400766216,
          4.418647732159217,
          4.418647732159217,
          1.437068603058768,
          1.437068603058768,
          39.571150329111674,
          39.571150329111674,
          2.7284250784460826,
          2.7284250784460826,
          2.110086992370901,
          2.110086992370901
         ]
        }
       ],
       "layout": {
        "coloraxis": {
         "colorbar": {
          "title": {
           "text": "antecedent support"
          }
         },
         "colorscale": [
          [
           0,
           "#0d0887"
          ],
          [
           0.1111111111111111,
           "#46039f"
          ],
          [
           0.2222222222222222,
           "#7201a8"
          ],
          [
           0.3333333333333333,
           "#9c179e"
          ],
          [
           0.4444444444444444,
           "#bd3786"
          ],
          [
           0.5555555555555556,
           "#d8576b"
          ],
          [
           0.6666666666666666,
           "#ed7953"
          ],
          [
           0.7777777777777778,
           "#fb9f3a"
          ],
          [
           0.8888888888888888,
           "#fdca26"
          ],
          [
           1,
           "#f0f921"
          ]
         ]
        },
        "height": 800,
        "legend": {
         "tracegroupgap": 0
        },
        "scene": {
         "domain": {
          "x": [
           0,
           1
          ],
          "y": [
           0,
           1
          ]
         },
         "xaxis": {
          "title": {
           "text": "support"
          }
         },
         "yaxis": {
          "title": {
           "text": "confidence"
          }
         },
         "zaxis": {
          "title": {
           "text": "lift"
          }
         }
        },
        "template": {
         "data": {
          "bar": [
           {
            "error_x": {
             "color": "#2a3f5f"
            },
            "error_y": {
             "color": "#2a3f5f"
            },
            "marker": {
             "line": {
              "color": "#E5ECF6",
              "width": 0.5
             },
             "pattern": {
              "fillmode": "overlay",
              "size": 10,
              "solidity": 0.2
             }
            },
            "type": "bar"
           }
          ],
          "barpolar": [
           {
            "marker": {
             "line": {
              "color": "#E5ECF6",
              "width": 0.5
             },
             "pattern": {
              "fillmode": "overlay",
              "size": 10,
              "solidity": 0.2
             }
            },
            "type": "barpolar"
           }
          ],
          "carpet": [
           {
            "aaxis": {
             "endlinecolor": "#2a3f5f",
             "gridcolor": "white",
             "linecolor": "white",
             "minorgridcolor": "white",
             "startlinecolor": "#2a3f5f"
            },
            "baxis": {
             "endlinecolor": "#2a3f5f",
             "gridcolor": "white",
             "linecolor": "white",
             "minorgridcolor": "white",
             "startlinecolor": "#2a3f5f"
            },
            "type": "carpet"
           }
          ],
          "choropleth": [
           {
            "colorbar": {
             "outlinewidth": 0,
             "ticks": ""
            },
            "type": "choropleth"
           }
          ],
          "contour": [
           {
            "colorbar": {
             "outlinewidth": 0,
             "ticks": ""
            },
            "colorscale": [
             [
              0,
              "#0d0887"
             ],
             [
              0.1111111111111111,
              "#46039f"
             ],
             [
              0.2222222222222222,
              "#7201a8"
             ],
             [
              0.3333333333333333,
              "#9c179e"
             ],
             [
              0.4444444444444444,
              "#bd3786"
             ],
             [
              0.5555555555555556,
              "#d8576b"
             ],
             [
              0.6666666666666666,
              "#ed7953"
             ],
             [
              0.7777777777777778,
              "#fb9f3a"
             ],
             [
              0.8888888888888888,
              "#fdca26"
             ],
             [
              1,
              "#f0f921"
             ]
            ],
            "type": "contour"
           }
          ],
          "contourcarpet": [
           {
            "colorbar": {
             "outlinewidth": 0,
             "ticks": ""
            },
            "type": "contourcarpet"
           }
          ],
          "heatmap": [
           {
            "colorbar": {
             "outlinewidth": 0,
             "ticks": ""
            },
            "colorscale": [
             [
              0,
              "#0d0887"
             ],
             [
              0.1111111111111111,
              "#46039f"
             ],
             [
              0.2222222222222222,
              "#7201a8"
             ],
             [
              0.3333333333333333,
              "#9c179e"
             ],
             [
              0.4444444444444444,
              "#bd3786"
             ],
             [
              0.5555555555555556,
              "#d8576b"
             ],
             [
              0.6666666666666666,
              "#ed7953"
             ],
             [
              0.7777777777777778,
              "#fb9f3a"
             ],
             [
              0.8888888888888888,
              "#fdca26"
             ],
             [
              1,
              "#f0f921"
             ]
            ],
            "type": "heatmap"
           }
          ],
          "heatmapgl": [
           {
            "colorbar": {
             "outlinewidth": 0,
             "ticks": ""
            },
            "colorscale": [
             [
              0,
              "#0d0887"
             ],
             [
              0.1111111111111111,
              "#46039f"
             ],
             [
              0.2222222222222222,
              "#7201a8"
             ],
             [
              0.3333333333333333,
              "#9c179e"
             ],
             [
              0.4444444444444444,
              "#bd3786"
             ],
             [
              0.5555555555555556,
              "#d8576b"
             ],
             [
              0.6666666666666666,
              "#ed7953"
             ],
             [
              0.7777777777777778,
              "#fb9f3a"
             ],
             [
              0.8888888888888888,
              "#fdca26"
             ],
             [
              1,
              "#f0f921"
             ]
            ],
            "type": "heatmapgl"
           }
          ],
          "histogram": [
           {
            "marker": {
             "pattern": {
              "fillmode": "overlay",
              "size": 10,
              "solidity": 0.2
             }
            },
            "type": "histogram"
           }
          ],
          "histogram2d": [
           {
            "colorbar": {
             "outlinewidth": 0,
             "ticks": ""
            },
            "colorscale": [
             [
              0,
              "#0d0887"
             ],
             [
              0.1111111111111111,
              "#46039f"
             ],
             [
              0.2222222222222222,
              "#7201a8"
             ],
             [
              0.3333333333333333,
              "#9c179e"
             ],
             [
              0.4444444444444444,
              "#bd3786"
             ],
             [
              0.5555555555555556,
              "#d8576b"
             ],
             [
              0.6666666666666666,
              "#ed7953"
             ],
             [
              0.7777777777777778,
              "#fb9f3a"
             ],
             [
              0.8888888888888888,
              "#fdca26"
             ],
             [
              1,
              "#f0f921"
             ]
            ],
            "type": "histogram2d"
           }
          ],
          "histogram2dcontour": [
           {
            "colorbar": {
             "outlinewidth": 0,
             "ticks": ""
            },
            "colorscale": [
             [
              0,
              "#0d0887"
             ],
             [
              0.1111111111111111,
              "#46039f"
             ],
             [
              0.2222222222222222,
              "#7201a8"
             ],
             [
              0.3333333333333333,
              "#9c179e"
             ],
             [
              0.4444444444444444,
              "#bd3786"
             ],
             [
              0.5555555555555556,
              "#d8576b"
             ],
             [
              0.6666666666666666,
              "#ed7953"
             ],
             [
              0.7777777777777778,
              "#fb9f3a"
             ],
             [
              0.8888888888888888,
              "#fdca26"
             ],
             [
              1,
              "#f0f921"
             ]
            ],
            "type": "histogram2dcontour"
           }
          ],
          "mesh3d": [
           {
            "colorbar": {
             "outlinewidth": 0,
             "ticks": ""
            },
            "type": "mesh3d"
           }
          ],
          "parcoords": [
           {
            "line": {
             "colorbar": {
              "outlinewidth": 0,
              "ticks": ""
             }
            },
            "type": "parcoords"
           }
          ],
          "pie": [
           {
            "automargin": true,
            "type": "pie"
           }
          ],
          "scatter": [
           {
            "fillpattern": {
             "fillmode": "overlay",
             "size": 10,
             "solidity": 0.2
            },
            "type": "scatter"
           }
          ],
          "scatter3d": [
           {
            "line": {
             "colorbar": {
              "outlinewidth": 0,
              "ticks": ""
             }
            },
            "marker": {
             "colorbar": {
              "outlinewidth": 0,
              "ticks": ""
             }
            },
            "type": "scatter3d"
           }
          ],
          "scattercarpet": [
           {
            "marker": {
             "colorbar": {
              "outlinewidth": 0,
              "ticks": ""
             }
            },
            "type": "scattercarpet"
           }
          ],
          "scattergeo": [
           {
            "marker": {
             "colorbar": {
              "outlinewidth": 0,
              "ticks": ""
             }
            },
            "type": "scattergeo"
           }
          ],
          "scattergl": [
           {
            "marker": {
             "colorbar": {
              "outlinewidth": 0,
              "ticks": ""
             }
            },
            "type": "scattergl"
           }
          ],
          "scattermapbox": [
           {
            "marker": {
             "colorbar": {
              "outlinewidth": 0,
              "ticks": ""
             }
            },
            "type": "scattermapbox"
           }
          ],
          "scatterpolar": [
           {
            "marker": {
             "colorbar": {
              "outlinewidth": 0,
              "ticks": ""
             }
            },
            "type": "scatterpolar"
           }
          ],
          "scatterpolargl": [
           {
            "marker": {
             "colorbar": {
              "outlinewidth": 0,
              "ticks": ""
             }
            },
            "type": "scatterpolargl"
           }
          ],
          "scatterternary": [
           {
            "marker": {
             "colorbar": {
              "outlinewidth": 0,
              "ticks": ""
             }
            },
            "type": "scatterternary"
           }
          ],
          "surface": [
           {
            "colorbar": {
             "outlinewidth": 0,
             "ticks": ""
            },
            "colorscale": [
             [
              0,
              "#0d0887"
             ],
             [
              0.1111111111111111,
              "#46039f"
             ],
             [
              0.2222222222222222,
              "#7201a8"
             ],
             [
              0.3333333333333333,
              "#9c179e"
             ],
             [
              0.4444444444444444,
              "#bd3786"
             ],
             [
              0.5555555555555556,
              "#d8576b"
             ],
             [
              0.6666666666666666,
              "#ed7953"
             ],
             [
              0.7777777777777778,
              "#fb9f3a"
             ],
             [
              0.8888888888888888,
              "#fdca26"
             ],
             [
              1,
              "#f0f921"
             ]
            ],
            "type": "surface"
           }
          ],
          "table": [
           {
            "cells": {
             "fill": {
              "color": "#EBF0F8"
             },
             "line": {
              "color": "white"
             }
            },
            "header": {
             "fill": {
              "color": "#C8D4E3"
             },
             "line": {
              "color": "white"
             }
            },
            "type": "table"
           }
          ]
         },
         "layout": {
          "annotationdefaults": {
           "arrowcolor": "#2a3f5f",
           "arrowhead": 0,
           "arrowwidth": 1
          },
          "autotypenumbers": "strict",
          "coloraxis": {
           "colorbar": {
            "outlinewidth": 0,
            "ticks": ""
           }
          },
          "colorscale": {
           "diverging": [
            [
             0,
             "#8e0152"
            ],
            [
             0.1,
             "#c51b7d"
            ],
            [
             0.2,
             "#de77ae"
            ],
            [
             0.3,
             "#f1b6da"
            ],
            [
             0.4,
             "#fde0ef"
            ],
            [
             0.5,
             "#f7f7f7"
            ],
            [
             0.6,
             "#e6f5d0"
            ],
            [
             0.7,
             "#b8e186"
            ],
            [
             0.8,
             "#7fbc41"
            ],
            [
             0.9,
             "#4d9221"
            ],
            [
             1,
             "#276419"
            ]
           ],
           "sequential": [
            [
             0,
             "#0d0887"
            ],
            [
             0.1111111111111111,
             "#46039f"
            ],
            [
             0.2222222222222222,
             "#7201a8"
            ],
            [
             0.3333333333333333,
             "#9c179e"
            ],
            [
             0.4444444444444444,
             "#bd3786"
            ],
            [
             0.5555555555555556,
             "#d8576b"
            ],
            [
             0.6666666666666666,
             "#ed7953"
            ],
            [
             0.7777777777777778,
             "#fb9f3a"
            ],
            [
             0.8888888888888888,
             "#fdca26"
            ],
            [
             1,
             "#f0f921"
            ]
           ],
           "sequentialminus": [
            [
             0,
             "#0d0887"
            ],
            [
             0.1111111111111111,
             "#46039f"
            ],
            [
             0.2222222222222222,
             "#7201a8"
            ],
            [
             0.3333333333333333,
             "#9c179e"
            ],
            [
             0.4444444444444444,
             "#bd3786"
            ],
            [
             0.5555555555555556,
             "#d8576b"
            ],
            [
             0.6666666666666666,
             "#ed7953"
            ],
            [
             0.7777777777777778,
             "#fb9f3a"
            ],
            [
             0.8888888888888888,
             "#fdca26"
            ],
            [
             1,
             "#f0f921"
            ]
           ]
          },
          "colorway": [
           "#636efa",
           "#EF553B",
           "#00cc96",
           "#ab63fa",
           "#FFA15A",
           "#19d3f3",
           "#FF6692",
           "#B6E880",
           "#FF97FF",
           "#FECB52"
          ],
          "font": {
           "color": "#2a3f5f"
          },
          "geo": {
           "bgcolor": "white",
           "lakecolor": "white",
           "landcolor": "#E5ECF6",
           "showlakes": true,
           "showland": true,
           "subunitcolor": "white"
          },
          "hoverlabel": {
           "align": "left"
          },
          "hovermode": "closest",
          "mapbox": {
           "style": "light"
          },
          "paper_bgcolor": "white",
          "plot_bgcolor": "#E5ECF6",
          "polar": {
           "angularaxis": {
            "gridcolor": "white",
            "linecolor": "white",
            "ticks": ""
           },
           "bgcolor": "#E5ECF6",
           "radialaxis": {
            "gridcolor": "white",
            "linecolor": "white",
            "ticks": ""
           }
          },
          "scene": {
           "xaxis": {
            "backgroundcolor": "#E5ECF6",
            "gridcolor": "white",
            "gridwidth": 2,
            "linecolor": "white",
            "showbackground": true,
            "ticks": "",
            "zerolinecolor": "white"
           },
           "yaxis": {
            "backgroundcolor": "#E5ECF6",
            "gridcolor": "white",
            "gridwidth": 2,
            "linecolor": "white",
            "showbackground": true,
            "ticks": "",
            "zerolinecolor": "white"
           },
           "zaxis": {
            "backgroundcolor": "#E5ECF6",
            "gridcolor": "white",
            "gridwidth": 2,
            "linecolor": "white",
            "showbackground": true,
            "ticks": "",
            "zerolinecolor": "white"
           }
          },
          "shapedefaults": {
           "line": {
            "color": "#2a3f5f"
           }
          },
          "ternary": {
           "aaxis": {
            "gridcolor": "white",
            "linecolor": "white",
            "ticks": ""
           },
           "baxis": {
            "gridcolor": "white",
            "linecolor": "white",
            "ticks": ""
           },
           "bgcolor": "#E5ECF6",
           "caxis": {
            "gridcolor": "white",
            "linecolor": "white",
            "ticks": ""
           }
          },
          "title": {
           "x": 0.05
          },
          "xaxis": {
           "automargin": true,
           "gridcolor": "white",
           "linecolor": "white",
           "ticks": "",
           "title": {
            "standoff": 15
           },
           "zerolinecolor": "white",
           "zerolinewidth": 2
          },
          "yaxis": {
           "automargin": true,
           "gridcolor": "white",
           "linecolor": "white",
           "ticks": "",
           "title": {
            "standoff": 15
           },
           "zerolinecolor": "white",
           "zerolinewidth": 2
          }
         }
        },
        "title": {
         "text": "3d Plot for Rule Mining"
        },
        "width": 900
       }
      },
      "text/html": [
       "<div>                            <div id=\"acad196d-8d1d-41d5-89bb-3089d148ff74\" class=\"plotly-graph-div\" style=\"height:800px; width:900px;\"></div>            <script type=\"text/javascript\">                require([\"plotly\"], function(Plotly) {                    window.PLOTLYENV=window.PLOTLYENV || {};                                    if (document.getElementById(\"acad196d-8d1d-41d5-89bb-3089d148ff74\")) {                    Plotly.newPlot(                        \"acad196d-8d1d-41d5-89bb-3089d148ff74\",                        [{\"customdata\":[[\" Organic Strawberries\",\" Bag of Organic Bananas\"],[\" Bag of Organic Bananas\",\" Organic Strawberries\"],[\" Organic Hass Avocado\",\" Bag of Organic Bananas\"],[\" Bag of Organic Bananas\",\" Organic Hass Avocado\"],[\" Organic Baby Spinach\",\" Bag of Organic Bananas\"],[\" Bag of Organic Bananas\",\" Organic Baby Spinach\"],[\" Banana\",\" Organic Strawberries\"],[\" Organic Strawberries\",\" Banana\"],[\" Banana\",\" Large Lemon\"],[\" Large Lemon\",\" Banana\"],[\" Organic Baby Spinach\",\" Organic Strawberries\"],[\" Organic Strawberries\",\" Organic Baby Spinach\"],[\" Organic Avocado\",\" Banana\"],[\" Banana\",\" Organic Avocado\"],[\" Organic Strawberries\",\" Organic Raspberries\"],[\" Organic Raspberries\",\" Organic Strawberries\"],[\" Limes\",\" Large Lemon\"],[\" Large Lemon\",\" Limes\"],[\" Organic Baby Spinach\",\" Banana\"],[\" Banana\",\" Organic Baby Spinach\"],[\" Bag\",\" Clementines\"],[\" Clementines\",\" Bag\"],[\" Organic Hass Avocado\",\" Organic Strawberries\"],[\" Organic Strawberries\",\" Organic Hass Avocado\"],[\" Strawberries\",\" Banana\"],[\" Banana\",\" Strawberries\"]],\"hovertemplate\":\"support=%{x}<br>confidence=%{y}<br>lift=%{z}<br>antecedents=%{customdata[0]}<br>consequents=%{customdata[1]}<br>antecedent support=%{marker.color}<extra></extra>\",\"legendgroup\":\"\",\"marker\":{\"color\":[0.07616855551067381,0.08833997667842908,0.04950879893909717,0.08833997667842908,0.0679450342583207,0.08833997667842908,0.10826239053723449,0.07616855551067381,0.10826239053723449,0.057617998765328596,0.0679450342583207,0.07616855551067381,0.04888384180963196,0.10826239053723449,0.07616855551067381,0.03802330632807201,0.043137284789915326,0.057617998765328596,0.0679450342583207,0.10826239053723449,0.014343528264067252,0.01843623531922353,0.04950879893909717,0.07616855551067381,0.044105206197745585,0.10826239053723449],\"coloraxis\":\"coloraxis\",\"opacity\":0.7,\"symbol\":\"circle\"},\"mode\":\"markers\",\"name\":\"\",\"scene\":\"scene\",\"showlegend\":false,\"x\":[0.01664519964331715,0.01664519964331715,0.012453414018855413,0.012453414018855413,0.012255256880244496,0.012255256880244496,0.011775106890533424,0.011775106890533424,0.011767485462125311,0.011767485462125311,0.011302578329230465,0.011302578329230465,0.01121874261674123,0.01121874261674123,0.011028206906538423,0.011028206906538423,0.01098247833608975,0.01098247833608975,0.010570921202051688,0.010570921202051688,0.010464221204338117,0.010464221204338117,0.010288928350951536,0.010288928350951536,0.010075528355524393,0.010075528355524393],\"y\":[0.2185311186712027,0.18842205159175218,0.25153940886699505,0.14097144336122852,0.18037016264722378,0.13872832369942195,0.10876451953537486,0.15459275565339203,0.10869412178810277,0.20423280423280424,0.1663488502523836,0.14838903342005205,0.22949797318366072,0.10362548398451249,0.14478687212327396,0.2900380837843255,0.25459363957597175,0.19060846560846562,0.15558048233314636,0.09764167546638507,0.7295430393198724,0.5675899131872675,0.207820197044335,0.13508104862917752,0.22844306203559703,0.0930658218936994],\"z\":[2.4737511474186724,2.4737511474186724,2.8474018029531147,2.8474018029531147,2.041772812594218,2.041772812594218,1.4279451514625776,1.4279451514625776,1.8864612467850763,1.8864612467850763,2.183957003478587,2.1839570034785876,2.119831014674758,2.1198310146747583,3.807845400766216,3.807845400766216,4.418647732159217,4.418647732159217,1.437068603058768,1.437068603058768,39.571150329111674,39.571150329111674,2.7284250784460826,2.7284250784460826,2.110086992370901,2.110086992370901],\"type\":\"scatter3d\"}],                        {\"template\":{\"data\":{\"histogram2dcontour\":[{\"type\":\"histogram2dcontour\",\"colorbar\":{\"outlinewidth\":0,\"ticks\":\"\"},\"colorscale\":[[0.0,\"#0d0887\"],[0.1111111111111111,\"#46039f\"],[0.2222222222222222,\"#7201a8\"],[0.3333333333333333,\"#9c179e\"],[0.4444444444444444,\"#bd3786\"],[0.5555555555555556,\"#d8576b\"],[0.6666666666666666,\"#ed7953\"],[0.7777777777777778,\"#fb9f3a\"],[0.8888888888888888,\"#fdca26\"],[1.0,\"#f0f921\"]]}],\"choropleth\":[{\"type\":\"choropleth\",\"colorbar\":{\"outlinewidth\":0,\"ticks\":\"\"}}],\"histogram2d\":[{\"type\":\"histogram2d\",\"colorbar\":{\"outlinewidth\":0,\"ticks\":\"\"},\"colorscale\":[[0.0,\"#0d0887\"],[0.1111111111111111,\"#46039f\"],[0.2222222222222222,\"#7201a8\"],[0.3333333333333333,\"#9c179e\"],[0.4444444444444444,\"#bd3786\"],[0.5555555555555556,\"#d8576b\"],[0.6666666666666666,\"#ed7953\"],[0.7777777777777778,\"#fb9f3a\"],[0.8888888888888888,\"#fdca26\"],[1.0,\"#f0f921\"]]}],\"heatmap\":[{\"type\":\"heatmap\",\"colorbar\":{\"outlinewidth\":0,\"ticks\":\"\"},\"colorscale\":[[0.0,\"#0d0887\"],[0.1111111111111111,\"#46039f\"],[0.2222222222222222,\"#7201a8\"],[0.3333333333333333,\"#9c179e\"],[0.4444444444444444,\"#bd3786\"],[0.5555555555555556,\"#d8576b\"],[0.6666666666666666,\"#ed7953\"],[0.7777777777777778,\"#fb9f3a\"],[0.8888888888888888,\"#fdca26\"],[1.0,\"#f0f921\"]]}],\"heatmapgl\":[{\"type\":\"heatmapgl\",\"colorbar\":{\"outlinewidth\":0,\"ticks\":\"\"},\"colorscale\":[[0.0,\"#0d0887\"],[0.1111111111111111,\"#46039f\"],[0.2222222222222222,\"#7201a8\"],[0.3333333333333333,\"#9c179e\"],[0.4444444444444444,\"#bd3786\"],[0.5555555555555556,\"#d8576b\"],[0.6666666666666666,\"#ed7953\"],[0.7777777777777778,\"#fb9f3a\"],[0.8888888888888888,\"#fdca26\"],[1.0,\"#f0f921\"]]}],\"contourcarpet\":[{\"type\":\"contourcarpet\",\"colorbar\":{\"outlinewidth\":0,\"ticks\":\"\"}}],\"contour\":[{\"type\":\"contour\",\"colorbar\":{\"outlinewidth\":0,\"ticks\":\"\"},\"colorscale\":[[0.0,\"#0d0887\"],[0.1111111111111111,\"#46039f\"],[0.2222222222222222,\"#7201a8\"],[0.3333333333333333,\"#9c179e\"],[0.4444444444444444,\"#bd3786\"],[0.5555555555555556,\"#d8576b\"],[0.6666666666666666,\"#ed7953\"],[0.7777777777777778,\"#fb9f3a\"],[0.8888888888888888,\"#fdca26\"],[1.0,\"#f0f921\"]]}],\"surface\":[{\"type\":\"surface\",\"colorbar\":{\"outlinewidth\":0,\"ticks\":\"\"},\"colorscale\":[[0.0,\"#0d0887\"],[0.1111111111111111,\"#46039f\"],[0.2222222222222222,\"#7201a8\"],[0.3333333333333333,\"#9c179e\"],[0.4444444444444444,\"#bd3786\"],[0.5555555555555556,\"#d8576b\"],[0.6666666666666666,\"#ed7953\"],[0.7777777777777778,\"#fb9f3a\"],[0.8888888888888888,\"#fdca26\"],[1.0,\"#f0f921\"]]}],\"mesh3d\":[{\"type\":\"mesh3d\",\"colorbar\":{\"outlinewidth\":0,\"ticks\":\"\"}}],\"scatter\":[{\"fillpattern\":{\"fillmode\":\"overlay\",\"size\":10,\"solidity\":0.2},\"type\":\"scatter\"}],\"parcoords\":[{\"type\":\"parcoords\",\"line\":{\"colorbar\":{\"outlinewidth\":0,\"ticks\":\"\"}}}],\"scatterpolargl\":[{\"type\":\"scatterpolargl\",\"marker\":{\"colorbar\":{\"outlinewidth\":0,\"ticks\":\"\"}}}],\"bar\":[{\"error_x\":{\"color\":\"#2a3f5f\"},\"error_y\":{\"color\":\"#2a3f5f\"},\"marker\":{\"line\":{\"color\":\"#E5ECF6\",\"width\":0.5},\"pattern\":{\"fillmode\":\"overlay\",\"size\":10,\"solidity\":0.2}},\"type\":\"bar\"}],\"scattergeo\":[{\"type\":\"scattergeo\",\"marker\":{\"colorbar\":{\"outlinewidth\":0,\"ticks\":\"\"}}}],\"scatterpolar\":[{\"type\":\"scatterpolar\",\"marker\":{\"colorbar\":{\"outlinewidth\":0,\"ticks\":\"\"}}}],\"histogram\":[{\"marker\":{\"pattern\":{\"fillmode\":\"overlay\",\"size\":10,\"solidity\":0.2}},\"type\":\"histogram\"}],\"scattergl\":[{\"type\":\"scattergl\",\"marker\":{\"colorbar\":{\"outlinewidth\":0,\"ticks\":\"\"}}}],\"scatter3d\":[{\"type\":\"scatter3d\",\"line\":{\"colorbar\":{\"outlinewidth\":0,\"ticks\":\"\"}},\"marker\":{\"colorbar\":{\"outlinewidth\":0,\"ticks\":\"\"}}}],\"scattermapbox\":[{\"type\":\"scattermapbox\",\"marker\":{\"colorbar\":{\"outlinewidth\":0,\"ticks\":\"\"}}}],\"scatterternary\":[{\"type\":\"scatterternary\",\"marker\":{\"colorbar\":{\"outlinewidth\":0,\"ticks\":\"\"}}}],\"scattercarpet\":[{\"type\":\"scattercarpet\",\"marker\":{\"colorbar\":{\"outlinewidth\":0,\"ticks\":\"\"}}}],\"carpet\":[{\"aaxis\":{\"endlinecolor\":\"#2a3f5f\",\"gridcolor\":\"white\",\"linecolor\":\"white\",\"minorgridcolor\":\"white\",\"startlinecolor\":\"#2a3f5f\"},\"baxis\":{\"endlinecolor\":\"#2a3f5f\",\"gridcolor\":\"white\",\"linecolor\":\"white\",\"minorgridcolor\":\"white\",\"startlinecolor\":\"#2a3f5f\"},\"type\":\"carpet\"}],\"table\":[{\"cells\":{\"fill\":{\"color\":\"#EBF0F8\"},\"line\":{\"color\":\"white\"}},\"header\":{\"fill\":{\"color\":\"#C8D4E3\"},\"line\":{\"color\":\"white\"}},\"type\":\"table\"}],\"barpolar\":[{\"marker\":{\"line\":{\"color\":\"#E5ECF6\",\"width\":0.5},\"pattern\":{\"fillmode\":\"overlay\",\"size\":10,\"solidity\":0.2}},\"type\":\"barpolar\"}],\"pie\":[{\"automargin\":true,\"type\":\"pie\"}]},\"layout\":{\"autotypenumbers\":\"strict\",\"colorway\":[\"#636efa\",\"#EF553B\",\"#00cc96\",\"#ab63fa\",\"#FFA15A\",\"#19d3f3\",\"#FF6692\",\"#B6E880\",\"#FF97FF\",\"#FECB52\"],\"font\":{\"color\":\"#2a3f5f\"},\"hovermode\":\"closest\",\"hoverlabel\":{\"align\":\"left\"},\"paper_bgcolor\":\"white\",\"plot_bgcolor\":\"#E5ECF6\",\"polar\":{\"bgcolor\":\"#E5ECF6\",\"angularaxis\":{\"gridcolor\":\"white\",\"linecolor\":\"white\",\"ticks\":\"\"},\"radialaxis\":{\"gridcolor\":\"white\",\"linecolor\":\"white\",\"ticks\":\"\"}},\"ternary\":{\"bgcolor\":\"#E5ECF6\",\"aaxis\":{\"gridcolor\":\"white\",\"linecolor\":\"white\",\"ticks\":\"\"},\"baxis\":{\"gridcolor\":\"white\",\"linecolor\":\"white\",\"ticks\":\"\"},\"caxis\":{\"gridcolor\":\"white\",\"linecolor\":\"white\",\"ticks\":\"\"}},\"coloraxis\":{\"colorbar\":{\"outlinewidth\":0,\"ticks\":\"\"}},\"colorscale\":{\"sequential\":[[0.0,\"#0d0887\"],[0.1111111111111111,\"#46039f\"],[0.2222222222222222,\"#7201a8\"],[0.3333333333333333,\"#9c179e\"],[0.4444444444444444,\"#bd3786\"],[0.5555555555555556,\"#d8576b\"],[0.6666666666666666,\"#ed7953\"],[0.7777777777777778,\"#fb9f3a\"],[0.8888888888888888,\"#fdca26\"],[1.0,\"#f0f921\"]],\"sequentialminus\":[[0.0,\"#0d0887\"],[0.1111111111111111,\"#46039f\"],[0.2222222222222222,\"#7201a8\"],[0.3333333333333333,\"#9c179e\"],[0.4444444444444444,\"#bd3786\"],[0.5555555555555556,\"#d8576b\"],[0.6666666666666666,\"#ed7953\"],[0.7777777777777778,\"#fb9f3a\"],[0.8888888888888888,\"#fdca26\"],[1.0,\"#f0f921\"]],\"diverging\":[[0,\"#8e0152\"],[0.1,\"#c51b7d\"],[0.2,\"#de77ae\"],[0.3,\"#f1b6da\"],[0.4,\"#fde0ef\"],[0.5,\"#f7f7f7\"],[0.6,\"#e6f5d0\"],[0.7,\"#b8e186\"],[0.8,\"#7fbc41\"],[0.9,\"#4d9221\"],[1,\"#276419\"]]},\"xaxis\":{\"gridcolor\":\"white\",\"linecolor\":\"white\",\"ticks\":\"\",\"title\":{\"standoff\":15},\"zerolinecolor\":\"white\",\"automargin\":true,\"zerolinewidth\":2},\"yaxis\":{\"gridcolor\":\"white\",\"linecolor\":\"white\",\"ticks\":\"\",\"title\":{\"standoff\":15},\"zerolinecolor\":\"white\",\"automargin\":true,\"zerolinewidth\":2},\"scene\":{\"xaxis\":{\"backgroundcolor\":\"#E5ECF6\",\"gridcolor\":\"white\",\"linecolor\":\"white\",\"showbackground\":true,\"ticks\":\"\",\"zerolinecolor\":\"white\",\"gridwidth\":2},\"yaxis\":{\"backgroundcolor\":\"#E5ECF6\",\"gridcolor\":\"white\",\"linecolor\":\"white\",\"showbackground\":true,\"ticks\":\"\",\"zerolinecolor\":\"white\",\"gridwidth\":2},\"zaxis\":{\"backgroundcolor\":\"#E5ECF6\",\"gridcolor\":\"white\",\"linecolor\":\"white\",\"showbackground\":true,\"ticks\":\"\",\"zerolinecolor\":\"white\",\"gridwidth\":2}},\"shapedefaults\":{\"line\":{\"color\":\"#2a3f5f\"}},\"annotationdefaults\":{\"arrowcolor\":\"#2a3f5f\",\"arrowhead\":0,\"arrowwidth\":1},\"geo\":{\"bgcolor\":\"white\",\"landcolor\":\"#E5ECF6\",\"subunitcolor\":\"white\",\"showland\":true,\"showlakes\":true,\"lakecolor\":\"white\"},\"title\":{\"x\":0.05},\"mapbox\":{\"style\":\"light\"}}},\"scene\":{\"domain\":{\"x\":[0.0,1.0],\"y\":[0.0,1.0]},\"xaxis\":{\"title\":{\"text\":\"support\"}},\"yaxis\":{\"title\":{\"text\":\"confidence\"}},\"zaxis\":{\"title\":{\"text\":\"lift\"}}},\"coloraxis\":{\"colorbar\":{\"title\":{\"text\":\"antecedent support\"}},\"colorscale\":[[0.0,\"#0d0887\"],[0.1111111111111111,\"#46039f\"],[0.2222222222222222,\"#7201a8\"],[0.3333333333333333,\"#9c179e\"],[0.4444444444444444,\"#bd3786\"],[0.5555555555555556,\"#d8576b\"],[0.6666666666666666,\"#ed7953\"],[0.7777777777777778,\"#fb9f3a\"],[0.8888888888888888,\"#fdca26\"],[1.0,\"#f0f921\"]]},\"legend\":{\"tracegroupgap\":0},\"title\":{\"text\":\"3d Plot for Rule Mining\"},\"height\":800,\"width\":900},                        {\"responsive\": true}                    ).then(function(){\n",
       "                            \n",
       "var gd = document.getElementById('acad196d-8d1d-41d5-89bb-3089d148ff74');\n",
       "var x = new MutationObserver(function (mutations, observer) {{\n",
       "        var display = window.getComputedStyle(gd).display;\n",
       "        if (!display || display === 'none') {{\n",
       "            console.log([gd, 'removed!']);\n",
       "            Plotly.purge(gd);\n",
       "            observer.disconnect();\n",
       "        }}\n",
       "}});\n",
       "\n",
       "// Listen for the removal of the full notebook cells\n",
       "var notebookContainer = gd.closest('#notebook-container');\n",
       "if (notebookContainer) {{\n",
       "    x.observe(notebookContainer, {childList: true});\n",
       "}}\n",
       "\n",
       "// Listen for the clearing of the current output cell\n",
       "var outputEl = gd.closest('.output');\n",
       "if (outputEl) {{\n",
       "    x.observe(outputEl, {childList: true});\n",
       "}}\n",
       "\n",
       "                        })                };                });            </script>        </div>"
      ]
     },
     "metadata": {},
     "output_type": "display_data"
    }
   ],
   "source": [
    "plot_model(rule_APRIORI, plot = '3d')"
   ]
  },
  {
   "attachments": {},
   "cell_type": "markdown",
   "metadata": {},
   "source": [
    "### <center><span style=\"color:#6ebdfa\">2. FP-Growth Algorithm</span></center>"
   ]
  },
  {
   "cell_type": "code",
   "execution_count": 19,
   "metadata": {},
   "outputs": [],
   "source": [
    "fp_growth_df = fpgrowth(df_, min_support=0.01, use_colnames=True)"
   ]
  },
  {
   "cell_type": "code",
   "execution_count": 20,
   "metadata": {},
   "outputs": [
    {
     "data": {
      "text/html": [
       "<div>\n",
       "<style scoped>\n",
       "    .dataframe tbody tr th:only-of-type {\n",
       "        vertical-align: middle;\n",
       "    }\n",
       "\n",
       "    .dataframe tbody tr th {\n",
       "        vertical-align: top;\n",
       "    }\n",
       "\n",
       "    .dataframe thead th {\n",
       "        text-align: right;\n",
       "    }\n",
       "</style>\n",
       "<table border=\"1\" class=\"dataframe\">\n",
       "  <thead>\n",
       "    <tr style=\"text-align: right;\">\n",
       "      <th></th>\n",
       "      <th>support</th>\n",
       "      <th>itemsets</th>\n",
       "    </tr>\n",
       "  </thead>\n",
       "  <tbody>\n",
       "    <tr>\n",
       "      <th>0</th>\n",
       "      <td>0.020669</td>\n",
       "      <td>( Sparkling Water Grapefruit)</td>\n",
       "    </tr>\n",
       "    <tr>\n",
       "      <th>1</th>\n",
       "      <td>0.108262</td>\n",
       "      <td>( Banana)</td>\n",
       "    </tr>\n",
       "    <tr>\n",
       "      <th>2</th>\n",
       "      <td>0.057618</td>\n",
       "      <td>( Large Lemon)</td>\n",
       "    </tr>\n",
       "    <tr>\n",
       "      <th>3</th>\n",
       "      <td>0.029868</td>\n",
       "      <td>( Organic Garlic)</td>\n",
       "    </tr>\n",
       "    <tr>\n",
       "      <th>4</th>\n",
       "      <td>0.021531</td>\n",
       "      <td>( Small Hass Avocado)</td>\n",
       "    </tr>\n",
       "    <tr>\n",
       "      <th>...</th>\n",
       "      <td>...</td>\n",
       "      <td>...</td>\n",
       "    </tr>\n",
       "    <tr>\n",
       "      <th>103</th>\n",
       "      <td>0.011219</td>\n",
       "      <td>( Organic Avocado,  Banana)</td>\n",
       "    </tr>\n",
       "    <tr>\n",
       "      <th>104</th>\n",
       "      <td>0.011028</td>\n",
       "      <td>( Organic Strawberries,  Organic Raspberries)</td>\n",
       "    </tr>\n",
       "    <tr>\n",
       "      <th>105</th>\n",
       "      <td>0.012453</td>\n",
       "      <td>( Organic Hass Avocado,  Bag of Organic Bananas)</td>\n",
       "    </tr>\n",
       "    <tr>\n",
       "      <th>106</th>\n",
       "      <td>0.010289</td>\n",
       "      <td>( Organic Hass Avocado,  Organic Strawberries)</td>\n",
       "    </tr>\n",
       "    <tr>\n",
       "      <th>107</th>\n",
       "      <td>0.010464</td>\n",
       "      <td>( Bag,  Clementines)</td>\n",
       "    </tr>\n",
       "  </tbody>\n",
       "</table>\n",
       "<p>108 rows × 2 columns</p>\n",
       "</div>"
      ],
      "text/plain": [
       "      support                                          itemsets\n",
       "0    0.020669                     ( Sparkling Water Grapefruit)\n",
       "1    0.108262                                         ( Banana)\n",
       "2    0.057618                                    ( Large Lemon)\n",
       "3    0.029868                                 ( Organic Garlic)\n",
       "4    0.021531                             ( Small Hass Avocado)\n",
       "..        ...                                               ...\n",
       "103  0.011219                       ( Organic Avocado,  Banana)\n",
       "104  0.011028     ( Organic Strawberries,  Organic Raspberries)\n",
       "105  0.012453  ( Organic Hass Avocado,  Bag of Organic Bananas)\n",
       "106  0.010289    ( Organic Hass Avocado,  Organic Strawberries)\n",
       "107  0.010464                              ( Bag,  Clementines)\n",
       "\n",
       "[108 rows x 2 columns]"
      ]
     },
     "execution_count": 20,
     "metadata": {},
     "output_type": "execute_result"
    }
   ],
   "source": [
    "fp_growth_df"
   ]
  },
  {
   "attachments": {},
   "cell_type": "markdown",
   "metadata": {},
   "source": [
    "**<span style=\"color:#e0b53f\"> 🔍 Notice how FP-Growth is much faster than apriori</span>**"
   ]
  },
  {
   "cell_type": "code",
   "execution_count": 21,
   "metadata": {},
   "outputs": [
    {
     "data": {
      "text/html": [
       "<div>\n",
       "<style scoped>\n",
       "    .dataframe tbody tr th:only-of-type {\n",
       "        vertical-align: middle;\n",
       "    }\n",
       "\n",
       "    .dataframe tbody tr th {\n",
       "        vertical-align: top;\n",
       "    }\n",
       "\n",
       "    .dataframe thead th {\n",
       "        text-align: right;\n",
       "    }\n",
       "</style>\n",
       "<table border=\"1\" class=\"dataframe\">\n",
       "  <thead>\n",
       "    <tr style=\"text-align: right;\">\n",
       "      <th></th>\n",
       "      <th>antecedents</th>\n",
       "      <th>consequents</th>\n",
       "      <th>antecedent support</th>\n",
       "      <th>consequent support</th>\n",
       "      <th>support</th>\n",
       "      <th>confidence</th>\n",
       "      <th>lift</th>\n",
       "      <th>leverage</th>\n",
       "      <th>conviction</th>\n",
       "      <th>zhangs_metric</th>\n",
       "    </tr>\n",
       "  </thead>\n",
       "  <tbody>\n",
       "    <tr>\n",
       "      <th>0</th>\n",
       "      <td>( Banana)</td>\n",
       "      <td>( Large Lemon)</td>\n",
       "      <td>0.108262</td>\n",
       "      <td>0.057618</td>\n",
       "      <td>0.011767</td>\n",
       "      <td>0.108694</td>\n",
       "      <td>1.886461</td>\n",
       "      <td>0.005530</td>\n",
       "      <td>1.057305</td>\n",
       "      <td>0.526957</td>\n",
       "    </tr>\n",
       "    <tr>\n",
       "      <th>1</th>\n",
       "      <td>( Large Lemon)</td>\n",
       "      <td>( Banana)</td>\n",
       "      <td>0.057618</td>\n",
       "      <td>0.108262</td>\n",
       "      <td>0.011767</td>\n",
       "      <td>0.204233</td>\n",
       "      <td>1.886461</td>\n",
       "      <td>0.005530</td>\n",
       "      <td>1.120601</td>\n",
       "      <td>0.498637</td>\n",
       "    </tr>\n",
       "    <tr>\n",
       "      <th>2</th>\n",
       "      <td>( Organic Baby Spinach)</td>\n",
       "      <td>( Banana)</td>\n",
       "      <td>0.067945</td>\n",
       "      <td>0.108262</td>\n",
       "      <td>0.010571</td>\n",
       "      <td>0.155580</td>\n",
       "      <td>1.437069</td>\n",
       "      <td>0.003215</td>\n",
       "      <td>1.056036</td>\n",
       "      <td>0.326310</td>\n",
       "    </tr>\n",
       "    <tr>\n",
       "      <th>3</th>\n",
       "      <td>( Banana)</td>\n",
       "      <td>( Organic Baby Spinach)</td>\n",
       "      <td>0.108262</td>\n",
       "      <td>0.067945</td>\n",
       "      <td>0.010571</td>\n",
       "      <td>0.097642</td>\n",
       "      <td>1.437069</td>\n",
       "      <td>0.003215</td>\n",
       "      <td>1.032910</td>\n",
       "      <td>0.341063</td>\n",
       "    </tr>\n",
       "    <tr>\n",
       "      <th>4</th>\n",
       "      <td>( Organic Baby Spinach)</td>\n",
       "      <td>( Bag of Organic Bananas)</td>\n",
       "      <td>0.067945</td>\n",
       "      <td>0.088340</td>\n",
       "      <td>0.012255</td>\n",
       "      <td>0.180370</td>\n",
       "      <td>2.041773</td>\n",
       "      <td>0.006253</td>\n",
       "      <td>1.112283</td>\n",
       "      <td>0.547424</td>\n",
       "    </tr>\n",
       "    <tr>\n",
       "      <th>5</th>\n",
       "      <td>( Bag of Organic Bananas)</td>\n",
       "      <td>( Organic Baby Spinach)</td>\n",
       "      <td>0.088340</td>\n",
       "      <td>0.067945</td>\n",
       "      <td>0.012255</td>\n",
       "      <td>0.138728</td>\n",
       "      <td>2.041773</td>\n",
       "      <td>0.006253</td>\n",
       "      <td>1.082185</td>\n",
       "      <td>0.559671</td>\n",
       "    </tr>\n",
       "    <tr>\n",
       "      <th>6</th>\n",
       "      <td>( Organic Baby Spinach)</td>\n",
       "      <td>( Organic Strawberries)</td>\n",
       "      <td>0.067945</td>\n",
       "      <td>0.076169</td>\n",
       "      <td>0.011303</td>\n",
       "      <td>0.166349</td>\n",
       "      <td>2.183957</td>\n",
       "      <td>0.006127</td>\n",
       "      <td>1.108175</td>\n",
       "      <td>0.581635</td>\n",
       "    </tr>\n",
       "    <tr>\n",
       "      <th>7</th>\n",
       "      <td>( Organic Strawberries)</td>\n",
       "      <td>( Organic Baby Spinach)</td>\n",
       "      <td>0.076169</td>\n",
       "      <td>0.067945</td>\n",
       "      <td>0.011303</td>\n",
       "      <td>0.148389</td>\n",
       "      <td>2.183957</td>\n",
       "      <td>0.006127</td>\n",
       "      <td>1.094461</td>\n",
       "      <td>0.586812</td>\n",
       "    </tr>\n",
       "    <tr>\n",
       "      <th>8</th>\n",
       "      <td>( Limes)</td>\n",
       "      <td>( Large Lemon)</td>\n",
       "      <td>0.043137</td>\n",
       "      <td>0.057618</td>\n",
       "      <td>0.010982</td>\n",
       "      <td>0.254594</td>\n",
       "      <td>4.418648</td>\n",
       "      <td>0.008497</td>\n",
       "      <td>1.264253</td>\n",
       "      <td>0.808566</td>\n",
       "    </tr>\n",
       "    <tr>\n",
       "      <th>9</th>\n",
       "      <td>( Large Lemon)</td>\n",
       "      <td>( Limes)</td>\n",
       "      <td>0.057618</td>\n",
       "      <td>0.043137</td>\n",
       "      <td>0.010982</td>\n",
       "      <td>0.190608</td>\n",
       "      <td>4.418648</td>\n",
       "      <td>0.008497</td>\n",
       "      <td>1.182200</td>\n",
       "      <td>0.820990</td>\n",
       "    </tr>\n",
       "    <tr>\n",
       "      <th>10</th>\n",
       "      <td>( Organic Strawberries)</td>\n",
       "      <td>( Bag of Organic Bananas)</td>\n",
       "      <td>0.076169</td>\n",
       "      <td>0.088340</td>\n",
       "      <td>0.016645</td>\n",
       "      <td>0.218531</td>\n",
       "      <td>2.473751</td>\n",
       "      <td>0.009916</td>\n",
       "      <td>1.166598</td>\n",
       "      <td>0.644875</td>\n",
       "    </tr>\n",
       "    <tr>\n",
       "      <th>11</th>\n",
       "      <td>( Bag of Organic Bananas)</td>\n",
       "      <td>( Organic Strawberries)</td>\n",
       "      <td>0.088340</td>\n",
       "      <td>0.076169</td>\n",
       "      <td>0.016645</td>\n",
       "      <td>0.188422</td>\n",
       "      <td>2.473751</td>\n",
       "      <td>0.009916</td>\n",
       "      <td>1.138315</td>\n",
       "      <td>0.653484</td>\n",
       "    </tr>\n",
       "    <tr>\n",
       "      <th>12</th>\n",
       "      <td>( Banana)</td>\n",
       "      <td>( Organic Strawberries)</td>\n",
       "      <td>0.108262</td>\n",
       "      <td>0.076169</td>\n",
       "      <td>0.011775</td>\n",
       "      <td>0.108765</td>\n",
       "      <td>1.427945</td>\n",
       "      <td>0.003529</td>\n",
       "      <td>1.036574</td>\n",
       "      <td>0.336078</td>\n",
       "    </tr>\n",
       "    <tr>\n",
       "      <th>13</th>\n",
       "      <td>( Organic Strawberries)</td>\n",
       "      <td>( Banana)</td>\n",
       "      <td>0.076169</td>\n",
       "      <td>0.108262</td>\n",
       "      <td>0.011775</td>\n",
       "      <td>0.154593</td>\n",
       "      <td>1.427945</td>\n",
       "      <td>0.003529</td>\n",
       "      <td>1.054802</td>\n",
       "      <td>0.324402</td>\n",
       "    </tr>\n",
       "    <tr>\n",
       "      <th>14</th>\n",
       "      <td>( Strawberries)</td>\n",
       "      <td>( Banana)</td>\n",
       "      <td>0.044105</td>\n",
       "      <td>0.108262</td>\n",
       "      <td>0.010076</td>\n",
       "      <td>0.228443</td>\n",
       "      <td>2.110087</td>\n",
       "      <td>0.005301</td>\n",
       "      <td>1.155764</td>\n",
       "      <td>0.550360</td>\n",
       "    </tr>\n",
       "    <tr>\n",
       "      <th>15</th>\n",
       "      <td>( Banana)</td>\n",
       "      <td>( Strawberries)</td>\n",
       "      <td>0.108262</td>\n",
       "      <td>0.044105</td>\n",
       "      <td>0.010076</td>\n",
       "      <td>0.093066</td>\n",
       "      <td>2.110087</td>\n",
       "      <td>0.005301</td>\n",
       "      <td>1.053985</td>\n",
       "      <td>0.589956</td>\n",
       "    </tr>\n",
       "    <tr>\n",
       "      <th>16</th>\n",
       "      <td>( Organic Avocado)</td>\n",
       "      <td>( Banana)</td>\n",
       "      <td>0.048884</td>\n",
       "      <td>0.108262</td>\n",
       "      <td>0.011219</td>\n",
       "      <td>0.229498</td>\n",
       "      <td>2.119831</td>\n",
       "      <td>0.005926</td>\n",
       "      <td>1.157346</td>\n",
       "      <td>0.555415</td>\n",
       "    </tr>\n",
       "    <tr>\n",
       "      <th>17</th>\n",
       "      <td>( Banana)</td>\n",
       "      <td>( Organic Avocado)</td>\n",
       "      <td>0.108262</td>\n",
       "      <td>0.048884</td>\n",
       "      <td>0.011219</td>\n",
       "      <td>0.103625</td>\n",
       "      <td>2.119831</td>\n",
       "      <td>0.005926</td>\n",
       "      <td>1.061070</td>\n",
       "      <td>0.592399</td>\n",
       "    </tr>\n",
       "    <tr>\n",
       "      <th>18</th>\n",
       "      <td>( Organic Strawberries)</td>\n",
       "      <td>( Organic Raspberries)</td>\n",
       "      <td>0.076169</td>\n",
       "      <td>0.038023</td>\n",
       "      <td>0.011028</td>\n",
       "      <td>0.144787</td>\n",
       "      <td>3.807845</td>\n",
       "      <td>0.008132</td>\n",
       "      <td>1.124839</td>\n",
       "      <td>0.798181</td>\n",
       "    </tr>\n",
       "    <tr>\n",
       "      <th>19</th>\n",
       "      <td>( Organic Raspberries)</td>\n",
       "      <td>( Organic Strawberries)</td>\n",
       "      <td>0.038023</td>\n",
       "      <td>0.076169</td>\n",
       "      <td>0.011028</td>\n",
       "      <td>0.290038</td>\n",
       "      <td>3.807845</td>\n",
       "      <td>0.008132</td>\n",
       "      <td>1.301241</td>\n",
       "      <td>0.766530</td>\n",
       "    </tr>\n",
       "    <tr>\n",
       "      <th>20</th>\n",
       "      <td>( Organic Hass Avocado)</td>\n",
       "      <td>( Bag of Organic Bananas)</td>\n",
       "      <td>0.049509</td>\n",
       "      <td>0.088340</td>\n",
       "      <td>0.012453</td>\n",
       "      <td>0.251539</td>\n",
       "      <td>2.847402</td>\n",
       "      <td>0.008080</td>\n",
       "      <td>1.218047</td>\n",
       "      <td>0.682597</td>\n",
       "    </tr>\n",
       "    <tr>\n",
       "      <th>21</th>\n",
       "      <td>( Bag of Organic Bananas)</td>\n",
       "      <td>( Organic Hass Avocado)</td>\n",
       "      <td>0.088340</td>\n",
       "      <td>0.049509</td>\n",
       "      <td>0.012453</td>\n",
       "      <td>0.140971</td>\n",
       "      <td>2.847402</td>\n",
       "      <td>0.008080</td>\n",
       "      <td>1.106472</td>\n",
       "      <td>0.711672</td>\n",
       "    </tr>\n",
       "    <tr>\n",
       "      <th>22</th>\n",
       "      <td>( Organic Hass Avocado)</td>\n",
       "      <td>( Organic Strawberries)</td>\n",
       "      <td>0.049509</td>\n",
       "      <td>0.076169</td>\n",
       "      <td>0.010289</td>\n",
       "      <td>0.207820</td>\n",
       "      <td>2.728425</td>\n",
       "      <td>0.006518</td>\n",
       "      <td>1.166189</td>\n",
       "      <td>0.666485</td>\n",
       "    </tr>\n",
       "    <tr>\n",
       "      <th>23</th>\n",
       "      <td>( Organic Strawberries)</td>\n",
       "      <td>( Organic Hass Avocado)</td>\n",
       "      <td>0.076169</td>\n",
       "      <td>0.049509</td>\n",
       "      <td>0.010289</td>\n",
       "      <td>0.135081</td>\n",
       "      <td>2.728425</td>\n",
       "      <td>0.006518</td>\n",
       "      <td>1.098937</td>\n",
       "      <td>0.685718</td>\n",
       "    </tr>\n",
       "    <tr>\n",
       "      <th>24</th>\n",
       "      <td>( Bag)</td>\n",
       "      <td>( Clementines)</td>\n",
       "      <td>0.014344</td>\n",
       "      <td>0.018436</td>\n",
       "      <td>0.010464</td>\n",
       "      <td>0.729543</td>\n",
       "      <td>39.571150</td>\n",
       "      <td>0.010200</td>\n",
       "      <td>3.629279</td>\n",
       "      <td>0.988914</td>\n",
       "    </tr>\n",
       "    <tr>\n",
       "      <th>25</th>\n",
       "      <td>( Clementines)</td>\n",
       "      <td>( Bag)</td>\n",
       "      <td>0.018436</td>\n",
       "      <td>0.014344</td>\n",
       "      <td>0.010464</td>\n",
       "      <td>0.567590</td>\n",
       "      <td>39.571150</td>\n",
       "      <td>0.010200</td>\n",
       "      <td>2.279448</td>\n",
       "      <td>0.993037</td>\n",
       "    </tr>\n",
       "  </tbody>\n",
       "</table>\n",
       "</div>"
      ],
      "text/plain": [
       "                  antecedents                consequents  antecedent support  \\\n",
       "0                   ( Banana)             ( Large Lemon)            0.108262   \n",
       "1              ( Large Lemon)                  ( Banana)            0.057618   \n",
       "2     ( Organic Baby Spinach)                  ( Banana)            0.067945   \n",
       "3                   ( Banana)    ( Organic Baby Spinach)            0.108262   \n",
       "4     ( Organic Baby Spinach)  ( Bag of Organic Bananas)            0.067945   \n",
       "5   ( Bag of Organic Bananas)    ( Organic Baby Spinach)            0.088340   \n",
       "6     ( Organic Baby Spinach)    ( Organic Strawberries)            0.067945   \n",
       "7     ( Organic Strawberries)    ( Organic Baby Spinach)            0.076169   \n",
       "8                    ( Limes)             ( Large Lemon)            0.043137   \n",
       "9              ( Large Lemon)                   ( Limes)            0.057618   \n",
       "10    ( Organic Strawberries)  ( Bag of Organic Bananas)            0.076169   \n",
       "11  ( Bag of Organic Bananas)    ( Organic Strawberries)            0.088340   \n",
       "12                  ( Banana)    ( Organic Strawberries)            0.108262   \n",
       "13    ( Organic Strawberries)                  ( Banana)            0.076169   \n",
       "14            ( Strawberries)                  ( Banana)            0.044105   \n",
       "15                  ( Banana)            ( Strawberries)            0.108262   \n",
       "16         ( Organic Avocado)                  ( Banana)            0.048884   \n",
       "17                  ( Banana)         ( Organic Avocado)            0.108262   \n",
       "18    ( Organic Strawberries)     ( Organic Raspberries)            0.076169   \n",
       "19     ( Organic Raspberries)    ( Organic Strawberries)            0.038023   \n",
       "20    ( Organic Hass Avocado)  ( Bag of Organic Bananas)            0.049509   \n",
       "21  ( Bag of Organic Bananas)    ( Organic Hass Avocado)            0.088340   \n",
       "22    ( Organic Hass Avocado)    ( Organic Strawberries)            0.049509   \n",
       "23    ( Organic Strawberries)    ( Organic Hass Avocado)            0.076169   \n",
       "24                     ( Bag)             ( Clementines)            0.014344   \n",
       "25             ( Clementines)                     ( Bag)            0.018436   \n",
       "\n",
       "    consequent support   support  confidence       lift  leverage  conviction  \\\n",
       "0             0.057618  0.011767    0.108694   1.886461  0.005530    1.057305   \n",
       "1             0.108262  0.011767    0.204233   1.886461  0.005530    1.120601   \n",
       "2             0.108262  0.010571    0.155580   1.437069  0.003215    1.056036   \n",
       "3             0.067945  0.010571    0.097642   1.437069  0.003215    1.032910   \n",
       "4             0.088340  0.012255    0.180370   2.041773  0.006253    1.112283   \n",
       "5             0.067945  0.012255    0.138728   2.041773  0.006253    1.082185   \n",
       "6             0.076169  0.011303    0.166349   2.183957  0.006127    1.108175   \n",
       "7             0.067945  0.011303    0.148389   2.183957  0.006127    1.094461   \n",
       "8             0.057618  0.010982    0.254594   4.418648  0.008497    1.264253   \n",
       "9             0.043137  0.010982    0.190608   4.418648  0.008497    1.182200   \n",
       "10            0.088340  0.016645    0.218531   2.473751  0.009916    1.166598   \n",
       "11            0.076169  0.016645    0.188422   2.473751  0.009916    1.138315   \n",
       "12            0.076169  0.011775    0.108765   1.427945  0.003529    1.036574   \n",
       "13            0.108262  0.011775    0.154593   1.427945  0.003529    1.054802   \n",
       "14            0.108262  0.010076    0.228443   2.110087  0.005301    1.155764   \n",
       "15            0.044105  0.010076    0.093066   2.110087  0.005301    1.053985   \n",
       "16            0.108262  0.011219    0.229498   2.119831  0.005926    1.157346   \n",
       "17            0.048884  0.011219    0.103625   2.119831  0.005926    1.061070   \n",
       "18            0.038023  0.011028    0.144787   3.807845  0.008132    1.124839   \n",
       "19            0.076169  0.011028    0.290038   3.807845  0.008132    1.301241   \n",
       "20            0.088340  0.012453    0.251539   2.847402  0.008080    1.218047   \n",
       "21            0.049509  0.012453    0.140971   2.847402  0.008080    1.106472   \n",
       "22            0.076169  0.010289    0.207820   2.728425  0.006518    1.166189   \n",
       "23            0.049509  0.010289    0.135081   2.728425  0.006518    1.098937   \n",
       "24            0.018436  0.010464    0.729543  39.571150  0.010200    3.629279   \n",
       "25            0.014344  0.010464    0.567590  39.571150  0.010200    2.279448   \n",
       "\n",
       "    zhangs_metric  \n",
       "0        0.526957  \n",
       "1        0.498637  \n",
       "2        0.326310  \n",
       "3        0.341063  \n",
       "4        0.547424  \n",
       "5        0.559671  \n",
       "6        0.581635  \n",
       "7        0.586812  \n",
       "8        0.808566  \n",
       "9        0.820990  \n",
       "10       0.644875  \n",
       "11       0.653484  \n",
       "12       0.336078  \n",
       "13       0.324402  \n",
       "14       0.550360  \n",
       "15       0.589956  \n",
       "16       0.555415  \n",
       "17       0.592399  \n",
       "18       0.798181  \n",
       "19       0.766530  \n",
       "20       0.682597  \n",
       "21       0.711672  \n",
       "22       0.666485  \n",
       "23       0.685718  \n",
       "24       0.988914  \n",
       "25       0.993037  "
      ]
     },
     "execution_count": 21,
     "metadata": {},
     "output_type": "execute_result"
    }
   ],
   "source": [
    "rule_FP = association_rules(fp_growth_df, metric=\"confidence\", min_threshold= 0.09)\n",
    "rule_FP"
   ]
  },
  {
   "cell_type": "code",
   "execution_count": 22,
   "metadata": {},
   "outputs": [
    {
     "data": {
      "text/html": [
       "        <script type=\"text/javascript\">\n",
       "        window.PlotlyConfig = {MathJaxConfig: 'local'};\n",
       "        if (window.MathJax && window.MathJax.Hub && window.MathJax.Hub.Config) {window.MathJax.Hub.Config({SVG: {font: \"STIX-Web\"}});}\n",
       "        if (typeof require !== 'undefined') {\n",
       "        require.undef(\"plotly\");\n",
       "        requirejs.config({\n",
       "            paths: {\n",
       "                'plotly': ['https://cdn.plot.ly/plotly-2.12.1.min']\n",
       "            }\n",
       "        });\n",
       "        require(['plotly'], function(Plotly) {\n",
       "            window._Plotly = Plotly;\n",
       "        });\n",
       "        }\n",
       "        </script>\n",
       "        "
      ]
     },
     "metadata": {},
     "output_type": "display_data"
    },
    {
     "data": {
      "application/vnd.plotly.v1+json": {
       "config": {
        "plotlyServerURL": "https://plot.ly"
       },
       "data": [
        {
         "customdata": [
          [
           " Banana",
           " Large Lemon"
          ],
          [
           " Large Lemon",
           " Banana"
          ],
          [
           " Organic Baby Spinach",
           " Banana"
          ],
          [
           " Banana",
           " Organic Baby Spinach"
          ],
          [
           " Organic Baby Spinach",
           " Bag of Organic Bananas"
          ],
          [
           " Bag of Organic Bananas",
           " Organic Baby Spinach"
          ],
          [
           " Organic Baby Spinach",
           " Organic Strawberries"
          ],
          [
           " Organic Strawberries",
           " Organic Baby Spinach"
          ],
          [
           " Limes",
           " Large Lemon"
          ],
          [
           " Large Lemon",
           " Limes"
          ],
          [
           " Organic Strawberries",
           " Bag of Organic Bananas"
          ],
          [
           " Bag of Organic Bananas",
           " Organic Strawberries"
          ],
          [
           " Banana",
           " Organic Strawberries"
          ],
          [
           " Organic Strawberries",
           " Banana"
          ],
          [
           " Strawberries",
           " Banana"
          ],
          [
           " Banana",
           " Strawberries"
          ],
          [
           " Organic Avocado",
           " Banana"
          ],
          [
           " Banana",
           " Organic Avocado"
          ],
          [
           " Organic Strawberries",
           " Organic Raspberries"
          ],
          [
           " Organic Raspberries",
           " Organic Strawberries"
          ],
          [
           " Organic Hass Avocado",
           " Bag of Organic Bananas"
          ],
          [
           " Bag of Organic Bananas",
           " Organic Hass Avocado"
          ],
          [
           " Organic Hass Avocado",
           " Organic Strawberries"
          ],
          [
           " Organic Strawberries",
           " Organic Hass Avocado"
          ],
          [
           " Bag",
           " Clementines"
          ],
          [
           " Clementines",
           " Bag"
          ]
         ],
         "hovertemplate": "support=%{x}<br>confidence=%{y}<br>antecedents_short=%{text}<br>antecedents=%{customdata[0]}<br>consequents=%{customdata[1]}<br>lift=%{marker.color}<extra></extra>",
         "legendgroup": "",
         "marker": {
          "color": [
           1.8864612467850763,
           1.8864612467850763,
           1.437068603058768,
           1.437068603058768,
           2.041772812594218,
           2.041772812594218,
           2.183957003478587,
           2.1839570034785876,
           4.418647732159217,
           4.418647732159217,
           2.4737511474186724,
           2.4737511474186724,
           1.4279451514625776,
           1.4279451514625776,
           2.110086992370901,
           2.110086992370901,
           2.119831014674758,
           2.1198310146747583,
           3.807845400766216,
           3.807845400766216,
           2.8474018029531147,
           2.8474018029531147,
           2.7284250784460826,
           2.7284250784460826,
           39.571150329111674,
           39.571150329111674
          ],
          "coloraxis": "coloraxis",
          "opacity": 0.5,
          "symbol": "circle"
         },
         "mode": "markers+text",
         "name": "",
         "orientation": "v",
         "showlegend": false,
         "text": [
          " Banana",
          " Large Lem",
          " Organic B",
          " Banana",
          " Organic B",
          " Bag of Or",
          " Organic B",
          " Organic S",
          " Limes",
          " Large Lem",
          " Organic S",
          " Bag of Or",
          " Banana",
          " Organic S",
          " Strawberr",
          " Banana",
          " Organic A",
          " Banana",
          " Organic S",
          " Organic R",
          " Organic H",
          " Bag of Or",
          " Organic H",
          " Organic S",
          " Bag",
          " Clementin"
         ],
         "textposition": "top center",
         "type": "scatter",
         "x": [
          0.011767485462125311,
          0.011767485462125311,
          0.010570921202051688,
          0.010570921202051688,
          0.012255256880244496,
          0.012255256880244496,
          0.011302578329230465,
          0.011302578329230465,
          0.01098247833608975,
          0.01098247833608975,
          0.01664519964331715,
          0.01664519964331715,
          0.011775106890533424,
          0.011775106890533424,
          0.010075528355524393,
          0.010075528355524393,
          0.01121874261674123,
          0.01121874261674123,
          0.011028206906538423,
          0.011028206906538423,
          0.012453414018855413,
          0.012453414018855413,
          0.010288928350951536,
          0.010288928350951536,
          0.010464221204338117,
          0.010464221204338117
         ],
         "xaxis": "x",
         "y": [
          0.10869412178810277,
          0.20423280423280424,
          0.15558048233314636,
          0.09764167546638507,
          0.18037016264722378,
          0.13872832369942195,
          0.1663488502523836,
          0.14838903342005205,
          0.25459363957597175,
          0.19060846560846562,
          0.2185311186712027,
          0.18842205159175218,
          0.10876451953537486,
          0.15459275565339203,
          0.22844306203559703,
          0.0930658218936994,
          0.22949797318366072,
          0.10362548398451249,
          0.14478687212327396,
          0.2900380837843255,
          0.25153940886699505,
          0.14097144336122852,
          0.207820197044335,
          0.13508104862917752,
          0.7295430393198724,
          0.5675899131872675
         ],
         "yaxis": "y"
        }
       ],
       "layout": {
        "coloraxis": {
         "colorbar": {
          "title": {
           "text": "lift"
          }
         },
         "colorscale": [
          [
           0,
           "#0d0887"
          ],
          [
           0.1111111111111111,
           "#46039f"
          ],
          [
           0.2222222222222222,
           "#7201a8"
          ],
          [
           0.3333333333333333,
           "#9c179e"
          ],
          [
           0.4444444444444444,
           "#bd3786"
          ],
          [
           0.5555555555555556,
           "#d8576b"
          ],
          [
           0.6666666666666666,
           "#ed7953"
          ],
          [
           0.7777777777777778,
           "#fb9f3a"
          ],
          [
           0.8888888888888888,
           "#fdca26"
          ],
          [
           1,
           "#f0f921"
          ]
         ]
        },
        "height": 800,
        "legend": {
         "tracegroupgap": 0
        },
        "margin": {
         "t": 60
        },
        "plot_bgcolor": "rgb(240,240,240)",
        "template": {
         "data": {
          "bar": [
           {
            "error_x": {
             "color": "#2a3f5f"
            },
            "error_y": {
             "color": "#2a3f5f"
            },
            "marker": {
             "line": {
              "color": "#E5ECF6",
              "width": 0.5
             },
             "pattern": {
              "fillmode": "overlay",
              "size": 10,
              "solidity": 0.2
             }
            },
            "type": "bar"
           }
          ],
          "barpolar": [
           {
            "marker": {
             "line": {
              "color": "#E5ECF6",
              "width": 0.5
             },
             "pattern": {
              "fillmode": "overlay",
              "size": 10,
              "solidity": 0.2
             }
            },
            "type": "barpolar"
           }
          ],
          "carpet": [
           {
            "aaxis": {
             "endlinecolor": "#2a3f5f",
             "gridcolor": "white",
             "linecolor": "white",
             "minorgridcolor": "white",
             "startlinecolor": "#2a3f5f"
            },
            "baxis": {
             "endlinecolor": "#2a3f5f",
             "gridcolor": "white",
             "linecolor": "white",
             "minorgridcolor": "white",
             "startlinecolor": "#2a3f5f"
            },
            "type": "carpet"
           }
          ],
          "choropleth": [
           {
            "colorbar": {
             "outlinewidth": 0,
             "ticks": ""
            },
            "type": "choropleth"
           }
          ],
          "contour": [
           {
            "colorbar": {
             "outlinewidth": 0,
             "ticks": ""
            },
            "colorscale": [
             [
              0,
              "#0d0887"
             ],
             [
              0.1111111111111111,
              "#46039f"
             ],
             [
              0.2222222222222222,
              "#7201a8"
             ],
             [
              0.3333333333333333,
              "#9c179e"
             ],
             [
              0.4444444444444444,
              "#bd3786"
             ],
             [
              0.5555555555555556,
              "#d8576b"
             ],
             [
              0.6666666666666666,
              "#ed7953"
             ],
             [
              0.7777777777777778,
              "#fb9f3a"
             ],
             [
              0.8888888888888888,
              "#fdca26"
             ],
             [
              1,
              "#f0f921"
             ]
            ],
            "type": "contour"
           }
          ],
          "contourcarpet": [
           {
            "colorbar": {
             "outlinewidth": 0,
             "ticks": ""
            },
            "type": "contourcarpet"
           }
          ],
          "heatmap": [
           {
            "colorbar": {
             "outlinewidth": 0,
             "ticks": ""
            },
            "colorscale": [
             [
              0,
              "#0d0887"
             ],
             [
              0.1111111111111111,
              "#46039f"
             ],
             [
              0.2222222222222222,
              "#7201a8"
             ],
             [
              0.3333333333333333,
              "#9c179e"
             ],
             [
              0.4444444444444444,
              "#bd3786"
             ],
             [
              0.5555555555555556,
              "#d8576b"
             ],
             [
              0.6666666666666666,
              "#ed7953"
             ],
             [
              0.7777777777777778,
              "#fb9f3a"
             ],
             [
              0.8888888888888888,
              "#fdca26"
             ],
             [
              1,
              "#f0f921"
             ]
            ],
            "type": "heatmap"
           }
          ],
          "heatmapgl": [
           {
            "colorbar": {
             "outlinewidth": 0,
             "ticks": ""
            },
            "colorscale": [
             [
              0,
              "#0d0887"
             ],
             [
              0.1111111111111111,
              "#46039f"
             ],
             [
              0.2222222222222222,
              "#7201a8"
             ],
             [
              0.3333333333333333,
              "#9c179e"
             ],
             [
              0.4444444444444444,
              "#bd3786"
             ],
             [
              0.5555555555555556,
              "#d8576b"
             ],
             [
              0.6666666666666666,
              "#ed7953"
             ],
             [
              0.7777777777777778,
              "#fb9f3a"
             ],
             [
              0.8888888888888888,
              "#fdca26"
             ],
             [
              1,
              "#f0f921"
             ]
            ],
            "type": "heatmapgl"
           }
          ],
          "histogram": [
           {
            "marker": {
             "pattern": {
              "fillmode": "overlay",
              "size": 10,
              "solidity": 0.2
             }
            },
            "type": "histogram"
           }
          ],
          "histogram2d": [
           {
            "colorbar": {
             "outlinewidth": 0,
             "ticks": ""
            },
            "colorscale": [
             [
              0,
              "#0d0887"
             ],
             [
              0.1111111111111111,
              "#46039f"
             ],
             [
              0.2222222222222222,
              "#7201a8"
             ],
             [
              0.3333333333333333,
              "#9c179e"
             ],
             [
              0.4444444444444444,
              "#bd3786"
             ],
             [
              0.5555555555555556,
              "#d8576b"
             ],
             [
              0.6666666666666666,
              "#ed7953"
             ],
             [
              0.7777777777777778,
              "#fb9f3a"
             ],
             [
              0.8888888888888888,
              "#fdca26"
             ],
             [
              1,
              "#f0f921"
             ]
            ],
            "type": "histogram2d"
           }
          ],
          "histogram2dcontour": [
           {
            "colorbar": {
             "outlinewidth": 0,
             "ticks": ""
            },
            "colorscale": [
             [
              0,
              "#0d0887"
             ],
             [
              0.1111111111111111,
              "#46039f"
             ],
             [
              0.2222222222222222,
              "#7201a8"
             ],
             [
              0.3333333333333333,
              "#9c179e"
             ],
             [
              0.4444444444444444,
              "#bd3786"
             ],
             [
              0.5555555555555556,
              "#d8576b"
             ],
             [
              0.6666666666666666,
              "#ed7953"
             ],
             [
              0.7777777777777778,
              "#fb9f3a"
             ],
             [
              0.8888888888888888,
              "#fdca26"
             ],
             [
              1,
              "#f0f921"
             ]
            ],
            "type": "histogram2dcontour"
           }
          ],
          "mesh3d": [
           {
            "colorbar": {
             "outlinewidth": 0,
             "ticks": ""
            },
            "type": "mesh3d"
           }
          ],
          "parcoords": [
           {
            "line": {
             "colorbar": {
              "outlinewidth": 0,
              "ticks": ""
             }
            },
            "type": "parcoords"
           }
          ],
          "pie": [
           {
            "automargin": true,
            "type": "pie"
           }
          ],
          "scatter": [
           {
            "fillpattern": {
             "fillmode": "overlay",
             "size": 10,
             "solidity": 0.2
            },
            "type": "scatter"
           }
          ],
          "scatter3d": [
           {
            "line": {
             "colorbar": {
              "outlinewidth": 0,
              "ticks": ""
             }
            },
            "marker": {
             "colorbar": {
              "outlinewidth": 0,
              "ticks": ""
             }
            },
            "type": "scatter3d"
           }
          ],
          "scattercarpet": [
           {
            "marker": {
             "colorbar": {
              "outlinewidth": 0,
              "ticks": ""
             }
            },
            "type": "scattercarpet"
           }
          ],
          "scattergeo": [
           {
            "marker": {
             "colorbar": {
              "outlinewidth": 0,
              "ticks": ""
             }
            },
            "type": "scattergeo"
           }
          ],
          "scattergl": [
           {
            "marker": {
             "colorbar": {
              "outlinewidth": 0,
              "ticks": ""
             }
            },
            "type": "scattergl"
           }
          ],
          "scattermapbox": [
           {
            "marker": {
             "colorbar": {
              "outlinewidth": 0,
              "ticks": ""
             }
            },
            "type": "scattermapbox"
           }
          ],
          "scatterpolar": [
           {
            "marker": {
             "colorbar": {
              "outlinewidth": 0,
              "ticks": ""
             }
            },
            "type": "scatterpolar"
           }
          ],
          "scatterpolargl": [
           {
            "marker": {
             "colorbar": {
              "outlinewidth": 0,
              "ticks": ""
             }
            },
            "type": "scatterpolargl"
           }
          ],
          "scatterternary": [
           {
            "marker": {
             "colorbar": {
              "outlinewidth": 0,
              "ticks": ""
             }
            },
            "type": "scatterternary"
           }
          ],
          "surface": [
           {
            "colorbar": {
             "outlinewidth": 0,
             "ticks": ""
            },
            "colorscale": [
             [
              0,
              "#0d0887"
             ],
             [
              0.1111111111111111,
              "#46039f"
             ],
             [
              0.2222222222222222,
              "#7201a8"
             ],
             [
              0.3333333333333333,
              "#9c179e"
             ],
             [
              0.4444444444444444,
              "#bd3786"
             ],
             [
              0.5555555555555556,
              "#d8576b"
             ],
             [
              0.6666666666666666,
              "#ed7953"
             ],
             [
              0.7777777777777778,
              "#fb9f3a"
             ],
             [
              0.8888888888888888,
              "#fdca26"
             ],
             [
              1,
              "#f0f921"
             ]
            ],
            "type": "surface"
           }
          ],
          "table": [
           {
            "cells": {
             "fill": {
              "color": "#EBF0F8"
             },
             "line": {
              "color": "white"
             }
            },
            "header": {
             "fill": {
              "color": "#C8D4E3"
             },
             "line": {
              "color": "white"
             }
            },
            "type": "table"
           }
          ]
         },
         "layout": {
          "annotationdefaults": {
           "arrowcolor": "#2a3f5f",
           "arrowhead": 0,
           "arrowwidth": 1
          },
          "autotypenumbers": "strict",
          "coloraxis": {
           "colorbar": {
            "outlinewidth": 0,
            "ticks": ""
           }
          },
          "colorscale": {
           "diverging": [
            [
             0,
             "#8e0152"
            ],
            [
             0.1,
             "#c51b7d"
            ],
            [
             0.2,
             "#de77ae"
            ],
            [
             0.3,
             "#f1b6da"
            ],
            [
             0.4,
             "#fde0ef"
            ],
            [
             0.5,
             "#f7f7f7"
            ],
            [
             0.6,
             "#e6f5d0"
            ],
            [
             0.7,
             "#b8e186"
            ],
            [
             0.8,
             "#7fbc41"
            ],
            [
             0.9,
             "#4d9221"
            ],
            [
             1,
             "#276419"
            ]
           ],
           "sequential": [
            [
             0,
             "#0d0887"
            ],
            [
             0.1111111111111111,
             "#46039f"
            ],
            [
             0.2222222222222222,
             "#7201a8"
            ],
            [
             0.3333333333333333,
             "#9c179e"
            ],
            [
             0.4444444444444444,
             "#bd3786"
            ],
            [
             0.5555555555555556,
             "#d8576b"
            ],
            [
             0.6666666666666666,
             "#ed7953"
            ],
            [
             0.7777777777777778,
             "#fb9f3a"
            ],
            [
             0.8888888888888888,
             "#fdca26"
            ],
            [
             1,
             "#f0f921"
            ]
           ],
           "sequentialminus": [
            [
             0,
             "#0d0887"
            ],
            [
             0.1111111111111111,
             "#46039f"
            ],
            [
             0.2222222222222222,
             "#7201a8"
            ],
            [
             0.3333333333333333,
             "#9c179e"
            ],
            [
             0.4444444444444444,
             "#bd3786"
            ],
            [
             0.5555555555555556,
             "#d8576b"
            ],
            [
             0.6666666666666666,
             "#ed7953"
            ],
            [
             0.7777777777777778,
             "#fb9f3a"
            ],
            [
             0.8888888888888888,
             "#fdca26"
            ],
            [
             1,
             "#f0f921"
            ]
           ]
          },
          "colorway": [
           "#636efa",
           "#EF553B",
           "#00cc96",
           "#ab63fa",
           "#FFA15A",
           "#19d3f3",
           "#FF6692",
           "#B6E880",
           "#FF97FF",
           "#FECB52"
          ],
          "font": {
           "color": "#2a3f5f"
          },
          "geo": {
           "bgcolor": "white",
           "lakecolor": "white",
           "landcolor": "#E5ECF6",
           "showlakes": true,
           "showland": true,
           "subunitcolor": "white"
          },
          "hoverlabel": {
           "align": "left"
          },
          "hovermode": "closest",
          "mapbox": {
           "style": "light"
          },
          "paper_bgcolor": "white",
          "plot_bgcolor": "#E5ECF6",
          "polar": {
           "angularaxis": {
            "gridcolor": "white",
            "linecolor": "white",
            "ticks": ""
           },
           "bgcolor": "#E5ECF6",
           "radialaxis": {
            "gridcolor": "white",
            "linecolor": "white",
            "ticks": ""
           }
          },
          "scene": {
           "xaxis": {
            "backgroundcolor": "#E5ECF6",
            "gridcolor": "white",
            "gridwidth": 2,
            "linecolor": "white",
            "showbackground": true,
            "ticks": "",
            "zerolinecolor": "white"
           },
           "yaxis": {
            "backgroundcolor": "#E5ECF6",
            "gridcolor": "white",
            "gridwidth": 2,
            "linecolor": "white",
            "showbackground": true,
            "ticks": "",
            "zerolinecolor": "white"
           },
           "zaxis": {
            "backgroundcolor": "#E5ECF6",
            "gridcolor": "white",
            "gridwidth": 2,
            "linecolor": "white",
            "showbackground": true,
            "ticks": "",
            "zerolinecolor": "white"
           }
          },
          "shapedefaults": {
           "line": {
            "color": "#2a3f5f"
           }
          },
          "ternary": {
           "aaxis": {
            "gridcolor": "white",
            "linecolor": "white",
            "ticks": ""
           },
           "baxis": {
            "gridcolor": "white",
            "linecolor": "white",
            "ticks": ""
           },
           "bgcolor": "#E5ECF6",
           "caxis": {
            "gridcolor": "white",
            "linecolor": "white",
            "ticks": ""
           }
          },
          "title": {
           "x": 0.05
          },
          "xaxis": {
           "automargin": true,
           "gridcolor": "white",
           "linecolor": "white",
           "ticks": "",
           "title": {
            "standoff": 15
           },
           "zerolinecolor": "white",
           "zerolinewidth": 2
          },
          "yaxis": {
           "automargin": true,
           "gridcolor": "white",
           "linecolor": "white",
           "ticks": "",
           "title": {
            "standoff": 15
           },
           "zerolinecolor": "white",
           "zerolinewidth": 2
          }
         }
        },
        "title": {
         "text": "2D Plot of Support, Confidence and Lift"
        },
        "xaxis": {
         "anchor": "y",
         "domain": [
          0,
          1
         ],
         "title": {
          "text": "support"
         },
         "type": "log"
        },
        "yaxis": {
         "anchor": "x",
         "domain": [
          0,
          1
         ],
         "title": {
          "text": "confidence"
         }
        }
       }
      },
      "text/html": [
       "<div>                            <div id=\"207e88da-870d-4025-9f76-e45c76881d60\" class=\"plotly-graph-div\" style=\"height:800px; width:100%;\"></div>            <script type=\"text/javascript\">                require([\"plotly\"], function(Plotly) {                    window.PLOTLYENV=window.PLOTLYENV || {};                                    if (document.getElementById(\"207e88da-870d-4025-9f76-e45c76881d60\")) {                    Plotly.newPlot(                        \"207e88da-870d-4025-9f76-e45c76881d60\",                        [{\"customdata\":[[\" Banana\",\" Large Lemon\"],[\" Large Lemon\",\" Banana\"],[\" Organic Baby Spinach\",\" Banana\"],[\" Banana\",\" Organic Baby Spinach\"],[\" Organic Baby Spinach\",\" Bag of Organic Bananas\"],[\" Bag of Organic Bananas\",\" Organic Baby Spinach\"],[\" Organic Baby Spinach\",\" Organic Strawberries\"],[\" Organic Strawberries\",\" Organic Baby Spinach\"],[\" Limes\",\" Large Lemon\"],[\" Large Lemon\",\" Limes\"],[\" Organic Strawberries\",\" Bag of Organic Bananas\"],[\" Bag of Organic Bananas\",\" Organic Strawberries\"],[\" Banana\",\" Organic Strawberries\"],[\" Organic Strawberries\",\" Banana\"],[\" Strawberries\",\" Banana\"],[\" Banana\",\" Strawberries\"],[\" Organic Avocado\",\" Banana\"],[\" Banana\",\" Organic Avocado\"],[\" Organic Strawberries\",\" Organic Raspberries\"],[\" Organic Raspberries\",\" Organic Strawberries\"],[\" Organic Hass Avocado\",\" Bag of Organic Bananas\"],[\" Bag of Organic Bananas\",\" Organic Hass Avocado\"],[\" Organic Hass Avocado\",\" Organic Strawberries\"],[\" Organic Strawberries\",\" Organic Hass Avocado\"],[\" Bag\",\" Clementines\"],[\" Clementines\",\" Bag\"]],\"hovertemplate\":\"support=%{x}<br>confidence=%{y}<br>antecedents_short=%{text}<br>antecedents=%{customdata[0]}<br>consequents=%{customdata[1]}<br>lift=%{marker.color}<extra></extra>\",\"legendgroup\":\"\",\"marker\":{\"color\":[1.8864612467850763,1.8864612467850763,1.437068603058768,1.437068603058768,2.041772812594218,2.041772812594218,2.183957003478587,2.1839570034785876,4.418647732159217,4.418647732159217,2.4737511474186724,2.4737511474186724,1.4279451514625776,1.4279451514625776,2.110086992370901,2.110086992370901,2.119831014674758,2.1198310146747583,3.807845400766216,3.807845400766216,2.8474018029531147,2.8474018029531147,2.7284250784460826,2.7284250784460826,39.571150329111674,39.571150329111674],\"coloraxis\":\"coloraxis\",\"opacity\":0.5,\"symbol\":\"circle\"},\"mode\":\"markers+text\",\"name\":\"\",\"orientation\":\"v\",\"showlegend\":false,\"text\":[\" Banana\",\" Large Lem\",\" Organic B\",\" Banana\",\" Organic B\",\" Bag of Or\",\" Organic B\",\" Organic S\",\" Limes\",\" Large Lem\",\" Organic S\",\" Bag of Or\",\" Banana\",\" Organic S\",\" Strawberr\",\" Banana\",\" Organic A\",\" Banana\",\" Organic S\",\" Organic R\",\" Organic H\",\" Bag of Or\",\" Organic H\",\" Organic S\",\" Bag\",\" Clementin\"],\"x\":[0.011767485462125311,0.011767485462125311,0.010570921202051688,0.010570921202051688,0.012255256880244496,0.012255256880244496,0.011302578329230465,0.011302578329230465,0.01098247833608975,0.01098247833608975,0.01664519964331715,0.01664519964331715,0.011775106890533424,0.011775106890533424,0.010075528355524393,0.010075528355524393,0.01121874261674123,0.01121874261674123,0.011028206906538423,0.011028206906538423,0.012453414018855413,0.012453414018855413,0.010288928350951536,0.010288928350951536,0.010464221204338117,0.010464221204338117],\"xaxis\":\"x\",\"y\":[0.10869412178810277,0.20423280423280424,0.15558048233314636,0.09764167546638507,0.18037016264722378,0.13872832369942195,0.1663488502523836,0.14838903342005205,0.25459363957597175,0.19060846560846562,0.2185311186712027,0.18842205159175218,0.10876451953537486,0.15459275565339203,0.22844306203559703,0.0930658218936994,0.22949797318366072,0.10362548398451249,0.14478687212327396,0.2900380837843255,0.25153940886699505,0.14097144336122852,0.207820197044335,0.13508104862917752,0.7295430393198724,0.5675899131872675],\"yaxis\":\"y\",\"type\":\"scatter\",\"textposition\":\"top center\"}],                        {\"template\":{\"data\":{\"histogram2dcontour\":[{\"type\":\"histogram2dcontour\",\"colorbar\":{\"outlinewidth\":0,\"ticks\":\"\"},\"colorscale\":[[0.0,\"#0d0887\"],[0.1111111111111111,\"#46039f\"],[0.2222222222222222,\"#7201a8\"],[0.3333333333333333,\"#9c179e\"],[0.4444444444444444,\"#bd3786\"],[0.5555555555555556,\"#d8576b\"],[0.6666666666666666,\"#ed7953\"],[0.7777777777777778,\"#fb9f3a\"],[0.8888888888888888,\"#fdca26\"],[1.0,\"#f0f921\"]]}],\"choropleth\":[{\"type\":\"choropleth\",\"colorbar\":{\"outlinewidth\":0,\"ticks\":\"\"}}],\"histogram2d\":[{\"type\":\"histogram2d\",\"colorbar\":{\"outlinewidth\":0,\"ticks\":\"\"},\"colorscale\":[[0.0,\"#0d0887\"],[0.1111111111111111,\"#46039f\"],[0.2222222222222222,\"#7201a8\"],[0.3333333333333333,\"#9c179e\"],[0.4444444444444444,\"#bd3786\"],[0.5555555555555556,\"#d8576b\"],[0.6666666666666666,\"#ed7953\"],[0.7777777777777778,\"#fb9f3a\"],[0.8888888888888888,\"#fdca26\"],[1.0,\"#f0f921\"]]}],\"heatmap\":[{\"type\":\"heatmap\",\"colorbar\":{\"outlinewidth\":0,\"ticks\":\"\"},\"colorscale\":[[0.0,\"#0d0887\"],[0.1111111111111111,\"#46039f\"],[0.2222222222222222,\"#7201a8\"],[0.3333333333333333,\"#9c179e\"],[0.4444444444444444,\"#bd3786\"],[0.5555555555555556,\"#d8576b\"],[0.6666666666666666,\"#ed7953\"],[0.7777777777777778,\"#fb9f3a\"],[0.8888888888888888,\"#fdca26\"],[1.0,\"#f0f921\"]]}],\"heatmapgl\":[{\"type\":\"heatmapgl\",\"colorbar\":{\"outlinewidth\":0,\"ticks\":\"\"},\"colorscale\":[[0.0,\"#0d0887\"],[0.1111111111111111,\"#46039f\"],[0.2222222222222222,\"#7201a8\"],[0.3333333333333333,\"#9c179e\"],[0.4444444444444444,\"#bd3786\"],[0.5555555555555556,\"#d8576b\"],[0.6666666666666666,\"#ed7953\"],[0.7777777777777778,\"#fb9f3a\"],[0.8888888888888888,\"#fdca26\"],[1.0,\"#f0f921\"]]}],\"contourcarpet\":[{\"type\":\"contourcarpet\",\"colorbar\":{\"outlinewidth\":0,\"ticks\":\"\"}}],\"contour\":[{\"type\":\"contour\",\"colorbar\":{\"outlinewidth\":0,\"ticks\":\"\"},\"colorscale\":[[0.0,\"#0d0887\"],[0.1111111111111111,\"#46039f\"],[0.2222222222222222,\"#7201a8\"],[0.3333333333333333,\"#9c179e\"],[0.4444444444444444,\"#bd3786\"],[0.5555555555555556,\"#d8576b\"],[0.6666666666666666,\"#ed7953\"],[0.7777777777777778,\"#fb9f3a\"],[0.8888888888888888,\"#fdca26\"],[1.0,\"#f0f921\"]]}],\"surface\":[{\"type\":\"surface\",\"colorbar\":{\"outlinewidth\":0,\"ticks\":\"\"},\"colorscale\":[[0.0,\"#0d0887\"],[0.1111111111111111,\"#46039f\"],[0.2222222222222222,\"#7201a8\"],[0.3333333333333333,\"#9c179e\"],[0.4444444444444444,\"#bd3786\"],[0.5555555555555556,\"#d8576b\"],[0.6666666666666666,\"#ed7953\"],[0.7777777777777778,\"#fb9f3a\"],[0.8888888888888888,\"#fdca26\"],[1.0,\"#f0f921\"]]}],\"mesh3d\":[{\"type\":\"mesh3d\",\"colorbar\":{\"outlinewidth\":0,\"ticks\":\"\"}}],\"scatter\":[{\"fillpattern\":{\"fillmode\":\"overlay\",\"size\":10,\"solidity\":0.2},\"type\":\"scatter\"}],\"parcoords\":[{\"type\":\"parcoords\",\"line\":{\"colorbar\":{\"outlinewidth\":0,\"ticks\":\"\"}}}],\"scatterpolargl\":[{\"type\":\"scatterpolargl\",\"marker\":{\"colorbar\":{\"outlinewidth\":0,\"ticks\":\"\"}}}],\"bar\":[{\"error_x\":{\"color\":\"#2a3f5f\"},\"error_y\":{\"color\":\"#2a3f5f\"},\"marker\":{\"line\":{\"color\":\"#E5ECF6\",\"width\":0.5},\"pattern\":{\"fillmode\":\"overlay\",\"size\":10,\"solidity\":0.2}},\"type\":\"bar\"}],\"scattergeo\":[{\"type\":\"scattergeo\",\"marker\":{\"colorbar\":{\"outlinewidth\":0,\"ticks\":\"\"}}}],\"scatterpolar\":[{\"type\":\"scatterpolar\",\"marker\":{\"colorbar\":{\"outlinewidth\":0,\"ticks\":\"\"}}}],\"histogram\":[{\"marker\":{\"pattern\":{\"fillmode\":\"overlay\",\"size\":10,\"solidity\":0.2}},\"type\":\"histogram\"}],\"scattergl\":[{\"type\":\"scattergl\",\"marker\":{\"colorbar\":{\"outlinewidth\":0,\"ticks\":\"\"}}}],\"scatter3d\":[{\"type\":\"scatter3d\",\"line\":{\"colorbar\":{\"outlinewidth\":0,\"ticks\":\"\"}},\"marker\":{\"colorbar\":{\"outlinewidth\":0,\"ticks\":\"\"}}}],\"scattermapbox\":[{\"type\":\"scattermapbox\",\"marker\":{\"colorbar\":{\"outlinewidth\":0,\"ticks\":\"\"}}}],\"scatterternary\":[{\"type\":\"scatterternary\",\"marker\":{\"colorbar\":{\"outlinewidth\":0,\"ticks\":\"\"}}}],\"scattercarpet\":[{\"type\":\"scattercarpet\",\"marker\":{\"colorbar\":{\"outlinewidth\":0,\"ticks\":\"\"}}}],\"carpet\":[{\"aaxis\":{\"endlinecolor\":\"#2a3f5f\",\"gridcolor\":\"white\",\"linecolor\":\"white\",\"minorgridcolor\":\"white\",\"startlinecolor\":\"#2a3f5f\"},\"baxis\":{\"endlinecolor\":\"#2a3f5f\",\"gridcolor\":\"white\",\"linecolor\":\"white\",\"minorgridcolor\":\"white\",\"startlinecolor\":\"#2a3f5f\"},\"type\":\"carpet\"}],\"table\":[{\"cells\":{\"fill\":{\"color\":\"#EBF0F8\"},\"line\":{\"color\":\"white\"}},\"header\":{\"fill\":{\"color\":\"#C8D4E3\"},\"line\":{\"color\":\"white\"}},\"type\":\"table\"}],\"barpolar\":[{\"marker\":{\"line\":{\"color\":\"#E5ECF6\",\"width\":0.5},\"pattern\":{\"fillmode\":\"overlay\",\"size\":10,\"solidity\":0.2}},\"type\":\"barpolar\"}],\"pie\":[{\"automargin\":true,\"type\":\"pie\"}]},\"layout\":{\"autotypenumbers\":\"strict\",\"colorway\":[\"#636efa\",\"#EF553B\",\"#00cc96\",\"#ab63fa\",\"#FFA15A\",\"#19d3f3\",\"#FF6692\",\"#B6E880\",\"#FF97FF\",\"#FECB52\"],\"font\":{\"color\":\"#2a3f5f\"},\"hovermode\":\"closest\",\"hoverlabel\":{\"align\":\"left\"},\"paper_bgcolor\":\"white\",\"plot_bgcolor\":\"#E5ECF6\",\"polar\":{\"bgcolor\":\"#E5ECF6\",\"angularaxis\":{\"gridcolor\":\"white\",\"linecolor\":\"white\",\"ticks\":\"\"},\"radialaxis\":{\"gridcolor\":\"white\",\"linecolor\":\"white\",\"ticks\":\"\"}},\"ternary\":{\"bgcolor\":\"#E5ECF6\",\"aaxis\":{\"gridcolor\":\"white\",\"linecolor\":\"white\",\"ticks\":\"\"},\"baxis\":{\"gridcolor\":\"white\",\"linecolor\":\"white\",\"ticks\":\"\"},\"caxis\":{\"gridcolor\":\"white\",\"linecolor\":\"white\",\"ticks\":\"\"}},\"coloraxis\":{\"colorbar\":{\"outlinewidth\":0,\"ticks\":\"\"}},\"colorscale\":{\"sequential\":[[0.0,\"#0d0887\"],[0.1111111111111111,\"#46039f\"],[0.2222222222222222,\"#7201a8\"],[0.3333333333333333,\"#9c179e\"],[0.4444444444444444,\"#bd3786\"],[0.5555555555555556,\"#d8576b\"],[0.6666666666666666,\"#ed7953\"],[0.7777777777777778,\"#fb9f3a\"],[0.8888888888888888,\"#fdca26\"],[1.0,\"#f0f921\"]],\"sequentialminus\":[[0.0,\"#0d0887\"],[0.1111111111111111,\"#46039f\"],[0.2222222222222222,\"#7201a8\"],[0.3333333333333333,\"#9c179e\"],[0.4444444444444444,\"#bd3786\"],[0.5555555555555556,\"#d8576b\"],[0.6666666666666666,\"#ed7953\"],[0.7777777777777778,\"#fb9f3a\"],[0.8888888888888888,\"#fdca26\"],[1.0,\"#f0f921\"]],\"diverging\":[[0,\"#8e0152\"],[0.1,\"#c51b7d\"],[0.2,\"#de77ae\"],[0.3,\"#f1b6da\"],[0.4,\"#fde0ef\"],[0.5,\"#f7f7f7\"],[0.6,\"#e6f5d0\"],[0.7,\"#b8e186\"],[0.8,\"#7fbc41\"],[0.9,\"#4d9221\"],[1,\"#276419\"]]},\"xaxis\":{\"gridcolor\":\"white\",\"linecolor\":\"white\",\"ticks\":\"\",\"title\":{\"standoff\":15},\"zerolinecolor\":\"white\",\"automargin\":true,\"zerolinewidth\":2},\"yaxis\":{\"gridcolor\":\"white\",\"linecolor\":\"white\",\"ticks\":\"\",\"title\":{\"standoff\":15},\"zerolinecolor\":\"white\",\"automargin\":true,\"zerolinewidth\":2},\"scene\":{\"xaxis\":{\"backgroundcolor\":\"#E5ECF6\",\"gridcolor\":\"white\",\"linecolor\":\"white\",\"showbackground\":true,\"ticks\":\"\",\"zerolinecolor\":\"white\",\"gridwidth\":2},\"yaxis\":{\"backgroundcolor\":\"#E5ECF6\",\"gridcolor\":\"white\",\"linecolor\":\"white\",\"showbackground\":true,\"ticks\":\"\",\"zerolinecolor\":\"white\",\"gridwidth\":2},\"zaxis\":{\"backgroundcolor\":\"#E5ECF6\",\"gridcolor\":\"white\",\"linecolor\":\"white\",\"showbackground\":true,\"ticks\":\"\",\"zerolinecolor\":\"white\",\"gridwidth\":2}},\"shapedefaults\":{\"line\":{\"color\":\"#2a3f5f\"}},\"annotationdefaults\":{\"arrowcolor\":\"#2a3f5f\",\"arrowhead\":0,\"arrowwidth\":1},\"geo\":{\"bgcolor\":\"white\",\"landcolor\":\"#E5ECF6\",\"subunitcolor\":\"white\",\"showland\":true,\"showlakes\":true,\"lakecolor\":\"white\"},\"title\":{\"x\":0.05},\"mapbox\":{\"style\":\"light\"}}},\"xaxis\":{\"anchor\":\"y\",\"domain\":[0.0,1.0],\"title\":{\"text\":\"support\"},\"type\":\"log\"},\"yaxis\":{\"anchor\":\"x\",\"domain\":[0.0,1.0],\"title\":{\"text\":\"confidence\"}},\"coloraxis\":{\"colorbar\":{\"title\":{\"text\":\"lift\"}},\"colorscale\":[[0.0,\"#0d0887\"],[0.1111111111111111,\"#46039f\"],[0.2222222222222222,\"#7201a8\"],[0.3333333333333333,\"#9c179e\"],[0.4444444444444444,\"#bd3786\"],[0.5555555555555556,\"#d8576b\"],[0.6666666666666666,\"#ed7953\"],[0.7777777777777778,\"#fb9f3a\"],[0.8888888888888888,\"#fdca26\"],[1.0,\"#f0f921\"]]},\"legend\":{\"tracegroupgap\":0},\"margin\":{\"t\":60},\"plot_bgcolor\":\"rgb(240,240,240)\",\"title\":{\"text\":\"2D Plot of Support, Confidence and Lift\"},\"height\":800},                        {\"responsive\": true}                    ).then(function(){\n",
       "                            \n",
       "var gd = document.getElementById('207e88da-870d-4025-9f76-e45c76881d60');\n",
       "var x = new MutationObserver(function (mutations, observer) {{\n",
       "        var display = window.getComputedStyle(gd).display;\n",
       "        if (!display || display === 'none') {{\n",
       "            console.log([gd, 'removed!']);\n",
       "            Plotly.purge(gd);\n",
       "            observer.disconnect();\n",
       "        }}\n",
       "}});\n",
       "\n",
       "// Listen for the removal of the full notebook cells\n",
       "var notebookContainer = gd.closest('#notebook-container');\n",
       "if (notebookContainer) {{\n",
       "    x.observe(notebookContainer, {childList: true});\n",
       "}}\n",
       "\n",
       "// Listen for the clearing of the current output cell\n",
       "var outputEl = gd.closest('.output');\n",
       "if (outputEl) {{\n",
       "    x.observe(outputEl, {childList: true});\n",
       "}}\n",
       "\n",
       "                        })                };                });            </script>        </div>"
      ]
     },
     "metadata": {},
     "output_type": "display_data"
    }
   ],
   "source": [
    "plot_model(rule_FP, plot = '2d')"
   ]
  },
  {
   "cell_type": "code",
   "execution_count": 23,
   "metadata": {},
   "outputs": [
    {
     "data": {
      "text/html": [
       "        <script type=\"text/javascript\">\n",
       "        window.PlotlyConfig = {MathJaxConfig: 'local'};\n",
       "        if (window.MathJax && window.MathJax.Hub && window.MathJax.Hub.Config) {window.MathJax.Hub.Config({SVG: {font: \"STIX-Web\"}});}\n",
       "        if (typeof require !== 'undefined') {\n",
       "        require.undef(\"plotly\");\n",
       "        requirejs.config({\n",
       "            paths: {\n",
       "                'plotly': ['https://cdn.plot.ly/plotly-2.12.1.min']\n",
       "            }\n",
       "        });\n",
       "        require(['plotly'], function(Plotly) {\n",
       "            window._Plotly = Plotly;\n",
       "        });\n",
       "        }\n",
       "        </script>\n",
       "        "
      ]
     },
     "metadata": {},
     "output_type": "display_data"
    },
    {
     "data": {
      "application/vnd.plotly.v1+json": {
       "config": {
        "plotlyServerURL": "https://plot.ly"
       },
       "data": [
        {
         "customdata": [
          [
           " Banana",
           " Large Lemon"
          ],
          [
           " Large Lemon",
           " Banana"
          ],
          [
           " Organic Baby Spinach",
           " Banana"
          ],
          [
           " Banana",
           " Organic Baby Spinach"
          ],
          [
           " Organic Baby Spinach",
           " Bag of Organic Bananas"
          ],
          [
           " Bag of Organic Bananas",
           " Organic Baby Spinach"
          ],
          [
           " Organic Baby Spinach",
           " Organic Strawberries"
          ],
          [
           " Organic Strawberries",
           " Organic Baby Spinach"
          ],
          [
           " Limes",
           " Large Lemon"
          ],
          [
           " Large Lemon",
           " Limes"
          ],
          [
           " Organic Strawberries",
           " Bag of Organic Bananas"
          ],
          [
           " Bag of Organic Bananas",
           " Organic Strawberries"
          ],
          [
           " Banana",
           " Organic Strawberries"
          ],
          [
           " Organic Strawberries",
           " Banana"
          ],
          [
           " Strawberries",
           " Banana"
          ],
          [
           " Banana",
           " Strawberries"
          ],
          [
           " Organic Avocado",
           " Banana"
          ],
          [
           " Banana",
           " Organic Avocado"
          ],
          [
           " Organic Strawberries",
           " Organic Raspberries"
          ],
          [
           " Organic Raspberries",
           " Organic Strawberries"
          ],
          [
           " Organic Hass Avocado",
           " Bag of Organic Bananas"
          ],
          [
           " Bag of Organic Bananas",
           " Organic Hass Avocado"
          ],
          [
           " Organic Hass Avocado",
           " Organic Strawberries"
          ],
          [
           " Organic Strawberries",
           " Organic Hass Avocado"
          ],
          [
           " Bag",
           " Clementines"
          ],
          [
           " Clementines",
           " Bag"
          ]
         ],
         "hovertemplate": "support=%{x}<br>confidence=%{y}<br>lift=%{z}<br>antecedents=%{customdata[0]}<br>consequents=%{customdata[1]}<br>antecedent support=%{marker.color}<extra></extra>",
         "legendgroup": "",
         "marker": {
          "color": [
           0.10826239053723449,
           0.057617998765328596,
           0.0679450342583207,
           0.10826239053723449,
           0.0679450342583207,
           0.08833997667842908,
           0.0679450342583207,
           0.07616855551067381,
           0.043137284789915326,
           0.057617998765328596,
           0.07616855551067381,
           0.08833997667842908,
           0.10826239053723449,
           0.07616855551067381,
           0.044105206197745585,
           0.10826239053723449,
           0.04888384180963196,
           0.10826239053723449,
           0.07616855551067381,
           0.03802330632807201,
           0.04950879893909717,
           0.08833997667842908,
           0.04950879893909717,
           0.07616855551067381,
           0.014343528264067252,
           0.01843623531922353
          ],
          "coloraxis": "coloraxis",
          "opacity": 0.7,
          "symbol": "circle"
         },
         "mode": "markers",
         "name": "",
         "scene": "scene",
         "showlegend": false,
         "type": "scatter3d",
         "x": [
          0.011767485462125311,
          0.011767485462125311,
          0.010570921202051688,
          0.010570921202051688,
          0.012255256880244496,
          0.012255256880244496,
          0.011302578329230465,
          0.011302578329230465,
          0.01098247833608975,
          0.01098247833608975,
          0.01664519964331715,
          0.01664519964331715,
          0.011775106890533424,
          0.011775106890533424,
          0.010075528355524393,
          0.010075528355524393,
          0.01121874261674123,
          0.01121874261674123,
          0.011028206906538423,
          0.011028206906538423,
          0.012453414018855413,
          0.012453414018855413,
          0.010288928350951536,
          0.010288928350951536,
          0.010464221204338117,
          0.010464221204338117
         ],
         "y": [
          0.10869412178810277,
          0.20423280423280424,
          0.15558048233314636,
          0.09764167546638507,
          0.18037016264722378,
          0.13872832369942195,
          0.1663488502523836,
          0.14838903342005205,
          0.25459363957597175,
          0.19060846560846562,
          0.2185311186712027,
          0.18842205159175218,
          0.10876451953537486,
          0.15459275565339203,
          0.22844306203559703,
          0.0930658218936994,
          0.22949797318366072,
          0.10362548398451249,
          0.14478687212327396,
          0.2900380837843255,
          0.25153940886699505,
          0.14097144336122852,
          0.207820197044335,
          0.13508104862917752,
          0.7295430393198724,
          0.5675899131872675
         ],
         "z": [
          1.8864612467850763,
          1.8864612467850763,
          1.437068603058768,
          1.437068603058768,
          2.041772812594218,
          2.041772812594218,
          2.183957003478587,
          2.1839570034785876,
          4.418647732159217,
          4.418647732159217,
          2.4737511474186724,
          2.4737511474186724,
          1.4279451514625776,
          1.4279451514625776,
          2.110086992370901,
          2.110086992370901,
          2.119831014674758,
          2.1198310146747583,
          3.807845400766216,
          3.807845400766216,
          2.8474018029531147,
          2.8474018029531147,
          2.7284250784460826,
          2.7284250784460826,
          39.571150329111674,
          39.571150329111674
         ]
        }
       ],
       "layout": {
        "coloraxis": {
         "colorbar": {
          "title": {
           "text": "antecedent support"
          }
         },
         "colorscale": [
          [
           0,
           "#0d0887"
          ],
          [
           0.1111111111111111,
           "#46039f"
          ],
          [
           0.2222222222222222,
           "#7201a8"
          ],
          [
           0.3333333333333333,
           "#9c179e"
          ],
          [
           0.4444444444444444,
           "#bd3786"
          ],
          [
           0.5555555555555556,
           "#d8576b"
          ],
          [
           0.6666666666666666,
           "#ed7953"
          ],
          [
           0.7777777777777778,
           "#fb9f3a"
          ],
          [
           0.8888888888888888,
           "#fdca26"
          ],
          [
           1,
           "#f0f921"
          ]
         ]
        },
        "height": 800,
        "legend": {
         "tracegroupgap": 0
        },
        "scene": {
         "domain": {
          "x": [
           0,
           1
          ],
          "y": [
           0,
           1
          ]
         },
         "xaxis": {
          "title": {
           "text": "support"
          }
         },
         "yaxis": {
          "title": {
           "text": "confidence"
          }
         },
         "zaxis": {
          "title": {
           "text": "lift"
          }
         }
        },
        "template": {
         "data": {
          "bar": [
           {
            "error_x": {
             "color": "#2a3f5f"
            },
            "error_y": {
             "color": "#2a3f5f"
            },
            "marker": {
             "line": {
              "color": "#E5ECF6",
              "width": 0.5
             },
             "pattern": {
              "fillmode": "overlay",
              "size": 10,
              "solidity": 0.2
             }
            },
            "type": "bar"
           }
          ],
          "barpolar": [
           {
            "marker": {
             "line": {
              "color": "#E5ECF6",
              "width": 0.5
             },
             "pattern": {
              "fillmode": "overlay",
              "size": 10,
              "solidity": 0.2
             }
            },
            "type": "barpolar"
           }
          ],
          "carpet": [
           {
            "aaxis": {
             "endlinecolor": "#2a3f5f",
             "gridcolor": "white",
             "linecolor": "white",
             "minorgridcolor": "white",
             "startlinecolor": "#2a3f5f"
            },
            "baxis": {
             "endlinecolor": "#2a3f5f",
             "gridcolor": "white",
             "linecolor": "white",
             "minorgridcolor": "white",
             "startlinecolor": "#2a3f5f"
            },
            "type": "carpet"
           }
          ],
          "choropleth": [
           {
            "colorbar": {
             "outlinewidth": 0,
             "ticks": ""
            },
            "type": "choropleth"
           }
          ],
          "contour": [
           {
            "colorbar": {
             "outlinewidth": 0,
             "ticks": ""
            },
            "colorscale": [
             [
              0,
              "#0d0887"
             ],
             [
              0.1111111111111111,
              "#46039f"
             ],
             [
              0.2222222222222222,
              "#7201a8"
             ],
             [
              0.3333333333333333,
              "#9c179e"
             ],
             [
              0.4444444444444444,
              "#bd3786"
             ],
             [
              0.5555555555555556,
              "#d8576b"
             ],
             [
              0.6666666666666666,
              "#ed7953"
             ],
             [
              0.7777777777777778,
              "#fb9f3a"
             ],
             [
              0.8888888888888888,
              "#fdca26"
             ],
             [
              1,
              "#f0f921"
             ]
            ],
            "type": "contour"
           }
          ],
          "contourcarpet": [
           {
            "colorbar": {
             "outlinewidth": 0,
             "ticks": ""
            },
            "type": "contourcarpet"
           }
          ],
          "heatmap": [
           {
            "colorbar": {
             "outlinewidth": 0,
             "ticks": ""
            },
            "colorscale": [
             [
              0,
              "#0d0887"
             ],
             [
              0.1111111111111111,
              "#46039f"
             ],
             [
              0.2222222222222222,
              "#7201a8"
             ],
             [
              0.3333333333333333,
              "#9c179e"
             ],
             [
              0.4444444444444444,
              "#bd3786"
             ],
             [
              0.5555555555555556,
              "#d8576b"
             ],
             [
              0.6666666666666666,
              "#ed7953"
             ],
             [
              0.7777777777777778,
              "#fb9f3a"
             ],
             [
              0.8888888888888888,
              "#fdca26"
             ],
             [
              1,
              "#f0f921"
             ]
            ],
            "type": "heatmap"
           }
          ],
          "heatmapgl": [
           {
            "colorbar": {
             "outlinewidth": 0,
             "ticks": ""
            },
            "colorscale": [
             [
              0,
              "#0d0887"
             ],
             [
              0.1111111111111111,
              "#46039f"
             ],
             [
              0.2222222222222222,
              "#7201a8"
             ],
             [
              0.3333333333333333,
              "#9c179e"
             ],
             [
              0.4444444444444444,
              "#bd3786"
             ],
             [
              0.5555555555555556,
              "#d8576b"
             ],
             [
              0.6666666666666666,
              "#ed7953"
             ],
             [
              0.7777777777777778,
              "#fb9f3a"
             ],
             [
              0.8888888888888888,
              "#fdca26"
             ],
             [
              1,
              "#f0f921"
             ]
            ],
            "type": "heatmapgl"
           }
          ],
          "histogram": [
           {
            "marker": {
             "pattern": {
              "fillmode": "overlay",
              "size": 10,
              "solidity": 0.2
             }
            },
            "type": "histogram"
           }
          ],
          "histogram2d": [
           {
            "colorbar": {
             "outlinewidth": 0,
             "ticks": ""
            },
            "colorscale": [
             [
              0,
              "#0d0887"
             ],
             [
              0.1111111111111111,
              "#46039f"
             ],
             [
              0.2222222222222222,
              "#7201a8"
             ],
             [
              0.3333333333333333,
              "#9c179e"
             ],
             [
              0.4444444444444444,
              "#bd3786"
             ],
             [
              0.5555555555555556,
              "#d8576b"
             ],
             [
              0.6666666666666666,
              "#ed7953"
             ],
             [
              0.7777777777777778,
              "#fb9f3a"
             ],
             [
              0.8888888888888888,
              "#fdca26"
             ],
             [
              1,
              "#f0f921"
             ]
            ],
            "type": "histogram2d"
           }
          ],
          "histogram2dcontour": [
           {
            "colorbar": {
             "outlinewidth": 0,
             "ticks": ""
            },
            "colorscale": [
             [
              0,
              "#0d0887"
             ],
             [
              0.1111111111111111,
              "#46039f"
             ],
             [
              0.2222222222222222,
              "#7201a8"
             ],
             [
              0.3333333333333333,
              "#9c179e"
             ],
             [
              0.4444444444444444,
              "#bd3786"
             ],
             [
              0.5555555555555556,
              "#d8576b"
             ],
             [
              0.6666666666666666,
              "#ed7953"
             ],
             [
              0.7777777777777778,
              "#fb9f3a"
             ],
             [
              0.8888888888888888,
              "#fdca26"
             ],
             [
              1,
              "#f0f921"
             ]
            ],
            "type": "histogram2dcontour"
           }
          ],
          "mesh3d": [
           {
            "colorbar": {
             "outlinewidth": 0,
             "ticks": ""
            },
            "type": "mesh3d"
           }
          ],
          "parcoords": [
           {
            "line": {
             "colorbar": {
              "outlinewidth": 0,
              "ticks": ""
             }
            },
            "type": "parcoords"
           }
          ],
          "pie": [
           {
            "automargin": true,
            "type": "pie"
           }
          ],
          "scatter": [
           {
            "fillpattern": {
             "fillmode": "overlay",
             "size": 10,
             "solidity": 0.2
            },
            "type": "scatter"
           }
          ],
          "scatter3d": [
           {
            "line": {
             "colorbar": {
              "outlinewidth": 0,
              "ticks": ""
             }
            },
            "marker": {
             "colorbar": {
              "outlinewidth": 0,
              "ticks": ""
             }
            },
            "type": "scatter3d"
           }
          ],
          "scattercarpet": [
           {
            "marker": {
             "colorbar": {
              "outlinewidth": 0,
              "ticks": ""
             }
            },
            "type": "scattercarpet"
           }
          ],
          "scattergeo": [
           {
            "marker": {
             "colorbar": {
              "outlinewidth": 0,
              "ticks": ""
             }
            },
            "type": "scattergeo"
           }
          ],
          "scattergl": [
           {
            "marker": {
             "colorbar": {
              "outlinewidth": 0,
              "ticks": ""
             }
            },
            "type": "scattergl"
           }
          ],
          "scattermapbox": [
           {
            "marker": {
             "colorbar": {
              "outlinewidth": 0,
              "ticks": ""
             }
            },
            "type": "scattermapbox"
           }
          ],
          "scatterpolar": [
           {
            "marker": {
             "colorbar": {
              "outlinewidth": 0,
              "ticks": ""
             }
            },
            "type": "scatterpolar"
           }
          ],
          "scatterpolargl": [
           {
            "marker": {
             "colorbar": {
              "outlinewidth": 0,
              "ticks": ""
             }
            },
            "type": "scatterpolargl"
           }
          ],
          "scatterternary": [
           {
            "marker": {
             "colorbar": {
              "outlinewidth": 0,
              "ticks": ""
             }
            },
            "type": "scatterternary"
           }
          ],
          "surface": [
           {
            "colorbar": {
             "outlinewidth": 0,
             "ticks": ""
            },
            "colorscale": [
             [
              0,
              "#0d0887"
             ],
             [
              0.1111111111111111,
              "#46039f"
             ],
             [
              0.2222222222222222,
              "#7201a8"
             ],
             [
              0.3333333333333333,
              "#9c179e"
             ],
             [
              0.4444444444444444,
              "#bd3786"
             ],
             [
              0.5555555555555556,
              "#d8576b"
             ],
             [
              0.6666666666666666,
              "#ed7953"
             ],
             [
              0.7777777777777778,
              "#fb9f3a"
             ],
             [
              0.8888888888888888,
              "#fdca26"
             ],
             [
              1,
              "#f0f921"
             ]
            ],
            "type": "surface"
           }
          ],
          "table": [
           {
            "cells": {
             "fill": {
              "color": "#EBF0F8"
             },
             "line": {
              "color": "white"
             }
            },
            "header": {
             "fill": {
              "color": "#C8D4E3"
             },
             "line": {
              "color": "white"
             }
            },
            "type": "table"
           }
          ]
         },
         "layout": {
          "annotationdefaults": {
           "arrowcolor": "#2a3f5f",
           "arrowhead": 0,
           "arrowwidth": 1
          },
          "autotypenumbers": "strict",
          "coloraxis": {
           "colorbar": {
            "outlinewidth": 0,
            "ticks": ""
           }
          },
          "colorscale": {
           "diverging": [
            [
             0,
             "#8e0152"
            ],
            [
             0.1,
             "#c51b7d"
            ],
            [
             0.2,
             "#de77ae"
            ],
            [
             0.3,
             "#f1b6da"
            ],
            [
             0.4,
             "#fde0ef"
            ],
            [
             0.5,
             "#f7f7f7"
            ],
            [
             0.6,
             "#e6f5d0"
            ],
            [
             0.7,
             "#b8e186"
            ],
            [
             0.8,
             "#7fbc41"
            ],
            [
             0.9,
             "#4d9221"
            ],
            [
             1,
             "#276419"
            ]
           ],
           "sequential": [
            [
             0,
             "#0d0887"
            ],
            [
             0.1111111111111111,
             "#46039f"
            ],
            [
             0.2222222222222222,
             "#7201a8"
            ],
            [
             0.3333333333333333,
             "#9c179e"
            ],
            [
             0.4444444444444444,
             "#bd3786"
            ],
            [
             0.5555555555555556,
             "#d8576b"
            ],
            [
             0.6666666666666666,
             "#ed7953"
            ],
            [
             0.7777777777777778,
             "#fb9f3a"
            ],
            [
             0.8888888888888888,
             "#fdca26"
            ],
            [
             1,
             "#f0f921"
            ]
           ],
           "sequentialminus": [
            [
             0,
             "#0d0887"
            ],
            [
             0.1111111111111111,
             "#46039f"
            ],
            [
             0.2222222222222222,
             "#7201a8"
            ],
            [
             0.3333333333333333,
             "#9c179e"
            ],
            [
             0.4444444444444444,
             "#bd3786"
            ],
            [
             0.5555555555555556,
             "#d8576b"
            ],
            [
             0.6666666666666666,
             "#ed7953"
            ],
            [
             0.7777777777777778,
             "#fb9f3a"
            ],
            [
             0.8888888888888888,
             "#fdca26"
            ],
            [
             1,
             "#f0f921"
            ]
           ]
          },
          "colorway": [
           "#636efa",
           "#EF553B",
           "#00cc96",
           "#ab63fa",
           "#FFA15A",
           "#19d3f3",
           "#FF6692",
           "#B6E880",
           "#FF97FF",
           "#FECB52"
          ],
          "font": {
           "color": "#2a3f5f"
          },
          "geo": {
           "bgcolor": "white",
           "lakecolor": "white",
           "landcolor": "#E5ECF6",
           "showlakes": true,
           "showland": true,
           "subunitcolor": "white"
          },
          "hoverlabel": {
           "align": "left"
          },
          "hovermode": "closest",
          "mapbox": {
           "style": "light"
          },
          "paper_bgcolor": "white",
          "plot_bgcolor": "#E5ECF6",
          "polar": {
           "angularaxis": {
            "gridcolor": "white",
            "linecolor": "white",
            "ticks": ""
           },
           "bgcolor": "#E5ECF6",
           "radialaxis": {
            "gridcolor": "white",
            "linecolor": "white",
            "ticks": ""
           }
          },
          "scene": {
           "xaxis": {
            "backgroundcolor": "#E5ECF6",
            "gridcolor": "white",
            "gridwidth": 2,
            "linecolor": "white",
            "showbackground": true,
            "ticks": "",
            "zerolinecolor": "white"
           },
           "yaxis": {
            "backgroundcolor": "#E5ECF6",
            "gridcolor": "white",
            "gridwidth": 2,
            "linecolor": "white",
            "showbackground": true,
            "ticks": "",
            "zerolinecolor": "white"
           },
           "zaxis": {
            "backgroundcolor": "#E5ECF6",
            "gridcolor": "white",
            "gridwidth": 2,
            "linecolor": "white",
            "showbackground": true,
            "ticks": "",
            "zerolinecolor": "white"
           }
          },
          "shapedefaults": {
           "line": {
            "color": "#2a3f5f"
           }
          },
          "ternary": {
           "aaxis": {
            "gridcolor": "white",
            "linecolor": "white",
            "ticks": ""
           },
           "baxis": {
            "gridcolor": "white",
            "linecolor": "white",
            "ticks": ""
           },
           "bgcolor": "#E5ECF6",
           "caxis": {
            "gridcolor": "white",
            "linecolor": "white",
            "ticks": ""
           }
          },
          "title": {
           "x": 0.05
          },
          "xaxis": {
           "automargin": true,
           "gridcolor": "white",
           "linecolor": "white",
           "ticks": "",
           "title": {
            "standoff": 15
           },
           "zerolinecolor": "white",
           "zerolinewidth": 2
          },
          "yaxis": {
           "automargin": true,
           "gridcolor": "white",
           "linecolor": "white",
           "ticks": "",
           "title": {
            "standoff": 15
           },
           "zerolinecolor": "white",
           "zerolinewidth": 2
          }
         }
        },
        "title": {
         "text": "3d Plot for Rule Mining"
        },
        "width": 900
       }
      },
      "text/html": [
       "<div>                            <div id=\"e365b926-f347-4383-bd9e-4f882c19b58a\" class=\"plotly-graph-div\" style=\"height:800px; width:900px;\"></div>            <script type=\"text/javascript\">                require([\"plotly\"], function(Plotly) {                    window.PLOTLYENV=window.PLOTLYENV || {};                                    if (document.getElementById(\"e365b926-f347-4383-bd9e-4f882c19b58a\")) {                    Plotly.newPlot(                        \"e365b926-f347-4383-bd9e-4f882c19b58a\",                        [{\"customdata\":[[\" Banana\",\" Large Lemon\"],[\" Large Lemon\",\" Banana\"],[\" Organic Baby Spinach\",\" Banana\"],[\" Banana\",\" Organic Baby Spinach\"],[\" Organic Baby Spinach\",\" Bag of Organic Bananas\"],[\" Bag of Organic Bananas\",\" Organic Baby Spinach\"],[\" Organic Baby Spinach\",\" Organic Strawberries\"],[\" Organic Strawberries\",\" Organic Baby Spinach\"],[\" Limes\",\" Large Lemon\"],[\" Large Lemon\",\" Limes\"],[\" Organic Strawberries\",\" Bag of Organic Bananas\"],[\" Bag of Organic Bananas\",\" Organic Strawberries\"],[\" Banana\",\" Organic Strawberries\"],[\" Organic Strawberries\",\" Banana\"],[\" Strawberries\",\" Banana\"],[\" Banana\",\" Strawberries\"],[\" Organic Avocado\",\" Banana\"],[\" Banana\",\" Organic Avocado\"],[\" Organic Strawberries\",\" Organic Raspberries\"],[\" Organic Raspberries\",\" Organic Strawberries\"],[\" Organic Hass Avocado\",\" Bag of Organic Bananas\"],[\" Bag of Organic Bananas\",\" Organic Hass Avocado\"],[\" Organic Hass Avocado\",\" Organic Strawberries\"],[\" Organic Strawberries\",\" Organic Hass Avocado\"],[\" Bag\",\" Clementines\"],[\" Clementines\",\" Bag\"]],\"hovertemplate\":\"support=%{x}<br>confidence=%{y}<br>lift=%{z}<br>antecedents=%{customdata[0]}<br>consequents=%{customdata[1]}<br>antecedent support=%{marker.color}<extra></extra>\",\"legendgroup\":\"\",\"marker\":{\"color\":[0.10826239053723449,0.057617998765328596,0.0679450342583207,0.10826239053723449,0.0679450342583207,0.08833997667842908,0.0679450342583207,0.07616855551067381,0.043137284789915326,0.057617998765328596,0.07616855551067381,0.08833997667842908,0.10826239053723449,0.07616855551067381,0.044105206197745585,0.10826239053723449,0.04888384180963196,0.10826239053723449,0.07616855551067381,0.03802330632807201,0.04950879893909717,0.08833997667842908,0.04950879893909717,0.07616855551067381,0.014343528264067252,0.01843623531922353],\"coloraxis\":\"coloraxis\",\"opacity\":0.7,\"symbol\":\"circle\"},\"mode\":\"markers\",\"name\":\"\",\"scene\":\"scene\",\"showlegend\":false,\"x\":[0.011767485462125311,0.011767485462125311,0.010570921202051688,0.010570921202051688,0.012255256880244496,0.012255256880244496,0.011302578329230465,0.011302578329230465,0.01098247833608975,0.01098247833608975,0.01664519964331715,0.01664519964331715,0.011775106890533424,0.011775106890533424,0.010075528355524393,0.010075528355524393,0.01121874261674123,0.01121874261674123,0.011028206906538423,0.011028206906538423,0.012453414018855413,0.012453414018855413,0.010288928350951536,0.010288928350951536,0.010464221204338117,0.010464221204338117],\"y\":[0.10869412178810277,0.20423280423280424,0.15558048233314636,0.09764167546638507,0.18037016264722378,0.13872832369942195,0.1663488502523836,0.14838903342005205,0.25459363957597175,0.19060846560846562,0.2185311186712027,0.18842205159175218,0.10876451953537486,0.15459275565339203,0.22844306203559703,0.0930658218936994,0.22949797318366072,0.10362548398451249,0.14478687212327396,0.2900380837843255,0.25153940886699505,0.14097144336122852,0.207820197044335,0.13508104862917752,0.7295430393198724,0.5675899131872675],\"z\":[1.8864612467850763,1.8864612467850763,1.437068603058768,1.437068603058768,2.041772812594218,2.041772812594218,2.183957003478587,2.1839570034785876,4.418647732159217,4.418647732159217,2.4737511474186724,2.4737511474186724,1.4279451514625776,1.4279451514625776,2.110086992370901,2.110086992370901,2.119831014674758,2.1198310146747583,3.807845400766216,3.807845400766216,2.8474018029531147,2.8474018029531147,2.7284250784460826,2.7284250784460826,39.571150329111674,39.571150329111674],\"type\":\"scatter3d\"}],                        {\"template\":{\"data\":{\"histogram2dcontour\":[{\"type\":\"histogram2dcontour\",\"colorbar\":{\"outlinewidth\":0,\"ticks\":\"\"},\"colorscale\":[[0.0,\"#0d0887\"],[0.1111111111111111,\"#46039f\"],[0.2222222222222222,\"#7201a8\"],[0.3333333333333333,\"#9c179e\"],[0.4444444444444444,\"#bd3786\"],[0.5555555555555556,\"#d8576b\"],[0.6666666666666666,\"#ed7953\"],[0.7777777777777778,\"#fb9f3a\"],[0.8888888888888888,\"#fdca26\"],[1.0,\"#f0f921\"]]}],\"choropleth\":[{\"type\":\"choropleth\",\"colorbar\":{\"outlinewidth\":0,\"ticks\":\"\"}}],\"histogram2d\":[{\"type\":\"histogram2d\",\"colorbar\":{\"outlinewidth\":0,\"ticks\":\"\"},\"colorscale\":[[0.0,\"#0d0887\"],[0.1111111111111111,\"#46039f\"],[0.2222222222222222,\"#7201a8\"],[0.3333333333333333,\"#9c179e\"],[0.4444444444444444,\"#bd3786\"],[0.5555555555555556,\"#d8576b\"],[0.6666666666666666,\"#ed7953\"],[0.7777777777777778,\"#fb9f3a\"],[0.8888888888888888,\"#fdca26\"],[1.0,\"#f0f921\"]]}],\"heatmap\":[{\"type\":\"heatmap\",\"colorbar\":{\"outlinewidth\":0,\"ticks\":\"\"},\"colorscale\":[[0.0,\"#0d0887\"],[0.1111111111111111,\"#46039f\"],[0.2222222222222222,\"#7201a8\"],[0.3333333333333333,\"#9c179e\"],[0.4444444444444444,\"#bd3786\"],[0.5555555555555556,\"#d8576b\"],[0.6666666666666666,\"#ed7953\"],[0.7777777777777778,\"#fb9f3a\"],[0.8888888888888888,\"#fdca26\"],[1.0,\"#f0f921\"]]}],\"heatmapgl\":[{\"type\":\"heatmapgl\",\"colorbar\":{\"outlinewidth\":0,\"ticks\":\"\"},\"colorscale\":[[0.0,\"#0d0887\"],[0.1111111111111111,\"#46039f\"],[0.2222222222222222,\"#7201a8\"],[0.3333333333333333,\"#9c179e\"],[0.4444444444444444,\"#bd3786\"],[0.5555555555555556,\"#d8576b\"],[0.6666666666666666,\"#ed7953\"],[0.7777777777777778,\"#fb9f3a\"],[0.8888888888888888,\"#fdca26\"],[1.0,\"#f0f921\"]]}],\"contourcarpet\":[{\"type\":\"contourcarpet\",\"colorbar\":{\"outlinewidth\":0,\"ticks\":\"\"}}],\"contour\":[{\"type\":\"contour\",\"colorbar\":{\"outlinewidth\":0,\"ticks\":\"\"},\"colorscale\":[[0.0,\"#0d0887\"],[0.1111111111111111,\"#46039f\"],[0.2222222222222222,\"#7201a8\"],[0.3333333333333333,\"#9c179e\"],[0.4444444444444444,\"#bd3786\"],[0.5555555555555556,\"#d8576b\"],[0.6666666666666666,\"#ed7953\"],[0.7777777777777778,\"#fb9f3a\"],[0.8888888888888888,\"#fdca26\"],[1.0,\"#f0f921\"]]}],\"surface\":[{\"type\":\"surface\",\"colorbar\":{\"outlinewidth\":0,\"ticks\":\"\"},\"colorscale\":[[0.0,\"#0d0887\"],[0.1111111111111111,\"#46039f\"],[0.2222222222222222,\"#7201a8\"],[0.3333333333333333,\"#9c179e\"],[0.4444444444444444,\"#bd3786\"],[0.5555555555555556,\"#d8576b\"],[0.6666666666666666,\"#ed7953\"],[0.7777777777777778,\"#fb9f3a\"],[0.8888888888888888,\"#fdca26\"],[1.0,\"#f0f921\"]]}],\"mesh3d\":[{\"type\":\"mesh3d\",\"colorbar\":{\"outlinewidth\":0,\"ticks\":\"\"}}],\"scatter\":[{\"fillpattern\":{\"fillmode\":\"overlay\",\"size\":10,\"solidity\":0.2},\"type\":\"scatter\"}],\"parcoords\":[{\"type\":\"parcoords\",\"line\":{\"colorbar\":{\"outlinewidth\":0,\"ticks\":\"\"}}}],\"scatterpolargl\":[{\"type\":\"scatterpolargl\",\"marker\":{\"colorbar\":{\"outlinewidth\":0,\"ticks\":\"\"}}}],\"bar\":[{\"error_x\":{\"color\":\"#2a3f5f\"},\"error_y\":{\"color\":\"#2a3f5f\"},\"marker\":{\"line\":{\"color\":\"#E5ECF6\",\"width\":0.5},\"pattern\":{\"fillmode\":\"overlay\",\"size\":10,\"solidity\":0.2}},\"type\":\"bar\"}],\"scattergeo\":[{\"type\":\"scattergeo\",\"marker\":{\"colorbar\":{\"outlinewidth\":0,\"ticks\":\"\"}}}],\"scatterpolar\":[{\"type\":\"scatterpolar\",\"marker\":{\"colorbar\":{\"outlinewidth\":0,\"ticks\":\"\"}}}],\"histogram\":[{\"marker\":{\"pattern\":{\"fillmode\":\"overlay\",\"size\":10,\"solidity\":0.2}},\"type\":\"histogram\"}],\"scattergl\":[{\"type\":\"scattergl\",\"marker\":{\"colorbar\":{\"outlinewidth\":0,\"ticks\":\"\"}}}],\"scatter3d\":[{\"type\":\"scatter3d\",\"line\":{\"colorbar\":{\"outlinewidth\":0,\"ticks\":\"\"}},\"marker\":{\"colorbar\":{\"outlinewidth\":0,\"ticks\":\"\"}}}],\"scattermapbox\":[{\"type\":\"scattermapbox\",\"marker\":{\"colorbar\":{\"outlinewidth\":0,\"ticks\":\"\"}}}],\"scatterternary\":[{\"type\":\"scatterternary\",\"marker\":{\"colorbar\":{\"outlinewidth\":0,\"ticks\":\"\"}}}],\"scattercarpet\":[{\"type\":\"scattercarpet\",\"marker\":{\"colorbar\":{\"outlinewidth\":0,\"ticks\":\"\"}}}],\"carpet\":[{\"aaxis\":{\"endlinecolor\":\"#2a3f5f\",\"gridcolor\":\"white\",\"linecolor\":\"white\",\"minorgridcolor\":\"white\",\"startlinecolor\":\"#2a3f5f\"},\"baxis\":{\"endlinecolor\":\"#2a3f5f\",\"gridcolor\":\"white\",\"linecolor\":\"white\",\"minorgridcolor\":\"white\",\"startlinecolor\":\"#2a3f5f\"},\"type\":\"carpet\"}],\"table\":[{\"cells\":{\"fill\":{\"color\":\"#EBF0F8\"},\"line\":{\"color\":\"white\"}},\"header\":{\"fill\":{\"color\":\"#C8D4E3\"},\"line\":{\"color\":\"white\"}},\"type\":\"table\"}],\"barpolar\":[{\"marker\":{\"line\":{\"color\":\"#E5ECF6\",\"width\":0.5},\"pattern\":{\"fillmode\":\"overlay\",\"size\":10,\"solidity\":0.2}},\"type\":\"barpolar\"}],\"pie\":[{\"automargin\":true,\"type\":\"pie\"}]},\"layout\":{\"autotypenumbers\":\"strict\",\"colorway\":[\"#636efa\",\"#EF553B\",\"#00cc96\",\"#ab63fa\",\"#FFA15A\",\"#19d3f3\",\"#FF6692\",\"#B6E880\",\"#FF97FF\",\"#FECB52\"],\"font\":{\"color\":\"#2a3f5f\"},\"hovermode\":\"closest\",\"hoverlabel\":{\"align\":\"left\"},\"paper_bgcolor\":\"white\",\"plot_bgcolor\":\"#E5ECF6\",\"polar\":{\"bgcolor\":\"#E5ECF6\",\"angularaxis\":{\"gridcolor\":\"white\",\"linecolor\":\"white\",\"ticks\":\"\"},\"radialaxis\":{\"gridcolor\":\"white\",\"linecolor\":\"white\",\"ticks\":\"\"}},\"ternary\":{\"bgcolor\":\"#E5ECF6\",\"aaxis\":{\"gridcolor\":\"white\",\"linecolor\":\"white\",\"ticks\":\"\"},\"baxis\":{\"gridcolor\":\"white\",\"linecolor\":\"white\",\"ticks\":\"\"},\"caxis\":{\"gridcolor\":\"white\",\"linecolor\":\"white\",\"ticks\":\"\"}},\"coloraxis\":{\"colorbar\":{\"outlinewidth\":0,\"ticks\":\"\"}},\"colorscale\":{\"sequential\":[[0.0,\"#0d0887\"],[0.1111111111111111,\"#46039f\"],[0.2222222222222222,\"#7201a8\"],[0.3333333333333333,\"#9c179e\"],[0.4444444444444444,\"#bd3786\"],[0.5555555555555556,\"#d8576b\"],[0.6666666666666666,\"#ed7953\"],[0.7777777777777778,\"#fb9f3a\"],[0.8888888888888888,\"#fdca26\"],[1.0,\"#f0f921\"]],\"sequentialminus\":[[0.0,\"#0d0887\"],[0.1111111111111111,\"#46039f\"],[0.2222222222222222,\"#7201a8\"],[0.3333333333333333,\"#9c179e\"],[0.4444444444444444,\"#bd3786\"],[0.5555555555555556,\"#d8576b\"],[0.6666666666666666,\"#ed7953\"],[0.7777777777777778,\"#fb9f3a\"],[0.8888888888888888,\"#fdca26\"],[1.0,\"#f0f921\"]],\"diverging\":[[0,\"#8e0152\"],[0.1,\"#c51b7d\"],[0.2,\"#de77ae\"],[0.3,\"#f1b6da\"],[0.4,\"#fde0ef\"],[0.5,\"#f7f7f7\"],[0.6,\"#e6f5d0\"],[0.7,\"#b8e186\"],[0.8,\"#7fbc41\"],[0.9,\"#4d9221\"],[1,\"#276419\"]]},\"xaxis\":{\"gridcolor\":\"white\",\"linecolor\":\"white\",\"ticks\":\"\",\"title\":{\"standoff\":15},\"zerolinecolor\":\"white\",\"automargin\":true,\"zerolinewidth\":2},\"yaxis\":{\"gridcolor\":\"white\",\"linecolor\":\"white\",\"ticks\":\"\",\"title\":{\"standoff\":15},\"zerolinecolor\":\"white\",\"automargin\":true,\"zerolinewidth\":2},\"scene\":{\"xaxis\":{\"backgroundcolor\":\"#E5ECF6\",\"gridcolor\":\"white\",\"linecolor\":\"white\",\"showbackground\":true,\"ticks\":\"\",\"zerolinecolor\":\"white\",\"gridwidth\":2},\"yaxis\":{\"backgroundcolor\":\"#E5ECF6\",\"gridcolor\":\"white\",\"linecolor\":\"white\",\"showbackground\":true,\"ticks\":\"\",\"zerolinecolor\":\"white\",\"gridwidth\":2},\"zaxis\":{\"backgroundcolor\":\"#E5ECF6\",\"gridcolor\":\"white\",\"linecolor\":\"white\",\"showbackground\":true,\"ticks\":\"\",\"zerolinecolor\":\"white\",\"gridwidth\":2}},\"shapedefaults\":{\"line\":{\"color\":\"#2a3f5f\"}},\"annotationdefaults\":{\"arrowcolor\":\"#2a3f5f\",\"arrowhead\":0,\"arrowwidth\":1},\"geo\":{\"bgcolor\":\"white\",\"landcolor\":\"#E5ECF6\",\"subunitcolor\":\"white\",\"showland\":true,\"showlakes\":true,\"lakecolor\":\"white\"},\"title\":{\"x\":0.05},\"mapbox\":{\"style\":\"light\"}}},\"scene\":{\"domain\":{\"x\":[0.0,1.0],\"y\":[0.0,1.0]},\"xaxis\":{\"title\":{\"text\":\"support\"}},\"yaxis\":{\"title\":{\"text\":\"confidence\"}},\"zaxis\":{\"title\":{\"text\":\"lift\"}}},\"coloraxis\":{\"colorbar\":{\"title\":{\"text\":\"antecedent support\"}},\"colorscale\":[[0.0,\"#0d0887\"],[0.1111111111111111,\"#46039f\"],[0.2222222222222222,\"#7201a8\"],[0.3333333333333333,\"#9c179e\"],[0.4444444444444444,\"#bd3786\"],[0.5555555555555556,\"#d8576b\"],[0.6666666666666666,\"#ed7953\"],[0.7777777777777778,\"#fb9f3a\"],[0.8888888888888888,\"#fdca26\"],[1.0,\"#f0f921\"]]},\"legend\":{\"tracegroupgap\":0},\"title\":{\"text\":\"3d Plot for Rule Mining\"},\"height\":800,\"width\":900},                        {\"responsive\": true}                    ).then(function(){\n",
       "                            \n",
       "var gd = document.getElementById('e365b926-f347-4383-bd9e-4f882c19b58a');\n",
       "var x = new MutationObserver(function (mutations, observer) {{\n",
       "        var display = window.getComputedStyle(gd).display;\n",
       "        if (!display || display === 'none') {{\n",
       "            console.log([gd, 'removed!']);\n",
       "            Plotly.purge(gd);\n",
       "            observer.disconnect();\n",
       "        }}\n",
       "}});\n",
       "\n",
       "// Listen for the removal of the full notebook cells\n",
       "var notebookContainer = gd.closest('#notebook-container');\n",
       "if (notebookContainer) {{\n",
       "    x.observe(notebookContainer, {childList: true});\n",
       "}}\n",
       "\n",
       "// Listen for the clearing of the current output cell\n",
       "var outputEl = gd.closest('.output');\n",
       "if (outputEl) {{\n",
       "    x.observe(outputEl, {childList: true});\n",
       "}}\n",
       "\n",
       "                        })                };                });            </script>        </div>"
      ]
     },
     "metadata": {},
     "output_type": "display_data"
    }
   ],
   "source": [
    "plot_model(rule_FP, plot = '3d')"
   ]
  },
  {
   "attachments": {},
   "cell_type": "markdown",
   "metadata": {},
   "source": [
    "**<span style=\"color:#e0b53f\"> 🔍 Results are different than apriori</span>**\n",
    "- The output of FP-Growth and Apriori algorithms can differ due to their underlying principles and techniques:\n",
    "  - FP-Growth uses an efficient tree-based data structure called FP-Tree and does not generate candidate itemsets explicitly.\n",
    "  - Apriori generates candidate itemsets and requires multiple passes over the transaction data.\n",
    "- FP-Growth is generally faster and more suitable for large datasets compared to Apriori.\n",
    "- The differences in approach can lead to variations in the frequent itemsets discovered and their corresponding support values.\n",
    "- Consider the specific requirements, dataset size, and computational resources when choosing between FP-Growth and Apriori for market basket analysis."
   ]
  },
  {
   "attachments": {},
   "cell_type": "markdown",
   "metadata": {},
   "source": [
    "### <center><span style=\"color:#6ebdfa\">3. Eclat Algorithm</span></center>"
   ]
  },
  {
   "attachments": {},
   "cell_type": "markdown",
   "metadata": {},
   "source": [
    "ECLAT (Equivalence Class Clustering and Bottom-up Lattice Traversal) is an efficient algorithm for frequent itemset mining in transactional datasets. It works by exploiting the vertical data format, where transactions are represented as sets of items.\n",
    "\n",
    "The steps involved in the ECLAT algorithm are as follows:\n",
    "\n",
    "1. **<span style=\"color:#6ebdfa\">Vertical Representation</span>**: Convert the transactional dataset into a vertical representation, where each item is associated with the set of transactions in which it appears.\n",
    "\n",
    "2. **<span style=\"color:#6ebdfa\">Initialization</span>**: Initialize an empty set called the \"prefix\" to store the current frequent itemsets.\n",
    "\n",
    "3. **<span style=\"color:#6ebdfa\">Recursive Process</span>**:\n",
    "   - Start with a single item as the prefix and count its support by scanning the database.\n",
    "   - If the support of the prefix is above a specified minimum support threshold, it is considered a frequent itemset.\n",
    "   - Add the frequent itemset to the list of frequent itemsets.\n",
    "   - Generate a new prefix by combining the frequent itemset with the remaining items.\n",
    "   - Recursively repeat the process with the new prefix until no more frequent itemsets can be generated.\n",
    "\n",
    "4. **<span style=\"color:#6ebdfa\">Combining Frequent Itemsets</span>**: Combine the frequent itemsets obtained in the previous step to form larger itemsets. This is done by finding the intersections of their transactions.\n",
    "\n",
    "5. **<span style=\"color:#6ebdfa\">Repeat</span>**: Repeat the recursive process with the combined frequent itemsets to find larger itemsets until no more frequent itemsets can be generated.\n",
    "\n",
    "6. **<span style=\"color:#6ebdfa\">Termination</span>**: Stop the process when no more frequent itemsets can be found.\n",
    "\n",
    "7. **<span style=\"color:#6ebdfa\">Output</span>**: Return the list of all frequent itemsets that meet the minimum support threshold.\n",
    "\n",
    "**<span style=\"color:#fa6e6e\">However, it may perform poorly on sparse datasets or datasets with long transactions</span>**\n",
    "\n"
   ]
  },
  {
   "cell_type": "code",
   "execution_count": 24,
   "metadata": {},
   "outputs": [
    {
     "data": {
      "text/html": [
       "<div>\n",
       "<style scoped>\n",
       "    .dataframe tbody tr th:only-of-type {\n",
       "        vertical-align: middle;\n",
       "    }\n",
       "\n",
       "    .dataframe tbody tr th {\n",
       "        vertical-align: top;\n",
       "    }\n",
       "\n",
       "    .dataframe thead th {\n",
       "        text-align: right;\n",
       "    }\n",
       "</style>\n",
       "<table border=\"1\" class=\"dataframe\">\n",
       "  <thead>\n",
       "    <tr style=\"text-align: right;\">\n",
       "      <th></th>\n",
       "      <th>0</th>\n",
       "      <th>1</th>\n",
       "      <th>2</th>\n",
       "      <th>3</th>\n",
       "      <th>4</th>\n",
       "      <th>5</th>\n",
       "      <th>6</th>\n",
       "      <th>7</th>\n",
       "      <th>8</th>\n",
       "      <th>9</th>\n",
       "      <th>...</th>\n",
       "      <th>74</th>\n",
       "      <th>75</th>\n",
       "      <th>76</th>\n",
       "      <th>77</th>\n",
       "      <th>78</th>\n",
       "      <th>79</th>\n",
       "      <th>80</th>\n",
       "      <th>81</th>\n",
       "      <th>82</th>\n",
       "      <th>83</th>\n",
       "    </tr>\n",
       "  </thead>\n",
       "  <tbody>\n",
       "    <tr>\n",
       "      <th>0</th>\n",
       "      <td>Lime Sparkling Water</td>\n",
       "      <td>Caramel Almond and Sea Salt Nut Bar</td>\n",
       "      <td>Krinkle Cut Classic Barbecue Potato Chips</td>\n",
       "      <td>Sparkling Water Grapefruit</td>\n",
       "      <td>Honey Bunny Grahams</td>\n",
       "      <td>White Chocolate Macadamia Nut Energy Bar</td>\n",
       "      <td>Nuts &amp; Spices</td>\n",
       "      <td>Dark Chocolate Mocha Almond</td>\n",
       "      <td>Tea Tree Scalp Treatment Shampoo</td>\n",
       "      <td>None</td>\n",
       "      <td>...</td>\n",
       "      <td>None</td>\n",
       "      <td>None</td>\n",
       "      <td>None</td>\n",
       "      <td>None</td>\n",
       "      <td>None</td>\n",
       "      <td>None</td>\n",
       "      <td>None</td>\n",
       "      <td>None</td>\n",
       "      <td>None</td>\n",
       "      <td>None</td>\n",
       "    </tr>\n",
       "    <tr>\n",
       "      <th>1</th>\n",
       "      <td>Sour Cream</td>\n",
       "      <td>Organic Diced Tomatoes</td>\n",
       "      <td>Fat Free Beef Broth</td>\n",
       "      <td>None</td>\n",
       "      <td>None</td>\n",
       "      <td>None</td>\n",
       "      <td>None</td>\n",
       "      <td>None</td>\n",
       "      <td>None</td>\n",
       "      <td>None</td>\n",
       "      <td>...</td>\n",
       "      <td>None</td>\n",
       "      <td>None</td>\n",
       "      <td>None</td>\n",
       "      <td>None</td>\n",
       "      <td>None</td>\n",
       "      <td>None</td>\n",
       "      <td>None</td>\n",
       "      <td>None</td>\n",
       "      <td>None</td>\n",
       "      <td>None</td>\n",
       "    </tr>\n",
       "    <tr>\n",
       "      <th>2</th>\n",
       "      <td>Reduced Fat Milk 100% Lactose Free</td>\n",
       "      <td>Banana</td>\n",
       "      <td>Small Hass Avocado</td>\n",
       "      <td>Large Lemon</td>\n",
       "      <td>Pizza Dough</td>\n",
       "      <td>Red Bulgur Wheat</td>\n",
       "      <td>Green Split Peas</td>\n",
       "      <td>Prosciutto di San Daniele</td>\n",
       "      <td>Organic Garlic</td>\n",
       "      <td>Organic Ginger Root</td>\n",
       "      <td>...</td>\n",
       "      <td>None</td>\n",
       "      <td>None</td>\n",
       "      <td>None</td>\n",
       "      <td>None</td>\n",
       "      <td>None</td>\n",
       "      <td>None</td>\n",
       "      <td>None</td>\n",
       "      <td>None</td>\n",
       "      <td>None</td>\n",
       "      <td>None</td>\n",
       "    </tr>\n",
       "    <tr>\n",
       "      <th>3</th>\n",
       "      <td>Organic Strawberries</td>\n",
       "      <td>Organic Navel Orange</td>\n",
       "      <td>Large Grapefruit</td>\n",
       "      <td>Limes</td>\n",
       "      <td>Carrots</td>\n",
       "      <td>Organic Garlic</td>\n",
       "      <td>Red Peppers</td>\n",
       "      <td>Jalapeno Peppers</td>\n",
       "      <td>Organic Garnet Sweet Potato (Yam)</td>\n",
       "      <td>Organic Baby Spinach</td>\n",
       "      <td>...</td>\n",
       "      <td>None</td>\n",
       "      <td>None</td>\n",
       "      <td>None</td>\n",
       "      <td>None</td>\n",
       "      <td>None</td>\n",
       "      <td>None</td>\n",
       "      <td>None</td>\n",
       "      <td>None</td>\n",
       "      <td>None</td>\n",
       "      <td>None</td>\n",
       "    </tr>\n",
       "    <tr>\n",
       "      <th>4</th>\n",
       "      <td>Granny Smith Apples</td>\n",
       "      <td>Organic Raw Unfiltered Apple Cider Vinegar</td>\n",
       "      <td>Organic Yellow Onion</td>\n",
       "      <td>Russet Potato</td>\n",
       "      <td>Yukon Gold Potatoes 5lb Bag</td>\n",
       "      <td>Vitamin D Milk</td>\n",
       "      <td>Chives</td>\n",
       "      <td>White Whole Mushrooms</td>\n",
       "      <td>Unsalted Chicken Cooking Stock</td>\n",
       "      <td>Garlic</td>\n",
       "      <td>...</td>\n",
       "      <td>None</td>\n",
       "      <td>None</td>\n",
       "      <td>None</td>\n",
       "      <td>None</td>\n",
       "      <td>None</td>\n",
       "      <td>None</td>\n",
       "      <td>None</td>\n",
       "      <td>None</td>\n",
       "      <td>None</td>\n",
       "      <td>None</td>\n",
       "    </tr>\n",
       "    <tr>\n",
       "      <th>...</th>\n",
       "      <td>...</td>\n",
       "      <td>...</td>\n",
       "      <td>...</td>\n",
       "      <td>...</td>\n",
       "      <td>...</td>\n",
       "      <td>...</td>\n",
       "      <td>...</td>\n",
       "      <td>...</td>\n",
       "      <td>...</td>\n",
       "      <td>...</td>\n",
       "      <td>...</td>\n",
       "      <td>...</td>\n",
       "      <td>...</td>\n",
       "      <td>...</td>\n",
       "      <td>...</td>\n",
       "      <td>...</td>\n",
       "      <td>...</td>\n",
       "      <td>...</td>\n",
       "      <td>...</td>\n",
       "      <td>...</td>\n",
       "      <td>...</td>\n",
       "    </tr>\n",
       "    <tr>\n",
       "      <th>495</th>\n",
       "      <td>Clover Org Greek Plain</td>\n",
       "      <td>Electrolyte Enhanced Water</td>\n",
       "      <td>Organic Raspberries</td>\n",
       "      <td>Natural Spring Water</td>\n",
       "      <td>Goodness Grapeness Organic Juice Drink</td>\n",
       "      <td>Small Hass Avocado</td>\n",
       "      <td>Cheese Pizza</td>\n",
       "      <td>Water</td>\n",
       "      <td>Unsweet</td>\n",
       "      <td>Blood Orange</td>\n",
       "      <td>...</td>\n",
       "      <td>None</td>\n",
       "      <td>None</td>\n",
       "      <td>None</td>\n",
       "      <td>None</td>\n",
       "      <td>None</td>\n",
       "      <td>None</td>\n",
       "      <td>None</td>\n",
       "      <td>None</td>\n",
       "      <td>None</td>\n",
       "      <td>None</td>\n",
       "    </tr>\n",
       "    <tr>\n",
       "      <th>496</th>\n",
       "      <td>Cracked Wheat</td>\n",
       "      <td>Organic Greek Whole Milk Blended Vanilla Bean...</td>\n",
       "      <td>Navel Oranges</td>\n",
       "      <td>Spinach</td>\n",
       "      <td>Original Patties (100965) 12 Oz Breakfast</td>\n",
       "      <td>Cinnamon Multigrain Cereal</td>\n",
       "      <td>Chewy 25% Low Sugar Chocolate Chip Granola</td>\n",
       "      <td>Uncured Genoa Salami</td>\n",
       "      <td>Natural Vanilla Ice Cream</td>\n",
       "      <td>Lemon Yogurt</td>\n",
       "      <td>...</td>\n",
       "      <td>None</td>\n",
       "      <td>None</td>\n",
       "      <td>None</td>\n",
       "      <td>None</td>\n",
       "      <td>None</td>\n",
       "      <td>None</td>\n",
       "      <td>None</td>\n",
       "      <td>None</td>\n",
       "      <td>None</td>\n",
       "      <td>None</td>\n",
       "    </tr>\n",
       "    <tr>\n",
       "      <th>497</th>\n",
       "      <td>Chorizo Pork</td>\n",
       "      <td>Petite Peas</td>\n",
       "      <td>Max Gel Clog Remover</td>\n",
       "      <td>Green Beans</td>\n",
       "      <td>Naturally Hickory Smoked Hometown Original Bacon</td>\n",
       "      <td>Extra Virgin Olive Oil</td>\n",
       "      <td>Mediterranean Fine Sea Salt</td>\n",
       "      <td>Pure Ground</td>\n",
       "      <td>Large Lemon</td>\n",
       "      <td>None</td>\n",
       "      <td>...</td>\n",
       "      <td>None</td>\n",
       "      <td>None</td>\n",
       "      <td>None</td>\n",
       "      <td>None</td>\n",
       "      <td>None</td>\n",
       "      <td>None</td>\n",
       "      <td>None</td>\n",
       "      <td>None</td>\n",
       "      <td>None</td>\n",
       "      <td>None</td>\n",
       "    </tr>\n",
       "    <tr>\n",
       "      <th>498</th>\n",
       "      <td>Sparkling Grapefruit</td>\n",
       "      <td>None</td>\n",
       "      <td>None</td>\n",
       "      <td>None</td>\n",
       "      <td>None</td>\n",
       "      <td>None</td>\n",
       "      <td>None</td>\n",
       "      <td>None</td>\n",
       "      <td>None</td>\n",
       "      <td>None</td>\n",
       "      <td>...</td>\n",
       "      <td>None</td>\n",
       "      <td>None</td>\n",
       "      <td>None</td>\n",
       "      <td>None</td>\n",
       "      <td>None</td>\n",
       "      <td>None</td>\n",
       "      <td>None</td>\n",
       "      <td>None</td>\n",
       "      <td>None</td>\n",
       "      <td>None</td>\n",
       "    </tr>\n",
       "    <tr>\n",
       "      <th>499</th>\n",
       "      <td>Banana</td>\n",
       "      <td>Bread Rolls</td>\n",
       "      <td>Cola</td>\n",
       "      <td>Original Orange Juice</td>\n",
       "      <td>Mini Frosted Donuts</td>\n",
       "      <td>Gold Bears Gummi Bears</td>\n",
       "      <td>Puffs Cheese Flavored Snacks</td>\n",
       "      <td>None</td>\n",
       "      <td>None</td>\n",
       "      <td>None</td>\n",
       "      <td>...</td>\n",
       "      <td>None</td>\n",
       "      <td>None</td>\n",
       "      <td>None</td>\n",
       "      <td>None</td>\n",
       "      <td>None</td>\n",
       "      <td>None</td>\n",
       "      <td>None</td>\n",
       "      <td>None</td>\n",
       "      <td>None</td>\n",
       "      <td>None</td>\n",
       "    </tr>\n",
       "  </tbody>\n",
       "</table>\n",
       "<p>500 rows × 84 columns</p>\n",
       "</div>"
      ],
      "text/plain": [
       "                                     0   \\\n",
       "0                  Lime Sparkling Water   \n",
       "1                            Sour Cream   \n",
       "2    Reduced Fat Milk 100% Lactose Free   \n",
       "3                  Organic Strawberries   \n",
       "4                   Granny Smith Apples   \n",
       "..                                  ...   \n",
       "495              Clover Org Greek Plain   \n",
       "496                       Cracked Wheat   \n",
       "497                        Chorizo Pork   \n",
       "498                Sparkling Grapefruit   \n",
       "499                              Banana   \n",
       "\n",
       "                                                    1   \\\n",
       "0                  Caramel Almond and Sea Salt Nut Bar   \n",
       "1                               Organic Diced Tomatoes   \n",
       "2                                               Banana   \n",
       "3                                 Organic Navel Orange   \n",
       "4           Organic Raw Unfiltered Apple Cider Vinegar   \n",
       "..                                                 ...   \n",
       "495                         Electrolyte Enhanced Water   \n",
       "496   Organic Greek Whole Milk Blended Vanilla Bean...   \n",
       "497                                        Petite Peas   \n",
       "498                                               None   \n",
       "499                                        Bread Rolls   \n",
       "\n",
       "                                             2                            3   \\\n",
       "0     Krinkle Cut Classic Barbecue Potato Chips   Sparkling Water Grapefruit   \n",
       "1                           Fat Free Beef Broth                         None   \n",
       "2                            Small Hass Avocado                  Large Lemon   \n",
       "3                              Large Grapefruit                        Limes   \n",
       "4                          Organic Yellow Onion                Russet Potato   \n",
       "..                                          ...                          ...   \n",
       "495                         Organic Raspberries         Natural Spring Water   \n",
       "496                               Navel Oranges                      Spinach   \n",
       "497                        Max Gel Clog Remover                  Green Beans   \n",
       "498                                        None                         None   \n",
       "499                                        Cola        Original Orange Juice   \n",
       "\n",
       "                                                    4   \\\n",
       "0                                  Honey Bunny Grahams   \n",
       "1                                                 None   \n",
       "2                                          Pizza Dough   \n",
       "3                                              Carrots   \n",
       "4                          Yukon Gold Potatoes 5lb Bag   \n",
       "..                                                 ...   \n",
       "495             Goodness Grapeness Organic Juice Drink   \n",
       "496          Original Patties (100965) 12 Oz Breakfast   \n",
       "497   Naturally Hickory Smoked Hometown Original Bacon   \n",
       "498                                               None   \n",
       "499                                Mini Frosted Donuts   \n",
       "\n",
       "                                            5   \\\n",
       "0     White Chocolate Macadamia Nut Energy Bar   \n",
       "1                                         None   \n",
       "2                             Red Bulgur Wheat   \n",
       "3                               Organic Garlic   \n",
       "4                               Vitamin D Milk   \n",
       "..                                         ...   \n",
       "495                         Small Hass Avocado   \n",
       "496                 Cinnamon Multigrain Cereal   \n",
       "497                     Extra Virgin Olive Oil   \n",
       "498                                       None   \n",
       "499                     Gold Bears Gummi Bears   \n",
       "\n",
       "                                              6   \\\n",
       "0                                  Nuts & Spices   \n",
       "1                                           None   \n",
       "2                               Green Split Peas   \n",
       "3                                    Red Peppers   \n",
       "4                                         Chives   \n",
       "..                                           ...   \n",
       "495                                 Cheese Pizza   \n",
       "496   Chewy 25% Low Sugar Chocolate Chip Granola   \n",
       "497                  Mediterranean Fine Sea Salt   \n",
       "498                                         None   \n",
       "499                 Puffs Cheese Flavored Snacks   \n",
       "\n",
       "                               7                                   8   \\\n",
       "0     Dark Chocolate Mocha Almond    Tea Tree Scalp Treatment Shampoo   \n",
       "1                            None                                None   \n",
       "2       Prosciutto di San Daniele                      Organic Garlic   \n",
       "3                Jalapeno Peppers   Organic Garnet Sweet Potato (Yam)   \n",
       "4           White Whole Mushrooms      Unsalted Chicken Cooking Stock   \n",
       "..                            ...                                 ...   \n",
       "495                         Water                             Unsweet   \n",
       "496          Uncured Genoa Salami           Natural Vanilla Ice Cream   \n",
       "497                   Pure Ground                         Large Lemon   \n",
       "498                          None                                None   \n",
       "499                          None                                None   \n",
       "\n",
       "                        9   ...    74    75    76    77    78    79    80  \\\n",
       "0                     None  ...  None  None  None  None  None  None  None   \n",
       "1                     None  ...  None  None  None  None  None  None  None   \n",
       "2      Organic Ginger Root  ...  None  None  None  None  None  None  None   \n",
       "3     Organic Baby Spinach  ...  None  None  None  None  None  None  None   \n",
       "4                   Garlic  ...  None  None  None  None  None  None  None   \n",
       "..                     ...  ...   ...   ...   ...   ...   ...   ...   ...   \n",
       "495           Blood Orange  ...  None  None  None  None  None  None  None   \n",
       "496           Lemon Yogurt  ...  None  None  None  None  None  None  None   \n",
       "497                   None  ...  None  None  None  None  None  None  None   \n",
       "498                   None  ...  None  None  None  None  None  None  None   \n",
       "499                   None  ...  None  None  None  None  None  None  None   \n",
       "\n",
       "       81    82    83  \n",
       "0    None  None  None  \n",
       "1    None  None  None  \n",
       "2    None  None  None  \n",
       "3    None  None  None  \n",
       "4    None  None  None  \n",
       "..    ...   ...   ...  \n",
       "495  None  None  None  \n",
       "496  None  None  None  \n",
       "497  None  None  None  \n",
       "498  None  None  None  \n",
       "499  None  None  None  \n",
       "\n",
       "[500 rows x 84 columns]"
      ]
     },
     "execution_count": 24,
     "metadata": {},
     "output_type": "execute_result"
    }
   ],
   "source": [
    "dataset = pd.DataFrame(column_list).head(500)\n",
    "dataset"
   ]
  },
  {
   "cell_type": "code",
   "execution_count": 25,
   "metadata": {},
   "outputs": [
    {
     "data": {
      "text/html": [
       "<div>\n",
       "<style scoped>\n",
       "    .dataframe tbody tr th:only-of-type {\n",
       "        vertical-align: middle;\n",
       "    }\n",
       "\n",
       "    .dataframe tbody tr th {\n",
       "        vertical-align: top;\n",
       "    }\n",
       "\n",
       "    .dataframe thead th {\n",
       "        text-align: right;\n",
       "    }\n",
       "</style>\n",
       "<table border=\"1\" class=\"dataframe\">\n",
       "  <thead>\n",
       "    <tr style=\"text-align: right;\">\n",
       "      <th></th>\n",
       "      <th>Unscented Long Lasting Stick Deodorant</th>\n",
       "      <th>Whole Grain Oat Cereal</th>\n",
       "      <th>Organic Insect Repellent Fresh Natural Scent</th>\n",
       "      <th>Roaster/Baker Pans &amp; Lids</th>\n",
       "      <th>Grainiac Organic Bread</th>\n",
       "      <th>All Natural Sour Cream</th>\n",
       "      <th>Organic Rainbow Carrots</th>\n",
       "      <th>White Potato</th>\n",
       "      <th>Organic Cheese Frozen Pizza</th>\n",
       "      <th>Wild Blackberry Gelato</th>\n",
       "      <th>...</th>\n",
       "      <th>Red Potatoes</th>\n",
       "      <th>Organic Fat Free Refried Pinto Beans</th>\n",
       "      <th>Arrowroot Starch/Flour</th>\n",
       "      <th>Sweet Gherkin Pickles</th>\n",
       "      <th>Large Greenhouse Tomato</th>\n",
       "      <th>No Pulp Calcium &amp; Vitamin D Pure Premium 100% Pure Orange Juice</th>\n",
       "      <th>Sugar Snap Peas</th>\n",
       "      <th>Original Black Box Tablewater Cracker</th>\n",
       "      <th>Roasted Turkey</th>\n",
       "      <th>Traditional Chicken Noodle Soup</th>\n",
       "    </tr>\n",
       "  </thead>\n",
       "  <tbody>\n",
       "    <tr>\n",
       "      <th>0</th>\n",
       "      <td>0</td>\n",
       "      <td>0</td>\n",
       "      <td>0</td>\n",
       "      <td>0</td>\n",
       "      <td>0</td>\n",
       "      <td>0</td>\n",
       "      <td>0</td>\n",
       "      <td>0</td>\n",
       "      <td>0</td>\n",
       "      <td>0</td>\n",
       "      <td>...</td>\n",
       "      <td>0</td>\n",
       "      <td>0</td>\n",
       "      <td>0</td>\n",
       "      <td>0</td>\n",
       "      <td>0</td>\n",
       "      <td>0</td>\n",
       "      <td>0</td>\n",
       "      <td>0</td>\n",
       "      <td>0</td>\n",
       "      <td>0</td>\n",
       "    </tr>\n",
       "    <tr>\n",
       "      <th>1</th>\n",
       "      <td>0</td>\n",
       "      <td>0</td>\n",
       "      <td>0</td>\n",
       "      <td>0</td>\n",
       "      <td>0</td>\n",
       "      <td>0</td>\n",
       "      <td>0</td>\n",
       "      <td>0</td>\n",
       "      <td>0</td>\n",
       "      <td>0</td>\n",
       "      <td>...</td>\n",
       "      <td>0</td>\n",
       "      <td>0</td>\n",
       "      <td>0</td>\n",
       "      <td>0</td>\n",
       "      <td>0</td>\n",
       "      <td>0</td>\n",
       "      <td>0</td>\n",
       "      <td>0</td>\n",
       "      <td>0</td>\n",
       "      <td>0</td>\n",
       "    </tr>\n",
       "    <tr>\n",
       "      <th>2</th>\n",
       "      <td>0</td>\n",
       "      <td>0</td>\n",
       "      <td>0</td>\n",
       "      <td>0</td>\n",
       "      <td>0</td>\n",
       "      <td>0</td>\n",
       "      <td>0</td>\n",
       "      <td>0</td>\n",
       "      <td>0</td>\n",
       "      <td>0</td>\n",
       "      <td>...</td>\n",
       "      <td>0</td>\n",
       "      <td>0</td>\n",
       "      <td>0</td>\n",
       "      <td>0</td>\n",
       "      <td>0</td>\n",
       "      <td>0</td>\n",
       "      <td>0</td>\n",
       "      <td>0</td>\n",
       "      <td>0</td>\n",
       "      <td>0</td>\n",
       "    </tr>\n",
       "    <tr>\n",
       "      <th>3</th>\n",
       "      <td>0</td>\n",
       "      <td>0</td>\n",
       "      <td>0</td>\n",
       "      <td>0</td>\n",
       "      <td>0</td>\n",
       "      <td>0</td>\n",
       "      <td>0</td>\n",
       "      <td>0</td>\n",
       "      <td>0</td>\n",
       "      <td>0</td>\n",
       "      <td>...</td>\n",
       "      <td>0</td>\n",
       "      <td>0</td>\n",
       "      <td>0</td>\n",
       "      <td>0</td>\n",
       "      <td>0</td>\n",
       "      <td>0</td>\n",
       "      <td>0</td>\n",
       "      <td>0</td>\n",
       "      <td>0</td>\n",
       "      <td>0</td>\n",
       "    </tr>\n",
       "    <tr>\n",
       "      <th>4</th>\n",
       "      <td>0</td>\n",
       "      <td>0</td>\n",
       "      <td>0</td>\n",
       "      <td>0</td>\n",
       "      <td>0</td>\n",
       "      <td>0</td>\n",
       "      <td>0</td>\n",
       "      <td>0</td>\n",
       "      <td>0</td>\n",
       "      <td>0</td>\n",
       "      <td>...</td>\n",
       "      <td>0</td>\n",
       "      <td>0</td>\n",
       "      <td>0</td>\n",
       "      <td>0</td>\n",
       "      <td>0</td>\n",
       "      <td>0</td>\n",
       "      <td>0</td>\n",
       "      <td>0</td>\n",
       "      <td>0</td>\n",
       "      <td>0</td>\n",
       "    </tr>\n",
       "    <tr>\n",
       "      <th>...</th>\n",
       "      <td>...</td>\n",
       "      <td>...</td>\n",
       "      <td>...</td>\n",
       "      <td>...</td>\n",
       "      <td>...</td>\n",
       "      <td>...</td>\n",
       "      <td>...</td>\n",
       "      <td>...</td>\n",
       "      <td>...</td>\n",
       "      <td>...</td>\n",
       "      <td>...</td>\n",
       "      <td>...</td>\n",
       "      <td>...</td>\n",
       "      <td>...</td>\n",
       "      <td>...</td>\n",
       "      <td>...</td>\n",
       "      <td>...</td>\n",
       "      <td>...</td>\n",
       "      <td>...</td>\n",
       "      <td>...</td>\n",
       "      <td>...</td>\n",
       "    </tr>\n",
       "    <tr>\n",
       "      <th>495</th>\n",
       "      <td>0</td>\n",
       "      <td>0</td>\n",
       "      <td>0</td>\n",
       "      <td>0</td>\n",
       "      <td>0</td>\n",
       "      <td>0</td>\n",
       "      <td>0</td>\n",
       "      <td>0</td>\n",
       "      <td>0</td>\n",
       "      <td>0</td>\n",
       "      <td>...</td>\n",
       "      <td>0</td>\n",
       "      <td>0</td>\n",
       "      <td>0</td>\n",
       "      <td>0</td>\n",
       "      <td>0</td>\n",
       "      <td>0</td>\n",
       "      <td>0</td>\n",
       "      <td>0</td>\n",
       "      <td>0</td>\n",
       "      <td>0</td>\n",
       "    </tr>\n",
       "    <tr>\n",
       "      <th>496</th>\n",
       "      <td>0</td>\n",
       "      <td>0</td>\n",
       "      <td>0</td>\n",
       "      <td>0</td>\n",
       "      <td>0</td>\n",
       "      <td>0</td>\n",
       "      <td>0</td>\n",
       "      <td>0</td>\n",
       "      <td>0</td>\n",
       "      <td>0</td>\n",
       "      <td>...</td>\n",
       "      <td>0</td>\n",
       "      <td>0</td>\n",
       "      <td>0</td>\n",
       "      <td>0</td>\n",
       "      <td>0</td>\n",
       "      <td>0</td>\n",
       "      <td>0</td>\n",
       "      <td>0</td>\n",
       "      <td>0</td>\n",
       "      <td>0</td>\n",
       "    </tr>\n",
       "    <tr>\n",
       "      <th>497</th>\n",
       "      <td>0</td>\n",
       "      <td>0</td>\n",
       "      <td>0</td>\n",
       "      <td>0</td>\n",
       "      <td>0</td>\n",
       "      <td>0</td>\n",
       "      <td>0</td>\n",
       "      <td>0</td>\n",
       "      <td>0</td>\n",
       "      <td>0</td>\n",
       "      <td>...</td>\n",
       "      <td>0</td>\n",
       "      <td>0</td>\n",
       "      <td>0</td>\n",
       "      <td>0</td>\n",
       "      <td>0</td>\n",
       "      <td>0</td>\n",
       "      <td>0</td>\n",
       "      <td>0</td>\n",
       "      <td>0</td>\n",
       "      <td>0</td>\n",
       "    </tr>\n",
       "    <tr>\n",
       "      <th>498</th>\n",
       "      <td>0</td>\n",
       "      <td>0</td>\n",
       "      <td>0</td>\n",
       "      <td>0</td>\n",
       "      <td>0</td>\n",
       "      <td>0</td>\n",
       "      <td>0</td>\n",
       "      <td>0</td>\n",
       "      <td>0</td>\n",
       "      <td>0</td>\n",
       "      <td>...</td>\n",
       "      <td>0</td>\n",
       "      <td>0</td>\n",
       "      <td>0</td>\n",
       "      <td>0</td>\n",
       "      <td>0</td>\n",
       "      <td>0</td>\n",
       "      <td>0</td>\n",
       "      <td>0</td>\n",
       "      <td>0</td>\n",
       "      <td>0</td>\n",
       "    </tr>\n",
       "    <tr>\n",
       "      <th>499</th>\n",
       "      <td>0</td>\n",
       "      <td>0</td>\n",
       "      <td>0</td>\n",
       "      <td>0</td>\n",
       "      <td>0</td>\n",
       "      <td>0</td>\n",
       "      <td>0</td>\n",
       "      <td>0</td>\n",
       "      <td>0</td>\n",
       "      <td>0</td>\n",
       "      <td>...</td>\n",
       "      <td>0</td>\n",
       "      <td>0</td>\n",
       "      <td>0</td>\n",
       "      <td>0</td>\n",
       "      <td>0</td>\n",
       "      <td>0</td>\n",
       "      <td>0</td>\n",
       "      <td>0</td>\n",
       "      <td>0</td>\n",
       "      <td>0</td>\n",
       "    </tr>\n",
       "  </tbody>\n",
       "</table>\n",
       "<p>500 rows × 3356 columns</p>\n",
       "</div>"
      ],
      "text/plain": [
       "      Unscented Long Lasting Stick Deodorant  Whole Grain Oat Cereal  \\\n",
       "0                                          0                       0   \n",
       "1                                          0                       0   \n",
       "2                                          0                       0   \n",
       "3                                          0                       0   \n",
       "4                                          0                       0   \n",
       "..                                       ...                     ...   \n",
       "495                                        0                       0   \n",
       "496                                        0                       0   \n",
       "497                                        0                       0   \n",
       "498                                        0                       0   \n",
       "499                                        0                       0   \n",
       "\n",
       "      Organic Insect Repellent Fresh Natural Scent  \\\n",
       "0                                                0   \n",
       "1                                                0   \n",
       "2                                                0   \n",
       "3                                                0   \n",
       "4                                                0   \n",
       "..                                             ...   \n",
       "495                                              0   \n",
       "496                                              0   \n",
       "497                                              0   \n",
       "498                                              0   \n",
       "499                                              0   \n",
       "\n",
       "      Roaster/Baker Pans & Lids   Grainiac Organic Bread  \\\n",
       "0                             0                        0   \n",
       "1                             0                        0   \n",
       "2                             0                        0   \n",
       "3                             0                        0   \n",
       "4                             0                        0   \n",
       "..                          ...                      ...   \n",
       "495                           0                        0   \n",
       "496                           0                        0   \n",
       "497                           0                        0   \n",
       "498                           0                        0   \n",
       "499                           0                        0   \n",
       "\n",
       "      All Natural Sour Cream   Organic Rainbow Carrots   White Potato  \\\n",
       "0                          0                         0              0   \n",
       "1                          0                         0              0   \n",
       "2                          0                         0              0   \n",
       "3                          0                         0              0   \n",
       "4                          0                         0              0   \n",
       "..                       ...                       ...            ...   \n",
       "495                        0                         0              0   \n",
       "496                        0                         0              0   \n",
       "497                        0                         0              0   \n",
       "498                        0                         0              0   \n",
       "499                        0                         0              0   \n",
       "\n",
       "     Organic Cheese Frozen Pizza   Wild Blackberry Gelato  ...   Red Potatoes  \\\n",
       "0                              0                        0  ...              0   \n",
       "1                              0                        0  ...              0   \n",
       "2                              0                        0  ...              0   \n",
       "3                              0                        0  ...              0   \n",
       "4                              0                        0  ...              0   \n",
       "..                           ...                      ...  ...            ...   \n",
       "495                            0                        0  ...              0   \n",
       "496                            0                        0  ...              0   \n",
       "497                            0                        0  ...              0   \n",
       "498                            0                        0  ...              0   \n",
       "499                            0                        0  ...              0   \n",
       "\n",
       "      Organic Fat Free Refried Pinto Beans  Arrowroot Starch/Flour  \\\n",
       "0                                        0                       0   \n",
       "1                                        0                       0   \n",
       "2                                        0                       0   \n",
       "3                                        0                       0   \n",
       "4                                        0                       0   \n",
       "..                                     ...                     ...   \n",
       "495                                      0                       0   \n",
       "496                                      0                       0   \n",
       "497                                      0                       0   \n",
       "498                                      0                       0   \n",
       "499                                      0                       0   \n",
       "\n",
       "     Sweet Gherkin Pickles   Large Greenhouse Tomato  \\\n",
       "0                        0                         0   \n",
       "1                        0                         0   \n",
       "2                        0                         0   \n",
       "3                        0                         0   \n",
       "4                        0                         0   \n",
       "..                     ...                       ...   \n",
       "495                      0                         0   \n",
       "496                      0                         0   \n",
       "497                      0                         0   \n",
       "498                      0                         0   \n",
       "499                      0                         0   \n",
       "\n",
       "      No Pulp Calcium & Vitamin D Pure Premium 100% Pure Orange Juice  \\\n",
       "0                                                    0                  \n",
       "1                                                    0                  \n",
       "2                                                    0                  \n",
       "3                                                    0                  \n",
       "4                                                    0                  \n",
       "..                                                 ...                  \n",
       "495                                                  0                  \n",
       "496                                                  0                  \n",
       "497                                                  0                  \n",
       "498                                                  0                  \n",
       "499                                                  0                  \n",
       "\n",
       "      Sugar Snap Peas   Original Black Box Tablewater Cracker  \\\n",
       "0                   0                                       0   \n",
       "1                   0                                       0   \n",
       "2                   0                                       0   \n",
       "3                   0                                       0   \n",
       "4                   0                                       0   \n",
       "..                ...                                     ...   \n",
       "495                 0                                       0   \n",
       "496                 0                                       0   \n",
       "497                 0                                       0   \n",
       "498                 0                                       0   \n",
       "499                 0                                       0   \n",
       "\n",
       "      Roasted Turkey   Traditional Chicken Noodle Soup  \n",
       "0                  0                                 0  \n",
       "1                  0                                 0  \n",
       "2                  0                                 0  \n",
       "3                  0                                 0  \n",
       "4                  0                                 0  \n",
       "..               ...                               ...  \n",
       "495                0                                 0  \n",
       "496                0                                 0  \n",
       "497                0                                 0  \n",
       "498                0                                 0  \n",
       "499                0                                 0  \n",
       "\n",
       "[500 rows x 3356 columns]"
      ]
     },
     "execution_count": 25,
     "metadata": {},
     "output_type": "execute_result"
    }
   ],
   "source": [
    "\n",
    "# loading transactions DataFrame to ECLAT class\n",
    "eclat = ECLAT(data=dataset)\n",
    "# DataFrame of binary values\n",
    "eclat.df_bin"
   ]
  },
  {
   "cell_type": "code",
   "execution_count": 26,
   "metadata": {},
   "outputs": [
    {
     "data": {
      "text/plain": [
       " Unscented Long Lasting Stick Deodorant                             1\n",
       "Whole Grain Oat Cereal                                              1\n",
       " Organic Insect Repellent Fresh Natural Scent                       1\n",
       " Roaster/Baker Pans & Lids                                          1\n",
       " Grainiac Organic Bread                                             1\n",
       "                                                                   ..\n",
       " No Pulp Calcium & Vitamin D Pure Premium 100% Pure Orange Juice    2\n",
       " Sugar Snap Peas                                                    5\n",
       " Original Black Box Tablewater Cracker                              1\n",
       " Roasted Turkey                                                     1\n",
       " Traditional Chicken Noodle Soup                                    2\n",
       "Length: 3356, dtype: int64"
      ]
     },
     "execution_count": 26,
     "metadata": {},
     "output_type": "execute_result"
    }
   ],
   "source": [
    "# count items in each column\n",
    "items_total = eclat.df_bin.astype(int).sum(axis=0)\n",
    "items_total"
   ]
  },
  {
   "cell_type": "code",
   "execution_count": 27,
   "metadata": {},
   "outputs": [
    {
     "data": {
      "text/plain": [
       "0       9\n",
       "1       3\n",
       "2      17\n",
       "3      25\n",
       "4      17\n",
       "       ..\n",
       "495    27\n",
       "496    31\n",
       "497     9\n",
       "498     1\n",
       "499     7\n",
       "Length: 500, dtype: int64"
      ]
     },
     "execution_count": 27,
     "metadata": {},
     "output_type": "execute_result"
    }
   ],
   "source": [
    "# count items in each row\n",
    "items_per_transaction = eclat.df_bin.astype(int).sum(axis=1)\n",
    "items_per_transaction"
   ]
  },
  {
   "cell_type": "code",
   "execution_count": 28,
   "metadata": {},
   "outputs": [
    {
     "data": {
      "text/html": [
       "<style type=\"text/css\">\n",
       "#T_b8f80_row0_col1 {\n",
       "  background-color: #08306b;\n",
       "  color: #f1f1f1;\n",
       "}\n",
       "#T_b8f80_row1_col1 {\n",
       "  background-color: #7cb7da;\n",
       "  color: #000000;\n",
       "}\n",
       "#T_b8f80_row2_col1 {\n",
       "  background-color: #abd0e6;\n",
       "  color: #000000;\n",
       "}\n",
       "#T_b8f80_row3_col1 {\n",
       "  background-color: #d6e6f4;\n",
       "  color: #000000;\n",
       "}\n",
       "#T_b8f80_row4_col1 {\n",
       "  background-color: #f7fbff;\n",
       "  color: #000000;\n",
       "}\n",
       "</style>\n",
       "<table id=\"T_b8f80\">\n",
       "  <thead>\n",
       "    <tr>\n",
       "      <th class=\"blank level0\" >&nbsp;</th>\n",
       "      <th id=\"T_b8f80_level0_col0\" class=\"col_heading level0 col0\" >items</th>\n",
       "      <th id=\"T_b8f80_level0_col1\" class=\"col_heading level0 col1\" >transactions</th>\n",
       "    </tr>\n",
       "  </thead>\n",
       "  <tbody>\n",
       "    <tr>\n",
       "      <th id=\"T_b8f80_level0_row0\" class=\"row_heading level0 row0\" >1733</th>\n",
       "      <td id=\"T_b8f80_row0_col0\" class=\"data row0 col0\" > Banana</td>\n",
       "      <td id=\"T_b8f80_row0_col1\" class=\"data row0 col1\" >54</td>\n",
       "    </tr>\n",
       "    <tr>\n",
       "      <th id=\"T_b8f80_level0_row1\" class=\"row_heading level0 row1\" >2937</th>\n",
       "      <td id=\"T_b8f80_row1_col0\" class=\"data row1 col0\" > Organic Strawberries</td>\n",
       "      <td id=\"T_b8f80_row1_col1\" class=\"data row1 col1\" >41</td>\n",
       "    </tr>\n",
       "    <tr>\n",
       "      <th id=\"T_b8f80_level0_row2\" class=\"row_heading level0 row2\" >96</th>\n",
       "      <td id=\"T_b8f80_row2_col0\" class=\"data row2 col0\" > Organic Baby Spinach</td>\n",
       "      <td id=\"T_b8f80_row2_col1\" class=\"data row2 col1\" >38</td>\n",
       "    </tr>\n",
       "    <tr>\n",
       "      <th id=\"T_b8f80_level0_row3\" class=\"row_heading level0 row3\" >1218</th>\n",
       "      <td id=\"T_b8f80_row3_col0\" class=\"data row3 col0\" > Large Lemon</td>\n",
       "      <td id=\"T_b8f80_row3_col1\" class=\"data row3 col1\" >34</td>\n",
       "    </tr>\n",
       "    <tr>\n",
       "      <th id=\"T_b8f80_level0_row4\" class=\"row_heading level0 row4\" >228</th>\n",
       "      <td id=\"T_b8f80_row4_col0\" class=\"data row4 col0\" > Bag of Organic Bananas</td>\n",
       "      <td id=\"T_b8f80_row4_col1\" class=\"data row4 col1\" >30</td>\n",
       "    </tr>\n",
       "  </tbody>\n",
       "</table>\n"
      ],
      "text/plain": [
       "<pandas.io.formats.style.Styler at 0x1bb048d1850>"
      ]
     },
     "execution_count": 28,
     "metadata": {},
     "output_type": "execute_result"
    }
   ],
   "source": [
    "# Loading items per column stats to the DataFrame\n",
    "df = pd.DataFrame({'items': items_total.index, 'transactions': items_total.values}) \n",
    "# cloning pandas DataFrame for visualization purpose  \n",
    "df_table = df.sort_values(\"transactions\", ascending=False)\n",
    "#  Top 5 most popular products/items\n",
    "df_table.head(5).style.background_gradient(cmap='Blues')"
   ]
  },
  {
   "cell_type": "code",
   "execution_count": 29,
   "metadata": {},
   "outputs": [
    {
     "data": {
      "application/vnd.plotly.v1+json": {
       "config": {
        "plotlyServerURL": "https://plot.ly"
       },
       "data": [
        {
         "branchvalues": "total",
         "customdata": [
          [
           " 100% Whole Wheat Bread",
           10
          ],
          [
           " Apple Honeycrisp Organic",
           12
          ],
          [
           " Asparagus",
           10
          ],
          [
           " Bag of Organic Bananas",
           30
          ],
          [
           " Banana",
           54
          ],
          [
           " Boneless Skinless Chicken Breasts",
           10
          ],
          [
           " Broccoli Crown",
           13
          ],
          [
           " Bunch",
           16
          ],
          [
           " Carrots",
           10
          ],
          [
           " Extra Virgin Olive Oil",
           10
          ],
          [
           " Fresh Cauliflower",
           15
          ],
          [
           " Garlic",
           11
          ],
          [
           " Granny Smith Apples",
           11
          ],
          [
           " Green Bell Pepper",
           10
          ],
          [
           " Hass Avocados",
           12
          ],
          [
           " Honeycrisp Apple",
           12
          ],
          [
           " Large Lemon",
           34
          ],
          [
           " Limes",
           19
          ],
          [
           " Organic Avocado",
           21
          ],
          [
           " Organic Baby Arugula",
           13
          ],
          [
           " Organic Baby Carrots",
           21
          ],
          [
           " Organic Baby Spinach",
           38
          ],
          [
           " Organic Banana",
           9
          ],
          [
           " Organic Blueberries",
           22
          ],
          [
           " Organic Cilantro",
           11
          ],
          [
           " Organic Cucumber",
           25
          ],
          [
           " Organic Fuji Apple",
           12
          ],
          [
           " Organic Gala Apples",
           13
          ],
          [
           " Organic Garlic",
           15
          ],
          [
           " Organic Garnet Sweet Potato (Yam)",
           13
          ],
          [
           " Organic Grade A Free Range Large Brown Eggs",
           10
          ],
          [
           " Organic Granny Smith Apple",
           10
          ],
          [
           " Organic Grape Tomatoes",
           16
          ],
          [
           " Organic Hass Avocado",
           22
          ],
          [
           " Organic Large Extra Fancy Fuji Apple",
           15
          ],
          [
           " Organic Lemon",
           11
          ],
          [
           " Organic Raspberries",
           14
          ],
          [
           " Organic Red Bell Pepper",
           14
          ],
          [
           " Organic Red Onion",
           11
          ],
          [
           " Organic Red Radish",
           10
          ],
          [
           " Organic Strawberries",
           41
          ],
          [
           " Organic Whole Milk",
           13
          ],
          [
           " Organic Yellow Onion",
           14
          ],
          [
           " Organic Zucchini",
           14
          ],
          [
           " Red Peppers",
           14
          ],
          [
           " Seedless Red Grapes",
           13
          ],
          [
           " Small Hass Avocado",
           11
          ],
          [
           " Strawberries",
           27
          ],
          [
           "Bag of Organic Bananas",
           13
          ],
          [
           "Banana",
           22
          ],
          [
           "(?)",
           21.49818621523579
          ]
         ],
         "domain": {
          "x": [
           0,
           1
          ],
          "y": [
           0,
           1
          ]
         },
         "hovertemplate": "labels=%{label}<br>transactions=%{value}<br>parent=%{parent}<br>id=%{id}<br>items=%{customdata[0]}<br>color=%{color}<extra></extra>",
         "ids": [
          "Tree Map/ 100% Whole Wheat Bread",
          "Tree Map/ Apple Honeycrisp Organic",
          "Tree Map/ Asparagus",
          "Tree Map/ Bag of Organic Bananas",
          "Tree Map/ Banana",
          "Tree Map/ Boneless Skinless Chicken Breasts",
          "Tree Map/ Broccoli Crown",
          "Tree Map/ Bunch",
          "Tree Map/ Carrots",
          "Tree Map/ Extra Virgin Olive Oil",
          "Tree Map/ Fresh Cauliflower",
          "Tree Map/ Garlic",
          "Tree Map/ Granny Smith Apples",
          "Tree Map/ Green Bell Pepper",
          "Tree Map/ Hass Avocados",
          "Tree Map/ Honeycrisp Apple",
          "Tree Map/ Large Lemon",
          "Tree Map/ Limes",
          "Tree Map/ Organic Avocado",
          "Tree Map/ Organic Baby Arugula",
          "Tree Map/ Organic Baby Carrots",
          "Tree Map/ Organic Baby Spinach",
          "Tree Map/ Organic Banana",
          "Tree Map/ Organic Blueberries",
          "Tree Map/ Organic Cilantro",
          "Tree Map/ Organic Cucumber",
          "Tree Map/ Organic Fuji Apple",
          "Tree Map/ Organic Gala Apples",
          "Tree Map/ Organic Garlic",
          "Tree Map/ Organic Garnet Sweet Potato (Yam)",
          "Tree Map/ Organic Grade A Free Range Large Brown Eggs",
          "Tree Map/ Organic Granny Smith Apple",
          "Tree Map/ Organic Grape Tomatoes",
          "Tree Map/ Organic Hass Avocado",
          "Tree Map/ Organic Large Extra Fancy Fuji Apple",
          "Tree Map/ Organic Lemon",
          "Tree Map/ Organic Raspberries",
          "Tree Map/ Organic Red Bell Pepper",
          "Tree Map/ Organic Red Onion",
          "Tree Map/ Organic Red Radish",
          "Tree Map/ Organic Strawberries",
          "Tree Map/ Organic Whole Milk",
          "Tree Map/ Organic Yellow Onion",
          "Tree Map/ Organic Zucchini",
          "Tree Map/ Red Peppers",
          "Tree Map/ Seedless Red Grapes",
          "Tree Map/ Small Hass Avocado",
          "Tree Map/ Strawberries",
          "Tree Map/Bag of Organic Bananas",
          "Tree Map/Banana",
          "Tree Map"
         ],
         "labels": [
          " 100% Whole Wheat Bread",
          " Apple Honeycrisp Organic",
          " Asparagus",
          " Bag of Organic Bananas",
          " Banana",
          " Boneless Skinless Chicken Breasts",
          " Broccoli Crown",
          " Bunch",
          " Carrots",
          " Extra Virgin Olive Oil",
          " Fresh Cauliflower",
          " Garlic",
          " Granny Smith Apples",
          " Green Bell Pepper",
          " Hass Avocados",
          " Honeycrisp Apple",
          " Large Lemon",
          " Limes",
          " Organic Avocado",
          " Organic Baby Arugula",
          " Organic Baby Carrots",
          " Organic Baby Spinach",
          " Organic Banana",
          " Organic Blueberries",
          " Organic Cilantro",
          " Organic Cucumber",
          " Organic Fuji Apple",
          " Organic Gala Apples",
          " Organic Garlic",
          " Organic Garnet Sweet Potato (Yam)",
          " Organic Grade A Free Range Large Brown Eggs",
          " Organic Granny Smith Apple",
          " Organic Grape Tomatoes",
          " Organic Hass Avocado",
          " Organic Large Extra Fancy Fuji Apple",
          " Organic Lemon",
          " Organic Raspberries",
          " Organic Red Bell Pepper",
          " Organic Red Onion",
          " Organic Red Radish",
          " Organic Strawberries",
          " Organic Whole Milk",
          " Organic Yellow Onion",
          " Organic Zucchini",
          " Red Peppers",
          " Seedless Red Grapes",
          " Small Hass Avocado",
          " Strawberries",
          "Bag of Organic Bananas",
          "Banana",
          "Tree Map"
         ],
         "marker": {
          "coloraxis": "coloraxis",
          "colors": [
           10,
           12,
           10,
           30,
           54,
           10,
           13,
           16,
           10,
           10,
           15,
           11,
           11,
           10,
           12,
           12,
           34,
           19,
           21,
           13,
           21,
           38,
           9,
           22,
           11,
           25,
           12,
           13,
           15,
           13,
           10,
           10,
           16,
           22,
           15,
           11,
           14,
           14,
           11,
           10,
           41,
           13,
           14,
           14,
           14,
           13,
           11,
           27,
           13,
           22,
           21.49818621523579
          ]
         },
         "name": "",
         "parents": [
          "Tree Map",
          "Tree Map",
          "Tree Map",
          "Tree Map",
          "Tree Map",
          "Tree Map",
          "Tree Map",
          "Tree Map",
          "Tree Map",
          "Tree Map",
          "Tree Map",
          "Tree Map",
          "Tree Map",
          "Tree Map",
          "Tree Map",
          "Tree Map",
          "Tree Map",
          "Tree Map",
          "Tree Map",
          "Tree Map",
          "Tree Map",
          "Tree Map",
          "Tree Map",
          "Tree Map",
          "Tree Map",
          "Tree Map",
          "Tree Map",
          "Tree Map",
          "Tree Map",
          "Tree Map",
          "Tree Map",
          "Tree Map",
          "Tree Map",
          "Tree Map",
          "Tree Map",
          "Tree Map",
          "Tree Map",
          "Tree Map",
          "Tree Map",
          "Tree Map",
          "Tree Map",
          "Tree Map",
          "Tree Map",
          "Tree Map",
          "Tree Map",
          "Tree Map",
          "Tree Map",
          "Tree Map",
          "Tree Map",
          "Tree Map",
          ""
         ],
         "type": "treemap",
         "values": [
          10,
          12,
          10,
          30,
          54,
          10,
          13,
          16,
          10,
          10,
          15,
          11,
          11,
          10,
          12,
          12,
          34,
          19,
          21,
          13,
          21,
          38,
          9,
          22,
          11,
          25,
          12,
          13,
          15,
          13,
          10,
          10,
          16,
          22,
          15,
          11,
          14,
          14,
          11,
          10,
          41,
          13,
          14,
          14,
          14,
          13,
          11,
          27,
          13,
          22,
          827
         ]
        }
       ],
       "layout": {
        "coloraxis": {
         "colorbar": {
          "title": {
           "text": "color"
          }
         },
         "colorscale": [
          [
           0,
           "rgb(247,251,255)"
          ],
          [
           0.125,
           "rgb(222,235,247)"
          ],
          [
           0.25,
           "rgb(198,219,239)"
          ],
          [
           0.375,
           "rgb(158,202,225)"
          ],
          [
           0.5,
           "rgb(107,174,214)"
          ],
          [
           0.625,
           "rgb(66,146,198)"
          ],
          [
           0.75,
           "rgb(33,113,181)"
          ],
          [
           0.875,
           "rgb(8,81,156)"
          ],
          [
           1,
           "rgb(8,48,107)"
          ]
         ]
        },
        "legend": {
         "tracegroupgap": 0
        },
        "margin": {
         "t": 60
        },
        "template": {
         "data": {
          "bar": [
           {
            "error_x": {
             "color": "#2a3f5f"
            },
            "error_y": {
             "color": "#2a3f5f"
            },
            "marker": {
             "line": {
              "color": "#E5ECF6",
              "width": 0.5
             },
             "pattern": {
              "fillmode": "overlay",
              "size": 10,
              "solidity": 0.2
             }
            },
            "type": "bar"
           }
          ],
          "barpolar": [
           {
            "marker": {
             "line": {
              "color": "#E5ECF6",
              "width": 0.5
             },
             "pattern": {
              "fillmode": "overlay",
              "size": 10,
              "solidity": 0.2
             }
            },
            "type": "barpolar"
           }
          ],
          "carpet": [
           {
            "aaxis": {
             "endlinecolor": "#2a3f5f",
             "gridcolor": "white",
             "linecolor": "white",
             "minorgridcolor": "white",
             "startlinecolor": "#2a3f5f"
            },
            "baxis": {
             "endlinecolor": "#2a3f5f",
             "gridcolor": "white",
             "linecolor": "white",
             "minorgridcolor": "white",
             "startlinecolor": "#2a3f5f"
            },
            "type": "carpet"
           }
          ],
          "choropleth": [
           {
            "colorbar": {
             "outlinewidth": 0,
             "ticks": ""
            },
            "type": "choropleth"
           }
          ],
          "contour": [
           {
            "colorbar": {
             "outlinewidth": 0,
             "ticks": ""
            },
            "colorscale": [
             [
              0,
              "#0d0887"
             ],
             [
              0.1111111111111111,
              "#46039f"
             ],
             [
              0.2222222222222222,
              "#7201a8"
             ],
             [
              0.3333333333333333,
              "#9c179e"
             ],
             [
              0.4444444444444444,
              "#bd3786"
             ],
             [
              0.5555555555555556,
              "#d8576b"
             ],
             [
              0.6666666666666666,
              "#ed7953"
             ],
             [
              0.7777777777777778,
              "#fb9f3a"
             ],
             [
              0.8888888888888888,
              "#fdca26"
             ],
             [
              1,
              "#f0f921"
             ]
            ],
            "type": "contour"
           }
          ],
          "contourcarpet": [
           {
            "colorbar": {
             "outlinewidth": 0,
             "ticks": ""
            },
            "type": "contourcarpet"
           }
          ],
          "heatmap": [
           {
            "colorbar": {
             "outlinewidth": 0,
             "ticks": ""
            },
            "colorscale": [
             [
              0,
              "#0d0887"
             ],
             [
              0.1111111111111111,
              "#46039f"
             ],
             [
              0.2222222222222222,
              "#7201a8"
             ],
             [
              0.3333333333333333,
              "#9c179e"
             ],
             [
              0.4444444444444444,
              "#bd3786"
             ],
             [
              0.5555555555555556,
              "#d8576b"
             ],
             [
              0.6666666666666666,
              "#ed7953"
             ],
             [
              0.7777777777777778,
              "#fb9f3a"
             ],
             [
              0.8888888888888888,
              "#fdca26"
             ],
             [
              1,
              "#f0f921"
             ]
            ],
            "type": "heatmap"
           }
          ],
          "heatmapgl": [
           {
            "colorbar": {
             "outlinewidth": 0,
             "ticks": ""
            },
            "colorscale": [
             [
              0,
              "#0d0887"
             ],
             [
              0.1111111111111111,
              "#46039f"
             ],
             [
              0.2222222222222222,
              "#7201a8"
             ],
             [
              0.3333333333333333,
              "#9c179e"
             ],
             [
              0.4444444444444444,
              "#bd3786"
             ],
             [
              0.5555555555555556,
              "#d8576b"
             ],
             [
              0.6666666666666666,
              "#ed7953"
             ],
             [
              0.7777777777777778,
              "#fb9f3a"
             ],
             [
              0.8888888888888888,
              "#fdca26"
             ],
             [
              1,
              "#f0f921"
             ]
            ],
            "type": "heatmapgl"
           }
          ],
          "histogram": [
           {
            "marker": {
             "pattern": {
              "fillmode": "overlay",
              "size": 10,
              "solidity": 0.2
             }
            },
            "type": "histogram"
           }
          ],
          "histogram2d": [
           {
            "colorbar": {
             "outlinewidth": 0,
             "ticks": ""
            },
            "colorscale": [
             [
              0,
              "#0d0887"
             ],
             [
              0.1111111111111111,
              "#46039f"
             ],
             [
              0.2222222222222222,
              "#7201a8"
             ],
             [
              0.3333333333333333,
              "#9c179e"
             ],
             [
              0.4444444444444444,
              "#bd3786"
             ],
             [
              0.5555555555555556,
              "#d8576b"
             ],
             [
              0.6666666666666666,
              "#ed7953"
             ],
             [
              0.7777777777777778,
              "#fb9f3a"
             ],
             [
              0.8888888888888888,
              "#fdca26"
             ],
             [
              1,
              "#f0f921"
             ]
            ],
            "type": "histogram2d"
           }
          ],
          "histogram2dcontour": [
           {
            "colorbar": {
             "outlinewidth": 0,
             "ticks": ""
            },
            "colorscale": [
             [
              0,
              "#0d0887"
             ],
             [
              0.1111111111111111,
              "#46039f"
             ],
             [
              0.2222222222222222,
              "#7201a8"
             ],
             [
              0.3333333333333333,
              "#9c179e"
             ],
             [
              0.4444444444444444,
              "#bd3786"
             ],
             [
              0.5555555555555556,
              "#d8576b"
             ],
             [
              0.6666666666666666,
              "#ed7953"
             ],
             [
              0.7777777777777778,
              "#fb9f3a"
             ],
             [
              0.8888888888888888,
              "#fdca26"
             ],
             [
              1,
              "#f0f921"
             ]
            ],
            "type": "histogram2dcontour"
           }
          ],
          "mesh3d": [
           {
            "colorbar": {
             "outlinewidth": 0,
             "ticks": ""
            },
            "type": "mesh3d"
           }
          ],
          "parcoords": [
           {
            "line": {
             "colorbar": {
              "outlinewidth": 0,
              "ticks": ""
             }
            },
            "type": "parcoords"
           }
          ],
          "pie": [
           {
            "automargin": true,
            "type": "pie"
           }
          ],
          "scatter": [
           {
            "fillpattern": {
             "fillmode": "overlay",
             "size": 10,
             "solidity": 0.2
            },
            "type": "scatter"
           }
          ],
          "scatter3d": [
           {
            "line": {
             "colorbar": {
              "outlinewidth": 0,
              "ticks": ""
             }
            },
            "marker": {
             "colorbar": {
              "outlinewidth": 0,
              "ticks": ""
             }
            },
            "type": "scatter3d"
           }
          ],
          "scattercarpet": [
           {
            "marker": {
             "colorbar": {
              "outlinewidth": 0,
              "ticks": ""
             }
            },
            "type": "scattercarpet"
           }
          ],
          "scattergeo": [
           {
            "marker": {
             "colorbar": {
              "outlinewidth": 0,
              "ticks": ""
             }
            },
            "type": "scattergeo"
           }
          ],
          "scattergl": [
           {
            "marker": {
             "colorbar": {
              "outlinewidth": 0,
              "ticks": ""
             }
            },
            "type": "scattergl"
           }
          ],
          "scattermapbox": [
           {
            "marker": {
             "colorbar": {
              "outlinewidth": 0,
              "ticks": ""
             }
            },
            "type": "scattermapbox"
           }
          ],
          "scatterpolar": [
           {
            "marker": {
             "colorbar": {
              "outlinewidth": 0,
              "ticks": ""
             }
            },
            "type": "scatterpolar"
           }
          ],
          "scatterpolargl": [
           {
            "marker": {
             "colorbar": {
              "outlinewidth": 0,
              "ticks": ""
             }
            },
            "type": "scatterpolargl"
           }
          ],
          "scatterternary": [
           {
            "marker": {
             "colorbar": {
              "outlinewidth": 0,
              "ticks": ""
             }
            },
            "type": "scatterternary"
           }
          ],
          "surface": [
           {
            "colorbar": {
             "outlinewidth": 0,
             "ticks": ""
            },
            "colorscale": [
             [
              0,
              "#0d0887"
             ],
             [
              0.1111111111111111,
              "#46039f"
             ],
             [
              0.2222222222222222,
              "#7201a8"
             ],
             [
              0.3333333333333333,
              "#9c179e"
             ],
             [
              0.4444444444444444,
              "#bd3786"
             ],
             [
              0.5555555555555556,
              "#d8576b"
             ],
             [
              0.6666666666666666,
              "#ed7953"
             ],
             [
              0.7777777777777778,
              "#fb9f3a"
             ],
             [
              0.8888888888888888,
              "#fdca26"
             ],
             [
              1,
              "#f0f921"
             ]
            ],
            "type": "surface"
           }
          ],
          "table": [
           {
            "cells": {
             "fill": {
              "color": "#EBF0F8"
             },
             "line": {
              "color": "white"
             }
            },
            "header": {
             "fill": {
              "color": "#C8D4E3"
             },
             "line": {
              "color": "white"
             }
            },
            "type": "table"
           }
          ]
         },
         "layout": {
          "annotationdefaults": {
           "arrowcolor": "#2a3f5f",
           "arrowhead": 0,
           "arrowwidth": 1
          },
          "autotypenumbers": "strict",
          "coloraxis": {
           "colorbar": {
            "outlinewidth": 0,
            "ticks": ""
           }
          },
          "colorscale": {
           "diverging": [
            [
             0,
             "#8e0152"
            ],
            [
             0.1,
             "#c51b7d"
            ],
            [
             0.2,
             "#de77ae"
            ],
            [
             0.3,
             "#f1b6da"
            ],
            [
             0.4,
             "#fde0ef"
            ],
            [
             0.5,
             "#f7f7f7"
            ],
            [
             0.6,
             "#e6f5d0"
            ],
            [
             0.7,
             "#b8e186"
            ],
            [
             0.8,
             "#7fbc41"
            ],
            [
             0.9,
             "#4d9221"
            ],
            [
             1,
             "#276419"
            ]
           ],
           "sequential": [
            [
             0,
             "#0d0887"
            ],
            [
             0.1111111111111111,
             "#46039f"
            ],
            [
             0.2222222222222222,
             "#7201a8"
            ],
            [
             0.3333333333333333,
             "#9c179e"
            ],
            [
             0.4444444444444444,
             "#bd3786"
            ],
            [
             0.5555555555555556,
             "#d8576b"
            ],
            [
             0.6666666666666666,
             "#ed7953"
            ],
            [
             0.7777777777777778,
             "#fb9f3a"
            ],
            [
             0.8888888888888888,
             "#fdca26"
            ],
            [
             1,
             "#f0f921"
            ]
           ],
           "sequentialminus": [
            [
             0,
             "#0d0887"
            ],
            [
             0.1111111111111111,
             "#46039f"
            ],
            [
             0.2222222222222222,
             "#7201a8"
            ],
            [
             0.3333333333333333,
             "#9c179e"
            ],
            [
             0.4444444444444444,
             "#bd3786"
            ],
            [
             0.5555555555555556,
             "#d8576b"
            ],
            [
             0.6666666666666666,
             "#ed7953"
            ],
            [
             0.7777777777777778,
             "#fb9f3a"
            ],
            [
             0.8888888888888888,
             "#fdca26"
            ],
            [
             1,
             "#f0f921"
            ]
           ]
          },
          "colorway": [
           "#636efa",
           "#EF553B",
           "#00cc96",
           "#ab63fa",
           "#FFA15A",
           "#19d3f3",
           "#FF6692",
           "#B6E880",
           "#FF97FF",
           "#FECB52"
          ],
          "font": {
           "color": "#2a3f5f"
          },
          "geo": {
           "bgcolor": "white",
           "lakecolor": "white",
           "landcolor": "#E5ECF6",
           "showlakes": true,
           "showland": true,
           "subunitcolor": "white"
          },
          "hoverlabel": {
           "align": "left"
          },
          "hovermode": "closest",
          "mapbox": {
           "style": "light"
          },
          "paper_bgcolor": "white",
          "plot_bgcolor": "#E5ECF6",
          "polar": {
           "angularaxis": {
            "gridcolor": "white",
            "linecolor": "white",
            "ticks": ""
           },
           "bgcolor": "#E5ECF6",
           "radialaxis": {
            "gridcolor": "white",
            "linecolor": "white",
            "ticks": ""
           }
          },
          "scene": {
           "xaxis": {
            "backgroundcolor": "#E5ECF6",
            "gridcolor": "white",
            "gridwidth": 2,
            "linecolor": "white",
            "showbackground": true,
            "ticks": "",
            "zerolinecolor": "white"
           },
           "yaxis": {
            "backgroundcolor": "#E5ECF6",
            "gridcolor": "white",
            "gridwidth": 2,
            "linecolor": "white",
            "showbackground": true,
            "ticks": "",
            "zerolinecolor": "white"
           },
           "zaxis": {
            "backgroundcolor": "#E5ECF6",
            "gridcolor": "white",
            "gridwidth": 2,
            "linecolor": "white",
            "showbackground": true,
            "ticks": "",
            "zerolinecolor": "white"
           }
          },
          "shapedefaults": {
           "line": {
            "color": "#2a3f5f"
           }
          },
          "ternary": {
           "aaxis": {
            "gridcolor": "white",
            "linecolor": "white",
            "ticks": ""
           },
           "baxis": {
            "gridcolor": "white",
            "linecolor": "white",
            "ticks": ""
           },
           "bgcolor": "#E5ECF6",
           "caxis": {
            "gridcolor": "white",
            "linecolor": "white",
            "ticks": ""
           }
          },
          "title": {
           "x": 0.05
          },
          "xaxis": {
           "automargin": true,
           "gridcolor": "white",
           "linecolor": "white",
           "ticks": "",
           "title": {
            "standoff": 15
           },
           "zerolinecolor": "white",
           "zerolinewidth": 2
          },
          "yaxis": {
           "automargin": true,
           "gridcolor": "white",
           "linecolor": "white",
           "ticks": "",
           "title": {
            "standoff": 15
           },
           "zerolinecolor": "white",
           "zerolinewidth": 2
          }
         }
        }
       }
      },
      "text/html": [
       "<div>                            <div id=\"43940948-5b92-4b88-a328-5100f5c28151\" class=\"plotly-graph-div\" style=\"height:525px; width:100%;\"></div>            <script type=\"text/javascript\">                require([\"plotly\"], function(Plotly) {                    window.PLOTLYENV=window.PLOTLYENV || {};                                    if (document.getElementById(\"43940948-5b92-4b88-a328-5100f5c28151\")) {                    Plotly.newPlot(                        \"43940948-5b92-4b88-a328-5100f5c28151\",                        [{\"branchvalues\":\"total\",\"customdata\":[[\" 100% Whole Wheat Bread\",10.0],[\" Apple Honeycrisp Organic\",12.0],[\" Asparagus\",10.0],[\" Bag of Organic Bananas\",30.0],[\" Banana\",54.0],[\" Boneless Skinless Chicken Breasts\",10.0],[\" Broccoli Crown\",13.0],[\" Bunch\",16.0],[\" Carrots\",10.0],[\" Extra Virgin Olive Oil\",10.0],[\" Fresh Cauliflower\",15.0],[\" Garlic\",11.0],[\" Granny Smith Apples\",11.0],[\" Green Bell Pepper\",10.0],[\" Hass Avocados\",12.0],[\" Honeycrisp Apple\",12.0],[\" Large Lemon\",34.0],[\" Limes\",19.0],[\" Organic Avocado\",21.0],[\" Organic Baby Arugula\",13.0],[\" Organic Baby Carrots\",21.0],[\" Organic Baby Spinach\",38.0],[\" Organic Banana\",9.0],[\" Organic Blueberries\",22.0],[\" Organic Cilantro\",11.0],[\" Organic Cucumber\",25.0],[\" Organic Fuji Apple\",12.0],[\" Organic Gala Apples\",13.0],[\" Organic Garlic\",15.0],[\" Organic Garnet Sweet Potato (Yam)\",13.0],[\" Organic Grade A Free Range Large Brown Eggs\",10.0],[\" Organic Granny Smith Apple\",10.0],[\" Organic Grape Tomatoes\",16.0],[\" Organic Hass Avocado\",22.0],[\" Organic Large Extra Fancy Fuji Apple\",15.0],[\" Organic Lemon\",11.0],[\" Organic Raspberries\",14.0],[\" Organic Red Bell Pepper\",14.0],[\" Organic Red Onion\",11.0],[\" Organic Red Radish\",10.0],[\" Organic Strawberries\",41.0],[\" Organic Whole Milk\",13.0],[\" Organic Yellow Onion\",14.0],[\" Organic Zucchini\",14.0],[\" Red Peppers\",14.0],[\" Seedless Red Grapes\",13.0],[\" Small Hass Avocado\",11.0],[\" Strawberries\",27.0],[\"Bag of Organic Bananas\",13.0],[\"Banana\",22.0],[\"(?)\",21.49818621523579]],\"domain\":{\"x\":[0.0,1.0],\"y\":[0.0,1.0]},\"hovertemplate\":\"labels=%{label}<br>transactions=%{value}<br>parent=%{parent}<br>id=%{id}<br>items=%{customdata[0]}<br>color=%{color}<extra></extra>\",\"ids\":[\"Tree Map/ 100% Whole Wheat Bread\",\"Tree Map/ Apple Honeycrisp Organic\",\"Tree Map/ Asparagus\",\"Tree Map/ Bag of Organic Bananas\",\"Tree Map/ Banana\",\"Tree Map/ Boneless Skinless Chicken Breasts\",\"Tree Map/ Broccoli Crown\",\"Tree Map/ Bunch\",\"Tree Map/ Carrots\",\"Tree Map/ Extra Virgin Olive Oil\",\"Tree Map/ Fresh Cauliflower\",\"Tree Map/ Garlic\",\"Tree Map/ Granny Smith Apples\",\"Tree Map/ Green Bell Pepper\",\"Tree Map/ Hass Avocados\",\"Tree Map/ Honeycrisp Apple\",\"Tree Map/ Large Lemon\",\"Tree Map/ Limes\",\"Tree Map/ Organic Avocado\",\"Tree Map/ Organic Baby Arugula\",\"Tree Map/ Organic Baby Carrots\",\"Tree Map/ Organic Baby Spinach\",\"Tree Map/ Organic Banana\",\"Tree Map/ Organic Blueberries\",\"Tree Map/ Organic Cilantro\",\"Tree Map/ Organic Cucumber\",\"Tree Map/ Organic Fuji Apple\",\"Tree Map/ Organic Gala Apples\",\"Tree Map/ Organic Garlic\",\"Tree Map/ Organic Garnet Sweet Potato (Yam)\",\"Tree Map/ Organic Grade A Free Range Large Brown Eggs\",\"Tree Map/ Organic Granny Smith Apple\",\"Tree Map/ Organic Grape Tomatoes\",\"Tree Map/ Organic Hass Avocado\",\"Tree Map/ Organic Large Extra Fancy Fuji Apple\",\"Tree Map/ Organic Lemon\",\"Tree Map/ Organic Raspberries\",\"Tree Map/ Organic Red Bell Pepper\",\"Tree Map/ Organic Red Onion\",\"Tree Map/ Organic Red Radish\",\"Tree Map/ Organic Strawberries\",\"Tree Map/ Organic Whole Milk\",\"Tree Map/ Organic Yellow Onion\",\"Tree Map/ Organic Zucchini\",\"Tree Map/ Red Peppers\",\"Tree Map/ Seedless Red Grapes\",\"Tree Map/ Small Hass Avocado\",\"Tree Map/ Strawberries\",\"Tree Map/Bag of Organic Bananas\",\"Tree Map/Banana\",\"Tree Map\"],\"labels\":[\" 100% Whole Wheat Bread\",\" Apple Honeycrisp Organic\",\" Asparagus\",\" Bag of Organic Bananas\",\" Banana\",\" Boneless Skinless Chicken Breasts\",\" Broccoli Crown\",\" Bunch\",\" Carrots\",\" Extra Virgin Olive Oil\",\" Fresh Cauliflower\",\" Garlic\",\" Granny Smith Apples\",\" Green Bell Pepper\",\" Hass Avocados\",\" Honeycrisp Apple\",\" Large Lemon\",\" Limes\",\" Organic Avocado\",\" Organic Baby Arugula\",\" Organic Baby Carrots\",\" Organic Baby Spinach\",\" Organic Banana\",\" Organic Blueberries\",\" Organic Cilantro\",\" Organic Cucumber\",\" Organic Fuji Apple\",\" Organic Gala Apples\",\" Organic Garlic\",\" Organic Garnet Sweet Potato (Yam)\",\" Organic Grade A Free Range Large Brown Eggs\",\" Organic Granny Smith Apple\",\" Organic Grape Tomatoes\",\" Organic Hass Avocado\",\" Organic Large Extra Fancy Fuji Apple\",\" Organic Lemon\",\" Organic Raspberries\",\" Organic Red Bell Pepper\",\" Organic Red Onion\",\" Organic Red Radish\",\" Organic Strawberries\",\" Organic Whole Milk\",\" Organic Yellow Onion\",\" Organic Zucchini\",\" Red Peppers\",\" Seedless Red Grapes\",\" Small Hass Avocado\",\" Strawberries\",\"Bag of Organic Bananas\",\"Banana\",\"Tree Map\"],\"marker\":{\"coloraxis\":\"coloraxis\",\"colors\":[10.0,12.0,10.0,30.0,54.0,10.0,13.0,16.0,10.0,10.0,15.0,11.0,11.0,10.0,12.0,12.0,34.0,19.0,21.0,13.0,21.0,38.0,9.0,22.0,11.0,25.0,12.0,13.0,15.0,13.0,10.0,10.0,16.0,22.0,15.0,11.0,14.0,14.0,11.0,10.0,41.0,13.0,14.0,14.0,14.0,13.0,11.0,27.0,13.0,22.0,21.49818621523579]},\"name\":\"\",\"parents\":[\"Tree Map\",\"Tree Map\",\"Tree Map\",\"Tree Map\",\"Tree Map\",\"Tree Map\",\"Tree Map\",\"Tree Map\",\"Tree Map\",\"Tree Map\",\"Tree Map\",\"Tree Map\",\"Tree Map\",\"Tree Map\",\"Tree Map\",\"Tree Map\",\"Tree Map\",\"Tree Map\",\"Tree Map\",\"Tree Map\",\"Tree Map\",\"Tree Map\",\"Tree Map\",\"Tree Map\",\"Tree Map\",\"Tree Map\",\"Tree Map\",\"Tree Map\",\"Tree Map\",\"Tree Map\",\"Tree Map\",\"Tree Map\",\"Tree Map\",\"Tree Map\",\"Tree Map\",\"Tree Map\",\"Tree Map\",\"Tree Map\",\"Tree Map\",\"Tree Map\",\"Tree Map\",\"Tree Map\",\"Tree Map\",\"Tree Map\",\"Tree Map\",\"Tree Map\",\"Tree Map\",\"Tree Map\",\"Tree Map\",\"Tree Map\",\"\"],\"values\":[10,12,10,30,54,10,13,16,10,10,15,11,11,10,12,12,34,19,21,13,21,38,9,22,11,25,12,13,15,13,10,10,16,22,15,11,14,14,11,10,41,13,14,14,14,13,11,27,13,22,827],\"type\":\"treemap\"}],                        {\"template\":{\"data\":{\"histogram2dcontour\":[{\"type\":\"histogram2dcontour\",\"colorbar\":{\"outlinewidth\":0,\"ticks\":\"\"},\"colorscale\":[[0.0,\"#0d0887\"],[0.1111111111111111,\"#46039f\"],[0.2222222222222222,\"#7201a8\"],[0.3333333333333333,\"#9c179e\"],[0.4444444444444444,\"#bd3786\"],[0.5555555555555556,\"#d8576b\"],[0.6666666666666666,\"#ed7953\"],[0.7777777777777778,\"#fb9f3a\"],[0.8888888888888888,\"#fdca26\"],[1.0,\"#f0f921\"]]}],\"choropleth\":[{\"type\":\"choropleth\",\"colorbar\":{\"outlinewidth\":0,\"ticks\":\"\"}}],\"histogram2d\":[{\"type\":\"histogram2d\",\"colorbar\":{\"outlinewidth\":0,\"ticks\":\"\"},\"colorscale\":[[0.0,\"#0d0887\"],[0.1111111111111111,\"#46039f\"],[0.2222222222222222,\"#7201a8\"],[0.3333333333333333,\"#9c179e\"],[0.4444444444444444,\"#bd3786\"],[0.5555555555555556,\"#d8576b\"],[0.6666666666666666,\"#ed7953\"],[0.7777777777777778,\"#fb9f3a\"],[0.8888888888888888,\"#fdca26\"],[1.0,\"#f0f921\"]]}],\"heatmap\":[{\"type\":\"heatmap\",\"colorbar\":{\"outlinewidth\":0,\"ticks\":\"\"},\"colorscale\":[[0.0,\"#0d0887\"],[0.1111111111111111,\"#46039f\"],[0.2222222222222222,\"#7201a8\"],[0.3333333333333333,\"#9c179e\"],[0.4444444444444444,\"#bd3786\"],[0.5555555555555556,\"#d8576b\"],[0.6666666666666666,\"#ed7953\"],[0.7777777777777778,\"#fb9f3a\"],[0.8888888888888888,\"#fdca26\"],[1.0,\"#f0f921\"]]}],\"heatmapgl\":[{\"type\":\"heatmapgl\",\"colorbar\":{\"outlinewidth\":0,\"ticks\":\"\"},\"colorscale\":[[0.0,\"#0d0887\"],[0.1111111111111111,\"#46039f\"],[0.2222222222222222,\"#7201a8\"],[0.3333333333333333,\"#9c179e\"],[0.4444444444444444,\"#bd3786\"],[0.5555555555555556,\"#d8576b\"],[0.6666666666666666,\"#ed7953\"],[0.7777777777777778,\"#fb9f3a\"],[0.8888888888888888,\"#fdca26\"],[1.0,\"#f0f921\"]]}],\"contourcarpet\":[{\"type\":\"contourcarpet\",\"colorbar\":{\"outlinewidth\":0,\"ticks\":\"\"}}],\"contour\":[{\"type\":\"contour\",\"colorbar\":{\"outlinewidth\":0,\"ticks\":\"\"},\"colorscale\":[[0.0,\"#0d0887\"],[0.1111111111111111,\"#46039f\"],[0.2222222222222222,\"#7201a8\"],[0.3333333333333333,\"#9c179e\"],[0.4444444444444444,\"#bd3786\"],[0.5555555555555556,\"#d8576b\"],[0.6666666666666666,\"#ed7953\"],[0.7777777777777778,\"#fb9f3a\"],[0.8888888888888888,\"#fdca26\"],[1.0,\"#f0f921\"]]}],\"surface\":[{\"type\":\"surface\",\"colorbar\":{\"outlinewidth\":0,\"ticks\":\"\"},\"colorscale\":[[0.0,\"#0d0887\"],[0.1111111111111111,\"#46039f\"],[0.2222222222222222,\"#7201a8\"],[0.3333333333333333,\"#9c179e\"],[0.4444444444444444,\"#bd3786\"],[0.5555555555555556,\"#d8576b\"],[0.6666666666666666,\"#ed7953\"],[0.7777777777777778,\"#fb9f3a\"],[0.8888888888888888,\"#fdca26\"],[1.0,\"#f0f921\"]]}],\"mesh3d\":[{\"type\":\"mesh3d\",\"colorbar\":{\"outlinewidth\":0,\"ticks\":\"\"}}],\"scatter\":[{\"fillpattern\":{\"fillmode\":\"overlay\",\"size\":10,\"solidity\":0.2},\"type\":\"scatter\"}],\"parcoords\":[{\"type\":\"parcoords\",\"line\":{\"colorbar\":{\"outlinewidth\":0,\"ticks\":\"\"}}}],\"scatterpolargl\":[{\"type\":\"scatterpolargl\",\"marker\":{\"colorbar\":{\"outlinewidth\":0,\"ticks\":\"\"}}}],\"bar\":[{\"error_x\":{\"color\":\"#2a3f5f\"},\"error_y\":{\"color\":\"#2a3f5f\"},\"marker\":{\"line\":{\"color\":\"#E5ECF6\",\"width\":0.5},\"pattern\":{\"fillmode\":\"overlay\",\"size\":10,\"solidity\":0.2}},\"type\":\"bar\"}],\"scattergeo\":[{\"type\":\"scattergeo\",\"marker\":{\"colorbar\":{\"outlinewidth\":0,\"ticks\":\"\"}}}],\"scatterpolar\":[{\"type\":\"scatterpolar\",\"marker\":{\"colorbar\":{\"outlinewidth\":0,\"ticks\":\"\"}}}],\"histogram\":[{\"marker\":{\"pattern\":{\"fillmode\":\"overlay\",\"size\":10,\"solidity\":0.2}},\"type\":\"histogram\"}],\"scattergl\":[{\"type\":\"scattergl\",\"marker\":{\"colorbar\":{\"outlinewidth\":0,\"ticks\":\"\"}}}],\"scatter3d\":[{\"type\":\"scatter3d\",\"line\":{\"colorbar\":{\"outlinewidth\":0,\"ticks\":\"\"}},\"marker\":{\"colorbar\":{\"outlinewidth\":0,\"ticks\":\"\"}}}],\"scattermapbox\":[{\"type\":\"scattermapbox\",\"marker\":{\"colorbar\":{\"outlinewidth\":0,\"ticks\":\"\"}}}],\"scatterternary\":[{\"type\":\"scatterternary\",\"marker\":{\"colorbar\":{\"outlinewidth\":0,\"ticks\":\"\"}}}],\"scattercarpet\":[{\"type\":\"scattercarpet\",\"marker\":{\"colorbar\":{\"outlinewidth\":0,\"ticks\":\"\"}}}],\"carpet\":[{\"aaxis\":{\"endlinecolor\":\"#2a3f5f\",\"gridcolor\":\"white\",\"linecolor\":\"white\",\"minorgridcolor\":\"white\",\"startlinecolor\":\"#2a3f5f\"},\"baxis\":{\"endlinecolor\":\"#2a3f5f\",\"gridcolor\":\"white\",\"linecolor\":\"white\",\"minorgridcolor\":\"white\",\"startlinecolor\":\"#2a3f5f\"},\"type\":\"carpet\"}],\"table\":[{\"cells\":{\"fill\":{\"color\":\"#EBF0F8\"},\"line\":{\"color\":\"white\"}},\"header\":{\"fill\":{\"color\":\"#C8D4E3\"},\"line\":{\"color\":\"white\"}},\"type\":\"table\"}],\"barpolar\":[{\"marker\":{\"line\":{\"color\":\"#E5ECF6\",\"width\":0.5},\"pattern\":{\"fillmode\":\"overlay\",\"size\":10,\"solidity\":0.2}},\"type\":\"barpolar\"}],\"pie\":[{\"automargin\":true,\"type\":\"pie\"}]},\"layout\":{\"autotypenumbers\":\"strict\",\"colorway\":[\"#636efa\",\"#EF553B\",\"#00cc96\",\"#ab63fa\",\"#FFA15A\",\"#19d3f3\",\"#FF6692\",\"#B6E880\",\"#FF97FF\",\"#FECB52\"],\"font\":{\"color\":\"#2a3f5f\"},\"hovermode\":\"closest\",\"hoverlabel\":{\"align\":\"left\"},\"paper_bgcolor\":\"white\",\"plot_bgcolor\":\"#E5ECF6\",\"polar\":{\"bgcolor\":\"#E5ECF6\",\"angularaxis\":{\"gridcolor\":\"white\",\"linecolor\":\"white\",\"ticks\":\"\"},\"radialaxis\":{\"gridcolor\":\"white\",\"linecolor\":\"white\",\"ticks\":\"\"}},\"ternary\":{\"bgcolor\":\"#E5ECF6\",\"aaxis\":{\"gridcolor\":\"white\",\"linecolor\":\"white\",\"ticks\":\"\"},\"baxis\":{\"gridcolor\":\"white\",\"linecolor\":\"white\",\"ticks\":\"\"},\"caxis\":{\"gridcolor\":\"white\",\"linecolor\":\"white\",\"ticks\":\"\"}},\"coloraxis\":{\"colorbar\":{\"outlinewidth\":0,\"ticks\":\"\"}},\"colorscale\":{\"sequential\":[[0.0,\"#0d0887\"],[0.1111111111111111,\"#46039f\"],[0.2222222222222222,\"#7201a8\"],[0.3333333333333333,\"#9c179e\"],[0.4444444444444444,\"#bd3786\"],[0.5555555555555556,\"#d8576b\"],[0.6666666666666666,\"#ed7953\"],[0.7777777777777778,\"#fb9f3a\"],[0.8888888888888888,\"#fdca26\"],[1.0,\"#f0f921\"]],\"sequentialminus\":[[0.0,\"#0d0887\"],[0.1111111111111111,\"#46039f\"],[0.2222222222222222,\"#7201a8\"],[0.3333333333333333,\"#9c179e\"],[0.4444444444444444,\"#bd3786\"],[0.5555555555555556,\"#d8576b\"],[0.6666666666666666,\"#ed7953\"],[0.7777777777777778,\"#fb9f3a\"],[0.8888888888888888,\"#fdca26\"],[1.0,\"#f0f921\"]],\"diverging\":[[0,\"#8e0152\"],[0.1,\"#c51b7d\"],[0.2,\"#de77ae\"],[0.3,\"#f1b6da\"],[0.4,\"#fde0ef\"],[0.5,\"#f7f7f7\"],[0.6,\"#e6f5d0\"],[0.7,\"#b8e186\"],[0.8,\"#7fbc41\"],[0.9,\"#4d9221\"],[1,\"#276419\"]]},\"xaxis\":{\"gridcolor\":\"white\",\"linecolor\":\"white\",\"ticks\":\"\",\"title\":{\"standoff\":15},\"zerolinecolor\":\"white\",\"automargin\":true,\"zerolinewidth\":2},\"yaxis\":{\"gridcolor\":\"white\",\"linecolor\":\"white\",\"ticks\":\"\",\"title\":{\"standoff\":15},\"zerolinecolor\":\"white\",\"automargin\":true,\"zerolinewidth\":2},\"scene\":{\"xaxis\":{\"backgroundcolor\":\"#E5ECF6\",\"gridcolor\":\"white\",\"linecolor\":\"white\",\"showbackground\":true,\"ticks\":\"\",\"zerolinecolor\":\"white\",\"gridwidth\":2},\"yaxis\":{\"backgroundcolor\":\"#E5ECF6\",\"gridcolor\":\"white\",\"linecolor\":\"white\",\"showbackground\":true,\"ticks\":\"\",\"zerolinecolor\":\"white\",\"gridwidth\":2},\"zaxis\":{\"backgroundcolor\":\"#E5ECF6\",\"gridcolor\":\"white\",\"linecolor\":\"white\",\"showbackground\":true,\"ticks\":\"\",\"zerolinecolor\":\"white\",\"gridwidth\":2}},\"shapedefaults\":{\"line\":{\"color\":\"#2a3f5f\"}},\"annotationdefaults\":{\"arrowcolor\":\"#2a3f5f\",\"arrowhead\":0,\"arrowwidth\":1},\"geo\":{\"bgcolor\":\"white\",\"landcolor\":\"#E5ECF6\",\"subunitcolor\":\"white\",\"showland\":true,\"showlakes\":true,\"lakecolor\":\"white\"},\"title\":{\"x\":0.05},\"mapbox\":{\"style\":\"light\"}}},\"coloraxis\":{\"colorbar\":{\"title\":{\"text\":\"color\"}},\"colorscale\":[[0.0,\"rgb(247,251,255)\"],[0.125,\"rgb(222,235,247)\"],[0.25,\"rgb(198,219,239)\"],[0.375,\"rgb(158,202,225)\"],[0.5,\"rgb(107,174,214)\"],[0.625,\"rgb(66,146,198)\"],[0.75,\"rgb(33,113,181)\"],[0.875,\"rgb(8,81,156)\"],[1.0,\"rgb(8,48,107)\"]]},\"legend\":{\"tracegroupgap\":0},\"margin\":{\"t\":60}},                        {\"responsive\": true}                    ).then(function(){\n",
       "                            \n",
       "var gd = document.getElementById('43940948-5b92-4b88-a328-5100f5c28151');\n",
       "var x = new MutationObserver(function (mutations, observer) {{\n",
       "        var display = window.getComputedStyle(gd).display;\n",
       "        if (!display || display === 'none') {{\n",
       "            console.log([gd, 'removed!']);\n",
       "            Plotly.purge(gd);\n",
       "            observer.disconnect();\n",
       "        }}\n",
       "}});\n",
       "\n",
       "// Listen for the removal of the full notebook cells\n",
       "var notebookContainer = gd.closest('#notebook-container');\n",
       "if (notebookContainer) {{\n",
       "    x.observe(notebookContainer, {childList: true});\n",
       "}}\n",
       "\n",
       "// Listen for the clearing of the current output cell\n",
       "var outputEl = gd.closest('.output');\n",
       "if (outputEl) {{\n",
       "    x.observe(outputEl, {childList: true});\n",
       "}}\n",
       "\n",
       "                        })                };                });            </script>        </div>"
      ]
     },
     "metadata": {},
     "output_type": "display_data"
    }
   ],
   "source": [
    "# to have a same origin\n",
    "df_table[\"all\"] = \"Tree Map\" \n",
    "# creating tree map using plotly\n",
    "fig = px.treemap(df_table.head(50), path=['all', \"items\"], values='transactions',\n",
    "                  color=df_table[\"transactions\"].head(50), hover_data=['items'],\n",
    "                  color_continuous_scale='Blues',\n",
    "                )\n",
    "# ploting the treemap\n",
    "fig.show()"
   ]
  },
  {
   "cell_type": "code",
   "execution_count": 30,
   "metadata": {},
   "outputs": [
    {
     "name": "stdout",
     "output_type": "stream",
     "text": [
      "Combination 2 by 2\n"
     ]
    },
    {
     "name": "stderr",
     "output_type": "stream",
     "text": [
      "10011it [20:27,  8.15it/s]\n"
     ]
    }
   ],
   "source": [
    "# Start the timer\n",
    "start_time = time.time()\n",
    "\n",
    "# the item shoud appear at least at 1% of transactions\n",
    "min_support = 0.01\n",
    "# start from transactions containing at least 2 items\n",
    "min_combination = 2\n",
    "rule_indices, rule_supports = eclat.fit(min_support=min_support,\n",
    "                                                 min_combination=min_combination,\n",
    "                                                 max_combination=2,\n",
    "                                                 separator=' & ',\n",
    "                                                 verbose=True)\n",
    "\n",
    "elapsed_eclat = time.time() - start_time"
   ]
  },
  {
   "cell_type": "code",
   "execution_count": 31,
   "metadata": {},
   "outputs": [
    {
     "data": {
      "text/html": [
       "<div>\n",
       "<style scoped>\n",
       "    .dataframe tbody tr th:only-of-type {\n",
       "        vertical-align: middle;\n",
       "    }\n",
       "\n",
       "    .dataframe tbody tr th {\n",
       "        vertical-align: top;\n",
       "    }\n",
       "\n",
       "    .dataframe thead th {\n",
       "        text-align: right;\n",
       "    }\n",
       "</style>\n",
       "<table border=\"1\" class=\"dataframe\">\n",
       "  <thead>\n",
       "    <tr style=\"text-align: right;\">\n",
       "      <th></th>\n",
       "      <th>Item</th>\n",
       "      <th>support</th>\n",
       "    </tr>\n",
       "  </thead>\n",
       "  <tbody>\n",
       "    <tr>\n",
       "      <th>38</th>\n",
       "      <td>Bunch &amp;  Organic Red Radish</td>\n",
       "      <td>0.020</td>\n",
       "    </tr>\n",
       "    <tr>\n",
       "      <th>4</th>\n",
       "      <td>Organic Baby Spinach &amp;  Banana</td>\n",
       "      <td>0.020</td>\n",
       "    </tr>\n",
       "    <tr>\n",
       "      <th>3</th>\n",
       "      <td>Organic Baby Spinach &amp;  Large Lemon</td>\n",
       "      <td>0.016</td>\n",
       "    </tr>\n",
       "    <tr>\n",
       "      <th>30</th>\n",
       "      <td>Organic Hass Avocado &amp;  Organic Strawberries</td>\n",
       "      <td>0.016</td>\n",
       "    </tr>\n",
       "    <tr>\n",
       "      <th>6</th>\n",
       "      <td>Organic Baby Spinach &amp;  Organic Garnet Sweet ...</td>\n",
       "      <td>0.016</td>\n",
       "    </tr>\n",
       "    <tr>\n",
       "      <th>39</th>\n",
       "      <td>Organic Cucumber &amp;  Organic Strawberries</td>\n",
       "      <td>0.016</td>\n",
       "    </tr>\n",
       "    <tr>\n",
       "      <th>34</th>\n",
       "      <td>Banana &amp;  Organic Strawberries</td>\n",
       "      <td>0.016</td>\n",
       "    </tr>\n",
       "    <tr>\n",
       "      <th>0</th>\n",
       "      <td>Organic Baby Spinach &amp;  Bag of Organic Bananas</td>\n",
       "      <td>0.014</td>\n",
       "    </tr>\n",
       "    <tr>\n",
       "      <th>25</th>\n",
       "      <td>Large Lemon &amp;  Organic Cucumber</td>\n",
       "      <td>0.014</td>\n",
       "    </tr>\n",
       "    <tr>\n",
       "      <th>23</th>\n",
       "      <td>Large Lemon &amp;  Organic Garlic</td>\n",
       "      <td>0.014</td>\n",
       "    </tr>\n",
       "    <tr>\n",
       "      <th>12</th>\n",
       "      <td>Bag of Organic Bananas &amp;  Organic Strawberries</td>\n",
       "      <td>0.014</td>\n",
       "    </tr>\n",
       "    <tr>\n",
       "      <th>27</th>\n",
       "      <td>Baby Bok Choy &amp;  Super Spinach! Baby Spinach</td>\n",
       "      <td>0.014</td>\n",
       "    </tr>\n",
       "    <tr>\n",
       "      <th>10</th>\n",
       "      <td>Sweet Baby Kale &amp;  Super Spinach! Baby Spinach</td>\n",
       "      <td>0.014</td>\n",
       "    </tr>\n",
       "    <tr>\n",
       "      <th>9</th>\n",
       "      <td>Sweet Baby Kale &amp;  Baby Bok Choy</td>\n",
       "      <td>0.014</td>\n",
       "    </tr>\n",
       "    <tr>\n",
       "      <th>5</th>\n",
       "      <td>Organic Baby Spinach &amp;  Organic Baby Arugula</td>\n",
       "      <td>0.014</td>\n",
       "    </tr>\n",
       "    <tr>\n",
       "      <th>13</th>\n",
       "      <td>Hass Avocados &amp;  Organic Strawberries</td>\n",
       "      <td>0.012</td>\n",
       "    </tr>\n",
       "    <tr>\n",
       "      <th>35</th>\n",
       "      <td>Flat Parsley &amp;  Bunch</td>\n",
       "      <td>0.012</td>\n",
       "    </tr>\n",
       "    <tr>\n",
       "      <th>19</th>\n",
       "      <td>Limes &amp;  Organic Strawberries</td>\n",
       "      <td>0.012</td>\n",
       "    </tr>\n",
       "    <tr>\n",
       "      <th>31</th>\n",
       "      <td>Honeycrisp Apple &amp;  Banana</td>\n",
       "      <td>0.012</td>\n",
       "    </tr>\n",
       "    <tr>\n",
       "      <th>22</th>\n",
       "      <td>Large Lemon &amp;  Organic Baby Arugula</td>\n",
       "      <td>0.012</td>\n",
       "    </tr>\n",
       "    <tr>\n",
       "      <th>8</th>\n",
       "      <td>Organic Baby Spinach &amp;  Organic Avocado</td>\n",
       "      <td>0.012</td>\n",
       "    </tr>\n",
       "    <tr>\n",
       "      <th>2</th>\n",
       "      <td>Organic Baby Spinach &amp;  Limes</td>\n",
       "      <td>0.012</td>\n",
       "    </tr>\n",
       "    <tr>\n",
       "      <th>28</th>\n",
       "      <td>Organic Hass Avocado &amp;  Organic Garnet Sweet ...</td>\n",
       "      <td>0.010</td>\n",
       "    </tr>\n",
       "    <tr>\n",
       "      <th>36</th>\n",
       "      <td>Organic Baby Arugula &amp;  Organic Garlic</td>\n",
       "      <td>0.010</td>\n",
       "    </tr>\n",
       "    <tr>\n",
       "      <th>33</th>\n",
       "      <td>Banana &amp;  Bunch</td>\n",
       "      <td>0.010</td>\n",
       "    </tr>\n",
       "    <tr>\n",
       "      <th>32</th>\n",
       "      <td>Seedless Red Grapes &amp;  Banana</td>\n",
       "      <td>0.010</td>\n",
       "    </tr>\n",
       "    <tr>\n",
       "      <th>29</th>\n",
       "      <td>Organic Hass Avocado &amp;  Organic Cucumber</td>\n",
       "      <td>0.010</td>\n",
       "    </tr>\n",
       "    <tr>\n",
       "      <th>37</th>\n",
       "      <td>Organic Avocado &amp;  Organic Strawberries</td>\n",
       "      <td>0.010</td>\n",
       "    </tr>\n",
       "    <tr>\n",
       "      <th>20</th>\n",
       "      <td>Large Lemon &amp;  Organic Hass Avocado</td>\n",
       "      <td>0.010</td>\n",
       "    </tr>\n",
       "    <tr>\n",
       "      <th>26</th>\n",
       "      <td>Large Lemon &amp;  Organic Strawberries</td>\n",
       "      <td>0.010</td>\n",
       "    </tr>\n",
       "    <tr>\n",
       "      <th>24</th>\n",
       "      <td>Large Lemon &amp;  Organic Avocado</td>\n",
       "      <td>0.010</td>\n",
       "    </tr>\n",
       "    <tr>\n",
       "      <th>21</th>\n",
       "      <td>Large Lemon &amp;  Banana</td>\n",
       "      <td>0.010</td>\n",
       "    </tr>\n",
       "    <tr>\n",
       "      <th>1</th>\n",
       "      <td>Organic Baby Spinach &amp;  Organic Grape Tomatoes</td>\n",
       "      <td>0.010</td>\n",
       "    </tr>\n",
       "    <tr>\n",
       "      <th>18</th>\n",
       "      <td>Limes &amp;  Organic Garnet Sweet Potato (Yam)</td>\n",
       "      <td>0.010</td>\n",
       "    </tr>\n",
       "    <tr>\n",
       "      <th>17</th>\n",
       "      <td>Limes &amp;  Organic Cilantro</td>\n",
       "      <td>0.010</td>\n",
       "    </tr>\n",
       "    <tr>\n",
       "      <th>16</th>\n",
       "      <td>Limes &amp;  Banana</td>\n",
       "      <td>0.010</td>\n",
       "    </tr>\n",
       "    <tr>\n",
       "      <th>15</th>\n",
       "      <td>Broccoli Crown &amp;  Organic Cucumber</td>\n",
       "      <td>0.010</td>\n",
       "    </tr>\n",
       "    <tr>\n",
       "      <th>14</th>\n",
       "      <td>Broccoli Crown &amp;  Large Lemon</td>\n",
       "      <td>0.010</td>\n",
       "    </tr>\n",
       "    <tr>\n",
       "      <th>11</th>\n",
       "      <td>Bag of Organic Bananas &amp;  Large Lemon</td>\n",
       "      <td>0.010</td>\n",
       "    </tr>\n",
       "    <tr>\n",
       "      <th>7</th>\n",
       "      <td>Organic Baby Spinach &amp;  Organic Garlic</td>\n",
       "      <td>0.010</td>\n",
       "    </tr>\n",
       "    <tr>\n",
       "      <th>40</th>\n",
       "      <td>Organic Blueberries &amp;  Organic Strawberries</td>\n",
       "      <td>0.010</td>\n",
       "    </tr>\n",
       "  </tbody>\n",
       "</table>\n",
       "</div>"
      ],
      "text/plain": [
       "                                                 Item  support\n",
       "38                        Bunch &  Organic Red Radish    0.020\n",
       "4                      Organic Baby Spinach &  Banana    0.020\n",
       "3                 Organic Baby Spinach &  Large Lemon    0.016\n",
       "30       Organic Hass Avocado &  Organic Strawberries    0.016\n",
       "6    Organic Baby Spinach &  Organic Garnet Sweet ...    0.016\n",
       "39           Organic Cucumber &  Organic Strawberries    0.016\n",
       "34                     Banana &  Organic Strawberries    0.016\n",
       "0      Organic Baby Spinach &  Bag of Organic Bananas    0.014\n",
       "25                    Large Lemon &  Organic Cucumber    0.014\n",
       "23                      Large Lemon &  Organic Garlic    0.014\n",
       "12     Bag of Organic Bananas &  Organic Strawberries    0.014\n",
       "27       Baby Bok Choy &  Super Spinach! Baby Spinach    0.014\n",
       "10     Sweet Baby Kale &  Super Spinach! Baby Spinach    0.014\n",
       "9                    Sweet Baby Kale &  Baby Bok Choy    0.014\n",
       "5        Organic Baby Spinach &  Organic Baby Arugula    0.014\n",
       "13              Hass Avocados &  Organic Strawberries    0.012\n",
       "35                              Flat Parsley &  Bunch    0.012\n",
       "19                      Limes &  Organic Strawberries    0.012\n",
       "31                         Honeycrisp Apple &  Banana    0.012\n",
       "22                Large Lemon &  Organic Baby Arugula    0.012\n",
       "8             Organic Baby Spinach &  Organic Avocado    0.012\n",
       "2                       Organic Baby Spinach &  Limes    0.012\n",
       "28   Organic Hass Avocado &  Organic Garnet Sweet ...    0.010\n",
       "36             Organic Baby Arugula &  Organic Garlic    0.010\n",
       "33                                    Banana &  Bunch    0.010\n",
       "32                      Seedless Red Grapes &  Banana    0.010\n",
       "29           Organic Hass Avocado &  Organic Cucumber    0.010\n",
       "37            Organic Avocado &  Organic Strawberries    0.010\n",
       "20                Large Lemon &  Organic Hass Avocado    0.010\n",
       "26                Large Lemon &  Organic Strawberries    0.010\n",
       "24                     Large Lemon &  Organic Avocado    0.010\n",
       "21                              Large Lemon &  Banana    0.010\n",
       "1      Organic Baby Spinach &  Organic Grape Tomatoes    0.010\n",
       "18         Limes &  Organic Garnet Sweet Potato (Yam)    0.010\n",
       "17                          Limes &  Organic Cilantro    0.010\n",
       "16                                    Limes &  Banana    0.010\n",
       "15                 Broccoli Crown &  Organic Cucumber    0.010\n",
       "14                      Broccoli Crown &  Large Lemon    0.010\n",
       "11              Bag of Organic Bananas &  Large Lemon    0.010\n",
       "7              Organic Baby Spinach &  Organic Garlic    0.010\n",
       "40        Organic Blueberries &  Organic Strawberries    0.010"
      ]
     },
     "execution_count": 31,
     "metadata": {},
     "output_type": "execute_result"
    }
   ],
   "source": [
    "result = pd.DataFrame(rule_supports.items(),columns=['Item', 'support'])\n",
    "result.sort_values(by=['support'], ascending=False)"
   ]
  },
  {
   "attachments": {},
   "cell_type": "markdown",
   "metadata": {},
   "source": [
    "**<span style=\"color:#e0b53f\"> 🔍 The time is sooo long! and said out of memory... this is why we only made it work on 500 products</span>**\n",
    "\n",
    "Possible reasons:\n",
    "- There are so many products that the vertical flipping is not the right choice\n",
    "- Apriori and FP-growth in the mlxtend is very optimized and uses generators and other technologies to make it faster"
   ]
  },
  {
   "attachments": {},
   "cell_type": "markdown",
   "metadata": {},
   "source": [
    "## <span style=\"color:#6ebdfa\">4. Comparing performance and Accuracy of Association rules</span>"
   ]
  },
  {
   "attachments": {},
   "cell_type": "markdown",
   "metadata": {},
   "source": [
    "### <span style=\"color:#6ebdfa\">Complexity Analysis (the literature)</span>\n",
    "\n",
    "#### <span style=\"background-color: #6ebdfa;\">Apriori Algorithm Complexity</span>\n",
    "- Time Complexity:\n",
    "  - Generating frequent itemsets: O(n^2 * 2^m), where n is the number of transactions and m is the average number of items per transaction.\n",
    "  - Generating association rules: O(2^m)\n",
    "- Space Complexity: O(n * m), where n is the number of transactions and m is the average number of items per transaction.\n",
    "\n",
    "#### <span style=\"background-color: #6ebdfa;\"> FP-growth Algorithm Complexity</span>\n",
    "- Time Complexity:\n",
    "  - Building the FP-tree: O(n * m), where n is the number of transactions and m is the average number of items per transaction.\n",
    "  - Mining frequent itemsets: O(2^m)\n",
    "- Space Complexity: O(n * m), where n is the number of transactions and m is the average number of items per transaction.\n",
    "\n",
    "#### <span style=\"background-color: #6ebdfa;\">Eclat Algorithm Complexity</span>\n",
    "- Time Complexity:\n",
    "  - Building the vertical database: O(n * m), where n is the number of transactions and m is the average number of items per transaction.\n",
    "  - Mining frequent itemsets: O(3^m)\n",
    "- Space Complexity: O(n * m), where n is the number of transactions and m is the average number of items per transaction.\n",
    "\n",
    "📝 We will only measure the time taken for processing intracart, as we are comparing on this data, and what suits it more."
   ]
  },
  {
   "cell_type": "code",
   "execution_count": 32,
   "metadata": {},
   "outputs": [],
   "source": [
    "\n",
    "\n",
    "# Start the timer\n",
    "start_time = time.time()\n",
    "\n",
    "df_apriori = apriori(df_, min_support=0.01)\n",
    "rule_apriori = association_rules(df_apriori, metric=\"confidence\", min_threshold= 0.09)\n",
    "\n",
    "# Calculate the elapsed time\n",
    "elapsed_time_apriori = time.time() - start_time\n"
   ]
  },
  {
   "cell_type": "code",
   "execution_count": 33,
   "metadata": {},
   "outputs": [],
   "source": [
    "\n",
    "\n",
    "# Start the timer\n",
    "start_time = time.time()\n",
    "\n",
    "fp_growth_df = fpgrowth(df_, min_support=0.01, use_colnames=True)\n",
    "rule_fp_growth = association_rules(fp_growth_df, metric=\"confidence\", min_threshold= 0.09)\n",
    "\n",
    "# Calculate the elapsed time\n",
    "elapsed_time_fp_growth = time.time() - start_time\n"
   ]
  },
  {
   "cell_type": "code",
   "execution_count": 34,
   "metadata": {},
   "outputs": [
    {
     "data": {
      "image/png": "[encoded data removed]",
      "text/plain": [
       "<Figure size 432x288 with 1 Axes>"
      ]
     },
     "metadata": {
      "needs_background": "light"
     },
     "output_type": "display_data"
    }
   ],
   "source": [
    "x = [\"apriori\", \"fp-growth\", \"eclat of 500 transactions\"]\n",
    "y = [elapsed_time_apriori, elapsed_time_fp_growth, elapsed_eclat]\n",
    "\n",
    "plt.bar(x, y)\n",
    "plt.xlabel(\"Algorithm\")\n",
    "plt.ylabel(\"time in sec\")\n",
    "plt.title(\"Time Complexity\")\n",
    "plt.show()"
   ]
  },
  {
   "attachments": {},
   "cell_type": "markdown",
   "metadata": {},
   "source": [
    "**<span style=\"color:#e0b53f\"> 🔍 FP- growth seems the most suitable for this data in terms of speed!</span>**"
   ]
  },
  {
   "attachments": {},
   "cell_type": "markdown",
   "metadata": {},
   "source": [
    "### <span style=\"color:#6ebdfa\"> Accuracy by comparing the support, lift, confidence, conviction and leverage</span>\n"
   ]
  },
  {
   "cell_type": "code",
   "execution_count": 35,
   "metadata": {},
   "outputs": [],
   "source": [
    "# Calculate metrics\n",
    "support_apriori = rule_apriori[\"support\"]\n",
    "confidence_apriori = rule_apriori[\"confidence\"]\n",
    "lift_apriori = rule_apriori[\"lift\"]\n",
    "\n",
    "support_fpgrowth =rule_fp_growth[\"support\"]\n",
    "confidence_fpgrowth = rule_fp_growth[\"confidence\"]\n",
    "lift_fpgrowth = rule_fp_growth[\"lift\"]\n",
    "\n",
    "support_eclat = result[\"support\"] \n",
    "#confidence_eclat = rules_eclat[\"confidence\"]\n",
    "#lift_eclat = rules_eclat[\"lift\"]"
   ]
  },
  {
   "attachments": {},
   "cell_type": "markdown",
   "metadata": {},
   "source": [
    "### Support\n",
    "Support measures the frequency of occurrence of an itemset in the dataset. It indicates how popular or common an itemset is within the transactions."
   ]
  },
  {
   "cell_type": "code",
   "execution_count": 36,
   "metadata": {},
   "outputs": [
    {
     "ename": "ValueError",
     "evalue": "x and y must have same first dimension, but have shapes (26,) and (11,)",
     "output_type": "error",
     "traceback": [
      "\u001b[1;31m---------------------------------------------------------------------------\u001b[0m",
      "\u001b[1;31mValueError\u001b[0m                                Traceback (most recent call last)",
      "\u001b[1;32mc:\\Users\\Mariam Barakat\\Desktop\\Data mining\\projects\\project_basket_analysis\\Market_basket_analysis.ipynb Cell 63\u001b[0m in \u001b[0;36m<cell line: 11>\u001b[1;34m()\u001b[0m\n\u001b[0;32m      <a href='vscode-notebook-cell:/c%3A/Users/Mariam%20Barakat/Desktop/Data%20mining/projects/project_basket_analysis/Market_basket_analysis.ipynb#Y136sZmlsZQ%3D%3D?line=8'>9</a>\u001b[0m plt\u001b[39m.\u001b[39mplot(x, y1, label\u001b[39m=\u001b[39m\u001b[39m'\u001b[39m\u001b[39mApriori\u001b[39m\u001b[39m'\u001b[39m)\n\u001b[0;32m     <a href='vscode-notebook-cell:/c%3A/Users/Mariam%20Barakat/Desktop/Data%20mining/projects/project_basket_analysis/Market_basket_analysis.ipynb#Y136sZmlsZQ%3D%3D?line=9'>10</a>\u001b[0m plt\u001b[39m.\u001b[39mplot(x, y2, label\u001b[39m=\u001b[39m\u001b[39m'\u001b[39m\u001b[39mFP-Growth\u001b[39m\u001b[39m'\u001b[39m)\n\u001b[1;32m---> <a href='vscode-notebook-cell:/c%3A/Users/Mariam%20Barakat/Desktop/Data%20mining/projects/project_basket_analysis/Market_basket_analysis.ipynb#Y136sZmlsZQ%3D%3D?line=10'>11</a>\u001b[0m plt\u001b[39m.\u001b[39;49mplot(x, y3, label\u001b[39m=\u001b[39;49m\u001b[39m'\u001b[39;49m\u001b[39mECLAT\u001b[39;49m\u001b[39m'\u001b[39;49m)\n\u001b[0;32m     <a href='vscode-notebook-cell:/c%3A/Users/Mariam%20Barakat/Desktop/Data%20mining/projects/project_basket_analysis/Market_basket_analysis.ipynb#Y136sZmlsZQ%3D%3D?line=12'>13</a>\u001b[0m \u001b[39m# Add labels and title\u001b[39;00m\n\u001b[0;32m     <a href='vscode-notebook-cell:/c%3A/Users/Mariam%20Barakat/Desktop/Data%20mining/projects/project_basket_analysis/Market_basket_analysis.ipynb#Y136sZmlsZQ%3D%3D?line=13'>14</a>\u001b[0m plt\u001b[39m.\u001b[39mxlabel(\u001b[39m'\u001b[39m\u001b[39massociation\u001b[39m\u001b[39m'\u001b[39m)\n",
      "File \u001b[1;32md:\\python\\python38\\lib\\site-packages\\matplotlib\\pyplot.py:2769\u001b[0m, in \u001b[0;36mplot\u001b[1;34m(scalex, scaley, data, *args, **kwargs)\u001b[0m\n\u001b[0;32m   2767\u001b[0m \u001b[39m@_copy_docstring_and_deprecators\u001b[39m(Axes\u001b[39m.\u001b[39mplot)\n\u001b[0;32m   2768\u001b[0m \u001b[39mdef\u001b[39;00m \u001b[39mplot\u001b[39m(\u001b[39m*\u001b[39margs, scalex\u001b[39m=\u001b[39m\u001b[39mTrue\u001b[39;00m, scaley\u001b[39m=\u001b[39m\u001b[39mTrue\u001b[39;00m, data\u001b[39m=\u001b[39m\u001b[39mNone\u001b[39;00m, \u001b[39m*\u001b[39m\u001b[39m*\u001b[39mkwargs):\n\u001b[1;32m-> 2769\u001b[0m     \u001b[39mreturn\u001b[39;00m gca()\u001b[39m.\u001b[39;49mplot(\n\u001b[0;32m   2770\u001b[0m         \u001b[39m*\u001b[39;49margs, scalex\u001b[39m=\u001b[39;49mscalex, scaley\u001b[39m=\u001b[39;49mscaley,\n\u001b[0;32m   2771\u001b[0m         \u001b[39m*\u001b[39;49m\u001b[39m*\u001b[39;49m({\u001b[39m\"\u001b[39;49m\u001b[39mdata\u001b[39;49m\u001b[39m\"\u001b[39;49m: data} \u001b[39mif\u001b[39;49;00m data \u001b[39mis\u001b[39;49;00m \u001b[39mnot\u001b[39;49;00m \u001b[39mNone\u001b[39;49;00m \u001b[39melse\u001b[39;49;00m {}), \u001b[39m*\u001b[39;49m\u001b[39m*\u001b[39;49mkwargs)\n",
      "File \u001b[1;32md:\\python\\python38\\lib\\site-packages\\matplotlib\\axes\\_axes.py:1632\u001b[0m, in \u001b[0;36mAxes.plot\u001b[1;34m(self, scalex, scaley, data, *args, **kwargs)\u001b[0m\n\u001b[0;32m   1390\u001b[0m \u001b[39m\u001b[39m\u001b[39m\"\"\"\u001b[39;00m\n\u001b[0;32m   1391\u001b[0m \u001b[39mPlot y versus x as lines and/or markers.\u001b[39;00m\n\u001b[0;32m   1392\u001b[0m \n\u001b[1;32m   (...)\u001b[0m\n\u001b[0;32m   1629\u001b[0m \u001b[39m(``'green'``) or hex strings (``'#008000'``).\u001b[39;00m\n\u001b[0;32m   1630\u001b[0m \u001b[39m\"\"\"\u001b[39;00m\n\u001b[0;32m   1631\u001b[0m kwargs \u001b[39m=\u001b[39m cbook\u001b[39m.\u001b[39mnormalize_kwargs(kwargs, mlines\u001b[39m.\u001b[39mLine2D)\n\u001b[1;32m-> 1632\u001b[0m lines \u001b[39m=\u001b[39m [\u001b[39m*\u001b[39m\u001b[39mself\u001b[39m\u001b[39m.\u001b[39m_get_lines(\u001b[39m*\u001b[39margs, data\u001b[39m=\u001b[39mdata, \u001b[39m*\u001b[39m\u001b[39m*\u001b[39mkwargs)]\n\u001b[0;32m   1633\u001b[0m \u001b[39mfor\u001b[39;00m line \u001b[39min\u001b[39;00m lines:\n\u001b[0;32m   1634\u001b[0m     \u001b[39mself\u001b[39m\u001b[39m.\u001b[39madd_line(line)\n",
      "File \u001b[1;32md:\\python\\python38\\lib\\site-packages\\matplotlib\\axes\\_base.py:312\u001b[0m, in \u001b[0;36m_process_plot_var_args.__call__\u001b[1;34m(self, data, *args, **kwargs)\u001b[0m\n\u001b[0;32m    310\u001b[0m     this \u001b[39m+\u001b[39m\u001b[39m=\u001b[39m args[\u001b[39m0\u001b[39m],\n\u001b[0;32m    311\u001b[0m     args \u001b[39m=\u001b[39m args[\u001b[39m1\u001b[39m:]\n\u001b[1;32m--> 312\u001b[0m \u001b[39myield from\u001b[39;00m \u001b[39mself\u001b[39;49m\u001b[39m.\u001b[39;49m_plot_args(this, kwargs)\n",
      "File \u001b[1;32md:\\python\\python38\\lib\\site-packages\\matplotlib\\axes\\_base.py:498\u001b[0m, in \u001b[0;36m_process_plot_var_args._plot_args\u001b[1;34m(self, tup, kwargs, return_kwargs)\u001b[0m\n\u001b[0;32m    495\u001b[0m     \u001b[39mself\u001b[39m\u001b[39m.\u001b[39maxes\u001b[39m.\u001b[39myaxis\u001b[39m.\u001b[39mupdate_units(y)\n\u001b[0;32m    497\u001b[0m \u001b[39mif\u001b[39;00m x\u001b[39m.\u001b[39mshape[\u001b[39m0\u001b[39m] \u001b[39m!=\u001b[39m y\u001b[39m.\u001b[39mshape[\u001b[39m0\u001b[39m]:\n\u001b[1;32m--> 498\u001b[0m     \u001b[39mraise\u001b[39;00m \u001b[39mValueError\u001b[39;00m(\u001b[39mf\u001b[39m\u001b[39m\"\u001b[39m\u001b[39mx and y must have same first dimension, but \u001b[39m\u001b[39m\"\u001b[39m\n\u001b[0;32m    499\u001b[0m                      \u001b[39mf\u001b[39m\u001b[39m\"\u001b[39m\u001b[39mhave shapes \u001b[39m\u001b[39m{\u001b[39;00mx\u001b[39m.\u001b[39mshape\u001b[39m}\u001b[39;00m\u001b[39m and \u001b[39m\u001b[39m{\u001b[39;00my\u001b[39m.\u001b[39mshape\u001b[39m}\u001b[39;00m\u001b[39m\"\u001b[39m)\n\u001b[0;32m    500\u001b[0m \u001b[39mif\u001b[39;00m x\u001b[39m.\u001b[39mndim \u001b[39m>\u001b[39m \u001b[39m2\u001b[39m \u001b[39mor\u001b[39;00m y\u001b[39m.\u001b[39mndim \u001b[39m>\u001b[39m \u001b[39m2\u001b[39m:\n\u001b[0;32m    501\u001b[0m     \u001b[39mraise\u001b[39;00m \u001b[39mValueError\u001b[39;00m(\u001b[39mf\u001b[39m\u001b[39m\"\u001b[39m\u001b[39mx and y can be no greater than 2D, but have \u001b[39m\u001b[39m\"\u001b[39m\n\u001b[0;32m    502\u001b[0m                      \u001b[39mf\u001b[39m\u001b[39m\"\u001b[39m\u001b[39mshapes \u001b[39m\u001b[39m{\u001b[39;00mx\u001b[39m.\u001b[39mshape\u001b[39m}\u001b[39;00m\u001b[39m and \u001b[39m\u001b[39m{\u001b[39;00my\u001b[39m.\u001b[39mshape\u001b[39m}\u001b[39;00m\u001b[39m\"\u001b[39m)\n",
      "\u001b[1;31mValueError\u001b[0m: x and y must have same first dimension, but have shapes (26,) and (11,)"
     ]
    },
    {
     "data": {
      "image/png": "[encoded data removed]",
      "text/plain": [
       "<Figure size 432x288 with 1 Axes>"
      ]
     },
     "metadata": {
      "needs_background": "light"
     },
     "output_type": "display_data"
    }
   ],
   "source": [
    "# Sample data\n",
    "x =  [i for i in range(1, len(rule_apriori)+1)]  # x-axis values\n",
    "y1 = rule_apriori[\"support\"]  # y-axis values for DataFrame 1\n",
    "y2 = rule_fp_growth[\"support\"]  # y-axis values for DataFrame 2\n",
    "y3 = result[\"support\"].head(11)\n",
    "\n",
    "\n",
    "# Create a line graph\n",
    "plt.plot(x, y1, label='Apriori')\n",
    "plt.plot(x, y2, label='FP-Growth')\n",
    "plt.plot(x, y3, label='ECLAT')\n",
    "\n",
    "# Add labels and title\n",
    "plt.xlabel('association')\n",
    "plt.ylabel('Value')\n",
    "plt.title('Comparison of support')\n",
    "\n",
    "# Add a legend\n",
    "plt.legend()\n",
    "\n",
    "# Display the graph\n",
    "plt.show()\n"
   ]
  },
  {
   "attachments": {},
   "cell_type": "markdown",
   "metadata": {},
   "source": [
    "**<span style=\"color:#e0b53f\"> 🔍The eclat only uses support as a metrics</span>**"
   ]
  },
  {
   "cell_type": "code",
   "execution_count": null,
   "metadata": {},
   "outputs": [
    {
     "data": {
      "image/png": "[encoded data removed]",
      "text/plain": [
       "<Figure size 432x288 with 1 Axes>"
      ]
     },
     "metadata": {
      "needs_background": "light"
     },
     "output_type": "display_data"
    }
   ],
   "source": [
    "# Sample data\n",
    "x =  [i for i in range(1, len(rule_apriori)+1)]  # x-axis values\n",
    "y1 = rule_apriori[\"support\"].sort_values()  # y-axis values for DataFrame 1\n",
    "y2 = rule_fp_growth[\"support\"].sort_values()  # y-axis values for DataFrame 2\n",
    "\n",
    "\n",
    "# Create a line graph\n",
    "plt.plot(x, y1, label='Apriori')\n",
    "plt.plot(x, y2, label='FP-Growth')\n",
    "\n",
    "# Add labels and title\n",
    "plt.xlabel('association')\n",
    "plt.ylabel('Value')\n",
    "plt.title('Comparison of support')\n",
    "\n",
    "# Add a legend\n",
    "plt.legend()\n",
    "\n",
    "# Display the graph\n",
    "plt.show()\n"
   ]
  },
  {
   "attachments": {},
   "cell_type": "markdown",
   "metadata": {},
   "source": [
    "### Lift\n",
    "Lift measures the strength of association between the antecedent and consequent of a rule, taking into account the support of the rule and the individual supports of the antecedent and consequent."
   ]
  },
  {
   "cell_type": "code",
   "execution_count": null,
   "metadata": {},
   "outputs": [
    {
     "data": {
      "image/png": "[encoded data removed]",
      "text/plain": [
       "<Figure size 432x288 with 1 Axes>"
      ]
     },
     "metadata": {
      "needs_background": "light"
     },
     "output_type": "display_data"
    }
   ],
   "source": [
    "import matplotlib.pyplot as plt\n",
    "\n",
    "# Sample data\n",
    "x =  [i for i in range(1, len(rule_apriori)+1)]  # x-axis values\n",
    "y1 = rule_apriori[\"lift\"] # y-axis values for DataFrame 1\n",
    "y2 = rule_fp_growth[\"lift\"]  # y-axis values for DataFrame 2\n",
    "\n",
    "\n",
    "# Create a line graph\n",
    "plt.plot(x, y1, label='Apriori')\n",
    "plt.plot(x, y2, label='FP-Growth')\n",
    "\n",
    "# Add labels and title\n",
    "plt.xlabel('association')\n",
    "plt.ylabel('Value')\n",
    "plt.title('Comparison of lift')\n",
    "\n",
    "# Add a legend\n",
    "plt.legend()\n",
    "\n",
    "# Display the graph\n",
    "plt.show()\n"
   ]
  },
  {
   "cell_type": "code",
   "execution_count": null,
   "metadata": {},
   "outputs": [
    {
     "data": {
      "image/png": "[encoded data removed]",
      "text/plain": [
       "<Figure size 432x288 with 1 Axes>"
      ]
     },
     "metadata": {
      "needs_background": "light"
     },
     "output_type": "display_data"
    }
   ],
   "source": [
    "import matplotlib.pyplot as plt\n",
    "\n",
    "# Sample data\n",
    "x =  [i for i in range(1, len(rule_apriori)+1)]  # x-axis values\n",
    "y1 = rule_apriori[\"lift\"].sort_values() # y-axis values for DataFrame 1\n",
    "y2 = rule_fp_growth[\"lift\"].sort_values()  # y-axis values for DataFrame 2\n",
    "\n",
    "\n",
    "# Create a line graph\n",
    "plt.plot(x, y1, label='Apriori')\n",
    "plt.plot(x, y2, label='FP-Growth')\n",
    "\n",
    "# Add labels and title\n",
    "plt.xlabel('association')\n",
    "plt.ylabel('Value')\n",
    "plt.title('Comparison of lift')\n",
    "\n",
    "# Add a legend\n",
    "plt.legend()\n",
    "\n",
    "# Display the graph\n",
    "plt.show()\n"
   ]
  },
  {
   "attachments": {},
   "cell_type": "markdown",
   "metadata": {},
   "source": [
    "### Confidence\n",
    "Confidence measures the reliability or certainty of a rule. It represents the conditional probability of finding the consequent given the antecedent."
   ]
  },
  {
   "cell_type": "code",
   "execution_count": null,
   "metadata": {},
   "outputs": [
    {
     "data": {
      "image/png": "[encoded data removed]",
      "text/plain": [
       "<Figure size 432x288 with 1 Axes>"
      ]
     },
     "metadata": {
      "needs_background": "light"
     },
     "output_type": "display_data"
    }
   ],
   "source": [
    "import matplotlib.pyplot as plt\n",
    "\n",
    "# Sample data\n",
    "x =  [i for i in range(1, len(rule_apriori)+1)]  # x-axis values\n",
    "y1 = rule_apriori[\"confidence\"] # y-axis values for DataFrame 1\n",
    "y2 = rule_fp_growth[\"confidence\"]  # y-axis values for DataFrame 2\n",
    "\n",
    "\n",
    "# Create a line graph\n",
    "plt.plot(x, y1, label='Apriori')\n",
    "plt.plot(x, y2, label='FP-Growth')\n",
    "\n",
    "# Add labels and title\n",
    "plt.xlabel('association')\n",
    "plt.ylabel('Value')\n",
    "plt.title('Comparison of confidence')\n",
    "\n",
    "# Add a legend\n",
    "plt.legend()\n",
    "\n",
    "# Display the graph\n",
    "plt.show()\n"
   ]
  },
  {
   "cell_type": "code",
   "execution_count": null,
   "metadata": {},
   "outputs": [
    {
     "data": {
      "image/png": "[encoded data removed]",
      "text/plain": [
       "<Figure size 432x288 with 1 Axes>"
      ]
     },
     "metadata": {
      "needs_background": "light"
     },
     "output_type": "display_data"
    }
   ],
   "source": [
    "import matplotlib.pyplot as plt\n",
    "\n",
    "# Sample data\n",
    "x =  [i for i in range(1, len(rule_apriori)+1)]  # x-axis values\n",
    "y1 = rule_apriori[\"confidence\"].sort_values() # y-axis values for DataFrame 1\n",
    "y2 = rule_fp_growth[\"confidence\"].sort_values()  # y-axis values for DataFrame 2\n",
    "\n",
    "\n",
    "# Create a line graph\n",
    "plt.plot(x, y1, label='Apriori')\n",
    "plt.plot(x, y2, label='FP-Growth')\n",
    "\n",
    "# Add labels and title\n",
    "plt.xlabel('association')\n",
    "plt.ylabel('Value')\n",
    "plt.title('Comparison of confidence')\n",
    "\n",
    "# Add a legend\n",
    "plt.legend()\n",
    "\n",
    "# Display the graph\n",
    "plt.show()\n"
   ]
  },
  {
   "attachments": {},
   "cell_type": "markdown",
   "metadata": {},
   "source": [
    "### Conviction\n",
    "Conviction measures the implication strength of a rule by comparing the expected and observed support of the consequent. It indicates the extent to which the rule is dependent on the antecedent."
   ]
  },
  {
   "cell_type": "code",
   "execution_count": null,
   "metadata": {},
   "outputs": [
    {
     "data": {
      "image/png": "[encoded data removed]",
      "text/plain": [
       "<Figure size 432x288 with 1 Axes>"
      ]
     },
     "metadata": {
      "needs_background": "light"
     },
     "output_type": "display_data"
    }
   ],
   "source": [
    "import matplotlib.pyplot as plt\n",
    "\n",
    "# Sample data\n",
    "x =  [i for i in range(1, len(rule_apriori)+1)]  # x-axis values\n",
    "y1 = rule_apriori[\"conviction\"] # y-axis values for DataFrame 1\n",
    "y2 = rule_fp_growth[\"conviction\"]  # y-axis values for DataFrame 2\n",
    "\n",
    "\n",
    "# Create a line graph\n",
    "plt.plot(x, y1, label='Apriori')\n",
    "plt.plot(x, y2, label='FP-Growth')\n",
    "\n",
    "# Add labels and title\n",
    "plt.xlabel('association')\n",
    "plt.ylabel('Value')\n",
    "plt.title('Comparison of conviction')\n",
    "\n",
    "# Add a legend\n",
    "plt.legend()\n",
    "\n",
    "# Display the graph\n",
    "plt.show()\n"
   ]
  },
  {
   "cell_type": "code",
   "execution_count": null,
   "metadata": {},
   "outputs": [
    {
     "data": {
      "image/png": "[encoded data removed]",
      "text/plain": [
       "<Figure size 432x288 with 1 Axes>"
      ]
     },
     "metadata": {
      "needs_background": "light"
     },
     "output_type": "display_data"
    }
   ],
   "source": [
    "import matplotlib.pyplot as plt\n",
    "\n",
    "# Sample data\n",
    "x =  [i for i in range(1, len(rule_apriori)+1)]  # x-axis values\n",
    "y1 = rule_apriori[\"conviction\"].sort_values() # y-axis values for DataFrame 1\n",
    "y2 = rule_fp_growth[\"conviction\"].sort_values()  # y-axis values for DataFrame 2\n",
    "\n",
    "\n",
    "# Create a line graph\n",
    "plt.plot(x, y1, label='Apriori')\n",
    "plt.plot(x, y2, label='FP-Growth')\n",
    "\n",
    "# Add labels and title\n",
    "plt.xlabel('association')\n",
    "plt.ylabel('Value')\n",
    "plt.title('Comparison of conviction')\n",
    "\n",
    "# Add a legend\n",
    "plt.legend()\n",
    "\n",
    "# Display the graph\n",
    "plt.show()\n"
   ]
  },
  {
   "attachments": {},
   "cell_type": "markdown",
   "metadata": {},
   "source": [
    "### Leverage\n",
    "Leverage measures the difference between the observed and expected support of the rule. It indicates how much the occurrence of the antecedent and consequent together deviates from what would be expected if they were independent."
   ]
  },
  {
   "cell_type": "code",
   "execution_count": null,
   "metadata": {},
   "outputs": [
    {
     "data": {
      "image/png": "[encoded data removed]",
      "text/plain": [
       "<Figure size 432x288 with 1 Axes>"
      ]
     },
     "metadata": {
      "needs_background": "light"
     },
     "output_type": "display_data"
    }
   ],
   "source": [
    "import matplotlib.pyplot as plt\n",
    "\n",
    "# Sample data\n",
    "x =  [i for i in range(1, len(rule_apriori)+1)]  # x-axis values\n",
    "y1 = rule_apriori[\"leverage\"] # y-axis values for DataFrame 1\n",
    "y2 = rule_fp_growth[\"leverage\"]  # y-axis values for DataFrame 2\n",
    "\n",
    "\n",
    "# Create a line graph\n",
    "plt.plot(x, y1, label='Apriori')\n",
    "plt.plot(x, y2, label='FP-Growth')\n",
    "\n",
    "# Add labels and title\n",
    "plt.xlabel('association')\n",
    "plt.ylabel('Value')\n",
    "plt.title('Comparison of leverage')\n",
    "\n",
    "# Add a legend\n",
    "plt.legend()\n",
    "\n",
    "# Display the graph\n",
    "plt.show()\n"
   ]
  },
  {
   "cell_type": "code",
   "execution_count": null,
   "metadata": {},
   "outputs": [
    {
     "data": {
      "image/png": "[encoded data removed]",
      "text/plain": [
       "<Figure size 432x288 with 1 Axes>"
      ]
     },
     "metadata": {
      "needs_background": "light"
     },
     "output_type": "display_data"
    }
   ],
   "source": [
    "import matplotlib.pyplot as plt\n",
    "\n",
    "# Sample data\n",
    "x =  [i for i in range(1, len(rule_apriori)+1)]  # x-axis values\n",
    "y1 = rule_apriori[\"leverage\"].sort_values() # y-axis values for DataFrame 1\n",
    "y2 = rule_fp_growth[\"leverage\"].sort_values()  # y-axis values for DataFrame 2\n",
    "\n",
    "\n",
    "# Create a line graph\n",
    "plt.plot(x, y1, label='Apriori')\n",
    "plt.plot(x, y2, label='FP-Growth')\n",
    "\n",
    "# Add labels and title\n",
    "plt.xlabel('association')\n",
    "plt.ylabel('Value')\n",
    "plt.title('Comparison of leverage')\n",
    "\n",
    "# Add a legend\n",
    "plt.legend()\n",
    "\n",
    "# Display the graph\n",
    "plt.show()\n"
   ]
  },
  {
   "attachments": {},
   "cell_type": "markdown",
   "metadata": {},
   "source": [
    "## <span style=\"color:#6ebdfa\">4. Conclusion</span>"
   ]
  },
  {
   "attachments": {},
   "cell_type": "markdown",
   "metadata": {},
   "source": [
    "1. FP - Growth is the fastest\n",
    "2. FP-growth and apriori lead to the same average lift, support, confidence. \n",
    "3. The eclat algorithm is extrememly slow. 10 transactions take 10 times the time of all the transactions compared to apriori or fp-growth"
   ]
  }
 ],
 "metadata": {
  "kernelspec": {
   "display_name": "Python 3",
   "language": "python",
   "name": "python3"
  },
  "language_info": {
   "codemirror_mode": {
    "name": "ipython",
    "version": 3
   },
   "file_extension": ".py",
   "mimetype": "text/x-python",
   "name": "python",
   "nbconvert_exporter": "python",
   "pygments_lexer": "ipython3",
   "version": "3.8.7"
  },
  "orig_nbformat": 4
 },
 "nbformat": 4,
 "nbformat_minor": 2
}
